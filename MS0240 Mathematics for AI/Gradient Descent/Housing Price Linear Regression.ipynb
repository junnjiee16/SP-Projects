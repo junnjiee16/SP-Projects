{
 "cells": [
  {
   "cell_type": "markdown",
   "metadata": {},
   "source": [
    "# Mathematics For AI Assignment 2\n",
    "\n",
    "* Name: Lim Jun Jie\n",
    "* Admin Number: 2100788\n",
    "* Class: DAAA/FT/2A/02"
   ]
  },
  {
   "cell_type": "code",
   "execution_count": 1,
   "metadata": {},
   "outputs": [],
   "source": [
    "import numpy as np\n",
    "import pandas as pd\n",
    "import sympy as sp\n",
    "import matplotlib.pyplot as plt\n",
    "import plotly.express as px\n",
    "import warnings\n",
    "warnings.filterwarnings('ignore')\n",
    "plt.style.use('seaborn-darkgrid')"
   ]
  },
  {
   "cell_type": "markdown",
   "metadata": {},
   "source": [
    "## About the Dataset\n",
    "The dataset housing_price.csv consists of `price per square metre ($ in thousands)` of 30 flats in the same district of Singapore. Two predictory variables are also provided which are `inverse distance to the nearest MRT station (km-1)` and `inverse age of flat (year-1)`"
   ]
  },
  {
   "cell_type": "code",
   "execution_count": 2,
   "metadata": {},
   "outputs": [
    {
     "name": "stdout",
     "output_type": "stream",
     "text": [
      "<class 'pandas.core.frame.DataFrame'>\n",
      "RangeIndex: 30 entries, 0 to 29\n",
      "Data columns (total 3 columns):\n",
      " #   Column                                              Non-Null Count  Dtype  \n",
      "---  ------                                              --------------  -----  \n",
      " 0   inverse age of flat (year-1)                        30 non-null     float64\n",
      " 1   inverse distance to the nearest MRT station (km-1)  30 non-null     float64\n",
      " 2   price per square metre ($ in thousands)             30 non-null     float64\n",
      "dtypes: float64(3)\n",
      "memory usage: 848.0 bytes\n"
     ]
    }
   ],
   "source": [
    "df = pd.read_csv('housing_price.csv')\n",
    "df.info()"
   ]
  },
  {
   "cell_type": "code",
   "execution_count": 4,
   "metadata": {},
   "outputs": [
    {
     "data": {
      "text/html": [
       "<div>\n",
       "<style scoped>\n",
       "    .dataframe tbody tr th:only-of-type {\n",
       "        vertical-align: middle;\n",
       "    }\n",
       "\n",
       "    .dataframe tbody tr th {\n",
       "        vertical-align: top;\n",
       "    }\n",
       "\n",
       "    .dataframe thead th {\n",
       "        text-align: right;\n",
       "    }\n",
       "</style>\n",
       "<table border=\"1\" class=\"dataframe\">\n",
       "  <thead>\n",
       "    <tr style=\"text-align: right;\">\n",
       "      <th></th>\n",
       "      <th>inverse age of flat (year-1)</th>\n",
       "      <th>inverse distance to the nearest MRT station (km-1)</th>\n",
       "      <th>price per square metre ($ in thousands)</th>\n",
       "    </tr>\n",
       "  </thead>\n",
       "  <tbody>\n",
       "    <tr>\n",
       "      <th>0</th>\n",
       "      <td>0.160</td>\n",
       "      <td>7.404</td>\n",
       "      <td>8.913</td>\n",
       "    </tr>\n",
       "    <tr>\n",
       "      <th>1</th>\n",
       "      <td>0.114</td>\n",
       "      <td>1.789</td>\n",
       "      <td>6.308</td>\n",
       "    </tr>\n",
       "    <tr>\n",
       "      <th>2</th>\n",
       "      <td>0.049</td>\n",
       "      <td>1.379</td>\n",
       "      <td>5.963</td>\n",
       "    </tr>\n",
       "    <tr>\n",
       "      <th>3</th>\n",
       "      <td>0.046</td>\n",
       "      <td>1.373</td>\n",
       "      <td>5.511</td>\n",
       "    </tr>\n",
       "    <tr>\n",
       "      <th>4</th>\n",
       "      <td>0.183</td>\n",
       "      <td>15.948</td>\n",
       "      <td>9.774</td>\n",
       "    </tr>\n",
       "  </tbody>\n",
       "</table>\n",
       "</div>"
      ],
      "text/plain": [
       "   inverse age of flat (year-1)  \\\n",
       "0                         0.160   \n",
       "1                         0.114   \n",
       "2                         0.049   \n",
       "3                         0.046   \n",
       "4                         0.183   \n",
       "\n",
       "   inverse distance to the nearest MRT station (km-1)  \\\n",
       "0                                              7.404    \n",
       "1                                              1.789    \n",
       "2                                              1.379    \n",
       "3                                              1.373    \n",
       "4                                             15.948    \n",
       "\n",
       "   price per square metre ($ in thousands)  \n",
       "0                                    8.913  \n",
       "1                                    6.308  \n",
       "2                                    5.963  \n",
       "3                                    5.511  \n",
       "4                                    9.774  "
      ]
     },
     "execution_count": 4,
     "metadata": {},
     "output_type": "execute_result"
    }
   ],
   "source": [
    "df.head()"
   ]
  },
  {
   "cell_type": "markdown",
   "metadata": {},
   "source": [
    "# MODEL 1\n",
    "Build a Simple Linear Regression Model to predict `price per square metre ($ in thousands)` using `inverse distance to the nearest MRT station (km-1)` as the predictor, with intercept a=0, using gradient descent to determine the best slope."
   ]
  },
  {
   "cell_type": "code",
   "execution_count": 29,
   "metadata": {},
   "outputs": [
    {
     "name": "stdout",
     "output_type": "stream",
     "text": [
      "Iteration 1: b-value = 5.134997594333333, E(b) = 1008.6076753150354\n",
      "Iteration 2: b-value = 2.8463084394411142, E(b) = 238.37706343050388\n",
      "Iteration 3: b-value = 1.7696187256559741, E(b) = 67.91478861383439\n",
      "Iteration 4: b-value = 1.2631013869895447, E(b) = 30.1892208587711\n",
      "Iteration 5: b-value = 1.0248156384726599, E(b) = 21.84005114381495\n",
      "Iteration 6: b-value = 0.9127166171523949, E(b) = 19.992268881617317\n",
      "Iteration 7: b-value = 0.8599808129376044, E(b) = 19.583330100270466\n",
      "Iteration 8: b-value = 0.8351718091351961, E(b) = 19.492826511016098\n",
      "Iteration 9: b-value = 0.8235006745268934, E(b) = 19.472796863446483\n",
      "Iteration 10: b-value = 0.8180101121435744, E(b) = 19.468364036140198\n",
      "Iteration 11: b-value = 0.8154271348841338, E(b) = 19.467382992521785\n",
      "The local minimum occurs at b = 0.8154271348841338\n"
     ]
    }
   ],
   "source": [
    "b = 10 # Starting value of b\n",
    "alpha = 0.005 # Learning rate\n",
    "epsilon = 0.001 # Stopping criterion\n",
    "max_iters = 1000 # Maximum number of iterations\n",
    "\n",
    "def E(b): # calculate error function E(b)\n",
    "    summation = 0\n",
    "    for rownum in np.arange(len(df)):\n",
    "        y = df.loc[rownum, 'price per square metre ($ in thousands)']\n",
    "        x = df.loc[rownum, 'inverse distance to the nearest MRT station (km-1)']\n",
    "        summation += (y - b*x)**2\n",
    "    return 1/len(df) * summation\n",
    "\n",
    "def E_prime(b): # 1st derivative of E(b)\n",
    "    summation = 0\n",
    "    for rownum in np.arange(len(df)):\n",
    "        y = df.loc[rownum, 'price per square metre ($ in thousands)']\n",
    "        x = df.loc[rownum, 'inverse distance to the nearest MRT station (km-1)']\n",
    "        summation += x * (y - b*x)\n",
    "    return -2/len(df) * summation\n",
    "\n",
    "model1_gradientdesc = pd.DataFrame(columns=['b', 'E(b)'])\n",
    "\n",
    "for iter in range(max_iters): # gradient descent\n",
    "    new_b = b - alpha * E_prime(b) # update of b\n",
    "    print(f\"Iteration {iter + 1}: b-value = {new_b}, E(b) = {E(new_b)}\")\n",
    "    diff = abs(E(new_b) - E(b)) # stopping criterion\n",
    "    model1_gradientdesc = model1_gradientdesc.append({'b': new_b, 'E(b)': E(new_b)}, ignore_index=True)\n",
    "    if diff < epsilon: # break if converge\n",
    "        print(f\"The local minimum occurs at b = {new_b}\")\n",
    "        break\n",
    "    b = new_b"
   ]
  },
  {
   "cell_type": "markdown",
   "metadata": {},
   "source": [
    "## Gradient Descent Visualization\n",
    "The graph below shows the algorithm's progress of minimizing the error function over the course of the iterations for Model 1, using the parameters of the dummy model above with starting b-value of 10 and learning rate of 0.005"
   ]
  },
  {
   "cell_type": "code",
   "execution_count": 42,
   "metadata": {},
   "outputs": [
    {
     "data": {
      "image/png": "[encoded data removed]",
      "text/plain": [
       "<Figure size 720x432 with 1 Axes>"
      ]
     },
     "metadata": {
      "needs_background": "light"
     },
     "output_type": "display_data"
    }
   ],
   "source": [
    "# plot gradient descent results\n",
    "plt.figure(figsize=(10,6))\n",
    "plt.plot(model1_gradientdesc['b'], model1_gradientdesc['E(b)'], linestyle='-')\n",
    "\n",
    "plt.xlabel('b-value', fontsize=14)\n",
    "plt.ylabel('E(b)', fontsize=14)\n",
    "plt.title('Gradient Descent of Dummy Model 1', fontsize=18)\n",
    "\n",
    "# resize tick labels\n",
    "plt.tick_params(axis='both', which='major', labelsize=14)\n",
    "\n",
    "plt.show()"
   ]
  },
  {
   "cell_type": "markdown",
   "metadata": {},
   "source": [
    "## Model 1 Tuning\n",
    "To find the best possible Error score by trying out different starting b-values."
   ]
  },
  {
   "cell_type": "code",
   "execution_count": 6,
   "metadata": {},
   "outputs": [],
   "source": [
    "def model1_gridSearch(b, alpha, epsilon, max_iters): # model 1 with grid search, only keeps results if converge\n",
    "    b_val_array = b # Starting value of b\n",
    "    alpha_array = alpha # Learning rate\n",
    "    epsilon = epsilon # Stopping criterion\n",
    "    max_iters = max_iters # Maximum number of iterations\n",
    "    results = pd.DataFrame(columns=['alpha', 'Starting b-value', 'Iterations', 'b', 'E(b)']) # create empty dataframe to store results\n",
    "\n",
    "    def E(b): # calculate error function E(b)\n",
    "        summation = 0\n",
    "        for rownum in np.arange(len(df)):\n",
    "            y = df.loc[rownum, 'price per square metre ($ in thousands)']\n",
    "            x = df.loc[rownum, 'inverse distance to the nearest MRT station (km-1)']\n",
    "            summation += (y - b*x)**2\n",
    "        return 1/len(df) * summation\n",
    "\n",
    "    def E_prime(b): # 1st derivative of E(b)\n",
    "        summation = 0\n",
    "        for rownum in np.arange(len(df)):\n",
    "            y = df.loc[rownum, 'price per square metre ($ in thousands)']\n",
    "            x = df.loc[rownum, 'inverse distance to the nearest MRT station (km-1)']\n",
    "            summation += x * (y - b*x)\n",
    "        return -2/len(df) * summation\n",
    "\n",
    "    for alpha in alpha_array: # loop through all learning rates\n",
    "        for starting_b in b_val_array: # loop through b values\n",
    "            b = starting_b\n",
    "            for iter in range(max_iters): # gradient descent\n",
    "                new_b = b - alpha * E_prime(b) # update of b\n",
    "                diff = abs(E(new_b) - E(b)) # stopping criterion\n",
    "                if diff < epsilon: # break if converge\n",
    "                    results.loc[len(results)] = [alpha, starting_b, iter + 1, new_b, E(new_b)] # push results to dataframe\n",
    "                    break\n",
    "                b = new_b\n",
    "\n",
    "    return results"
   ]
  },
  {
   "cell_type": "markdown",
   "metadata": {},
   "source": [
    "### 1st round of tuning\n",
    "I first tried multiple starting b-values that vary from -5000 to 5000 to see if the model would converge to different Mean Squared Error (MSE) values. The top 4  lowest MSE scores showed a MSE of 19.467104 while the 5th shows a MSE of 19.467106. The 3rd and 4th scores may suggest that a starting b of -5 to 5 can give us the same MSE score with the lowest number of iterations of 4."
   ]
  },
  {
   "cell_type": "code",
   "execution_count": 9,
   "metadata": {},
   "outputs": [
    {
     "data": {
      "text/html": [
       "<div>\n",
       "<style scoped>\n",
       "    .dataframe tbody tr th:only-of-type {\n",
       "        vertical-align: middle;\n",
       "    }\n",
       "\n",
       "    .dataframe tbody tr th {\n",
       "        vertical-align: top;\n",
       "    }\n",
       "\n",
       "    .dataframe thead th {\n",
       "        text-align: right;\n",
       "    }\n",
       "</style>\n",
       "<table border=\"1\" class=\"dataframe\">\n",
       "  <thead>\n",
       "    <tr style=\"text-align: right;\">\n",
       "      <th></th>\n",
       "      <th>alpha</th>\n",
       "      <th>Starting b-value</th>\n",
       "      <th>Iterations</th>\n",
       "      <th>b</th>\n",
       "      <th>E(b)</th>\n",
       "    </tr>\n",
       "  </thead>\n",
       "  <tbody>\n",
       "    <tr>\n",
       "      <th>5</th>\n",
       "      <td>0.01</td>\n",
       "      <td>500.0</td>\n",
       "      <td>6.0</td>\n",
       "      <td>0.813154</td>\n",
       "      <td>19.467104</td>\n",
       "    </tr>\n",
       "    <tr>\n",
       "      <th>1</th>\n",
       "      <td>0.01</td>\n",
       "      <td>-500.0</td>\n",
       "      <td>6.0</td>\n",
       "      <td>0.813111</td>\n",
       "      <td>19.467104</td>\n",
       "    </tr>\n",
       "    <tr>\n",
       "      <th>4</th>\n",
       "      <td>0.01</td>\n",
       "      <td>5.0</td>\n",
       "      <td>4.0</td>\n",
       "      <td>0.813184</td>\n",
       "      <td>19.467104</td>\n",
       "    </tr>\n",
       "    <tr>\n",
       "      <th>2</th>\n",
       "      <td>0.01</td>\n",
       "      <td>-5.0</td>\n",
       "      <td>4.0</td>\n",
       "      <td>0.813062</td>\n",
       "      <td>19.467104</td>\n",
       "    </tr>\n",
       "    <tr>\n",
       "      <th>3</th>\n",
       "      <td>0.01</td>\n",
       "      <td>0.0</td>\n",
       "      <td>3.0</td>\n",
       "      <td>0.813301</td>\n",
       "      <td>19.467106</td>\n",
       "    </tr>\n",
       "  </tbody>\n",
       "</table>\n",
       "</div>"
      ],
      "text/plain": [
       "   alpha  Starting b-value  Iterations         b       E(b)\n",
       "5   0.01             500.0         6.0  0.813154  19.467104\n",
       "1   0.01            -500.0         6.0  0.813111  19.467104\n",
       "4   0.01               5.0         4.0  0.813184  19.467104\n",
       "2   0.01              -5.0         4.0  0.813062  19.467104\n",
       "3   0.01               0.0         3.0  0.813301  19.467106"
      ]
     },
     "execution_count": 9,
     "metadata": {},
     "output_type": "execute_result"
    }
   ],
   "source": [
    "results_df = model1_gridSearch([-5000, -500, -5, 0, 5, 500, 5000], [0.01], 0.001, 1000)\n",
    "results_df.sort_values(by=['E(b)'], inplace=True) # sort results by error function\n",
    "results_df.head()"
   ]
  },
  {
   "cell_type": "markdown",
   "metadata": {},
   "source": [
    "### 2nd round of tuning\n",
    "To check if we can find a better starting b-value that gives us a better MSE score or lower number of iterations, I tested starting b-values of 0 to 5, with increments of 0.1. I also tried different values of alpha, which are 0.02, 0.01 and 0.005. The top 5 lowest MSE scores are all E(b)=19.467104 with alpha=0.01. However a starting b-value of 0.9 gave the smallest number of iterations of 3, thus it would be used as the final model."
   ]
  },
  {
   "cell_type": "code",
   "execution_count": 8,
   "metadata": {},
   "outputs": [
    {
     "data": {
      "text/html": [
       "<div>\n",
       "<style scoped>\n",
       "    .dataframe tbody tr th:only-of-type {\n",
       "        vertical-align: middle;\n",
       "    }\n",
       "\n",
       "    .dataframe tbody tr th {\n",
       "        vertical-align: top;\n",
       "    }\n",
       "\n",
       "    .dataframe thead th {\n",
       "        text-align: right;\n",
       "    }\n",
       "</style>\n",
       "<table border=\"1\" class=\"dataframe\">\n",
       "  <thead>\n",
       "    <tr style=\"text-align: right;\">\n",
       "      <th></th>\n",
       "      <th>alpha</th>\n",
       "      <th>Starting b-value</th>\n",
       "      <th>Iterations</th>\n",
       "      <th>b</th>\n",
       "      <th>E(b)</th>\n",
       "    </tr>\n",
       "  </thead>\n",
       "  <tbody>\n",
       "    <tr>\n",
       "      <th>21</th>\n",
       "      <td>0.01</td>\n",
       "      <td>2.1</td>\n",
       "      <td>4.0</td>\n",
       "      <td>0.813148</td>\n",
       "      <td>19.467104</td>\n",
       "    </tr>\n",
       "    <tr>\n",
       "      <th>22</th>\n",
       "      <td>0.01</td>\n",
       "      <td>2.2</td>\n",
       "      <td>4.0</td>\n",
       "      <td>0.813149</td>\n",
       "      <td>19.467104</td>\n",
       "    </tr>\n",
       "    <tr>\n",
       "      <th>9</th>\n",
       "      <td>0.01</td>\n",
       "      <td>0.9</td>\n",
       "      <td>3.0</td>\n",
       "      <td>0.813115</td>\n",
       "      <td>19.467104</td>\n",
       "    </tr>\n",
       "    <tr>\n",
       "      <th>23</th>\n",
       "      <td>0.01</td>\n",
       "      <td>2.3</td>\n",
       "      <td>4.0</td>\n",
       "      <td>0.813151</td>\n",
       "      <td>19.467104</td>\n",
       "    </tr>\n",
       "    <tr>\n",
       "      <th>24</th>\n",
       "      <td>0.01</td>\n",
       "      <td>2.4</td>\n",
       "      <td>4.0</td>\n",
       "      <td>0.813152</td>\n",
       "      <td>19.467104</td>\n",
       "    </tr>\n",
       "  </tbody>\n",
       "</table>\n",
       "</div>"
      ],
      "text/plain": [
       "    alpha  Starting b-value  Iterations         b       E(b)\n",
       "21   0.01               2.1         4.0  0.813148  19.467104\n",
       "22   0.01               2.2         4.0  0.813149  19.467104\n",
       "9    0.01               0.9         3.0  0.813115  19.467104\n",
       "23   0.01               2.3         4.0  0.813151  19.467104\n",
       "24   0.01               2.4         4.0  0.813152  19.467104"
      ]
     },
     "execution_count": 8,
     "metadata": {},
     "output_type": "execute_result"
    }
   ],
   "source": [
    "results_df = model1_gridSearch(np.arange(0, 5, 0.1), [0.02, 0.01, 0.005], 0.001, 1000)\n",
    "results_df.sort_values(by=['E(b)'], inplace=True) # sort results by error function\n",
    "results_df.head()"
   ]
  },
  {
   "cell_type": "markdown",
   "metadata": {},
   "source": [
    "## Final Model 1\n",
    "With alpha=0.01 and b=0.9, the final Model 1 has a Mean Squared Error of 19.467 with 3 iterations using Gradient Descent."
   ]
  },
  {
   "cell_type": "code",
   "execution_count": 41,
   "metadata": {},
   "outputs": [
    {
     "name": "stdout",
     "output_type": "stream",
     "text": [
      "Iteration 1: b-value = 0.8079968286, E(b) = 19.468500902924767\n",
      "Iteration 2: b-value = 0.8134361535551942, E(b) = 19.46710904866608\n",
      "Iteration 3: b-value = 0.8131145749017848, E(b) = 19.46710418371837\n",
      "The local minimum occurs at b = 0.8131145749017848\n"
     ]
    }
   ],
   "source": [
    "b = 0.9 # Starting value of b\n",
    "alpha = 0.01 # Learning rate\n",
    "epsilon = 0.001 # Stopping criterion\n",
    "max_iters = 1000 # Maximum number of iterations\n",
    "\n",
    "def E(b): # calculate error function E(b)\n",
    "    summation = 0\n",
    "    for rownum in np.arange(len(df)):\n",
    "        y = df.loc[rownum, 'price per square metre ($ in thousands)']\n",
    "        x = df.loc[rownum, 'inverse distance to the nearest MRT station (km-1)']\n",
    "        summation += (y - b*x)**2\n",
    "    return 1/len(df) * summation\n",
    "\n",
    "def E_prime(b): # 1st derivative of E(b)\n",
    "    summation = 0\n",
    "    for rownum in np.arange(len(df)):\n",
    "        y = df.loc[rownum, 'price per square metre ($ in thousands)']\n",
    "        x = df.loc[rownum, 'inverse distance to the nearest MRT station (km-1)']\n",
    "        summation += x * (y - b*x)\n",
    "    return -2/len(df) * summation\n",
    "\n",
    "for iter in range(max_iters): # gradient descent\n",
    "    new_b = b - alpha * E_prime(b) # update of b\n",
    "    print(f\"Iteration {iter + 1}: b-value = {new_b}, E(b) = {E(new_b)}\")\n",
    "    diff = abs(E(new_b) - E(b)) # stopping criterion\n",
    "    if diff < epsilon: # break if converge\n",
    "        print(f\"The local minimum occurs at b = {new_b}\")\n",
    "        break\n",
    "    b = new_b"
   ]
  },
  {
   "cell_type": "markdown",
   "metadata": {},
   "source": [
    "# MODEL 2\n",
    "Build a Simple Linear Regression Model to predict `price per square metre ($ in thousands)` using `inverse distance to the nearest MRT station (km-1)` as the predictor, this time with the intercept term `a` included, using gradient descent to determine the best slope and intercept."
   ]
  },
  {
   "cell_type": "code",
   "execution_count": 39,
   "metadata": {},
   "outputs": [
    {
     "name": "stdout",
     "output_type": "stream",
     "text": [
      "Iteration 249: a = 5.472914618937888, b = 0.3234424194619275, E(a,b) = 0.5050797676016512\n",
      "The local minimum occurs at a = 5.472914618937888, b = 0.3234424194619275\n"
     ]
    }
   ],
   "source": [
    "a = 1 # Starting value of a\n",
    "b = 1 # Starting value of b\n",
    "alpha = 0.01 # Learning rate\n",
    "epsilon = 0.001 # Stopping criterion\n",
    "max_iters = 1000 # Maximum number of iterations\n",
    "\n",
    "def E(a, b): # calculate error function E(a, b)\n",
    "    summation = 0\n",
    "    for rownum in np.arange(len(df)):\n",
    "        y = df.loc[rownum, 'price per square metre ($ in thousands)']\n",
    "        x = df.loc[rownum, 'inverse distance to the nearest MRT station (km-1)']\n",
    "        summation += (y - a - b*x)**2\n",
    "    return 1/len(df) * summation \n",
    "\n",
    "def partial_E_a(a, b): # 1st derivative of E(a, b) with respect to a\n",
    "    summation = 0\n",
    "    for rownum in np.arange(len(df)):\n",
    "        y = df.loc[rownum, 'price per square metre ($ in thousands)']\n",
    "        x = df.loc[rownum, 'inverse distance to the nearest MRT station (km-1)']\n",
    "        summation += y - a - b*x\n",
    "    return -2/len(df) * summation\n",
    "\n",
    "def partial_E_b(a, b): # 1st derivative of E(a, b) with respect to b\n",
    "    summation = 0\n",
    "    for rownum in np.arange(len(df)):\n",
    "        y = df.loc[rownum, 'price per square metre ($ in thousands)']\n",
    "        x = df.loc[rownum, 'inverse distance to the nearest MRT station (km-1)']\n",
    "        summation += x * (y - a - b*x)\n",
    "    return -2/len(df) * summation\n",
    "\n",
    "model2_gradientdesc = pd.DataFrame(columns=['a-value', 'b-value', 'E(a,b)']) # create empty dataframe to store results\n",
    "\n",
    "for iter in range(max_iters): # Gradient Descent\n",
    "    new_a = a - alpha * partial_E_a(a, b) # update of a\n",
    "    new_b = b - alpha * partial_E_b(a, b) # update of b\n",
    "    diff = abs(E(new_a, new_b) - E(a, b)) # stopping criterion\n",
    "    # print(f\"Iteration {iter+1}: a = {new_a}, b = {new_b}, E(a,b) = {E(new_a, new_b)}\")\n",
    "    model2_gradientdesc.loc[len(model2_gradientdesc)] = [new_a, new_b, E(new_a, new_b)] # store results\n",
    "    if diff < epsilon:\n",
    "        print(f\"Iteration {iter + 1}: a = {new_a}, b = {new_b}, E(a,b) = {E(new_a, new_b)}\")\n",
    "        print(f\"The local minimum occurs at a = {new_a}, b = {new_b}\")\n",
    "        break\n",
    "    a = new_a\n",
    "    b = new_b"
   ]
  },
  {
   "cell_type": "markdown",
   "metadata": {},
   "source": [
    "## Gradient Descent Visualization\n",
    "The graph below shows the algorithm's progress of minimizing the error function over the course of the iterations for Model 2, using the parameters of the dummy model above with starting a and b-values of 1, learning rate of 0.01 and epsilon of 0.001."
   ]
  },
  {
   "cell_type": "code",
   "execution_count": 44,
   "metadata": {},
   "outputs": [
    {
     "data": {
      "application/vnd.plotly.v1+json": {
       "config": {
        "plotlyServerURL": "https://plot.ly"
       },
       "data": [
        {
         "hovertemplate": "a-value=%{x}<br>b-value=%{y}<br>E(a,b)=%{z}<extra></extra>",
         "legendgroup": "",
         "marker": {
          "color": "#636efa",
          "symbol": "circle"
         },
         "mode": "markers",
         "name": "",
         "scene": "scene",
         "showlegend": false,
         "type": "scatter3d",
         "x": [
          1.02843,
          1.0840472671569332,
          1.1371668240955919,
          1.1898059045051022,
          1.241835355353805,
          1.2932712534423665,
          1.344119759495565,
          1.3943876227967025,
          1.4440814709487897,
          1.4932078588935578,
          1.5417732665165755,
          1.589784099722637,
          1.6372466912657768,
          1.6841673015855898,
          1.7305521196329288,
          1.7764072636862493,
          1.8217387821586264,
          1.8665526543955546,
          1.910854791463641,
          1.9546510369302887,
          1.9979471676344802,
          2.040748894448756,
          2.083061863032495,
          2.1248916545765906,
          2.1662437865396242,
          2.207123713375634,
          2.2475368272535694,
          2.2874884587685345,
          2.3269838776449054,
          2.3660282934314223,
          2.4046268561883415,
          2.4427846571667415,
          2.480506729480074,
          2.517798048768042,
          2.554663533852903,
          2.591108047388271,
          2.627136396500516,
          2.6627533334228355,
          2.6979635561220854,
          2.7327717089184556,
          2.767182383098067,
          2.8012001175185754,
          2.8348293992078566,
          2.8680746639558583,
          2.900940296899693,
          2.933430633102048,
          2.965549958122992,
          2.9973025085852503,
          3.0286924727330287,
          3.059723990984452,
          3.0904011564776965,
          3.1207280156108865,
          3.1507085685758227,
          3.1803467698856203,
          3.209646528896318,
          3.2386117103225325,
          3.2672461347472246,
          3.2955535791256447,
          3.323537777283522,
          3.3512024204095665,
          3.3785511575423457,
          3.4055875960516038,
          3.4323153021140813,
          3.458737801183904,
          3.4848585784575996,
          3.510681079333805,
          3.536208709867721,
          3.561444837220382,
          3.5863927901027934,
          3.611055859214995,
          3.6354372976801157,
          3.6595403214734668,
          3.683368109846739,
          3.7069238057473535,
          3.730210516233024,
          3.753231312881587,
          3.775989232196151,
          3.7984872760056176,
          3.8207284118606326,
          3.842715573425012,
          3.864451660862701,
          3.8859395412203126,
          3.9071820488052986,
          3.9281819855598026,
          3.948942121430243,
          3.969465194732676,
          3.9897539125139865,
          4.009810950908957,
          4.029638955493252,
          4.049240541632382,
          4.068618294826671,
          4.087774771052297,
          4.106712497098427,
          4.1254339709005095,
          4.143941661869758,
          4.162238011218872,
          4.180325432284042,
          4.198206310843272,
          4.2158830054310705,
          4.233357847649549,
          4.250633142475962,
          4.2677111685667475,
          4.28459417855808,
          4.301284399363001,
          4.317784032465158,
          4.334095254209182,
          4.350220216087755,
          4.366161045025397,
          4.381919843659012,
          4.397498690615234,
          4.4128996407846,
          4.428124725592598,
          4.443175953267616,
          4.458055309105832,
          4.472764755733082,
          4.487306233363733,
          4.501681660056603,
          4.515892931967958,
          4.529941923601623,
          4.543830488056227,
          4.55756045726964,
          4.571133642260604,
          4.5845518333676125,
          4.597816800485063,
          4.610930293296708,
          4.6238940415064445,
          4.636709755066467,
          4.649379124402812,
          4.661903820638334,
          4.674285495813125,
          4.686525783102428,
          4.698626297032054,
          4.710588633691345,
          4.722414370943699,
          4.734105068634698,
          4.745662268797853,
          4.757087495858,
          4.768382256832384,
          4.779548041529429,
          4.790586322745253,
          4.801498556457933,
          4.81228618201955,
          4.822950622346046,
          4.83349328410491,
          4.8439155579007185,
          4.854218818458563,
          4.864404424805378,
          4.874473720449202,
          4.884428033556387,
          4.89426867712679,
          4.903996949166957,
          4.91361413286134,
          4.923121496741545,
          4.932520294853661,
          4.941811766923666,
          4.950997138520957,
          4.960077621219997,
          4.969054412760136,
          4.977928697203584,
          4.9867016450916015,
          4.995374413598891,
          5.003948146686234,
          5.012423975251382,
          5.020803017278225,
          5.029086377984256,
          5.0372751499663515,
          5.04537041334489,
          5.0533732359062205,
          5.061284673243507,
          5.069105768895965,
          5.076837554486506,
          5.084481049857811,
          5.09203726320685,
          5.099507191217868,
          5.10689181919385,
          5.1141921211864805,
          5.1214090601246305,
          5.128543587941365,
          5.135596645699506,
          5.1425691637157644,
          5.149462061683449,
          5.156276248793776,
          5.163012623855793,
          5.169672075414938,
          5.176255481870236,
          5.182763711590167,
          5.1891976230272014,
          5.195558064831035,
          5.201845875960528,
          5.208061885794364,
          5.2142069142404495,
          5.2202817718440615,
          5.226287259894758,
          5.232224170532073,
          5.238093286850002,
          5.24389538300029,
          5.249631224294552,
          5.255301567305208,
          5.26090715996529,
          5.266448741667087,
          5.271927043359676,
          5.277342787645335,
          5.282696688874857,
          5.287989453241777,
          5.293221778875515,
          5.298394355933468,
          5.303507866692036,
          5.308562985636624,
          5.3135603795506015,
          5.318500707603258,
          5.323384621436746,
          5.328212765252037,
          5.332985775893888,
          5.337704282934849,
          5.342368908758305,
          5.346980268640564,
          5.351538970832021,
          5.35604561663738,
          5.360500800494977,
          5.3649051100551794,
          5.369259126257902,
          5.373563423409237,
          5.377818569257203,
          5.382025125066632,
          5.3861836456932055,
          5.3902946796566376,
          5.394358769213028,
          5.398376450426388,
          5.402348253239345,
          5.4062747015430475,
          5.410156313246266,
          5.413993600343705,
          5.41778706898354,
          5.421537219534176,
          5.425244546650251,
          5.428909539337877,
          5.432532681019147,
          5.436114449595897,
          5.439655317512743,
          5.443155751819396,
          5.446616214232268,
          5.450037161195376,
          5.453419043940545,
          5.456762308546927,
          5.460067395999842,
          5.463334742248945,
          5.466564778265724,
          5.469757930100354,
          5.472914618937888
         ],
         "y": [
          0.707268056,
          0.7218790407966527,
          0.7157417800166415,
          0.7110680020516268,
          0.706353258615179,
          0.7016987401436553,
          0.6970969398026147,
          0.6925477172646735,
          0.68805044088159,
          0.6836045195898522,
          0.679209366816036,
          0.6748644028378334,
          0.6705690545425018,
          0.6663227553624455,
          0.6621249451997263,
          0.657975070352238,
          0.6538725834406666,
          0.6498169433362906,
          0.6458076150896046,
          0.6418440698597581,
          0.6379257848447996,
          0.634052243212718,
          0.6302229340332716,
          0.6264373522105938,
          0.6226949984165709,
          0.6189953790249786,
          0.6153380060463721,
          0.6117223970637182,
          0.6081480751687638,
          0.6046145688991306,
          0.6011214121761274,
          0.5976681442432734,
          0.5942543096055236,
          0.5908794579691872,
          0.5875431441825326,
          0.5842449281770719,
          0.580984374909513,
          0.5777610543043779,
          0.5745745411972731,
          0.5714244152788108,
          0.5683102610391678,
          0.5652316677132795,
          0.5621882292266579,
          0.5591795441418308,
          0.5562052156053898,
          0.5532648512956451,
          0.5503580633708764,
          0.547484468418177,
          0.544643687402879,
          0.5418353456185588,
          0.5390590726376122,
          0.5363145022623932,
          0.5336012724769124,
          0.530919025399086,
          0.5282674072335302,
          0.5256460682248943,
          0.5230546626117278,
          0.5204928485808726,
          0.5179602882223779,
          0.5154566474849284,
          0.5129815961317821,
          0.5105348076972115,
          0.5081159594434417,
          0.5057247323180806,
          0.5033608109120348,
          0.5010238834179067,
          0.4987136415888659,
          0.4964297806979909,
          0.49417199949807455,
          0.4919400001818891,
          0.48973348834290475,
          0.48755217293645586,
          0.48539576624135233,
          0.48326398382192787,
          0.4811565444905226,
          0.4790731702703929,
          0.4770135863590469,
          0.4749775210919956,
          0.4729647059069212,
          0.47097487530825205,
          0.4690077668321433,
          0.46706312101185765,
          0.46514068134354014,
          0.4632401942523857,
          0.4613614090591912,
          0.4595040779472904,
          0.4576679559298664,
          0.4558528008176372,
          0.45405837318691006,
          0.45228443634800136,
          0.45053075631401623,
          0.4487971017699853,
          0.44708324404235333,
          0.445388957068817,
          0.44371401736850635,
          0.4420582040125073,
          0.44042129859472035,
          0.43880308520305256,
          0.43720335039093766,
          0.43562188314918254,
          0.43405847487813404,
          0.4325129193601645,
          0.4309850127324707,
          0.42947455346018426,
          0.42798134230978835,
          0.42650518232283857,
          0.42504587878998334,
          0.42360323922528126,
          0.4221770733408119,
          0.42076719302157617,
          0.4193734123006835,
          0.41799554733482236,
          0.41663341638001067,
          0.41528683976762354,
          0.4139556398806945,
          0.41263964113048707,
          0.41133866993333446,
          0.4100525546877434,
          0.4087811257517591,
          0.4075242154205896,
          0.4062816579044846,
          0.4050532893068675,
          0.4038389476027172,
          0.40263847261719643,
          0.40145170600452396,
          0.40027849122708914,
          0.3991186735348034,
          0.39797209994468874,
          0.3968386192206988,
          0.3957180818537703,
          0.3946103400421026,
          0.3935152476716621,
          0.3924326602969097,
          0.3913624351217475,
          0.39030443098068424,
          0.38925850832021475,
          0.38822452918041267,
          0.38720235717673335,
          0.38619185748202395,
          0.3851928968087397,
          0.38420534339136286,
          0.38322906696902254,
          0.38226393876831277,
          0.38130983148630726,
          0.38036661927376747,
          0.37943417771854304,
          0.3785123838291614,
          0.3776011160186048,
          0.37670025408827273,
          0.3758096792121274,
          0.3749292739210204,
          0.37405892208719815,
          0.37319850890898404,
          0.3723479208956363,
          0.3715070458523778,
          0.3706757728655979,
          0.36985399228822174,
          0.3690415957252484,
          0.36823847601945264,
          0.3674445272372512,
          0.36665964465472917,
          0.3658837247438273,
          0.36511666515868607,
          0.364358364722146,
          0.363608723412402,
          0.36286764234981056,
          0.36213502378384715,
          0.3614107710802124,
          0.3606947887080862,
          0.35998698222752656,
          0.359287258277013,
          0.35859552456113186,
          0.3579116898384021,
          0.3572356639092408,
          0.3565673576040648,
          0.35590668277153004,
          0.3552535522669031,
          0.35460787994056725,
          0.3539695806266591,
          0.3533385701318347,
          0.35271476522416423,
          0.3520980836221537,
          0.35148844398389184,
          0.35088576589632053,
          0.3502899698646285,
          0.34970097730176547,
          0.3491187105180767,
          0.3485430927110548,
          0.34797404795521025,
          0.34741150119205577,
          0.34685537822020646,
          0.3463056056855921,
          0.34576211107178173,
          0.3452248226904186,
          0.3446936696717642,
          0.3441685819553502,
          0.34364949028073766,
          0.34313632617838097,
          0.3426290219605971,
          0.34212751071263664,
          0.34163172628385824,
          0.341141603279003,
          0.34065707704956844,
          0.3401780836852815,
          0.33970456000566834,
          0.3392364435517209,
          0.3387736725776581,
          0.3383161860427818,
          0.3378639236034251,
          0.3374168256049929,
          0.3369748330740933,
          0.33653788771075893,
          0.33610593188075694,
          0.335678908607987,
          0.335256761566966,
          0.33483943507539826,
          0.33442687408683136,
          0.33401902418339513,
          0.3336158315686238,
          0.33321724306036,
          0.3328232060837401,
          0.3324336686642595,
          0.33204857942091676,
          0.3316678875594365,
          0.3312915428655694,
          0.330919495698469,
          0.3305516969841439,
          0.3301880982089845,
          0.32982865141336415,
          0.32947330918531326,
          0.32912202465426543,
          0.3287747514848749,
          0.32843144387090517,
          0.32809205652918655,
          0.32775654469364374,
          0.32742486410939087,
          0.3270969710268937,
          0.32677282219619996,
          0.32645237486123335,
          0.3261355867541548,
          0.32582241608978707,
          0.3255128215601028,
          0.32520676232877616,
          0.3249041980257965,
          0.32460508874214333,
          0.3243093950245221,
          0.3240170778701603,
          0.32372809872166325,
          0.3234424194619275
         ],
         "z": [
          13.28308292366606,
          12.974510201251105,
          12.690300095128496,
          12.412623340243666,
          12.14125239258565,
          11.876043697866844,
          11.616857322897001,
          11.363556513724037,
          11.116007621791898,
          10.8740800334162,
          10.63764610086875,
          10.406581075027034,
          10.180763039553145,
          9.9600728465673,
          9.744394053782122,
          9.533612863064436,
          9.327618060392217,
          9.126300957174973,
          8.92955533290661,
          8.737277379120563,
          8.549365644617527,
          8.365720981937013,
          8.186246495044362,
          8.01084748820571,
          7.839431416023902,
          7.671907834608932,
          7.508188353857251,
          7.34818659081469,
          7.191818124098392,
          7.039000449353761,
          6.889652935722856,
          6.743696783301317,
          6.601054981561325,
          6.461652268718722,
          6.32541509202279,
          6.1922715689477785,
          6.062151449265676,
          5.934986077980247,
          5.810708359102725,
          5.689252720250125,
          5.570555078047409,
          5.454552804315331,
          5.3411846930260625,
          5.230390928009172,
          5.122113051390973,
          5.01629393275051,
          4.912877738975962,
          4.811809904805536,
          4.7130371040373165,
          4.616507221392889,
          4.522169325019845,
          4.429973639618742,
          4.339871520180264,
          4.251815426318749,
          4.165758897188577,
          4.081656526970121,
          3.999463940912378,
          3.9191377719196168,
          3.840635637669691,
          3.7639161182519416,
          3.6889387343129085,
          3.6156639256982865,
          3.5440530305798963,
          3.474068265056622,
          3.405672703218578,
          3.338830257663963,
          3.2735056604583535,
          3.209664444526356,
          3.147272925465811,
          3.08629818377498,
          3.0267080474832873,
          2.9684710751764976,
          2.9115565394073544,
          2.855934410482915,
          2.8015753406200603,
          2.7484506484607754,
          2.696532303939081,
          2.645792913491574,
          2.5962057056038357,
          2.5477445166850297,
          2.5003837772632607,
          2.454098498494411,
          2.4088642589773395,
          2.3646571918684547,
          2.321453972288919,
          2.279231805017784,
          2.2379684124646038,
          2.1976420229151508,
          2.1582313590440627,
          2.1197156266883246,
          2.0820745038756976,
          2.0452881301022745,
          2.0093370958535304,
          1.9742024323633174,
          1.9398656016054194,
          1.9063084865123747,
          1.8735133814164022,
          1.841462982707403,
          1.8101403797030908,
          1.7795290457264463,
          1.7496128293857878,
          1.7203759460528372,
          1.6918029695343184,
          1.6638788239326656,
          1.6365887756915631,
          1.6099184258221055,
          1.5838537023054984,
          1.5583808526682605,
          1.5334864367260437,
          1.5091573194922123,
          1.4853806642474625,
          1.4621439257668096,
          1.4394348437003768,
          1.4172414361045003,
          1.3955519931197125,
          1.3743550707923025,
          1.353639485036165,
          1.3333943057317628,
          1.3136088509590937,
          1.2942726813616137,
          1.2753755946381382,
          1.2569076201598266,
          1.2388590137094035,
          1.2212202523398308,
          1.203982029349745,
          1.1871352493729743,
          1.1706710235795765,
          1.1545806649858434,
          1.1388556838708022,
          1.123487783296809,
          1.1084688547318495,
          1.0937909737712534,
          1.079446395956556,
          1.0654275526893098,
          1.0517270472376776,
          1.0383376508337132,
          1.0252522988592634,
          1.0124640871184745,
          0.9999662681949499,
          0.9877522478916269,
          0.9758155817514894,
          0.9641499716572991,
          0.9527492625085284,
          0.9416074389737626,
          0.9307186223168396,
          0.9200770672950684,
          0.9096771591278763,
          0.8995134105342967,
          0.8895804588377255,
          0.8798730631364243,
          0.8703861015382768,
          0.8611145684583308,
          0.852053571977718,
          0.8431983312625367,
          0.8345441740413547,
          0.8260865341399879,
          0.8178209490722557,
          0.8097430576854548,
          0.8018485978592924,
          0.7941334042570686,
          0.7865934061279338,
          0.7792246251590468,
          0.7720231733765018,
          0.764985251093931,
          0.7581071449076804,
          0.7513852257375161,
          0.7448159469118206,
          0.7383958422962695,
          0.7321215244650042,
          0.7259896829133281,
          0.7199970823109976,
          0.7141405607951669,
          0.7084170283021043,
          0.7028234649367865,
          0.6973569193795198,
          0.69201450732874,
          0.686793409979176,
          0.6816908725345685,
          0.6767042027541645,
          0.6718307695322143,
          0.6670680015097268,
          0.6624133857177522,
          0.6578644662514656,
          0.6534188429743647,
          0.6490741702518918,
          0.6448281557138119,
          0.6406785590446922,
          0.6366231908018518,
          0.6326599112601492,
          0.6287866292830047,
          0.6250013012190584,
          0.6213019298238817,
          0.6176865632061774,
          0.6141532937979068,
          0.6107002573478026,
          0.6073256319377396,
          0.6040276370214398,
          0.6008045324850056,
          0.5976546177287887,
          0.5945762307701041,
          0.5915677473663252,
          0.5886275801578852,
          0.5857541778307431,
          0.5829460242978679,
          0.580201637899308,
          0.5775195706204258,
          0.5748984073278862,
          0.5723367650229924,
          0.5698332921119769,
          0.5673866676928622,
          0.5649956008585183,
          0.5626588300155426,
          0.560375122218609,
          0.5581432725199305,
          0.5559621033334968,
          0.5538304638137443,
          0.5517472292483424,
          0.5497113004647605,
          0.5477216032503136,
          0.5457770877853809,
          0.5438767280894901,
          0.5420195214799799,
          0.5402044880429596,
          0.5384306701162769,
          0.5366971317842306,
          0.5350029583837549,
          0.533347256021816,
          0.5317291511037715,
          0.5301477898724369,
          0.5286023379576186,
          0.5270919799358788,
          0.5256159189002934,
          0.5241733760399822,
          0.5227635902291888,
          0.5213858176256861,
          0.520039331278307,
          0.5187234207433828,
          0.5174373917098954,
          0.516180565633138,
          0.5149522793766963,
          0.5137518848625596,
          0.5125787487291765,
          0.5114322519972764,
          0.5103117897432775,
          0.5092167707801134,
          0.5081466173453059,
          0.5071007647961215,
          0.5060786613116509,
          0.5050797676016512
         ]
        }
       ],
       "layout": {
        "legend": {
         "tracegroupgap": 0
        },
        "margin": {
         "t": 60
        },
        "scene": {
         "domain": {
          "x": [
           0,
           1
          ],
          "y": [
           0,
           1
          ]
         },
         "xaxis": {
          "title": {
           "text": "a-value"
          }
         },
         "yaxis": {
          "title": {
           "text": "b-value"
          }
         },
         "zaxis": {
          "title": {
           "text": "E(a,b)"
          }
         }
        },
        "template": {
         "data": {
          "bar": [
           {
            "error_x": {
             "color": "#2a3f5f"
            },
            "error_y": {
             "color": "#2a3f5f"
            },
            "marker": {
             "line": {
              "color": "#E5ECF6",
              "width": 0.5
             },
             "pattern": {
              "fillmode": "overlay",
              "size": 10,
              "solidity": 0.2
             }
            },
            "type": "bar"
           }
          ],
          "barpolar": [
           {
            "marker": {
             "line": {
              "color": "#E5ECF6",
              "width": 0.5
             },
             "pattern": {
              "fillmode": "overlay",
              "size": 10,
              "solidity": 0.2
             }
            },
            "type": "barpolar"
           }
          ],
          "carpet": [
           {
            "aaxis": {
             "endlinecolor": "#2a3f5f",
             "gridcolor": "white",
             "linecolor": "white",
             "minorgridcolor": "white",
             "startlinecolor": "#2a3f5f"
            },
            "baxis": {
             "endlinecolor": "#2a3f5f",
             "gridcolor": "white",
             "linecolor": "white",
             "minorgridcolor": "white",
             "startlinecolor": "#2a3f5f"
            },
            "type": "carpet"
           }
          ],
          "choropleth": [
           {
            "colorbar": {
             "outlinewidth": 0,
             "ticks": ""
            },
            "type": "choropleth"
           }
          ],
          "contour": [
           {
            "colorbar": {
             "outlinewidth": 0,
             "ticks": ""
            },
            "colorscale": [
             [
              0,
              "#0d0887"
             ],
             [
              0.1111111111111111,
              "#46039f"
             ],
             [
              0.2222222222222222,
              "#7201a8"
             ],
             [
              0.3333333333333333,
              "#9c179e"
             ],
             [
              0.4444444444444444,
              "#bd3786"
             ],
             [
              0.5555555555555556,
              "#d8576b"
             ],
             [
              0.6666666666666666,
              "#ed7953"
             ],
             [
              0.7777777777777778,
              "#fb9f3a"
             ],
             [
              0.8888888888888888,
              "#fdca26"
             ],
             [
              1,
              "#f0f921"
             ]
            ],
            "type": "contour"
           }
          ],
          "contourcarpet": [
           {
            "colorbar": {
             "outlinewidth": 0,
             "ticks": ""
            },
            "type": "contourcarpet"
           }
          ],
          "heatmap": [
           {
            "colorbar": {
             "outlinewidth": 0,
             "ticks": ""
            },
            "colorscale": [
             [
              0,
              "#0d0887"
             ],
             [
              0.1111111111111111,
              "#46039f"
             ],
             [
              0.2222222222222222,
              "#7201a8"
             ],
             [
              0.3333333333333333,
              "#9c179e"
             ],
             [
              0.4444444444444444,
              "#bd3786"
             ],
             [
              0.5555555555555556,
              "#d8576b"
             ],
             [
              0.6666666666666666,
              "#ed7953"
             ],
             [
              0.7777777777777778,
              "#fb9f3a"
             ],
             [
              0.8888888888888888,
              "#fdca26"
             ],
             [
              1,
              "#f0f921"
             ]
            ],
            "type": "heatmap"
           }
          ],
          "heatmapgl": [
           {
            "colorbar": {
             "outlinewidth": 0,
             "ticks": ""
            },
            "colorscale": [
             [
              0,
              "#0d0887"
             ],
             [
              0.1111111111111111,
              "#46039f"
             ],
             [
              0.2222222222222222,
              "#7201a8"
             ],
             [
              0.3333333333333333,
              "#9c179e"
             ],
             [
              0.4444444444444444,
              "#bd3786"
             ],
             [
              0.5555555555555556,
              "#d8576b"
             ],
             [
              0.6666666666666666,
              "#ed7953"
             ],
             [
              0.7777777777777778,
              "#fb9f3a"
             ],
             [
              0.8888888888888888,
              "#fdca26"
             ],
             [
              1,
              "#f0f921"
             ]
            ],
            "type": "heatmapgl"
           }
          ],
          "histogram": [
           {
            "marker": {
             "pattern": {
              "fillmode": "overlay",
              "size": 10,
              "solidity": 0.2
             }
            },
            "type": "histogram"
           }
          ],
          "histogram2d": [
           {
            "colorbar": {
             "outlinewidth": 0,
             "ticks": ""
            },
            "colorscale": [
             [
              0,
              "#0d0887"
             ],
             [
              0.1111111111111111,
              "#46039f"
             ],
             [
              0.2222222222222222,
              "#7201a8"
             ],
             [
              0.3333333333333333,
              "#9c179e"
             ],
             [
              0.4444444444444444,
              "#bd3786"
             ],
             [
              0.5555555555555556,
              "#d8576b"
             ],
             [
              0.6666666666666666,
              "#ed7953"
             ],
             [
              0.7777777777777778,
              "#fb9f3a"
             ],
             [
              0.8888888888888888,
              "#fdca26"
             ],
             [
              1,
              "#f0f921"
             ]
            ],
            "type": "histogram2d"
           }
          ],
          "histogram2dcontour": [
           {
            "colorbar": {
             "outlinewidth": 0,
             "ticks": ""
            },
            "colorscale": [
             [
              0,
              "#0d0887"
             ],
             [
              0.1111111111111111,
              "#46039f"
             ],
             [
              0.2222222222222222,
              "#7201a8"
             ],
             [
              0.3333333333333333,
              "#9c179e"
             ],
             [
              0.4444444444444444,
              "#bd3786"
             ],
             [
              0.5555555555555556,
              "#d8576b"
             ],
             [
              0.6666666666666666,
              "#ed7953"
             ],
             [
              0.7777777777777778,
              "#fb9f3a"
             ],
             [
              0.8888888888888888,
              "#fdca26"
             ],
             [
              1,
              "#f0f921"
             ]
            ],
            "type": "histogram2dcontour"
           }
          ],
          "mesh3d": [
           {
            "colorbar": {
             "outlinewidth": 0,
             "ticks": ""
            },
            "type": "mesh3d"
           }
          ],
          "parcoords": [
           {
            "line": {
             "colorbar": {
              "outlinewidth": 0,
              "ticks": ""
             }
            },
            "type": "parcoords"
           }
          ],
          "pie": [
           {
            "automargin": true,
            "type": "pie"
           }
          ],
          "scatter": [
           {
            "fillpattern": {
             "fillmode": "overlay",
             "size": 10,
             "solidity": 0.2
            },
            "type": "scatter"
           }
          ],
          "scatter3d": [
           {
            "line": {
             "colorbar": {
              "outlinewidth": 0,
              "ticks": ""
             }
            },
            "marker": {
             "colorbar": {
              "outlinewidth": 0,
              "ticks": ""
             }
            },
            "type": "scatter3d"
           }
          ],
          "scattercarpet": [
           {
            "marker": {
             "colorbar": {
              "outlinewidth": 0,
              "ticks": ""
             }
            },
            "type": "scattercarpet"
           }
          ],
          "scattergeo": [
           {
            "marker": {
             "colorbar": {
              "outlinewidth": 0,
              "ticks": ""
             }
            },
            "type": "scattergeo"
           }
          ],
          "scattergl": [
           {
            "marker": {
             "colorbar": {
              "outlinewidth": 0,
              "ticks": ""
             }
            },
            "type": "scattergl"
           }
          ],
          "scattermapbox": [
           {
            "marker": {
             "colorbar": {
              "outlinewidth": 0,
              "ticks": ""
             }
            },
            "type": "scattermapbox"
           }
          ],
          "scatterpolar": [
           {
            "marker": {
             "colorbar": {
              "outlinewidth": 0,
              "ticks": ""
             }
            },
            "type": "scatterpolar"
           }
          ],
          "scatterpolargl": [
           {
            "marker": {
             "colorbar": {
              "outlinewidth": 0,
              "ticks": ""
             }
            },
            "type": "scatterpolargl"
           }
          ],
          "scatterternary": [
           {
            "marker": {
             "colorbar": {
              "outlinewidth": 0,
              "ticks": ""
             }
            },
            "type": "scatterternary"
           }
          ],
          "surface": [
           {
            "colorbar": {
             "outlinewidth": 0,
             "ticks": ""
            },
            "colorscale": [
             [
              0,
              "#0d0887"
             ],
             [
              0.1111111111111111,
              "#46039f"
             ],
             [
              0.2222222222222222,
              "#7201a8"
             ],
             [
              0.3333333333333333,
              "#9c179e"
             ],
             [
              0.4444444444444444,
              "#bd3786"
             ],
             [
              0.5555555555555556,
              "#d8576b"
             ],
             [
              0.6666666666666666,
              "#ed7953"
             ],
             [
              0.7777777777777778,
              "#fb9f3a"
             ],
             [
              0.8888888888888888,
              "#fdca26"
             ],
             [
              1,
              "#f0f921"
             ]
            ],
            "type": "surface"
           }
          ],
          "table": [
           {
            "cells": {
             "fill": {
              "color": "#EBF0F8"
             },
             "line": {
              "color": "white"
             }
            },
            "header": {
             "fill": {
              "color": "#C8D4E3"
             },
             "line": {
              "color": "white"
             }
            },
            "type": "table"
           }
          ]
         },
         "layout": {
          "annotationdefaults": {
           "arrowcolor": "#2a3f5f",
           "arrowhead": 0,
           "arrowwidth": 1
          },
          "autotypenumbers": "strict",
          "coloraxis": {
           "colorbar": {
            "outlinewidth": 0,
            "ticks": ""
           }
          },
          "colorscale": {
           "diverging": [
            [
             0,
             "#8e0152"
            ],
            [
             0.1,
             "#c51b7d"
            ],
            [
             0.2,
             "#de77ae"
            ],
            [
             0.3,
             "#f1b6da"
            ],
            [
             0.4,
             "#fde0ef"
            ],
            [
             0.5,
             "#f7f7f7"
            ],
            [
             0.6,
             "#e6f5d0"
            ],
            [
             0.7,
             "#b8e186"
            ],
            [
             0.8,
             "#7fbc41"
            ],
            [
             0.9,
             "#4d9221"
            ],
            [
             1,
             "#276419"
            ]
           ],
           "sequential": [
            [
             0,
             "#0d0887"
            ],
            [
             0.1111111111111111,
             "#46039f"
            ],
            [
             0.2222222222222222,
             "#7201a8"
            ],
            [
             0.3333333333333333,
             "#9c179e"
            ],
            [
             0.4444444444444444,
             "#bd3786"
            ],
            [
             0.5555555555555556,
             "#d8576b"
            ],
            [
             0.6666666666666666,
             "#ed7953"
            ],
            [
             0.7777777777777778,
             "#fb9f3a"
            ],
            [
             0.8888888888888888,
             "#fdca26"
            ],
            [
             1,
             "#f0f921"
            ]
           ],
           "sequentialminus": [
            [
             0,
             "#0d0887"
            ],
            [
             0.1111111111111111,
             "#46039f"
            ],
            [
             0.2222222222222222,
             "#7201a8"
            ],
            [
             0.3333333333333333,
             "#9c179e"
            ],
            [
             0.4444444444444444,
             "#bd3786"
            ],
            [
             0.5555555555555556,
             "#d8576b"
            ],
            [
             0.6666666666666666,
             "#ed7953"
            ],
            [
             0.7777777777777778,
             "#fb9f3a"
            ],
            [
             0.8888888888888888,
             "#fdca26"
            ],
            [
             1,
             "#f0f921"
            ]
           ]
          },
          "colorway": [
           "#636efa",
           "#EF553B",
           "#00cc96",
           "#ab63fa",
           "#FFA15A",
           "#19d3f3",
           "#FF6692",
           "#B6E880",
           "#FF97FF",
           "#FECB52"
          ],
          "font": {
           "color": "#2a3f5f"
          },
          "geo": {
           "bgcolor": "white",
           "lakecolor": "white",
           "landcolor": "#E5ECF6",
           "showlakes": true,
           "showland": true,
           "subunitcolor": "white"
          },
          "hoverlabel": {
           "align": "left"
          },
          "hovermode": "closest",
          "mapbox": {
           "style": "light"
          },
          "paper_bgcolor": "white",
          "plot_bgcolor": "#E5ECF6",
          "polar": {
           "angularaxis": {
            "gridcolor": "white",
            "linecolor": "white",
            "ticks": ""
           },
           "bgcolor": "#E5ECF6",
           "radialaxis": {
            "gridcolor": "white",
            "linecolor": "white",
            "ticks": ""
           }
          },
          "scene": {
           "xaxis": {
            "backgroundcolor": "#E5ECF6",
            "gridcolor": "white",
            "gridwidth": 2,
            "linecolor": "white",
            "showbackground": true,
            "ticks": "",
            "zerolinecolor": "white"
           },
           "yaxis": {
            "backgroundcolor": "#E5ECF6",
            "gridcolor": "white",
            "gridwidth": 2,
            "linecolor": "white",
            "showbackground": true,
            "ticks": "",
            "zerolinecolor": "white"
           },
           "zaxis": {
            "backgroundcolor": "#E5ECF6",
            "gridcolor": "white",
            "gridwidth": 2,
            "linecolor": "white",
            "showbackground": true,
            "ticks": "",
            "zerolinecolor": "white"
           }
          },
          "shapedefaults": {
           "line": {
            "color": "#2a3f5f"
           }
          },
          "ternary": {
           "aaxis": {
            "gridcolor": "white",
            "linecolor": "white",
            "ticks": ""
           },
           "baxis": {
            "gridcolor": "white",
            "linecolor": "white",
            "ticks": ""
           },
           "bgcolor": "#E5ECF6",
           "caxis": {
            "gridcolor": "white",
            "linecolor": "white",
            "ticks": ""
           }
          },
          "title": {
           "x": 0.05
          },
          "xaxis": {
           "automargin": true,
           "gridcolor": "white",
           "linecolor": "white",
           "ticks": "",
           "title": {
            "standoff": 15
           },
           "zerolinecolor": "white",
           "zerolinewidth": 2
          },
          "yaxis": {
           "automargin": true,
           "gridcolor": "white",
           "linecolor": "white",
           "ticks": "",
           "title": {
            "standoff": 15
           },
           "zerolinecolor": "white",
           "zerolinewidth": 2
          }
         }
        },
        "title": {
         "text": "3D Gradient Descent of Model 2"
        }
       }
      }
     },
     "metadata": {},
     "output_type": "display_data"
    }
   ],
   "source": [
    "# plot 3d gradient descent using plotly express\n",
    "fig = px.scatter_3d(model2_gradientdesc, x='a-value', y='b-value', z='E(a,b)')\n",
    "\n",
    "# set title\n",
    "fig.update_layout(title='3D Gradient Descent of Model 2')\n",
    "\n",
    "fig.show()"
   ]
  },
  {
   "cell_type": "markdown",
   "metadata": {},
   "source": [
    "## Model 2 Tuning"
   ]
  },
  {
   "cell_type": "code",
   "execution_count": 70,
   "metadata": {},
   "outputs": [],
   "source": [
    "def model2_gridSearch(a, b, alpha, epsilon, max_iters): # model 2 with grid search, only keeps results if converge\n",
    "    a_val_array = a # Starting value of a\n",
    "    b_val_array = b # Starting value of b\n",
    "    alpha_array = alpha # Learning rate\n",
    "    epsilon_array = epsilon # Stopping criterion\n",
    "    max_iters = max_iters # Maximum number of iterations\n",
    "\n",
    "    def E(a, b): # calculate error function E(a, b)\n",
    "        summation = 0\n",
    "        for rownum in np.arange(len(df)):\n",
    "            y = df.loc[rownum, 'price per square metre ($ in thousands)']\n",
    "            x = df.loc[rownum, 'inverse distance to the nearest MRT station (km-1)']\n",
    "            summation += (y - a - b*x)**2\n",
    "        return 1/len(df) * summation \n",
    "\n",
    "    def partial_E_a(a, b): # 1st derivative of E(a, b) with respect to a\n",
    "        summation = 0\n",
    "        for rownum in np.arange(len(df)):\n",
    "            y = df.loc[rownum, 'price per square metre ($ in thousands)']\n",
    "            x = df.loc[rownum, 'inverse distance to the nearest MRT station (km-1)']\n",
    "            summation += y - a - b*x\n",
    "        return -2/len(df) * summation\n",
    "\n",
    "    def partial_E_b(a, b): # 1st derivative of E(a, b) with respect to b\n",
    "        summation = 0\n",
    "        for rownum in np.arange(len(df)):\n",
    "            y = df.loc[rownum, 'price per square metre ($ in thousands)']\n",
    "            x = df.loc[rownum, 'inverse distance to the nearest MRT station (km-1)']\n",
    "            summation += x * (y - a - b*x)\n",
    "        return -2/len(df) * summation\n",
    "\n",
    "    results = pd.DataFrame(columns=['alpha', 'epsilon', 'iterations', 'starting a', 'starting b', 'E(a,b)']) # dataframe to store results\n",
    "\n",
    "    for epsilon in epsilon_array: # loop through all stopping criteria\n",
    "        for alpha in alpha_array: # loop through all learning rates\n",
    "            for starting_a in a_val_array: # loop through all a values\n",
    "                for starting_b in b_val_array: # loop through b values\n",
    "                    a = starting_a\n",
    "                    b = starting_b\n",
    "                    for iter in range(max_iters): # Gradient Descent\n",
    "                        new_a = a - alpha * partial_E_a(a, b) # update of a\n",
    "                        new_b = b - alpha * partial_E_b(a, b) # update of b\n",
    "                        diff = abs(E(new_a, new_b) - E(a, b)) # stopping criterion\n",
    "                        if diff < epsilon:\n",
    "                            # store results if converge\n",
    "                            results.loc[len(results)] = [alpha, epsilon, iter + 1, starting_a, starting_b, E(new_a, new_b)]\n",
    "                            break\n",
    "                        a = new_a\n",
    "                        b = new_b\n",
    "\n",
    "    return results"
   ]
  },
  {
   "cell_type": "markdown",
   "metadata": {},
   "source": [
    "### 1st round of tuning\n",
    "The top 5 lowest Error scores all have alpha of 0.01, epsilon of 0.0001 and MSE of 0.466 (3s.f). The lowest number of iterations is 340 in the top 5 scores, with a starting value of a=10 and starting value of b=0."
   ]
  },
  {
   "cell_type": "code",
   "execution_count": 71,
   "metadata": {},
   "outputs": [
    {
     "data": {
      "text/html": [
       "<div>\n",
       "<style scoped>\n",
       "    .dataframe tbody tr th:only-of-type {\n",
       "        vertical-align: middle;\n",
       "    }\n",
       "\n",
       "    .dataframe tbody tr th {\n",
       "        vertical-align: top;\n",
       "    }\n",
       "\n",
       "    .dataframe thead th {\n",
       "        text-align: right;\n",
       "    }\n",
       "</style>\n",
       "<table border=\"1\" class=\"dataframe\">\n",
       "  <thead>\n",
       "    <tr style=\"text-align: right;\">\n",
       "      <th></th>\n",
       "      <th>alpha</th>\n",
       "      <th>epsilon</th>\n",
       "      <th>iterations</th>\n",
       "      <th>starting a</th>\n",
       "      <th>starting b</th>\n",
       "      <th>E(a,b)</th>\n",
       "    </tr>\n",
       "  </thead>\n",
       "  <tbody>\n",
       "    <tr>\n",
       "      <th>128</th>\n",
       "      <td>0.01</td>\n",
       "      <td>0.0001</td>\n",
       "      <td>763.0</td>\n",
       "      <td>-500.0</td>\n",
       "      <td>500.0</td>\n",
       "      <td>0.466296</td>\n",
       "    </tr>\n",
       "    <tr>\n",
       "      <th>157</th>\n",
       "      <td>0.01</td>\n",
       "      <td>0.0001</td>\n",
       "      <td>745.0</td>\n",
       "      <td>10.0</td>\n",
       "      <td>5000.0</td>\n",
       "      <td>0.466299</td>\n",
       "    </tr>\n",
       "    <tr>\n",
       "      <th>141</th>\n",
       "      <td>0.01</td>\n",
       "      <td>0.0001</td>\n",
       "      <td>600.0</td>\n",
       "      <td>0.0</td>\n",
       "      <td>-1000.0</td>\n",
       "      <td>0.466300</td>\n",
       "    </tr>\n",
       "    <tr>\n",
       "      <th>153</th>\n",
       "      <td>0.01</td>\n",
       "      <td>0.0001</td>\n",
       "      <td>340.0</td>\n",
       "      <td>10.0</td>\n",
       "      <td>0.0</td>\n",
       "      <td>0.466301</td>\n",
       "    </tr>\n",
       "    <tr>\n",
       "      <th>147</th>\n",
       "      <td>0.01</td>\n",
       "      <td>0.0001</td>\n",
       "      <td>611.0</td>\n",
       "      <td>0.0</td>\n",
       "      <td>1000.0</td>\n",
       "      <td>0.466302</td>\n",
       "    </tr>\n",
       "  </tbody>\n",
       "</table>\n",
       "</div>"
      ],
      "text/plain": [
       "     alpha  epsilon  iterations  starting a  starting b    E(a,b)\n",
       "128   0.01   0.0001       763.0      -500.0       500.0  0.466296\n",
       "157   0.01   0.0001       745.0        10.0      5000.0  0.466299\n",
       "141   0.01   0.0001       600.0         0.0     -1000.0  0.466300\n",
       "153   0.01   0.0001       340.0        10.0         0.0  0.466301\n",
       "147   0.01   0.0001       611.0         0.0      1000.0  0.466302"
      ]
     },
     "execution_count": 71,
     "metadata": {},
     "output_type": "execute_result"
    }
   ],
   "source": [
    "a_vals = [-5000, -1000, -500, -10, 0, 10, 500, 1000, 5000] # a values to test\n",
    "b_vals = [-5000, -1000, -500, -10, 0, 10, 500, 1000, 5000] # b values to test\n",
    "alpha_vals = [0.02, 0.01, 0.005] # learning rates to test\n",
    "epsilon_vals = [0.001, 0.0001] # stopping criteria to test\n",
    "results_df = model2_gridSearch(a_vals, b_vals, alpha_vals, epsilon_vals, 1000) # run model 2 with grid search\n",
    "results_df = results_df.sort_values(by=['E(a,b)']) # sort results by error function\n",
    "results_df.head() # print top 5 results"
   ]
  },
  {
   "cell_type": "markdown",
   "metadata": {},
   "source": [
    "### 2nd round of tuning\n",
    "To try to minimize the number of iterations even further and also reduce the Mean-Squared Error, I will be using alpha of 0.01 and epsilon of 0.0001 to find the best starting value of a and b to get the lowest MSE and iterations."
   ]
  },
  {
   "cell_type": "code",
   "execution_count": 76,
   "metadata": {},
   "outputs": [
    {
     "data": {
      "text/html": [
       "<div>\n",
       "<style scoped>\n",
       "    .dataframe tbody tr th:only-of-type {\n",
       "        vertical-align: middle;\n",
       "    }\n",
       "\n",
       "    .dataframe tbody tr th {\n",
       "        vertical-align: top;\n",
       "    }\n",
       "\n",
       "    .dataframe thead th {\n",
       "        text-align: right;\n",
       "    }\n",
       "</style>\n",
       "<table border=\"1\" class=\"dataframe\">\n",
       "  <thead>\n",
       "    <tr style=\"text-align: right;\">\n",
       "      <th></th>\n",
       "      <th>alpha</th>\n",
       "      <th>epsilon</th>\n",
       "      <th>iterations</th>\n",
       "      <th>starting a</th>\n",
       "      <th>starting b</th>\n",
       "      <th>E(a,b)</th>\n",
       "    </tr>\n",
       "  </thead>\n",
       "  <tbody>\n",
       "    <tr>\n",
       "      <th>89</th>\n",
       "      <td>0.01</td>\n",
       "      <td>0.0001</td>\n",
       "      <td>4.0</td>\n",
       "      <td>5.8</td>\n",
       "      <td>0.9</td>\n",
       "      <td>0.462090</td>\n",
       "    </tr>\n",
       "    <tr>\n",
       "      <th>88</th>\n",
       "      <td>0.01</td>\n",
       "      <td>0.0001</td>\n",
       "      <td>4.0</td>\n",
       "      <td>5.8</td>\n",
       "      <td>0.8</td>\n",
       "      <td>0.462127</td>\n",
       "    </tr>\n",
       "    <tr>\n",
       "      <th>87</th>\n",
       "      <td>0.01</td>\n",
       "      <td>0.0001</td>\n",
       "      <td>4.0</td>\n",
       "      <td>5.8</td>\n",
       "      <td>0.7</td>\n",
       "      <td>0.462248</td>\n",
       "    </tr>\n",
       "    <tr>\n",
       "      <th>70</th>\n",
       "      <td>0.01</td>\n",
       "      <td>0.0001</td>\n",
       "      <td>4.0</td>\n",
       "      <td>5.7</td>\n",
       "      <td>0.0</td>\n",
       "      <td>0.462279</td>\n",
       "    </tr>\n",
       "    <tr>\n",
       "      <th>86</th>\n",
       "      <td>0.01</td>\n",
       "      <td>0.0001</td>\n",
       "      <td>4.0</td>\n",
       "      <td>5.8</td>\n",
       "      <td>0.6</td>\n",
       "      <td>0.462454</td>\n",
       "    </tr>\n",
       "  </tbody>\n",
       "</table>\n",
       "</div>"
      ],
      "text/plain": [
       "    alpha  epsilon  iterations  starting a  starting b    E(a,b)\n",
       "89   0.01   0.0001         4.0         5.8         0.9  0.462090\n",
       "88   0.01   0.0001         4.0         5.8         0.8  0.462127\n",
       "87   0.01   0.0001         4.0         5.8         0.7  0.462248\n",
       "70   0.01   0.0001         4.0         5.7         0.0  0.462279\n",
       "86   0.01   0.0001         4.0         5.8         0.6  0.462454"
      ]
     },
     "execution_count": 76,
     "metadata": {},
     "output_type": "execute_result"
    }
   ],
   "source": [
    "a_vals = np.arange(5, 6, 0.1) # a values to test\n",
    "b_vals = np.arange(0, 1, 0.1) # b values to test\n",
    "results_df = model2_gridSearch(a_vals, b_vals, [0.01], [0.0001], 1000) # run model 2 with grid search\n",
    "results_df = results_df.sort_values(by=['E(a,b)']) # sort results by error function\n",
    "results_df.head() # print top 5 results"
   ]
  },
  {
   "cell_type": "markdown",
   "metadata": {},
   "source": [
    "## Final Model 2\n",
    "With alpha=0.01, epsilon=0.0001, starting value of a=5.8 and starting value of b=0.9, the final Model 2 has a Mean-Squared Error of 0.462090 and the number of iterations is 4."
   ]
  },
  {
   "cell_type": "code",
   "execution_count": 43,
   "metadata": {},
   "outputs": [
    {
     "name": "stdout",
     "output_type": "stream",
     "text": [
      "Iteration 1: a = 5.741911666666667, b = 0.25806016193333337, E(a,b) = 0.551266865382882\n",
      "Iteration 2: a = 5.745851695646021, b = 0.301520067326992, E(a,b) = 0.46249869906417596\n",
      "Iteration 3: a = 5.7455922006827125, b = 0.2985770912672, E(a,b) = 0.4620918209580253\n",
      "Iteration 4: a = 5.74561693879874, b = 0.2987756875768853, E(a,b) = 0.46208995151850657\n",
      "The local minimum occurs at a = 5.74561693879874, b = 0.2987756875768853\n"
     ]
    }
   ],
   "source": [
    "a = 5.8 # Starting value of a\n",
    "b = 0.9 # Starting value of b\n",
    "alpha = 0.01 # Learning rate\n",
    "epsilon = 0.0001 # Stopping criterion\n",
    "max_iters = 1000 # Maximum number of iterations\n",
    "\n",
    "def E(a, b): # calculate error function E(a, b)\n",
    "    summation = 0\n",
    "    for rownum in np.arange(len(df)):\n",
    "        y = df.loc[rownum, 'price per square metre ($ in thousands)']\n",
    "        x = df.loc[rownum, 'inverse distance to the nearest MRT station (km-1)']\n",
    "        summation += (y - a - b*x)**2\n",
    "    return 1/len(df) * summation \n",
    "\n",
    "def partial_E_a(a, b): # 1st derivative of E(a, b) with respect to a\n",
    "    summation = 0\n",
    "    for rownum in np.arange(len(df)):\n",
    "        y = df.loc[rownum, 'price per square metre ($ in thousands)']\n",
    "        x = df.loc[rownum, 'inverse distance to the nearest MRT station (km-1)']\n",
    "        summation += y - a - b*x\n",
    "    return -2/len(df) * summation\n",
    "\n",
    "def partial_E_b(a, b): # 1st derivative of E(a, b) with respect to b\n",
    "    summation = 0\n",
    "    for rownum in np.arange(len(df)):\n",
    "        y = df.loc[rownum, 'price per square metre ($ in thousands)']\n",
    "        x = df.loc[rownum, 'inverse distance to the nearest MRT station (km-1)']\n",
    "        summation += x * (y - a - b*x)\n",
    "    return -2/len(df) * summation\n",
    "\n",
    "for iter in range(max_iters): # Gradient Descent\n",
    "    new_a = a - alpha * partial_E_a(a, b) # update of a\n",
    "    new_b = b - alpha * partial_E_b(a, b) # update of b\n",
    "    diff = abs(E(new_a, new_b) - E(a, b)) # stopping criterion\n",
    "    print(f\"Iteration {iter+1}: a = {new_a}, b = {new_b}, E(a,b) = {E(new_a, new_b)}\")\n",
    "    if diff < epsilon:\n",
    "        print(f\"The local minimum occurs at a = {new_a}, b = {new_b}\")\n",
    "        break\n",
    "    a = new_a\n",
    "    b = new_b"
   ]
  },
  {
   "cell_type": "markdown",
   "metadata": {},
   "source": [
    "## Gradient Descent Visualization\n",
    "The graph below shows the algorithm's progress of minimizing the error function over the course of the iterations for Model 2, using the parameters of the tuned model."
   ]
  },
  {
   "cell_type": "code",
   "execution_count": 97,
   "metadata": {},
   "outputs": [
    {
     "data": {
      "application/vnd.plotly.v1+json": {
       "config": {
        "plotlyServerURL": "https://plot.ly"
       },
       "data": [
        {
         "hovertemplate": "a-value=%{x}<br>b-value=%{y}<br>E(a,b)=%{z}<extra></extra>",
         "legendgroup": "",
         "marker": {
          "color": "#636efa",
          "symbol": "circle"
         },
         "mode": "markers",
         "name": "",
         "scene": "scene",
         "showlegend": false,
         "type": "scatter3d",
         "x": [
          5.741911666666667,
          5.745851695646021,
          5.7455922006827125,
          5.74561693879874
         ],
         "y": [
          0.25806016193333337,
          0.301520067326992,
          0.2985770912672,
          0.2987756875768853
         ],
         "z": [
          0.551266865382882,
          0.46249869906417596,
          0.4620918209580253,
          0.46208995151850657
         ]
        }
       ],
       "layout": {
        "legend": {
         "tracegroupgap": 0
        },
        "margin": {
         "t": 60
        },
        "scene": {
         "domain": {
          "x": [
           0,
           1
          ],
          "y": [
           0,
           1
          ]
         },
         "xaxis": {
          "title": {
           "text": "a-value"
          }
         },
         "yaxis": {
          "title": {
           "text": "b-value"
          }
         },
         "zaxis": {
          "title": {
           "text": "E(a,b)"
          }
         }
        },
        "template": {
         "data": {
          "bar": [
           {
            "error_x": {
             "color": "#2a3f5f"
            },
            "error_y": {
             "color": "#2a3f5f"
            },
            "marker": {
             "line": {
              "color": "#E5ECF6",
              "width": 0.5
             },
             "pattern": {
              "fillmode": "overlay",
              "size": 10,
              "solidity": 0.2
             }
            },
            "type": "bar"
           }
          ],
          "barpolar": [
           {
            "marker": {
             "line": {
              "color": "#E5ECF6",
              "width": 0.5
             },
             "pattern": {
              "fillmode": "overlay",
              "size": 10,
              "solidity": 0.2
             }
            },
            "type": "barpolar"
           }
          ],
          "carpet": [
           {
            "aaxis": {
             "endlinecolor": "#2a3f5f",
             "gridcolor": "white",
             "linecolor": "white",
             "minorgridcolor": "white",
             "startlinecolor": "#2a3f5f"
            },
            "baxis": {
             "endlinecolor": "#2a3f5f",
             "gridcolor": "white",
             "linecolor": "white",
             "minorgridcolor": "white",
             "startlinecolor": "#2a3f5f"
            },
            "type": "carpet"
           }
          ],
          "choropleth": [
           {
            "colorbar": {
             "outlinewidth": 0,
             "ticks": ""
            },
            "type": "choropleth"
           }
          ],
          "contour": [
           {
            "colorbar": {
             "outlinewidth": 0,
             "ticks": ""
            },
            "colorscale": [
             [
              0,
              "#0d0887"
             ],
             [
              0.1111111111111111,
              "#46039f"
             ],
             [
              0.2222222222222222,
              "#7201a8"
             ],
             [
              0.3333333333333333,
              "#9c179e"
             ],
             [
              0.4444444444444444,
              "#bd3786"
             ],
             [
              0.5555555555555556,
              "#d8576b"
             ],
             [
              0.6666666666666666,
              "#ed7953"
             ],
             [
              0.7777777777777778,
              "#fb9f3a"
             ],
             [
              0.8888888888888888,
              "#fdca26"
             ],
             [
              1,
              "#f0f921"
             ]
            ],
            "type": "contour"
           }
          ],
          "contourcarpet": [
           {
            "colorbar": {
             "outlinewidth": 0,
             "ticks": ""
            },
            "type": "contourcarpet"
           }
          ],
          "heatmap": [
           {
            "colorbar": {
             "outlinewidth": 0,
             "ticks": ""
            },
            "colorscale": [
             [
              0,
              "#0d0887"
             ],
             [
              0.1111111111111111,
              "#46039f"
             ],
             [
              0.2222222222222222,
              "#7201a8"
             ],
             [
              0.3333333333333333,
              "#9c179e"
             ],
             [
              0.4444444444444444,
              "#bd3786"
             ],
             [
              0.5555555555555556,
              "#d8576b"
             ],
             [
              0.6666666666666666,
              "#ed7953"
             ],
             [
              0.7777777777777778,
              "#fb9f3a"
             ],
             [
              0.8888888888888888,
              "#fdca26"
             ],
             [
              1,
              "#f0f921"
             ]
            ],
            "type": "heatmap"
           }
          ],
          "heatmapgl": [
           {
            "colorbar": {
             "outlinewidth": 0,
             "ticks": ""
            },
            "colorscale": [
             [
              0,
              "#0d0887"
             ],
             [
              0.1111111111111111,
              "#46039f"
             ],
             [
              0.2222222222222222,
              "#7201a8"
             ],
             [
              0.3333333333333333,
              "#9c179e"
             ],
             [
              0.4444444444444444,
              "#bd3786"
             ],
             [
              0.5555555555555556,
              "#d8576b"
             ],
             [
              0.6666666666666666,
              "#ed7953"
             ],
             [
              0.7777777777777778,
              "#fb9f3a"
             ],
             [
              0.8888888888888888,
              "#fdca26"
             ],
             [
              1,
              "#f0f921"
             ]
            ],
            "type": "heatmapgl"
           }
          ],
          "histogram": [
           {
            "marker": {
             "pattern": {
              "fillmode": "overlay",
              "size": 10,
              "solidity": 0.2
             }
            },
            "type": "histogram"
           }
          ],
          "histogram2d": [
           {
            "colorbar": {
             "outlinewidth": 0,
             "ticks": ""
            },
            "colorscale": [
             [
              0,
              "#0d0887"
             ],
             [
              0.1111111111111111,
              "#46039f"
             ],
             [
              0.2222222222222222,
              "#7201a8"
             ],
             [
              0.3333333333333333,
              "#9c179e"
             ],
             [
              0.4444444444444444,
              "#bd3786"
             ],
             [
              0.5555555555555556,
              "#d8576b"
             ],
             [
              0.6666666666666666,
              "#ed7953"
             ],
             [
              0.7777777777777778,
              "#fb9f3a"
             ],
             [
              0.8888888888888888,
              "#fdca26"
             ],
             [
              1,
              "#f0f921"
             ]
            ],
            "type": "histogram2d"
           }
          ],
          "histogram2dcontour": [
           {
            "colorbar": {
             "outlinewidth": 0,
             "ticks": ""
            },
            "colorscale": [
             [
              0,
              "#0d0887"
             ],
             [
              0.1111111111111111,
              "#46039f"
             ],
             [
              0.2222222222222222,
              "#7201a8"
             ],
             [
              0.3333333333333333,
              "#9c179e"
             ],
             [
              0.4444444444444444,
              "#bd3786"
             ],
             [
              0.5555555555555556,
              "#d8576b"
             ],
             [
              0.6666666666666666,
              "#ed7953"
             ],
             [
              0.7777777777777778,
              "#fb9f3a"
             ],
             [
              0.8888888888888888,
              "#fdca26"
             ],
             [
              1,
              "#f0f921"
             ]
            ],
            "type": "histogram2dcontour"
           }
          ],
          "mesh3d": [
           {
            "colorbar": {
             "outlinewidth": 0,
             "ticks": ""
            },
            "type": "mesh3d"
           }
          ],
          "parcoords": [
           {
            "line": {
             "colorbar": {
              "outlinewidth": 0,
              "ticks": ""
             }
            },
            "type": "parcoords"
           }
          ],
          "pie": [
           {
            "automargin": true,
            "type": "pie"
           }
          ],
          "scatter": [
           {
            "fillpattern": {
             "fillmode": "overlay",
             "size": 10,
             "solidity": 0.2
            },
            "type": "scatter"
           }
          ],
          "scatter3d": [
           {
            "line": {
             "colorbar": {
              "outlinewidth": 0,
              "ticks": ""
             }
            },
            "marker": {
             "colorbar": {
              "outlinewidth": 0,
              "ticks": ""
             }
            },
            "type": "scatter3d"
           }
          ],
          "scattercarpet": [
           {
            "marker": {
             "colorbar": {
              "outlinewidth": 0,
              "ticks": ""
             }
            },
            "type": "scattercarpet"
           }
          ],
          "scattergeo": [
           {
            "marker": {
             "colorbar": {
              "outlinewidth": 0,
              "ticks": ""
             }
            },
            "type": "scattergeo"
           }
          ],
          "scattergl": [
           {
            "marker": {
             "colorbar": {
              "outlinewidth": 0,
              "ticks": ""
             }
            },
            "type": "scattergl"
           }
          ],
          "scattermapbox": [
           {
            "marker": {
             "colorbar": {
              "outlinewidth": 0,
              "ticks": ""
             }
            },
            "type": "scattermapbox"
           }
          ],
          "scatterpolar": [
           {
            "marker": {
             "colorbar": {
              "outlinewidth": 0,
              "ticks": ""
             }
            },
            "type": "scatterpolar"
           }
          ],
          "scatterpolargl": [
           {
            "marker": {
             "colorbar": {
              "outlinewidth": 0,
              "ticks": ""
             }
            },
            "type": "scatterpolargl"
           }
          ],
          "scatterternary": [
           {
            "marker": {
             "colorbar": {
              "outlinewidth": 0,
              "ticks": ""
             }
            },
            "type": "scatterternary"
           }
          ],
          "surface": [
           {
            "colorbar": {
             "outlinewidth": 0,
             "ticks": ""
            },
            "colorscale": [
             [
              0,
              "#0d0887"
             ],
             [
              0.1111111111111111,
              "#46039f"
             ],
             [
              0.2222222222222222,
              "#7201a8"
             ],
             [
              0.3333333333333333,
              "#9c179e"
             ],
             [
              0.4444444444444444,
              "#bd3786"
             ],
             [
              0.5555555555555556,
              "#d8576b"
             ],
             [
              0.6666666666666666,
              "#ed7953"
             ],
             [
              0.7777777777777778,
              "#fb9f3a"
             ],
             [
              0.8888888888888888,
              "#fdca26"
             ],
             [
              1,
              "#f0f921"
             ]
            ],
            "type": "surface"
           }
          ],
          "table": [
           {
            "cells": {
             "fill": {
              "color": "#EBF0F8"
             },
             "line": {
              "color": "white"
             }
            },
            "header": {
             "fill": {
              "color": "#C8D4E3"
             },
             "line": {
              "color": "white"
             }
            },
            "type": "table"
           }
          ]
         },
         "layout": {
          "annotationdefaults": {
           "arrowcolor": "#2a3f5f",
           "arrowhead": 0,
           "arrowwidth": 1
          },
          "autotypenumbers": "strict",
          "coloraxis": {
           "colorbar": {
            "outlinewidth": 0,
            "ticks": ""
           }
          },
          "colorscale": {
           "diverging": [
            [
             0,
             "#8e0152"
            ],
            [
             0.1,
             "#c51b7d"
            ],
            [
             0.2,
             "#de77ae"
            ],
            [
             0.3,
             "#f1b6da"
            ],
            [
             0.4,
             "#fde0ef"
            ],
            [
             0.5,
             "#f7f7f7"
            ],
            [
             0.6,
             "#e6f5d0"
            ],
            [
             0.7,
             "#b8e186"
            ],
            [
             0.8,
             "#7fbc41"
            ],
            [
             0.9,
             "#4d9221"
            ],
            [
             1,
             "#276419"
            ]
           ],
           "sequential": [
            [
             0,
             "#0d0887"
            ],
            [
             0.1111111111111111,
             "#46039f"
            ],
            [
             0.2222222222222222,
             "#7201a8"
            ],
            [
             0.3333333333333333,
             "#9c179e"
            ],
            [
             0.4444444444444444,
             "#bd3786"
            ],
            [
             0.5555555555555556,
             "#d8576b"
            ],
            [
             0.6666666666666666,
             "#ed7953"
            ],
            [
             0.7777777777777778,
             "#fb9f3a"
            ],
            [
             0.8888888888888888,
             "#fdca26"
            ],
            [
             1,
             "#f0f921"
            ]
           ],
           "sequentialminus": [
            [
             0,
             "#0d0887"
            ],
            [
             0.1111111111111111,
             "#46039f"
            ],
            [
             0.2222222222222222,
             "#7201a8"
            ],
            [
             0.3333333333333333,
             "#9c179e"
            ],
            [
             0.4444444444444444,
             "#bd3786"
            ],
            [
             0.5555555555555556,
             "#d8576b"
            ],
            [
             0.6666666666666666,
             "#ed7953"
            ],
            [
             0.7777777777777778,
             "#fb9f3a"
            ],
            [
             0.8888888888888888,
             "#fdca26"
            ],
            [
             1,
             "#f0f921"
            ]
           ]
          },
          "colorway": [
           "#636efa",
           "#EF553B",
           "#00cc96",
           "#ab63fa",
           "#FFA15A",
           "#19d3f3",
           "#FF6692",
           "#B6E880",
           "#FF97FF",
           "#FECB52"
          ],
          "font": {
           "color": "#2a3f5f"
          },
          "geo": {
           "bgcolor": "white",
           "lakecolor": "white",
           "landcolor": "#E5ECF6",
           "showlakes": true,
           "showland": true,
           "subunitcolor": "white"
          },
          "hoverlabel": {
           "align": "left"
          },
          "hovermode": "closest",
          "mapbox": {
           "style": "light"
          },
          "paper_bgcolor": "white",
          "plot_bgcolor": "#E5ECF6",
          "polar": {
           "angularaxis": {
            "gridcolor": "white",
            "linecolor": "white",
            "ticks": ""
           },
           "bgcolor": "#E5ECF6",
           "radialaxis": {
            "gridcolor": "white",
            "linecolor": "white",
            "ticks": ""
           }
          },
          "scene": {
           "xaxis": {
            "backgroundcolor": "#E5ECF6",
            "gridcolor": "white",
            "gridwidth": 2,
            "linecolor": "white",
            "showbackground": true,
            "ticks": "",
            "zerolinecolor": "white"
           },
           "yaxis": {
            "backgroundcolor": "#E5ECF6",
            "gridcolor": "white",
            "gridwidth": 2,
            "linecolor": "white",
            "showbackground": true,
            "ticks": "",
            "zerolinecolor": "white"
           },
           "zaxis": {
            "backgroundcolor": "#E5ECF6",
            "gridcolor": "white",
            "gridwidth": 2,
            "linecolor": "white",
            "showbackground": true,
            "ticks": "",
            "zerolinecolor": "white"
           }
          },
          "shapedefaults": {
           "line": {
            "color": "#2a3f5f"
           }
          },
          "ternary": {
           "aaxis": {
            "gridcolor": "white",
            "linecolor": "white",
            "ticks": ""
           },
           "baxis": {
            "gridcolor": "white",
            "linecolor": "white",
            "ticks": ""
           },
           "bgcolor": "#E5ECF6",
           "caxis": {
            "gridcolor": "white",
            "linecolor": "white",
            "ticks": ""
           }
          },
          "title": {
           "x": 0.05
          },
          "xaxis": {
           "automargin": true,
           "gridcolor": "white",
           "linecolor": "white",
           "ticks": "",
           "title": {
            "standoff": 15
           },
           "zerolinecolor": "white",
           "zerolinewidth": 2
          },
          "yaxis": {
           "automargin": true,
           "gridcolor": "white",
           "linecolor": "white",
           "ticks": "",
           "title": {
            "standoff": 15
           },
           "zerolinecolor": "white",
           "zerolinewidth": 2
          }
         }
        }
       }
      }
     },
     "metadata": {},
     "output_type": "display_data"
    }
   ],
   "source": [
    "# plot 3d gradient descent using plotly express\n",
    "fig = px.scatter_3d(model2_gradientdesc, x='a-value', y='b-value', z='E(a,b)')\n",
    "fig.show()"
   ]
  },
  {
   "cell_type": "markdown",
   "metadata": {},
   "source": [
    "# SLR Visualization\n",
    "Visualize Simple Linear Regression Models 1 and 2 using the scatter plot of the actual values and the line of best fit for each model."
   ]
  },
  {
   "cell_type": "code",
   "execution_count": 47,
   "metadata": {},
   "outputs": [
    {
     "data": {
      "image/png": "[encoded data removed]",
      "text/plain": [
       "<Figure size 720x576 with 1 Axes>"
      ]
     },
     "metadata": {
      "needs_background": "light"
     },
     "output_type": "display_data"
    }
   ],
   "source": [
    "fig = plt.figure(figsize=(10,8))\n",
    "x = np.linspace(0,22)\n",
    "y1 = 0.81311*x # Model 1 Equation\n",
    "y2 = 5.7456 + 0.29878*x # Model 2 Equation\n",
    "\n",
    "ax = plt.scatter(x=df['inverse distance to the nearest MRT station (km-1)'], y=df['price per square metre ($ in thousands)'])\n",
    "ax = plt.plot(x, y1, color='purple', label='Model 1 (MSE=19.467)')\n",
    "ax = plt.plot(x, y2, 'red', label='Model 2 (MSE=0.46209)')\n",
    "\n",
    "plt.legend(fontsize=15) # show legend\n",
    "plt.title('Housing Price Simple Linear Regression', fontsize=20) # title of plot\n",
    "plt.xlabel('Inverse distance to the nearest MRT station (km-1)', fontsize=15) # x-axis label\n",
    "plt.ylabel('Price per square metre ($ in thousands)', fontsize=16) # y-axis label\n",
    "plt.tick_params(axis='both', which='major', labelsize=14) # tick labels size\n",
    "plt.show()"
   ]
  },
  {
   "cell_type": "markdown",
   "metadata": {},
   "source": [
    "# MODEL 3\n",
    "Build a Multiple Linear Regression Model to predict `price per square metre ($ in thousands)` using `inverse distance to the nearest MRT station (km-1)` and `inverse age of flat (year-1)` as the predictors, with the intercept term `a` included, using the Gradient Descent algorithm to determine the values of the slopes and the intercept."
   ]
  },
  {
   "cell_type": "code",
   "execution_count": 49,
   "metadata": {},
   "outputs": [
    {
     "name": "stdout",
     "output_type": "stream",
     "text": [
      "Iteration 247: a = 5.364503371524537, b = 0.31286031463014785, c= 1.4252336827576164, E(a,b,c) = 0.45427601124724726\n",
      "The local minimum occurs at a = 5.364503371524537, b = 0.31286031463014785, c=1.4252336827576164\n"
     ]
    }
   ],
   "source": [
    "a = 1 # Starting value of a\n",
    "b = 1 # Starting value of b\n",
    "c = 1 # Starting value of c\n",
    "alpha = 0.01 # Learning rate\n",
    "epsilon = 0.001 # Stopping criterion\n",
    "max_iters = 1000 # Maximum number of iterations\n",
    "\n",
    "def E(a, b, c): # calculate error function E(a, b, c)\n",
    "    summation = 0\n",
    "    for rownum in np.arange(len(df)):\n",
    "        y = df.loc[rownum, 'price per square metre ($ in thousands)']\n",
    "        x = df.loc[rownum, 'inverse distance to the nearest MRT station (km-1)']\n",
    "        w = df.loc[rownum, 'inverse age of flat (year-1)']\n",
    "        summation += (y - a - b*x - c*w)**2\n",
    "    return 1/len(df) * summation\n",
    "\n",
    "def partialE_a(a, b, c): # 1st derivative of E(a, b, c) with respect to a\n",
    "    summation = 0\n",
    "    for rownum in np.arange(len(df)):\n",
    "        y = df.loc[rownum, 'price per square metre ($ in thousands)']\n",
    "        x = df.loc[rownum, 'inverse distance to the nearest MRT station (km-1)']\n",
    "        w = df.loc[rownum, 'inverse age of flat (year-1)']\n",
    "        summation += y - a - b*x - c*w\n",
    "    return -2/len(df) * summation\n",
    "\n",
    "def partialE_b(a, b, c): # 1st derivative of E(a, b, c) with respect to b\n",
    "    summation = 0\n",
    "    for rownum in np.arange(len(df)):\n",
    "        y = df.loc[rownum, 'price per square metre ($ in thousands)']\n",
    "        x = df.loc[rownum, 'inverse distance to the nearest MRT station (km-1)']\n",
    "        w = df.loc[rownum, 'inverse age of flat (year-1)']\n",
    "        summation += x * (y - a - b*x - c*w)\n",
    "    return -2/len(df) * summation\n",
    "\n",
    "def partialE_c(a, b, c): # 1st derivative of E(a, b, c) with respect to c\n",
    "    summation = 0\n",
    "    for rownum in np.arange(len(df)):\n",
    "        y = df.loc[rownum, 'price per square metre ($ in thousands)']\n",
    "        x = df.loc[rownum, 'inverse distance to the nearest MRT station (km-1)']\n",
    "        w = df.loc[rownum, 'inverse age of flat (year-1)']\n",
    "        summation += w * (y - a - b*x - c*w)\n",
    "    return -2/len(df) * summation\n",
    "\n",
    "for iter in range(max_iters): # Gradient Descent\n",
    "    new_a = a - alpha * partialE_a(a, b, c) # update of a\n",
    "    new_b = b - alpha * partialE_b(a, b, c) # update of b\n",
    "    new_c = c - alpha * partialE_c(a, b, c) # update of c\n",
    "    diff = abs(E(new_a, new_b, new_c) - E(a, b, c)) # stopping criterion\n",
    "    # print(f\"Iteration {iter+1}: a = {new_a}, b = {new_b}, c= {new_c}, E(a,b,c) = {E(new_a, new_b, new_c)}\")\n",
    "    if diff < epsilon:\n",
    "        print(f\"Iteration {iter + 1}: a = {new_a}, b = {new_b}, c= {new_c}, E(a,b,c) = {E(new_a, new_b, new_c)}\")\n",
    "        print(f\"The local minimum occurs at a = {new_a}, b = {new_b}, c={new_c}\")\n",
    "        break\n",
    "    a = new_a\n",
    "    b = new_b\n",
    "    c = new_c"
   ]
  },
  {
   "cell_type": "markdown",
   "metadata": {},
   "source": [
    "## Model 3 Tuning"
   ]
  },
  {
   "cell_type": "code",
   "execution_count": 86,
   "metadata": {},
   "outputs": [],
   "source": [
    "def model3_tuning(a, b, c, alpha, epsilon, max_iters): # model 3 with tuning\n",
    "    a_vals = a # Starting value of a\n",
    "    b_vals = b # Starting value of b\n",
    "    c_vals = c # Starting value of c\n",
    "    alpha_vals = alpha # Learning rate\n",
    "    epsilon_vals = epsilon # Stopping criterion\n",
    "    max_iters = max_iters # Maximum number of iterations\n",
    "\n",
    "    def E(a, b, c): # calculate error function E(a, b, c)\n",
    "        summation = 0\n",
    "        for rownum in np.arange(len(df)):\n",
    "            y = df.loc[rownum, 'price per square metre ($ in thousands)']\n",
    "            x = df.loc[rownum, 'inverse distance to the nearest MRT station (km-1)']\n",
    "            w = df.loc[rownum, 'inverse age of flat (year-1)']\n",
    "            summation += (y - a - b*x - c*w)**2\n",
    "        return 1/len(df) * summation\n",
    "\n",
    "    def partialE_a(a, b, c): # 1st derivative of E(a, b, c) with respect to a\n",
    "        summation = 0\n",
    "        for rownum in np.arange(len(df)):\n",
    "            y = df.loc[rownum, 'price per square metre ($ in thousands)']\n",
    "            x = df.loc[rownum, 'inverse distance to the nearest MRT station (km-1)']\n",
    "            w = df.loc[rownum, 'inverse age of flat (year-1)']\n",
    "            summation += y - a - b*x - c*w\n",
    "        return -2/len(df) * summation\n",
    "\n",
    "    def partialE_b(a, b, c): # 1st derivative of E(a, b, c) with respect to b\n",
    "        summation = 0\n",
    "        for rownum in np.arange(len(df)):\n",
    "            y = df.loc[rownum, 'price per square metre ($ in thousands)']\n",
    "            x = df.loc[rownum, 'inverse distance to the nearest MRT station (km-1)']\n",
    "            w = df.loc[rownum, 'inverse age of flat (year-1)']\n",
    "            summation += x * (y - a - b*x - c*w)\n",
    "        return -2/len(df) * summation\n",
    "\n",
    "    def partialE_c(a, b, c): # 1st derivative of E(a, b, c) with respect to c\n",
    "        summation = 0\n",
    "        for rownum in np.arange(len(df)):\n",
    "            y = df.loc[rownum, 'price per square metre ($ in thousands)']\n",
    "            x = df.loc[rownum, 'inverse distance to the nearest MRT station (km-1)']\n",
    "            w = df.loc[rownum, 'inverse age of flat (year-1)']\n",
    "            summation += w * (y - a - b*x - c*w)\n",
    "        return -2/len(df) * summation\n",
    "\n",
    "    results = pd.DataFrame(columns=['alpha', 'epsilon', 'iterations', 'starting a', 'starting b', 'starting c', 'E(a,b,c)']) # dataframe to store results\n",
    "\n",
    "    for epsilon in epsilon_vals:\n",
    "        for alpha in alpha_vals: # for each learning rate\n",
    "            for starting_a in a_vals:\n",
    "                for starting_b in b_vals:\n",
    "                    for starting_c in c_vals: # loop through c values\n",
    "                        a = starting_a # starting value of a\n",
    "                        b = starting_b # starting value of b\n",
    "                        c = starting_c # starting value of c\n",
    "                        for iter in range(max_iters): # Gradient Descent\n",
    "                            new_a = a - alpha * partialE_a(a, b, c) # update of a\n",
    "                            new_b = b - alpha * partialE_b(a, b, c) # update of b\n",
    "                            new_c = c - alpha * partialE_c(a, b, c) # update of c\n",
    "                            diff = abs(E(new_a, new_b, new_c) - E(a, b, c)) # stopping criterion\n",
    "                            if diff < epsilon:\n",
    "                                # store results in dataframe\n",
    "                                results.loc[len(results)] = [alpha, epsilon, iter+1, starting_a, starting_b, starting_c, E(new_a, new_b, new_c)]\n",
    "                                break\n",
    "                            a = new_a\n",
    "                            b = new_b\n",
    "                            c = new_c\n",
    "\n",
    "    return results"
   ]
  },
  {
   "cell_type": "markdown",
   "metadata": {},
   "source": [
    "### 1st round of tuning\n",
    "Four of the top 5 lowest Mean Squared Error scores all have alpha of 0.01 and all the top 5 lowest Mean Squared Error scors have a epsilon of 0.0001. However the number of iterations is high, with the lowest number of iterations being 441 in the top 5 scores."
   ]
  },
  {
   "cell_type": "code",
   "execution_count": 87,
   "metadata": {},
   "outputs": [
    {
     "data": {
      "text/html": [
       "<div>\n",
       "<style scoped>\n",
       "    .dataframe tbody tr th:only-of-type {\n",
       "        vertical-align: middle;\n",
       "    }\n",
       "\n",
       "    .dataframe tbody tr th {\n",
       "        vertical-align: top;\n",
       "    }\n",
       "\n",
       "    .dataframe thead th {\n",
       "        text-align: right;\n",
       "    }\n",
       "</style>\n",
       "<table border=\"1\" class=\"dataframe\">\n",
       "  <thead>\n",
       "    <tr style=\"text-align: right;\">\n",
       "      <th></th>\n",
       "      <th>alpha</th>\n",
       "      <th>epsilon</th>\n",
       "      <th>iterations</th>\n",
       "      <th>starting a</th>\n",
       "      <th>starting b</th>\n",
       "      <th>starting c</th>\n",
       "      <th>E(a,b,c)</th>\n",
       "    </tr>\n",
       "  </thead>\n",
       "  <tbody>\n",
       "    <tr>\n",
       "      <th>137</th>\n",
       "      <td>0.010</td>\n",
       "      <td>0.0001</td>\n",
       "      <td>509.0</td>\n",
       "      <td>-10.0</td>\n",
       "      <td>-500.0</td>\n",
       "      <td>10.0</td>\n",
       "      <td>0.165746</td>\n",
       "    </tr>\n",
       "    <tr>\n",
       "      <th>186</th>\n",
       "      <td>0.005</td>\n",
       "      <td>0.0001</td>\n",
       "      <td>959.0</td>\n",
       "      <td>-10.0</td>\n",
       "      <td>-500.0</td>\n",
       "      <td>10.0</td>\n",
       "      <td>0.170130</td>\n",
       "    </tr>\n",
       "    <tr>\n",
       "      <th>152</th>\n",
       "      <td>0.010</td>\n",
       "      <td>0.0001</td>\n",
       "      <td>533.0</td>\n",
       "      <td>0.0</td>\n",
       "      <td>-500.0</td>\n",
       "      <td>10.0</td>\n",
       "      <td>0.170162</td>\n",
       "    </tr>\n",
       "    <tr>\n",
       "      <th>167</th>\n",
       "      <td>0.010</td>\n",
       "      <td>0.0001</td>\n",
       "      <td>552.0</td>\n",
       "      <td>10.0</td>\n",
       "      <td>-500.0</td>\n",
       "      <td>10.0</td>\n",
       "      <td>0.175843</td>\n",
       "    </tr>\n",
       "    <tr>\n",
       "      <th>140</th>\n",
       "      <td>0.010</td>\n",
       "      <td>0.0001</td>\n",
       "      <td>441.0</td>\n",
       "      <td>-10.0</td>\n",
       "      <td>-10.0</td>\n",
       "      <td>10.0</td>\n",
       "      <td>0.194464</td>\n",
       "    </tr>\n",
       "  </tbody>\n",
       "</table>\n",
       "</div>"
      ],
      "text/plain": [
       "     alpha  epsilon  iterations  starting a  starting b  starting c  E(a,b,c)\n",
       "137  0.010   0.0001       509.0       -10.0      -500.0        10.0  0.165746\n",
       "186  0.005   0.0001       959.0       -10.0      -500.0        10.0  0.170130\n",
       "152  0.010   0.0001       533.0         0.0      -500.0        10.0  0.170162\n",
       "167  0.010   0.0001       552.0        10.0      -500.0        10.0  0.175843\n",
       "140  0.010   0.0001       441.0       -10.0       -10.0        10.0  0.194464"
      ]
     },
     "execution_count": 87,
     "metadata": {},
     "output_type": "execute_result"
    }
   ],
   "source": [
    "a_vals = [-500, -10, 0, 10, 500] # a values to test\n",
    "b_vals = [-500, -10, 0, 10, 500] # b values to test\n",
    "c_vals = [-500, -10, 0, 10, 500] # c values to test\n",
    "alpha_vals = [0.01, 0.005] # learning rates to test\n",
    "epsilon_vals = [0.001, 0.0001] # stopping criteria to test\n",
    "results_df = model3_tuning(a_vals, b_vals, c_vals, alpha_vals, epsilon_vals, 1000) # run model 2 with grid search\n",
    "results_df = results_df.sort_values(by=['E(a,b,c)']) # sort results by error function\n",
    "results_df.head() # print top 5 results"
   ]
  },
  {
   "cell_type": "markdown",
   "metadata": {},
   "source": [
    "### 2nd round of tuning\n",
    "To try to minimize the number of iterations and also reduce the Mean-Squared Error, I will be using alpha of 0.01 and epsilon of 0.0001 to find the best starting value of a, b and c to get the lowest MSE and iterations."
   ]
  },
  {
   "cell_type": "code",
   "execution_count": 88,
   "metadata": {},
   "outputs": [
    {
     "data": {
      "text/html": [
       "<div>\n",
       "<style scoped>\n",
       "    .dataframe tbody tr th:only-of-type {\n",
       "        vertical-align: middle;\n",
       "    }\n",
       "\n",
       "    .dataframe tbody tr th {\n",
       "        vertical-align: top;\n",
       "    }\n",
       "\n",
       "    .dataframe thead th {\n",
       "        text-align: right;\n",
       "    }\n",
       "</style>\n",
       "<table border=\"1\" class=\"dataframe\">\n",
       "  <thead>\n",
       "    <tr style=\"text-align: right;\">\n",
       "      <th></th>\n",
       "      <th>alpha</th>\n",
       "      <th>epsilon</th>\n",
       "      <th>iterations</th>\n",
       "      <th>starting a</th>\n",
       "      <th>starting b</th>\n",
       "      <th>starting c</th>\n",
       "      <th>E(a,b,c)</th>\n",
       "    </tr>\n",
       "  </thead>\n",
       "  <tbody>\n",
       "    <tr>\n",
       "      <th>547</th>\n",
       "      <td>0.01</td>\n",
       "      <td>0.0001</td>\n",
       "      <td>4.0</td>\n",
       "      <td>4.5</td>\n",
       "      <td>1.4</td>\n",
       "      <td>17.0</td>\n",
       "      <td>0.156181</td>\n",
       "    </tr>\n",
       "    <tr>\n",
       "      <th>537</th>\n",
       "      <td>0.01</td>\n",
       "      <td>0.0001</td>\n",
       "      <td>4.0</td>\n",
       "      <td>4.5</td>\n",
       "      <td>1.3</td>\n",
       "      <td>17.0</td>\n",
       "      <td>0.156193</td>\n",
       "    </tr>\n",
       "    <tr>\n",
       "      <th>557</th>\n",
       "      <td>0.01</td>\n",
       "      <td>0.0001</td>\n",
       "      <td>4.0</td>\n",
       "      <td>4.5</td>\n",
       "      <td>1.5</td>\n",
       "      <td>17.0</td>\n",
       "      <td>0.156255</td>\n",
       "    </tr>\n",
       "    <tr>\n",
       "      <th>527</th>\n",
       "      <td>0.01</td>\n",
       "      <td>0.0001</td>\n",
       "      <td>4.0</td>\n",
       "      <td>4.5</td>\n",
       "      <td>1.2</td>\n",
       "      <td>17.0</td>\n",
       "      <td>0.156292</td>\n",
       "    </tr>\n",
       "    <tr>\n",
       "      <th>567</th>\n",
       "      <td>0.01</td>\n",
       "      <td>0.0001</td>\n",
       "      <td>4.0</td>\n",
       "      <td>4.5</td>\n",
       "      <td>1.6</td>\n",
       "      <td>17.0</td>\n",
       "      <td>0.156416</td>\n",
       "    </tr>\n",
       "  </tbody>\n",
       "</table>\n",
       "</div>"
      ],
      "text/plain": [
       "     alpha  epsilon  iterations  starting a  starting b  starting c  E(a,b,c)\n",
       "547   0.01   0.0001         4.0         4.5         1.4        17.0  0.156181\n",
       "537   0.01   0.0001         4.0         4.5         1.3        17.0  0.156193\n",
       "557   0.01   0.0001         4.0         4.5         1.5        17.0  0.156255\n",
       "527   0.01   0.0001         4.0         4.5         1.2        17.0  0.156292\n",
       "567   0.01   0.0001         4.0         4.5         1.6        17.0  0.156416"
      ]
     },
     "execution_count": 88,
     "metadata": {},
     "output_type": "execute_result"
    }
   ],
   "source": [
    "a_vals = np.arange(4, 5, 0.1) # a values to test\n",
    "b_vals = np.arange(1, 2, 0.1) # b values to test\n",
    "c_vals = np.arange(10, 20, 1) # c values to test\n",
    "results_df = model3_tuning(a_vals, b_vals, c_vals, [0.01], [0.0001], 1000) # run model 2 with grid search\n",
    "results_df = results_df.sort_values(by=['E(a,b,c)']) # sort results by error function\n",
    "results_df.head() # print top 5 results"
   ]
  },
  {
   "cell_type": "markdown",
   "metadata": {},
   "source": [
    "## Final Model 3\n",
    "With alpha = 0.01, epsilon = 0.0001, starting value of a=4.5, b=1.4 and c=17, the final Model 3 has a Mean-Squared Error of 0.156181 and the number of iterations is 4."
   ]
  },
  {
   "cell_type": "code",
   "execution_count": 90,
   "metadata": {},
   "outputs": [
    {
     "name": "stdout",
     "output_type": "stream",
     "text": [
      "Iteration 1: a = 4.381958666666667, b = 0.09543465293333298, c= 16.981327630133332, E(a,b,c) = 0.5268402331451587\n",
      "Iteration 2: a = 4.390015034144316, b = 0.1840357666794275, c= 16.982598954818357, E(a,b,c) = 0.15789084974400644\n",
      "Iteration 3: a = 4.389506529487217, b = 0.1780145279850617, c= 16.98251568924294, E(a,b,c) = 0.1561887610630267\n",
      "Iteration 4: a = 4.389579297496279, b = 0.1784199801932523, c= 16.982524390811378, E(a,b,c) = 0.15618078085446377\n",
      "The local minimum occurs at a = 4.389579297496279, b = 0.1784199801932523, c=16.982524390811378\n"
     ]
    }
   ],
   "source": [
    "a = 4.5 # Starting value of a\n",
    "b = 1.4 # Starting value of b\n",
    "c = 17 # Starting value of c\n",
    "alpha = 0.01 # Learning rate\n",
    "epsilon = 0.0001 # Stopping criterion\n",
    "max_iters = 1000 # Maximum number of iterations\n",
    "\n",
    "def E(a, b, c): # calculate error function E(a, b, c)\n",
    "    summation = 0\n",
    "    for rownum in np.arange(len(df)):\n",
    "        y = df.loc[rownum, 'price per square metre ($ in thousands)']\n",
    "        x = df.loc[rownum, 'inverse distance to the nearest MRT station (km-1)']\n",
    "        w = df.loc[rownum, 'inverse age of flat (year-1)']\n",
    "        summation += (y - a - b*x - c*w)**2\n",
    "    return 1/len(df) * summation\n",
    "\n",
    "def partialE_a(a, b, c): # 1st derivative of E(a, b, c) with respect to a\n",
    "    summation = 0\n",
    "    for rownum in np.arange(len(df)):\n",
    "        y = df.loc[rownum, 'price per square metre ($ in thousands)']\n",
    "        x = df.loc[rownum, 'inverse distance to the nearest MRT station (km-1)']\n",
    "        w = df.loc[rownum, 'inverse age of flat (year-1)']\n",
    "        summation += y - a - b*x - c*w\n",
    "    return -2/len(df) * summation\n",
    "\n",
    "def partialE_b(a, b, c): # 1st derivative of E(a, b, c) with respect to b\n",
    "    summation = 0\n",
    "    for rownum in np.arange(len(df)):\n",
    "        y = df.loc[rownum, 'price per square metre ($ in thousands)']\n",
    "        x = df.loc[rownum, 'inverse distance to the nearest MRT station (km-1)']\n",
    "        w = df.loc[rownum, 'inverse age of flat (year-1)']\n",
    "        summation += x * (y - a - b*x - c*w)\n",
    "    return -2/len(df) * summation\n",
    "\n",
    "def partialE_c(a, b, c): # 1st derivative of E(a, b, c) with respect to c\n",
    "    summation = 0\n",
    "    for rownum in np.arange(len(df)):\n",
    "        y = df.loc[rownum, 'price per square metre ($ in thousands)']\n",
    "        x = df.loc[rownum, 'inverse distance to the nearest MRT station (km-1)']\n",
    "        w = df.loc[rownum, 'inverse age of flat (year-1)']\n",
    "        summation += w * (y - a - b*x - c*w)\n",
    "    return -2/len(df) * summation\n",
    "\n",
    "for iter in range(max_iters): # Gradient Descent\n",
    "    new_a = a - alpha * partialE_a(a, b, c) # update of a\n",
    "    new_b = b - alpha * partialE_b(a, b, c) # update of b\n",
    "    new_c = c - alpha * partialE_c(a, b, c) # update of c\n",
    "    diff = abs(E(new_a, new_b, new_c) - E(a, b, c)) # stopping criterion\n",
    "    print(f\"Iteration {iter+1}: a = {new_a}, b = {new_b}, c= {new_c}, E(a,b,c) = {E(new_a, new_b, new_c)}\")\n",
    "    if diff < epsilon:\n",
    "        print(f\"The local minimum occurs at a = {new_a}, b = {new_b}, c={new_c}\")\n",
    "        break\n",
    "    a = new_a\n",
    "    b = new_b\n",
    "    c = new_c"
   ]
  },
  {
   "cell_type": "markdown",
   "metadata": {},
   "source": [
    "# Checking David's Hypothesis"
   ]
  },
  {
   "cell_type": "code",
   "execution_count": 15,
   "metadata": {},
   "outputs": [
    {
     "name": "stdout",
     "output_type": "stream",
     "text": [
      "David is incorrect\n"
     ]
    }
   ],
   "source": [
    "correct = False\n",
    "for rownum in np.arange(len(df)):\n",
    "    y = df.loc[rownum, 'price per square metre ($ in thousands)']\n",
    "    x = df.loc[rownum, 'inverse distance to the nearest MRT station (km-1)']\n",
    "    w = df.loc[rownum, 'inverse age of flat (year-1)']\n",
    "    error_model1 = abs(y - 0.81311*x)\n",
    "    error_model2 = abs(y - (5.7456 + 0.29878*x))\n",
    "    error_model3 = abs(y - (4.3896 + 0.17842*x + 16.983*w))\n",
    "    \n",
    "    if error_model1 < error_model2 and error_model1 < error_model3:\n",
    "        print(\"David is correct. For 1 of the data points, Error is the smallest, compared to the other 2 models\")\n",
    "        correct = True\n",
    "\n",
    "if correct == False:\n",
    "    print(\"David is incorrect\")"
   ]
  },
  {
   "cell_type": "markdown",
   "metadata": {},
   "source": [
    "# Differentiation Checker"
   ]
  },
  {
   "cell_type": "code",
   "execution_count": 17,
   "metadata": {},
   "outputs": [],
   "source": [
    "a = sp.Symbol('a')\n",
    "b = sp.Symbol('b')\n",
    "c = sp.Symbol('c')\n",
    "x = sp.Symbol('x')\n",
    "y = sp.Symbol('y')\n",
    "n = sp.Symbol('n')"
   ]
  },
  {
   "cell_type": "markdown",
   "metadata": {},
   "source": [
    "## Model 1"
   ]
  },
  {
   "cell_type": "code",
   "execution_count": 18,
   "metadata": {},
   "outputs": [
    {
     "data": {
      "text/latex": [
       "$\\displaystyle - \\frac{2 x \\left(- b x + y\\right)}{n}$"
      ],
      "text/plain": [
       "-2*x*(-b*x + y)/n"
      ]
     },
     "execution_count": 18,
     "metadata": {},
     "output_type": "execute_result"
    }
   ],
   "source": [
    "# model 1 part a, derivative of b\n",
    "sp.diff(1/n * (y - b*x)**2, b)"
   ]
  },
  {
   "cell_type": "markdown",
   "metadata": {},
   "source": [
    "## Model 2"
   ]
  },
  {
   "cell_type": "code",
   "execution_count": 19,
   "metadata": {},
   "outputs": [
    {
     "data": {
      "text/latex": [
       "$\\displaystyle \\frac{2 a + 2 b x - 2 y}{n}$"
      ],
      "text/plain": [
       "(2*a + 2*b*x - 2*y)/n"
      ]
     },
     "execution_count": 19,
     "metadata": {},
     "output_type": "execute_result"
    }
   ],
   "source": [
    "# model 2 part a, partial derivative of a\n",
    "sp.diff(1/n * (y - a - b*x)**2, a)"
   ]
  },
  {
   "cell_type": "code",
   "execution_count": 20,
   "metadata": {},
   "outputs": [
    {
     "data": {
      "text/latex": [
       "$\\displaystyle - \\frac{2 x \\left(- a - b x + y\\right)}{n}$"
      ],
      "text/plain": [
       "-2*x*(-a - b*x + y)/n"
      ]
     },
     "execution_count": 20,
     "metadata": {},
     "output_type": "execute_result"
    }
   ],
   "source": [
    "# model 2 part a, partial derivative of b\n",
    "sp.diff(1/n * (y - a - b*x)**2, b)"
   ]
  },
  {
   "cell_type": "markdown",
   "metadata": {},
   "source": [
    "## Model 3"
   ]
  }
 ],
 "metadata": {
  "kernelspec": {
   "display_name": "Python 3.9.4 64-bit",
   "language": "python",
   "name": "python3"
  },
  "language_info": {
   "codemirror_mode": {
    "name": "ipython",
    "version": 3
   },
   "file_extension": ".py",
   "mimetype": "text/x-python",
   "name": "python",
   "nbconvert_exporter": "python",
   "pygments_lexer": "ipython3",
   "version": "3.9.4"
  },
  "orig_nbformat": 4,
  "vscode": {
   "interpreter": {
    "hash": "11938c6bc6919ae2720b4d5011047913343b08a43b18698fd82dedb0d4417594"
   }
  }
 },
 "nbformat": 4,
 "nbformat_minor": 2
}
