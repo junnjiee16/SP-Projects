{
 "cells": [
  {
   "cell_type": "markdown",
   "metadata": {},
   "source": [
    "# MS0240 MAI Assignment 1 PCA: Question 2\n",
    "Carry out PCA on a wine dataset.\n",
    "\n",
    "This dataset is a subset of the whole dataset containing nutritional information of food products, taken from The United States Department of Agriculture's (USDA) National Nutrient Database. The amount of nutrients per 100g of each food product is recorded"
   ]
  },
  {
   "cell_type": "code",
   "execution_count": 2,
   "metadata": {},
   "outputs": [],
   "source": [
    "# load necessary libraries for this task\n",
    "import numpy as np\n",
    "import pandas as pd\n",
    "import matplotlib.pyplot as plt\n",
    "import seaborn as sns\n",
    "from sklearn.preprocessing import StandardScaler\n",
    "from sklearn.decomposition import PCA\n",
    "import plotly.express as px\n",
    "import plotly.graph_objects as go"
   ]
  },
  {
   "cell_type": "code",
   "execution_count": 7,
   "metadata": {},
   "outputs": [
    {
     "data": {
      "text/html": [
       "<div>\n",
       "<style scoped>\n",
       "    .dataframe tbody tr th:only-of-type {\n",
       "        vertical-align: middle;\n",
       "    }\n",
       "\n",
       "    .dataframe tbody tr th {\n",
       "        vertical-align: top;\n",
       "    }\n",
       "\n",
       "    .dataframe thead th {\n",
       "        text-align: right;\n",
       "    }\n",
       "</style>\n",
       "<table border=\"1\" class=\"dataframe\">\n",
       "  <thead>\n",
       "    <tr style=\"text-align: right;\">\n",
       "      <th></th>\n",
       "      <th>alcohol (%v/v at 20°C)</th>\n",
       "      <th>malic_acid (g/L)</th>\n",
       "      <th>magnesium (mg/L)</th>\n",
       "      <th>flavanoids (mg/L)</th>\n",
       "      <th>nonflavanoid_phenols (mg/L)</th>\n",
       "      <th>color_intensity (units)</th>\n",
       "      <th>proline (mg/L)</th>\n",
       "      <th>cultivator</th>\n",
       "    </tr>\n",
       "  </thead>\n",
       "  <tbody>\n",
       "    <tr>\n",
       "      <th>0</th>\n",
       "      <td>14.23</td>\n",
       "      <td>1.71</td>\n",
       "      <td>127</td>\n",
       "      <td>3.06</td>\n",
       "      <td>0.28</td>\n",
       "      <td>5.64</td>\n",
       "      <td>1065</td>\n",
       "      <td>0</td>\n",
       "    </tr>\n",
       "    <tr>\n",
       "      <th>1</th>\n",
       "      <td>13.20</td>\n",
       "      <td>1.78</td>\n",
       "      <td>100</td>\n",
       "      <td>2.76</td>\n",
       "      <td>0.26</td>\n",
       "      <td>4.38</td>\n",
       "      <td>1050</td>\n",
       "      <td>0</td>\n",
       "    </tr>\n",
       "    <tr>\n",
       "      <th>2</th>\n",
       "      <td>13.16</td>\n",
       "      <td>2.36</td>\n",
       "      <td>101</td>\n",
       "      <td>3.24</td>\n",
       "      <td>0.30</td>\n",
       "      <td>5.68</td>\n",
       "      <td>1185</td>\n",
       "      <td>0</td>\n",
       "    </tr>\n",
       "    <tr>\n",
       "      <th>3</th>\n",
       "      <td>14.37</td>\n",
       "      <td>1.95</td>\n",
       "      <td>113</td>\n",
       "      <td>3.49</td>\n",
       "      <td>0.24</td>\n",
       "      <td>7.80</td>\n",
       "      <td>1480</td>\n",
       "      <td>0</td>\n",
       "    </tr>\n",
       "    <tr>\n",
       "      <th>4</th>\n",
       "      <td>13.24</td>\n",
       "      <td>2.59</td>\n",
       "      <td>118</td>\n",
       "      <td>2.69</td>\n",
       "      <td>0.39</td>\n",
       "      <td>4.32</td>\n",
       "      <td>735</td>\n",
       "      <td>0</td>\n",
       "    </tr>\n",
       "  </tbody>\n",
       "</table>\n",
       "</div>"
      ],
      "text/plain": [
       "   alcohol (%v/v at 20°C)  malic_acid (g/L)  magnesium (mg/L)  \\\n",
       "0                   14.23              1.71               127   \n",
       "1                   13.20              1.78               100   \n",
       "2                   13.16              2.36               101   \n",
       "3                   14.37              1.95               113   \n",
       "4                   13.24              2.59               118   \n",
       "\n",
       "   flavanoids (mg/L)  nonflavanoid_phenols (mg/L)  color_intensity (units)  \\\n",
       "0               3.06                         0.28                     5.64   \n",
       "1               2.76                         0.26                     4.38   \n",
       "2               3.24                         0.30                     5.68   \n",
       "3               3.49                         0.24                     7.80   \n",
       "4               2.69                         0.39                     4.32   \n",
       "\n",
       "   proline (mg/L)  cultivator  \n",
       "0            1065           0  \n",
       "1            1050           0  \n",
       "2            1185           0  \n",
       "3            1480           0  \n",
       "4             735           0  "
      ]
     },
     "execution_count": 7,
     "metadata": {},
     "output_type": "execute_result"
    }
   ],
   "source": [
    "wine_df = pd.read_csv('data/wine.csv', encoding= 'unicode_escape') # import data into pandas dataframe\n",
    "wine_df.head() # making sure dataset loaded properly"
   ]
  },
  {
   "cell_type": "code",
   "execution_count": null,
   "metadata": {},
   "outputs": [],
   "source": []
  },
  {
   "cell_type": "code",
   "execution_count": null,
   "metadata": {},
   "outputs": [],
   "source": []
  }
 ],
 "metadata": {
  "kernelspec": {
   "display_name": "Python 3 (ipykernel)",
   "language": "python",
   "name": "python3"
  },
  "language_info": {
   "codemirror_mode": {
    "name": "ipython",
    "version": 3
   },
   "file_extension": ".py",
   "mimetype": "text/x-python",
   "name": "python",
   "nbconvert_exporter": "python",
   "pygments_lexer": "ipython3",
   "version": "3.9.12"
  },
  "vscode": {
   "interpreter": {
    "hash": "ad1e90dd35242546347ae0be74715b4ea8f8a6c3090d0f2f088b2f51b4fc6fdd"
   }
  }
 },
 "nbformat": 4,
 "nbformat_minor": 2
}
