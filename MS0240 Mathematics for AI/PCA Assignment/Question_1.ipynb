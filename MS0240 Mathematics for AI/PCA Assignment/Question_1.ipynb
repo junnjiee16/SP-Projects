{
 "cells": [
  {
   "cell_type": "markdown",
   "id": "86e86b81",
   "metadata": {},
   "source": [
    "# MS0240 MAI Assignment 1 PCA: Question 1\n",
    "Carry out PCA on a food nutrition dataset.\n",
    "\n",
    "This dataset is a subset of the whole dataset containing nutritional information of food products, taken from The United States Department of Agriculture's (USDA) National Nutrient Database. The amount of nutrients per 100g of each food product is recorded"
   ]
  },
  {
   "cell_type": "code",
   "execution_count": 50,
   "id": "a8a04f49",
   "metadata": {},
   "outputs": [],
   "source": [
    "# load necessary libraries for this task\n",
    "import numpy as np\n",
    "import pandas as pd\n",
    "import matplotlib.pyplot as plt\n",
    "import seaborn as sns\n",
    "from sklearn.preprocessing import StandardScaler\n",
    "from sklearn.decomposition import PCA\n",
    "import plotly.express as px\n",
    "import plotly.graph_objects as go"
   ]
  },
  {
   "cell_type": "markdown",
   "id": "47e450aa",
   "metadata": {},
   "source": [
    "## Information about the dataset\n",
    "The dataset has 6 numerical variables and 2 descriptive columns.\n",
    "\n",
    "From numerical summary, it is shown that `VitA_mcg` has the highest mean of 187mcg, while mean of the other 5 variables range from 3.70 to 28.3.\n",
    "\n",
    "The variables in the dataset also uses different scales. `VitA_mcg` uses micrograms, while the 5 other variables uses grams for its unit of measurement."
   ]
  },
  {
   "cell_type": "code",
   "execution_count": 51,
   "id": "82723de7",
   "metadata": {},
   "outputs": [
    {
     "data": {
      "text/html": [
       "<div>\n",
       "<style scoped>\n",
       "    .dataframe tbody tr th:only-of-type {\n",
       "        vertical-align: middle;\n",
       "    }\n",
       "\n",
       "    .dataframe tbody tr th {\n",
       "        vertical-align: top;\n",
       "    }\n",
       "\n",
       "    .dataframe thead th {\n",
       "        text-align: right;\n",
       "    }\n",
       "</style>\n",
       "<table border=\"1\" class=\"dataframe\">\n",
       "  <thead>\n",
       "    <tr style=\"text-align: right;\">\n",
       "      <th></th>\n",
       "      <th>Type</th>\n",
       "      <th>Description</th>\n",
       "      <th>Protein_g</th>\n",
       "      <th>Fat_g</th>\n",
       "      <th>Carb_g</th>\n",
       "      <th>Sugar_g</th>\n",
       "      <th>Fiber_g</th>\n",
       "      <th>VitA_mcg</th>\n",
       "    </tr>\n",
       "  </thead>\n",
       "  <tbody>\n",
       "    <tr>\n",
       "      <th>0</th>\n",
       "      <td>Poultry Products</td>\n",
       "      <td>Turkey, all classes, wing, meat and skin, raw</td>\n",
       "      <td>20.22</td>\n",
       "      <td>12.32</td>\n",
       "      <td>0.00</td>\n",
       "      <td>0.00</td>\n",
       "      <td>0.0</td>\n",
       "      <td>3</td>\n",
       "    </tr>\n",
       "    <tr>\n",
       "      <th>1</th>\n",
       "      <td>Fruits and Fruit Juices</td>\n",
       "      <td>Pears, raw, green anjou</td>\n",
       "      <td>0.44</td>\n",
       "      <td>0.10</td>\n",
       "      <td>15.79</td>\n",
       "      <td>9.73</td>\n",
       "      <td>3.1</td>\n",
       "      <td>1</td>\n",
       "    </tr>\n",
       "    <tr>\n",
       "      <th>2</th>\n",
       "      <td>Fruits and Fruit Juices</td>\n",
       "      <td>Maraschino cherries, canned, drained</td>\n",
       "      <td>0.22</td>\n",
       "      <td>0.21</td>\n",
       "      <td>41.97</td>\n",
       "      <td>38.77</td>\n",
       "      <td>3.2</td>\n",
       "      <td>2</td>\n",
       "    </tr>\n",
       "    <tr>\n",
       "      <th>3</th>\n",
       "      <td>Poultry Products</td>\n",
       "      <td>Chicken, stewing, meat only, cooked, stewed</td>\n",
       "      <td>30.42</td>\n",
       "      <td>11.89</td>\n",
       "      <td>0.00</td>\n",
       "      <td>0.00</td>\n",
       "      <td>0.0</td>\n",
       "      <td>34</td>\n",
       "    </tr>\n",
       "    <tr>\n",
       "      <th>4</th>\n",
       "      <td>Breakfast Cereals</td>\n",
       "      <td>Cereals ready-to-eat, wheat and bran, presweet...</td>\n",
       "      <td>7.10</td>\n",
       "      <td>5.60</td>\n",
       "      <td>76.20</td>\n",
       "      <td>23.60</td>\n",
       "      <td>9.7</td>\n",
       "      <td>410</td>\n",
       "    </tr>\n",
       "  </tbody>\n",
       "</table>\n",
       "</div>"
      ],
      "text/plain": [
       "                      Type                                        Description  \\\n",
       "0         Poultry Products      Turkey, all classes, wing, meat and skin, raw   \n",
       "1  Fruits and Fruit Juices                            Pears, raw, green anjou   \n",
       "2  Fruits and Fruit Juices               Maraschino cherries, canned, drained   \n",
       "3         Poultry Products        Chicken, stewing, meat only, cooked, stewed   \n",
       "4        Breakfast Cereals  Cereals ready-to-eat, wheat and bran, presweet...   \n",
       "\n",
       "   Protein_g  Fat_g  Carb_g  Sugar_g  Fiber_g  VitA_mcg  \n",
       "0      20.22  12.32    0.00     0.00      0.0         3  \n",
       "1       0.44   0.10   15.79     9.73      3.1         1  \n",
       "2       0.22   0.21   41.97    38.77      3.2         2  \n",
       "3      30.42  11.89    0.00     0.00      0.0        34  \n",
       "4       7.10   5.60   76.20    23.60      9.7       410  "
      ]
     },
     "execution_count": 51,
     "metadata": {},
     "output_type": "execute_result"
    }
   ],
   "source": [
    "food_df = pd.read_csv('data/food_nutrition.csv') # import data into pandas dataframe\n",
    "food_df.head() # making sure dataset loaded properly"
   ]
  },
  {
   "cell_type": "code",
   "execution_count": 52,
   "id": "fd1f96bb",
   "metadata": {},
   "outputs": [
    {
     "name": "stdout",
     "output_type": "stream",
     "text": [
      "<class 'pandas.core.frame.DataFrame'>\n",
      "RangeIndex: 234 entries, 0 to 233\n",
      "Data columns (total 8 columns):\n",
      " #   Column       Non-Null Count  Dtype  \n",
      "---  ------       --------------  -----  \n",
      " 0   Type         234 non-null    object \n",
      " 1   Description  234 non-null    object \n",
      " 2   Protein_g    234 non-null    float64\n",
      " 3   Fat_g        234 non-null    float64\n",
      " 4   Carb_g       234 non-null    float64\n",
      " 5   Sugar_g      234 non-null    float64\n",
      " 6   Fiber_g      234 non-null    float64\n",
      " 7   VitA_mcg     234 non-null    int64  \n",
      "dtypes: float64(5), int64(1), object(2)\n",
      "memory usage: 14.8+ KB\n"
     ]
    }
   ],
   "source": [
    "food_df.info() # brief summary of the dataset"
   ]
  },
  {
   "cell_type": "markdown",
   "id": "2720b6ef",
   "metadata": {},
   "source": [
    "### Numerical Summary using .describe()"
   ]
  },
  {
   "cell_type": "code",
   "execution_count": 53,
   "id": "3e251192",
   "metadata": {},
   "outputs": [
    {
     "data": {
      "text/html": [
       "<div>\n",
       "<style scoped>\n",
       "    .dataframe tbody tr th:only-of-type {\n",
       "        vertical-align: middle;\n",
       "    }\n",
       "\n",
       "    .dataframe tbody tr th {\n",
       "        vertical-align: top;\n",
       "    }\n",
       "\n",
       "    .dataframe thead th {\n",
       "        text-align: right;\n",
       "    }\n",
       "</style>\n",
       "<table border=\"1\" class=\"dataframe\">\n",
       "  <thead>\n",
       "    <tr style=\"text-align: right;\">\n",
       "      <th></th>\n",
       "      <th>Protein_g</th>\n",
       "      <th>Fat_g</th>\n",
       "      <th>Carb_g</th>\n",
       "      <th>Sugar_g</th>\n",
       "      <th>Fiber_g</th>\n",
       "      <th>VitA_mcg</th>\n",
       "    </tr>\n",
       "  </thead>\n",
       "  <tbody>\n",
       "    <tr>\n",
       "      <th>count</th>\n",
       "      <td>234.000000</td>\n",
       "      <td>234.000000</td>\n",
       "      <td>234.000000</td>\n",
       "      <td>234.000000</td>\n",
       "      <td>234.000000</td>\n",
       "      <td>234.000000</td>\n",
       "    </tr>\n",
       "    <tr>\n",
       "      <th>mean</th>\n",
       "      <td>8.908462</td>\n",
       "      <td>4.803803</td>\n",
       "      <td>28.265556</td>\n",
       "      <td>11.064573</td>\n",
       "      <td>3.702991</td>\n",
       "      <td>187.047009</td>\n",
       "    </tr>\n",
       "    <tr>\n",
       "      <th>std</th>\n",
       "      <td>9.830258</td>\n",
       "      <td>6.560120</td>\n",
       "      <td>32.084279</td>\n",
       "      <td>12.569516</td>\n",
       "      <td>4.405083</td>\n",
       "      <td>261.453321</td>\n",
       "    </tr>\n",
       "    <tr>\n",
       "      <th>min</th>\n",
       "      <td>0.000000</td>\n",
       "      <td>0.000000</td>\n",
       "      <td>0.000000</td>\n",
       "      <td>0.000000</td>\n",
       "      <td>0.000000</td>\n",
       "      <td>0.000000</td>\n",
       "    </tr>\n",
       "    <tr>\n",
       "      <th>25%</th>\n",
       "      <td>1.100000</td>\n",
       "      <td>0.200000</td>\n",
       "      <td>6.640000</td>\n",
       "      <td>1.185000</td>\n",
       "      <td>1.200000</td>\n",
       "      <td>2.000000</td>\n",
       "    </tr>\n",
       "    <tr>\n",
       "      <th>50%</th>\n",
       "      <td>4.850000</td>\n",
       "      <td>2.100000</td>\n",
       "      <td>14.400000</td>\n",
       "      <td>3.830000</td>\n",
       "      <td>2.600000</td>\n",
       "      <td>32.500000</td>\n",
       "    </tr>\n",
       "    <tr>\n",
       "      <th>75%</th>\n",
       "      <td>12.132500</td>\n",
       "      <td>7.300000</td>\n",
       "      <td>74.465000</td>\n",
       "      <td>19.667500</td>\n",
       "      <td>5.175000</td>\n",
       "      <td>383.750000</td>\n",
       "    </tr>\n",
       "    <tr>\n",
       "      <th>max</th>\n",
       "      <td>30.420000</td>\n",
       "      <td>40.680000</td>\n",
       "      <td>89.300000</td>\n",
       "      <td>57.190000</td>\n",
       "      <td>42.500000</td>\n",
       "      <td>943.000000</td>\n",
       "    </tr>\n",
       "  </tbody>\n",
       "</table>\n",
       "</div>"
      ],
      "text/plain": [
       "        Protein_g       Fat_g      Carb_g     Sugar_g     Fiber_g    VitA_mcg\n",
       "count  234.000000  234.000000  234.000000  234.000000  234.000000  234.000000\n",
       "mean     8.908462    4.803803   28.265556   11.064573    3.702991  187.047009\n",
       "std      9.830258    6.560120   32.084279   12.569516    4.405083  261.453321\n",
       "min      0.000000    0.000000    0.000000    0.000000    0.000000    0.000000\n",
       "25%      1.100000    0.200000    6.640000    1.185000    1.200000    2.000000\n",
       "50%      4.850000    2.100000   14.400000    3.830000    2.600000   32.500000\n",
       "75%     12.132500    7.300000   74.465000   19.667500    5.175000  383.750000\n",
       "max     30.420000   40.680000   89.300000   57.190000   42.500000  943.000000"
      ]
     },
     "execution_count": 53,
     "metadata": {},
     "output_type": "execute_result"
    }
   ],
   "source": [
    "food_df.describe() # numerical summary of the dataset"
   ]
  },
  {
   "cell_type": "markdown",
   "id": "302cf387",
   "metadata": {},
   "source": [
    "### Boxplot of all nutrients"
   ]
  },
  {
   "cell_type": "code",
   "execution_count": 54,
   "id": "483c292e",
   "metadata": {},
   "outputs": [
    {
     "data": {
      "image/png": "[encoded data removed]",
      "text/plain": [
       "<Figure size 1080x288 with 1 Axes>"
      ]
     },
     "metadata": {
      "needs_background": "light"
     },
     "output_type": "display_data"
    }
   ],
   "source": [
    "boxplot_df = food_df.melt(id_vars=[\"Description\", \"Type\"], \n",
    "                var_name=\"Nutrient\", \n",
    "                value_name=\"Value\")\n",
    "\n",
    "plt.figure(figsize=(15,4))\n",
    "sns.boxplot(x='Value', y='Nutrient', data=boxplot_df)\n",
    "plt.show()"
   ]
  },
  {
   "cell_type": "markdown",
   "id": "0ebd5a45",
   "metadata": {},
   "source": [
    "## PCA on the dataset"
   ]
  },
  {
   "cell_type": "markdown",
   "id": "1509a566",
   "metadata": {},
   "source": [
    "### Data Preprocessing and PCA\n",
    "1. Drop the descriptive columns in the dataset as they are not needed for PCA\n",
    "2. Standardize the dataset so that variables with large magnitudes will not dominate higher PCs\n",
    "3. Concatenate Type column back to standardized values\n",
    "4. Fit and transform the scaled dataset using PCA object from sk-learn"
   ]
  },
  {
   "cell_type": "code",
   "execution_count": 55,
   "id": "c678b628",
   "metadata": {
    "scrolled": false
   },
   "outputs": [
    {
     "data": {
      "text/html": [
       "<div>\n",
       "<style scoped>\n",
       "    .dataframe tbody tr th:only-of-type {\n",
       "        vertical-align: middle;\n",
       "    }\n",
       "\n",
       "    .dataframe tbody tr th {\n",
       "        vertical-align: top;\n",
       "    }\n",
       "\n",
       "    .dataframe thead th {\n",
       "        text-align: right;\n",
       "    }\n",
       "</style>\n",
       "<table border=\"1\" class=\"dataframe\">\n",
       "  <thead>\n",
       "    <tr style=\"text-align: right;\">\n",
       "      <th></th>\n",
       "      <th>Protein_g</th>\n",
       "      <th>Fat_g</th>\n",
       "      <th>Carb_g</th>\n",
       "      <th>Sugar_g</th>\n",
       "      <th>Fiber_g</th>\n",
       "      <th>VitA_mcg</th>\n",
       "    </tr>\n",
       "  </thead>\n",
       "  <tbody>\n",
       "    <tr>\n",
       "      <th>0</th>\n",
       "      <td>20.22</td>\n",
       "      <td>12.32</td>\n",
       "      <td>0.00</td>\n",
       "      <td>0.00</td>\n",
       "      <td>0.0</td>\n",
       "      <td>3</td>\n",
       "    </tr>\n",
       "    <tr>\n",
       "      <th>1</th>\n",
       "      <td>0.44</td>\n",
       "      <td>0.10</td>\n",
       "      <td>15.79</td>\n",
       "      <td>9.73</td>\n",
       "      <td>3.1</td>\n",
       "      <td>1</td>\n",
       "    </tr>\n",
       "    <tr>\n",
       "      <th>2</th>\n",
       "      <td>0.22</td>\n",
       "      <td>0.21</td>\n",
       "      <td>41.97</td>\n",
       "      <td>38.77</td>\n",
       "      <td>3.2</td>\n",
       "      <td>2</td>\n",
       "    </tr>\n",
       "    <tr>\n",
       "      <th>3</th>\n",
       "      <td>30.42</td>\n",
       "      <td>11.89</td>\n",
       "      <td>0.00</td>\n",
       "      <td>0.00</td>\n",
       "      <td>0.0</td>\n",
       "      <td>34</td>\n",
       "    </tr>\n",
       "    <tr>\n",
       "      <th>4</th>\n",
       "      <td>7.10</td>\n",
       "      <td>5.60</td>\n",
       "      <td>76.20</td>\n",
       "      <td>23.60</td>\n",
       "      <td>9.7</td>\n",
       "      <td>410</td>\n",
       "    </tr>\n",
       "  </tbody>\n",
       "</table>\n",
       "</div>"
      ],
      "text/plain": [
       "   Protein_g  Fat_g  Carb_g  Sugar_g  Fiber_g  VitA_mcg\n",
       "0      20.22  12.32    0.00     0.00      0.0         3\n",
       "1       0.44   0.10   15.79     9.73      3.1         1\n",
       "2       0.22   0.21   41.97    38.77      3.2         2\n",
       "3      30.42  11.89    0.00     0.00      0.0        34\n",
       "4       7.10   5.60   76.20    23.60      9.7       410"
      ]
     },
     "execution_count": 55,
     "metadata": {},
     "output_type": "execute_result"
    }
   ],
   "source": [
    "reduced_df = food_df.drop(columns=['Type', 'Description']) # drop descriptive columns\n",
    "reduced_df.head()"
   ]
  },
  {
   "cell_type": "code",
   "execution_count": 56,
   "id": "a926404b",
   "metadata": {},
   "outputs": [
    {
     "data": {
      "text/plain": [
       "StandardScaler()"
      ]
     },
     "execution_count": 56,
     "metadata": {},
     "output_type": "execute_result"
    }
   ],
   "source": [
    "scaler = StandardScaler() # StandardScaler object\n",
    "scaler.fit(reduced_df) # fit scaler on original data"
   ]
  },
  {
   "cell_type": "code",
   "execution_count": 57,
   "id": "9794f4b8",
   "metadata": {},
   "outputs": [
    {
     "data": {
      "text/html": [
       "<div>\n",
       "<style scoped>\n",
       "    .dataframe tbody tr th:only-of-type {\n",
       "        vertical-align: middle;\n",
       "    }\n",
       "\n",
       "    .dataframe tbody tr th {\n",
       "        vertical-align: top;\n",
       "    }\n",
       "\n",
       "    .dataframe thead th {\n",
       "        text-align: right;\n",
       "    }\n",
       "</style>\n",
       "<table border=\"1\" class=\"dataframe\">\n",
       "  <thead>\n",
       "    <tr style=\"text-align: right;\">\n",
       "      <th></th>\n",
       "      <th>Protein_g</th>\n",
       "      <th>Fat_g</th>\n",
       "      <th>Carb_g</th>\n",
       "      <th>Sugar_g</th>\n",
       "      <th>Fiber_g</th>\n",
       "      <th>VitA_mcg</th>\n",
       "    </tr>\n",
       "  </thead>\n",
       "  <tbody>\n",
       "    <tr>\n",
       "      <th>0</th>\n",
       "      <td>1.153152</td>\n",
       "      <td>1.148197</td>\n",
       "      <td>-0.882867</td>\n",
       "      <td>-0.882157</td>\n",
       "      <td>-0.842420</td>\n",
       "      <td>-0.705447</td>\n",
       "    </tr>\n",
       "    <tr>\n",
       "      <th>1</th>\n",
       "      <td>-0.863316</td>\n",
       "      <td>-0.718567</td>\n",
       "      <td>-0.389671</td>\n",
       "      <td>-0.106403</td>\n",
       "      <td>-0.137179</td>\n",
       "      <td>-0.713113</td>\n",
       "    </tr>\n",
       "    <tr>\n",
       "      <th>2</th>\n",
       "      <td>-0.885743</td>\n",
       "      <td>-0.701763</td>\n",
       "      <td>0.428055</td>\n",
       "      <td>2.208901</td>\n",
       "      <td>-0.114429</td>\n",
       "      <td>-0.709280</td>\n",
       "    </tr>\n",
       "    <tr>\n",
       "      <th>3</th>\n",
       "      <td>2.192989</td>\n",
       "      <td>1.082509</td>\n",
       "      <td>-0.882867</td>\n",
       "      <td>-0.882157</td>\n",
       "      <td>-0.842420</td>\n",
       "      <td>-0.586625</td>\n",
       "    </tr>\n",
       "    <tr>\n",
       "      <th>4</th>\n",
       "      <td>-0.184363</td>\n",
       "      <td>0.121629</td>\n",
       "      <td>1.497219</td>\n",
       "      <td>0.999426</td>\n",
       "      <td>1.364302</td>\n",
       "      <td>0.854573</td>\n",
       "    </tr>\n",
       "  </tbody>\n",
       "</table>\n",
       "</div>"
      ],
      "text/plain": [
       "   Protein_g     Fat_g    Carb_g   Sugar_g   Fiber_g  VitA_mcg\n",
       "0   1.153152  1.148197 -0.882867 -0.882157 -0.842420 -0.705447\n",
       "1  -0.863316 -0.718567 -0.389671 -0.106403 -0.137179 -0.713113\n",
       "2  -0.885743 -0.701763  0.428055  2.208901 -0.114429 -0.709280\n",
       "3   2.192989  1.082509 -0.882867 -0.882157 -0.842420 -0.586625\n",
       "4  -0.184363  0.121629  1.497219  0.999426  1.364302  0.854573"
      ]
     },
     "execution_count": 57,
     "metadata": {},
     "output_type": "execute_result"
    }
   ],
   "source": [
    "scaled_data = pd.DataFrame(scaler.transform(reduced_df), columns=reduced_df.columns) # standardize data\n",
    "scaled_data.head()"
   ]
  },
  {
   "cell_type": "code",
   "execution_count": 58,
   "id": "888028d9",
   "metadata": {},
   "outputs": [
    {
     "data": {
      "text/html": [
       "<div>\n",
       "<style scoped>\n",
       "    .dataframe tbody tr th:only-of-type {\n",
       "        vertical-align: middle;\n",
       "    }\n",
       "\n",
       "    .dataframe tbody tr th {\n",
       "        vertical-align: top;\n",
       "    }\n",
       "\n",
       "    .dataframe thead th {\n",
       "        text-align: right;\n",
       "    }\n",
       "</style>\n",
       "<table border=\"1\" class=\"dataframe\">\n",
       "  <thead>\n",
       "    <tr style=\"text-align: right;\">\n",
       "      <th></th>\n",
       "      <th>Protein_g</th>\n",
       "      <th>Fat_g</th>\n",
       "      <th>Carb_g</th>\n",
       "      <th>Sugar_g</th>\n",
       "      <th>Fiber_g</th>\n",
       "      <th>VitA_mcg</th>\n",
       "      <th>Type</th>\n",
       "    </tr>\n",
       "  </thead>\n",
       "  <tbody>\n",
       "    <tr>\n",
       "      <th>0</th>\n",
       "      <td>1.153152</td>\n",
       "      <td>1.148197</td>\n",
       "      <td>-0.882867</td>\n",
       "      <td>-0.882157</td>\n",
       "      <td>-0.842420</td>\n",
       "      <td>-0.705447</td>\n",
       "      <td>Poultry Products</td>\n",
       "    </tr>\n",
       "    <tr>\n",
       "      <th>1</th>\n",
       "      <td>-0.863316</td>\n",
       "      <td>-0.718567</td>\n",
       "      <td>-0.389671</td>\n",
       "      <td>-0.106403</td>\n",
       "      <td>-0.137179</td>\n",
       "      <td>-0.713113</td>\n",
       "      <td>Fruits and Fruit Juices</td>\n",
       "    </tr>\n",
       "    <tr>\n",
       "      <th>2</th>\n",
       "      <td>-0.885743</td>\n",
       "      <td>-0.701763</td>\n",
       "      <td>0.428055</td>\n",
       "      <td>2.208901</td>\n",
       "      <td>-0.114429</td>\n",
       "      <td>-0.709280</td>\n",
       "      <td>Fruits and Fruit Juices</td>\n",
       "    </tr>\n",
       "    <tr>\n",
       "      <th>3</th>\n",
       "      <td>2.192989</td>\n",
       "      <td>1.082509</td>\n",
       "      <td>-0.882867</td>\n",
       "      <td>-0.882157</td>\n",
       "      <td>-0.842420</td>\n",
       "      <td>-0.586625</td>\n",
       "      <td>Poultry Products</td>\n",
       "    </tr>\n",
       "    <tr>\n",
       "      <th>4</th>\n",
       "      <td>-0.184363</td>\n",
       "      <td>0.121629</td>\n",
       "      <td>1.497219</td>\n",
       "      <td>0.999426</td>\n",
       "      <td>1.364302</td>\n",
       "      <td>0.854573</td>\n",
       "      <td>Breakfast Cereals</td>\n",
       "    </tr>\n",
       "  </tbody>\n",
       "</table>\n",
       "</div>"
      ],
      "text/plain": [
       "   Protein_g     Fat_g    Carb_g   Sugar_g   Fiber_g  VitA_mcg  \\\n",
       "0   1.153152  1.148197 -0.882867 -0.882157 -0.842420 -0.705447   \n",
       "1  -0.863316 -0.718567 -0.389671 -0.106403 -0.137179 -0.713113   \n",
       "2  -0.885743 -0.701763  0.428055  2.208901 -0.114429 -0.709280   \n",
       "3   2.192989  1.082509 -0.882867 -0.882157 -0.842420 -0.586625   \n",
       "4  -0.184363  0.121629  1.497219  0.999426  1.364302  0.854573   \n",
       "\n",
       "                      Type  \n",
       "0         Poultry Products  \n",
       "1  Fruits and Fruit Juices  \n",
       "2  Fruits and Fruit Juices  \n",
       "3         Poultry Products  \n",
       "4        Breakfast Cereals  "
      ]
     },
     "execution_count": 58,
     "metadata": {},
     "output_type": "execute_result"
    }
   ],
   "source": [
    "scaled_df = pd.concat([scaled_data, food_df['Type']], axis=1) # concatenate back the type column to standardized data\n",
    "scaled_df.head() # check values have been scaled"
   ]
  },
  {
   "cell_type": "code",
   "execution_count": 59,
   "id": "9ac51cf8",
   "metadata": {},
   "outputs": [],
   "source": [
    "pca = PCA(n_components=6).fit(scaled_data) # fit PCA object\n",
    "pca_results = pca.transform(scaled_data) # transform dataset"
   ]
  },
  {
   "cell_type": "markdown",
   "id": "d62cd656",
   "metadata": {},
   "source": [
    "### PCA Results Table\n",
    "PC1 and PC2 has eigenvalues of above 1 while all other PCs have eigenvalues of below 1.\n",
    "\n",
    "PC1 and PC2 together has a cumulative explained variance of above 80%"
   ]
  },
  {
   "cell_type": "code",
   "execution_count": 60,
   "id": "ee1f5883",
   "metadata": {},
   "outputs": [
    {
     "data": {
      "text/html": [
       "<div>\n",
       "<style scoped>\n",
       "    .dataframe tbody tr th:only-of-type {\n",
       "        vertical-align: middle;\n",
       "    }\n",
       "\n",
       "    .dataframe tbody tr th {\n",
       "        vertical-align: top;\n",
       "    }\n",
       "\n",
       "    .dataframe thead th {\n",
       "        text-align: right;\n",
       "    }\n",
       "</style>\n",
       "<table border=\"1\" class=\"dataframe\">\n",
       "  <thead>\n",
       "    <tr style=\"text-align: right;\">\n",
       "      <th></th>\n",
       "      <th>Eigenvalue</th>\n",
       "      <th>Explained Variance</th>\n",
       "      <th>Cumulative Explained Variance</th>\n",
       "      <th>Protein_g</th>\n",
       "      <th>Fat_g</th>\n",
       "      <th>Carb_g</th>\n",
       "      <th>Sugar_g</th>\n",
       "      <th>Fiber_g</th>\n",
       "      <th>VitA_mcg</th>\n",
       "    </tr>\n",
       "  </thead>\n",
       "  <tbody>\n",
       "    <tr>\n",
       "      <th>PC 1</th>\n",
       "      <td>3.3609</td>\n",
       "      <td>0.5578</td>\n",
       "      <td>0.5578</td>\n",
       "      <td>-0.2884</td>\n",
       "      <td>-0.2594</td>\n",
       "      <td>0.5052</td>\n",
       "      <td>0.4757</td>\n",
       "      <td>0.4466</td>\n",
       "      <td>0.4106</td>\n",
       "    </tr>\n",
       "    <tr>\n",
       "      <th>PC 2</th>\n",
       "      <td>1.6162</td>\n",
       "      <td>0.2682</td>\n",
       "      <td>0.8260</td>\n",
       "      <td>0.6283</td>\n",
       "      <td>0.6547</td>\n",
       "      <td>0.2250</td>\n",
       "      <td>0.1195</td>\n",
       "      <td>0.1158</td>\n",
       "      <td>0.3136</td>\n",
       "    </tr>\n",
       "    <tr>\n",
       "      <th>PC 3</th>\n",
       "      <td>0.4188</td>\n",
       "      <td>0.0695</td>\n",
       "      <td>0.8955</td>\n",
       "      <td>0.1016</td>\n",
       "      <td>-0.0431</td>\n",
       "      <td>-0.1233</td>\n",
       "      <td>-0.4933</td>\n",
       "      <td>0.8411</td>\n",
       "      <td>-0.1477</td>\n",
       "    </tr>\n",
       "    <tr>\n",
       "      <th>PC 4</th>\n",
       "      <td>0.3982</td>\n",
       "      <td>0.0661</td>\n",
       "      <td>0.9616</td>\n",
       "      <td>-0.0793</td>\n",
       "      <td>-0.1393</td>\n",
       "      <td>-0.1604</td>\n",
       "      <td>-0.4999</td>\n",
       "      <td>-0.1705</td>\n",
       "      <td>0.8183</td>\n",
       "    </tr>\n",
       "    <tr>\n",
       "      <th>PC 5</th>\n",
       "      <td>0.1595</td>\n",
       "      <td>0.0265</td>\n",
       "      <td>0.9880</td>\n",
       "      <td>-0.7065</td>\n",
       "      <td>0.6943</td>\n",
       "      <td>-0.0963</td>\n",
       "      <td>-0.0447</td>\n",
       "      <td>0.0842</td>\n",
       "      <td>0.0211</td>\n",
       "    </tr>\n",
       "    <tr>\n",
       "      <th>PC 6</th>\n",
       "      <td>0.0722</td>\n",
       "      <td>0.0120</td>\n",
       "      <td>1.0000</td>\n",
       "      <td>0.0796</td>\n",
       "      <td>-0.0286</td>\n",
       "      <td>-0.8025</td>\n",
       "      <td>0.5140</td>\n",
       "      <td>0.2085</td>\n",
       "      <td>0.2030</td>\n",
       "    </tr>\n",
       "  </tbody>\n",
       "</table>\n",
       "</div>"
      ],
      "text/plain": [
       "      Eigenvalue  Explained Variance  Cumulative Explained Variance  \\\n",
       "PC 1      3.3609              0.5578                         0.5578   \n",
       "PC 2      1.6162              0.2682                         0.8260   \n",
       "PC 3      0.4188              0.0695                         0.8955   \n",
       "PC 4      0.3982              0.0661                         0.9616   \n",
       "PC 5      0.1595              0.0265                         0.9880   \n",
       "PC 6      0.0722              0.0120                         1.0000   \n",
       "\n",
       "      Protein_g   Fat_g  Carb_g  Sugar_g  Fiber_g  VitA_mcg  \n",
       "PC 1    -0.2884 -0.2594  0.5052   0.4757   0.4466    0.4106  \n",
       "PC 2     0.6283  0.6547  0.2250   0.1195   0.1158    0.3136  \n",
       "PC 3     0.1016 -0.0431 -0.1233  -0.4933   0.8411   -0.1477  \n",
       "PC 4    -0.0793 -0.1393 -0.1604  -0.4999  -0.1705    0.8183  \n",
       "PC 5    -0.7065  0.6943 -0.0963  -0.0447   0.0842    0.0211  \n",
       "PC 6     0.0796 -0.0286 -0.8025   0.5140   0.2085    0.2030  "
      ]
     },
     "execution_count": 60,
     "metadata": {},
     "output_type": "execute_result"
    }
   ],
   "source": [
    "def pca_results(data, pca):\n",
    "    # Dimension indexing\n",
    "    dimensions = ['PC {}'.format(i) for i in range(1,len(pca.components_)+1)]\n",
    "    \n",
    "    # PCA components\n",
    "    components = pd.DataFrame(np.round(pca.components_, 4), columns = data.keys()) \n",
    "    components.index = dimensions\n",
    "\n",
    "    #PCA eigenvalues\n",
    "    ev = pca.explained_variance_.reshape(len(pca.components_), 1)\n",
    "    eigenvalues = pd.DataFrame(np.round(ev, 4), columns = ['Eigenvalue']) \n",
    "    eigenvalues.index = dimensions\n",
    "    \n",
    "    # PCA explained variance\n",
    "    ratios = pca.explained_variance_ratio_.reshape(len(pca.components_), 1) \n",
    "    variance_ratios = pd.DataFrame(np.round(ratios, 4), columns = ['Explained Variance']) \n",
    "    variance_ratios.index = dimensions\n",
    "\n",
    "    #PCA cumulative variance explained\n",
    "    cum_ratios = pca.explained_variance_ratio_.cumsum().reshape(len(pca.components_), 1)\n",
    "    cum_variance_ratios = pd.DataFrame(np.round(cum_ratios, 4), columns = ['Cumulative Explained Variance'])\n",
    "    cum_variance_ratios.index = dimensions\n",
    "    \n",
    "    # Return a concatenated DataFrame\n",
    "    return pd.concat([eigenvalues, variance_ratios, cum_variance_ratios, components], axis = 1)\n",
    "\n",
    "pca_results = pca_results(scaled_data, pca) # use function created to show table\n",
    "pca_results"
   ]
  },
  {
   "cell_type": "markdown",
   "id": "19351803",
   "metadata": {},
   "source": [
    "### Scree Plot\n",
    "Inflection point starts at PC3"
   ]
  },
  {
   "cell_type": "code",
   "execution_count": 61,
   "id": "bbb5b96a",
   "metadata": {
    "scrolled": true
   },
   "outputs": [
    {
     "data": {
      "text/plain": [
       "<Figure size 432x288 with 0 Axes>"
      ]
     },
     "metadata": {},
     "output_type": "display_data"
    },
    {
     "data": {
      "image/png": "[encoded data removed]",
      "text/plain": [
       "<Figure size 432x288 with 1 Axes>"
      ]
     },
     "metadata": {
      "needs_background": "light"
     },
     "output_type": "display_data"
    }
   ],
   "source": [
    "import matplotlib.ticker as ticker\n",
    "plt.clf()\n",
    "fig1, ax1 = plt.subplots()\n",
    "ax1.plot(np.arange(1, len(pca.explained_variance_)+1), pca.explained_variance_)\n",
    "ax1.xaxis.set_major_locator(ticker.MultipleLocator(1))\n",
    "ax1.set(xlabel = 'Component number', ylabel = 'Eigenvalue', title = 'Screeplot')\n",
    "plt.show()"
   ]
  },
  {
   "cell_type": "markdown",
   "id": "17d6230e",
   "metadata": {},
   "source": [
    "## PCA: extract first 2 PCs\n",
    "Based on intepretation using the results above, I decided to extract the first 2 PCs"
   ]
  },
  {
   "cell_type": "code",
   "execution_count": 62,
   "id": "e310b082",
   "metadata": {},
   "outputs": [],
   "source": [
    "pca2 = PCA(n_components=2).fit(scaled_data) # fit a PCA object to extract first 2 PCs\n",
    "pca2_results = pca2.transform(scaled_data)"
   ]
  },
  {
   "cell_type": "code",
   "execution_count": 63,
   "id": "be547df4",
   "metadata": {},
   "outputs": [
    {
     "data": {
      "text/html": [
       "<div>\n",
       "<style scoped>\n",
       "    .dataframe tbody tr th:only-of-type {\n",
       "        vertical-align: middle;\n",
       "    }\n",
       "\n",
       "    .dataframe tbody tr th {\n",
       "        vertical-align: top;\n",
       "    }\n",
       "\n",
       "    .dataframe thead th {\n",
       "        text-align: right;\n",
       "    }\n",
       "</style>\n",
       "<table border=\"1\" class=\"dataframe\">\n",
       "  <thead>\n",
       "    <tr style=\"text-align: right;\">\n",
       "      <th></th>\n",
       "      <th>Protein_g</th>\n",
       "      <th>Fat_g</th>\n",
       "      <th>Carb_g</th>\n",
       "      <th>Sugar_g</th>\n",
       "      <th>Fiber_g</th>\n",
       "      <th>VitA_mcg</th>\n",
       "    </tr>\n",
       "  </thead>\n",
       "  <tbody>\n",
       "    <tr>\n",
       "      <th>PC1</th>\n",
       "      <td>-0.288363</td>\n",
       "      <td>-0.259392</td>\n",
       "      <td>0.505242</td>\n",
       "      <td>0.475652</td>\n",
       "      <td>0.446642</td>\n",
       "      <td>0.410560</td>\n",
       "    </tr>\n",
       "    <tr>\n",
       "      <th>PC2</th>\n",
       "      <td>0.628268</td>\n",
       "      <td>0.654692</td>\n",
       "      <td>0.224962</td>\n",
       "      <td>0.119515</td>\n",
       "      <td>0.115814</td>\n",
       "      <td>0.313612</td>\n",
       "    </tr>\n",
       "  </tbody>\n",
       "</table>\n",
       "</div>"
      ],
      "text/plain": [
       "     Protein_g     Fat_g    Carb_g   Sugar_g   Fiber_g  VitA_mcg\n",
       "PC1  -0.288363 -0.259392  0.505242  0.475652  0.446642  0.410560\n",
       "PC2   0.628268  0.654692  0.224962  0.119515  0.115814  0.313612"
      ]
     },
     "execution_count": 63,
     "metadata": {},
     "output_type": "execute_result"
    }
   ],
   "source": [
    "pca_components_df = pd.DataFrame(pca2.components_, columns=scaled_data.columns) # Linear system for PC1 and PC2\n",
    "pca_components_df = pca_components_df.rename(index={0:'PC1', 1:'PC2'})\n",
    "pca_components_df"
   ]
  },
  {
   "cell_type": "markdown",
   "id": "41365244",
   "metadata": {},
   "source": [
    "### Loading Plot"
   ]
  },
  {
   "cell_type": "code",
   "execution_count": 64,
   "id": "63da2c16",
   "metadata": {
    "scrolled": false
   },
   "outputs": [
    {
     "data": {
      "image/png": "[encoded data removed]",
      "text/plain": [
       "<Figure size 432x360 with 1 Axes>"
      ]
     },
     "metadata": {
      "needs_background": "light"
     },
     "output_type": "display_data"
    }
   ],
   "source": [
    "def loadingplot(data, pca, width, height, margin=0.5):\n",
    "    fig, ax = plt.subplots(figsize = (width,height))\n",
    "\n",
    "    #Set limits for figure\n",
    "    x_min = min(pca.components_[0,:].min(),0)-margin\n",
    "    x_max = max(pca.components_[0,:].max(),0)+margin\n",
    "    y_min = min(pca.components_[1,:].min(),0)-margin\n",
    "    y_max = max(pca.components_[1,:].max(),0)+margin\n",
    "    ax.set_xlim(x_min, x_max)\n",
    "    ax.set_ylim(y_min, y_max)\n",
    "\n",
    "    #Scaling factor for text position\n",
    "    text_pos = 0.2\n",
    "    for i, v in enumerate(pca.components_.T):\n",
    "        ax.arrow(0, 0, v[0], v[1], head_width=0.1, head_length=0.1, linewidth=2, color='red')\n",
    "        ax.text(v[0], v[1]+text_pos, data.columns[i], color='black', ha='center', va='center', fontsize=11)\n",
    "\n",
    "    plt.plot([x_min, x_max], [0, 0], color='k', linestyle='--', linewidth=1)\n",
    "    plt.plot([0, 0], [y_min, y_max], color='k', linestyle='--', linewidth=1)\n",
    "    ax.set_xlabel(\"PC1\", fontsize=14)\n",
    "    ax.set_ylabel(\"PC2\", fontsize=14)\n",
    "    ax.set_title(\"Loading plot\", fontsize = 14)\n",
    "    \n",
    "    return ax\n",
    "\n",
    "plt.clf\n",
    "ax2 = loadingplot(scaled_data, pca2, width=6, height=5, margin=0.2)\n",
    "plt.show()"
   ]
  },
  {
   "cell_type": "markdown",
   "id": "46786307",
   "metadata": {},
   "source": [
    "### Score Plot"
   ]
  },
  {
   "cell_type": "code",
   "execution_count": 65,
   "id": "fd2642e1",
   "metadata": {},
   "outputs": [
    {
     "data": {
      "application/vnd.plotly.v1+json": {
       "config": {
        "plotlyServerURL": "https://plot.ly"
       },
       "data": [
        {
         "hovertemplate": "color=Poultry Products<br>0=%{x}<br>1=%{y}<extra></extra>",
         "legendgroup": "Poultry Products",
         "marker": {
          "color": "#636efa",
          "symbol": "circle"
         },
         "mode": "markers",
         "name": "Poultry Products",
         "orientation": "v",
         "showlegend": true,
         "type": "scatter",
         "x": [
          -2.1619094076809975,
          -2.3959376499305685,
          -2.512601962344579,
          -2.33377041821399,
          -2.2930405336376216,
          -2.319268988735718,
          -3.1018513203813294,
          -3.1717799558212882,
          -2.50026779638388,
          -2.409931589008039,
          -2.29446099988915,
          -2.2289960514521785,
          -2.2580053142223493,
          -2.2676515056345115,
          -2.2583615182513728,
          -2.234200645425279,
          -2.315144774677353,
          -2.2383039817096084,
          -2.248298815502143,
          -2.2019052102518377,
          -2.292544124073261,
          -2.346109876734983,
          -2.197331365117156,
          -2.434211051193121,
          -2.0238197568996426,
          -2.158234692494592,
          -2.1537720877898185,
          -2.3255240687531127,
          -2.1769965262221653,
          -2.2074959853522973,
          -2.432990342366953,
          -2.2594835487951865,
          -2.0330350169410147,
          -2.071358405819206,
          -2.2103183838610594,
          -2.3189546891686366,
          -2.0009675797589037,
          -2.3221382489354636,
          -2.457894085407029,
          -2.2395692226658466,
          -2.2380105138248676,
          -2.2568317666592295,
          -2.3163868188115595,
          -2.4475060416113164,
          -3.208165728792238,
          -2.3572553338962954,
          -2.095603006286087,
          -2.397012310007211,
          -2.1818901997303657,
          -2.019372889493587,
          -2.560589596353503,
          -2.2810765489355482,
          -2.201109920671357,
          -2.3814727358343366,
          -2.3812681681885737,
          -2.378348367933186,
          -2.3499469053717825,
          -2.2924547203145536
         ],
         "xaxis": "x",
         "y": [
          0.8533615712861073,
          1.5009166826485245,
          2.2080815460099217,
          1.3305425225788303,
          1.2280001214265521,
          1.1969516095364097,
          3.4712193540604903,
          3.7888452477881307,
          1.7906341912520083,
          1.608596436626536,
          1.0924255802190335,
          1.0952045087277102,
          1.1375802122637613,
          1.3611805537585466,
          1.0623861589030086,
          0.9768649898081332,
          1.3060331816938626,
          1.0593486325731083,
          1.2072317356683713,
          1.028753473928022,
          1.089617119492303,
          1.3869449254912838,
          0.9552304635076112,
          1.4442341293010807,
          1.3798279242455151,
          0.8652815712151669,
          0.8476248397468571,
          1.302726925165044,
          0.9257150284029316,
          1.0408379747721828,
          1.5478920432971124,
          1.1201097915657912,
          1.5701981659403776,
          0.7640037921524142,
          0.9883134707147017,
          1.2630025823190147,
          1.3259927704331937,
          1.175981554564355,
          1.7037764276972325,
          1.0751158424399272,
          1.2123064220621496,
          1.0815891294391116,
          1.663146776338371,
          1.705949597430549,
          3.8676897375358528,
          1.5118600394980175,
          1.5949428132351193,
          1.3425323423359712,
          0.9741872824258082,
          1.3378247358189506,
          1.978283756844944,
          1.340587180186782,
          0.9057264862088248,
          1.3193453749435708,
          1.3186260933650171,
          1.6362033638138829,
          1.488935513836921,
          1.0896959142089067
         ],
         "yaxis": "y"
        },
        {
         "hovertemplate": "color=Fruits and Fruit Juices<br>0=%{x}<br>1=%{y}<extra></extra>",
         "legendgroup": "Fruits and Fruit Juices",
         "marker": {
          "color": "#EF553B",
          "symbol": "circle"
         },
         "mode": "markers",
         "name": "Fruits and Fruit Juices",
         "orientation": "v",
         "showlegend": true,
         "type": "scatter",
         "x": [
          -0.16619495521322297,
          1.3620756804905967,
          -0.18092880081237084,
          0.34631426326832626,
          -0.19532652692476238,
          -0.2517172783573961,
          -0.3606607747872097,
          0.21841911629525712,
          0.2199775115316974,
          -0.13959338571808802,
          -0.1535638673026991,
          0.5788855074815177,
          -0.263900596622188,
          0.03365514717627905,
          -0.32303127601040255,
          0.2739106135018363,
          0.15319211946637326,
          0.0848699384746853,
          0.10702072055261613,
          0.25701735549128335,
          0.21262761301143998,
          0.33015742359124217,
          -0.01077815201084621,
          0.4404500035336577,
          -0.16619277460654436,
          -0.03601070065315812,
          -0.08053410326929482,
          0.15622813902197527,
          -0.3540649065342703,
          -0.19739145413823952,
          -0.20517911942615677,
          -0.2261473928156787,
          0.09992027331438212,
          0.11708023737242833,
          -0.3152424727023888,
          0.3546487440813024,
          0.5619909823700172,
          -0.2421596060516285,
          -0.2378742291947466,
          1.1034032268870386,
          0.613592125752421,
          -0.1735071656354051,
          -0.2542566739612496,
          0.07975098167258575,
          0.22573290920296318,
          2.968572762189406,
          -0.23366148804695644
         ],
         "xaxis": "x",
         "y": [
          -1.3527398111243112,
          -0.8913217755885864,
          -1.3558033948121484,
          -1.126726281570391,
          -1.3662024847303493,
          -1.3927145706075146,
          -1.4092068790546395,
          -1.1614510354527003,
          -1.236336272322581,
          -1.3519212291319114,
          -1.3294684674651285,
          -1.1059341996951604,
          -1.3335043619277132,
          -1.208155318809385,
          -1.3669934029042152,
          -1.224604207829179,
          -1.1790780455977505,
          -1.2324588287500664,
          -1.2248965866530734,
          -1.0622739844303022,
          -1.1418923538921708,
          -1.0950536853072668,
          -1.2491202597405948,
          -1.0513865756054577,
          -1.2959821185502507,
          -1.2255153640815477,
          -1.3419177358906647,
          -1.174443938391033,
          -1.3626831135780184,
          -1.370680062053317,
          -1.3708311926743282,
          -1.3584169069424037,
          -1.2824249593775867,
          -1.1947610279235257,
          -1.3571462485263253,
          -1.1676659766271924,
          -1.0957848607326628,
          -1.3773101720066778,
          -1.380930536694139,
          -0.9183983927600424,
          -1.0625307762514422,
          -1.3576075311729612,
          -1.3864604550777255,
          -1.2363524348059145,
          -1.174493635171945,
          -0.3487434401706064,
          -1.3634866973447588
         ],
         "yaxis": "y"
        },
        {
         "hovertemplate": "color=Breakfast Cereals<br>0=%{x}<br>1=%{y}<extra></extra>",
         "legendgroup": "Breakfast Cereals",
         "marker": {
          "color": "#00cc96",
          "symbol": "circle"
         },
         "mode": "markers",
         "name": "Breakfast Cereals",
         "orientation": "v",
         "showlegend": true,
         "type": "scatter",
         "x": [
          2.2136581744565764,
          1.9020987204502031,
          2.8014685248920954,
          2.945492267572037,
          2.8892362542898953,
          5.95131958344314,
          2.6154136077559276,
          3.018686079335096,
          2.626957744970454,
          1.7667621177212263,
          2.217832014725487,
          2.369891736802922,
          3.0689054244502274,
          1.6971889826702986,
          1.653848370476277,
          3.496749572232596,
          3.5555958699444337,
          1.9591133183609686,
          2.4892202820382825,
          2.0743146221020092,
          2.495542756344805,
          2.5401724884148327,
          2.63541931951706,
          1.6980647014433419,
          2.979196840946466,
          3.015149734601563,
          3.0835336422865103,
          2.9964161922254937,
          2.7537289234957463,
          2.1105247421675872,
          2.493987193843076,
          2.094932103494607,
          3.5274425576031354,
          1.7525707173820004,
          2.6032404035124634,
          3.5721215032851403,
          2.1094876397565523,
          2.3641088813746447,
          3.4547251037305795,
          2.637620899710566,
          1.9117474367834866,
          2.6853925884505254,
          2.6193958472021537,
          2.6230226569198702,
          2.782612948228615,
          2.553141043069775,
          2.6195046548223924,
          2.043919078182935,
          2.1794116884861006,
          2.8761356480619042,
          2.390833185453168,
          3.3289285585728634,
          3.1126669648588634,
          2.45917388125433,
          2.398472352904253,
          2.402644496079948,
          2.2724306526007294,
          2.3262398581045005,
          2.4094264993248107,
          1.5983493181492465
         ],
         "xaxis": "x",
         "y": [
          0.8460736714386442,
          0.8408821983471136,
          1.211169086469258,
          1.1202034003099983,
          1.610761162372633,
          1.686970497624281,
          0.6284230397646305,
          0.9146748223305501,
          1.015231217446342,
          0.40166020255384355,
          1.0241259431562024,
          0.7463741832645799,
          1.4751931395439501,
          0.629783155815448,
          0.8865827821957034,
          1.3669872360067916,
          1.2920241981707101,
          0.600994204389749,
          1.045207109663143,
          1.0246003607230225,
          0.810534152414175,
          0.9758956162692506,
          1.2368350757727353,
          0.8921689120559407,
          1.378392742993035,
          0.7565789466476588,
          1.0298223937235038,
          1.4523677882114314,
          0.6947182244171851,
          0.9326150175606466,
          0.9313137091962018,
          0.5901189096733118,
          0.8093792514380644,
          1.008799922487943,
          0.7542061696347806,
          0.8650937070150803,
          0.8934669412782773,
          1.0160851890925926,
          0.9038971927065412,
          0.8109141128371803,
          0.9680829005225653,
          0.9275373402801571,
          0.8116908289088315,
          0.9186921953797423,
          1.141203091619465,
          0.8488227686081371,
          1.2160020081273555,
          1.258009943859505,
          0.9496035088341979,
          1.3751532709268293,
          1.2652166443052617,
          0.864990523000378,
          1.2554274627284419,
          1.1176844212771326,
          1.0102814912699567,
          0.9241765074908689,
          0.8698248777762037,
          1.131956198669988,
          1.019311807986519,
          0.44401694401627967
         ],
         "yaxis": "y"
        },
        {
         "hovertemplate": "color=Vegetables and Vegetable Products<br>0=%{x}<br>1=%{y}<extra></extra>",
         "legendgroup": "Vegetables and Vegetable Products",
         "marker": {
          "color": "#ab63fa",
          "symbol": "circle"
         },
         "mode": "markers",
         "name": "Vegetables and Vegetable Products",
         "orientation": "v",
         "showlegend": true,
         "type": "scatter",
         "x": [
          -0.6105646281910385,
          -0.635503015720522,
          -0.6292327284542786,
          -0.5110541855459355,
          -0.6725655761901758,
          -0.5233898527683839,
          -0.4479963148669378,
          -0.5036604776874255,
          -0.5525170071086248,
          -0.5036604776874255,
          -0.6097385697733401,
          -0.6744946493245797,
          -0.5603698838471031,
          -0.5542692881992823,
          -0.04230016976162199,
          -0.37226321948258406,
          -0.583501153513138,
          -0.5110541855459355,
          -0.5805222215332047,
          0.7926377384165972,
          -0.4736467737009946,
          -0.6191374339656702,
          -0.5525170071086248,
          0.3060756182479737,
          -0.06531278896898594,
          -0.6566655028808759,
          -0.5805222215332047,
          -0.5693551667302882,
          -0.6857524846498517,
          0.6443280160352939,
          -0.5982975793975676,
          -0.29523591684413736,
          -0.6778704975677459,
          -0.4160228829905262,
          -0.6292327284542786,
          -0.4517242710786086,
          -0.6019879855818829,
          -0.7489239759108797,
          -0.7498636515195476,
          -0.5233898527683839,
          0.7926377384165972,
          -0.6386988233234896,
          -0.201129093689262,
          -0.5708589686942979,
          0.28972392538853586,
          0.32945020717671913,
          -0.5633470262058935,
          -0.6522424137220155,
          -0.669938483988701,
          -0.16402451528517537,
          -0.6012537783357049,
          0.19092690491253092,
          -0.06531278896898594,
          0.32945020717671913,
          -0.46586380235624464,
          -0.6778704975677459,
          -0.6149992341349451,
          -0.6659390014675377,
          -0.6149992341349451,
          -0.5171789768037305,
          0.6443280160352939,
          -0.18743365925414823,
          -0.5049474592758771,
          -0.5142583091312107,
          -0.4553040224816551,
          -0.6620021357483813,
          -0.6599751534323773,
          -0.7178657477195606,
          -0.16402451528517537
         ],
         "xaxis": "x",
         "y": [
          -1.4453416674142274,
          -1.3668182152366308,
          -1.420444108811968,
          -1.227922753295945,
          -1.3736065069109475,
          -1.245079698783707,
          -1.1533961110411848,
          -1.2683719726630498,
          -1.362514587938567,
          -1.2683719726630498,
          -1.3152473457708038,
          -1.3897325470756539,
          -1.2211867584705447,
          -1.2535467843911634,
          -0.9256705160726506,
          -1.2160971389818558,
          -1.3450049183998731,
          -1.227922753295945,
          -1.27654333196382,
          -0.4169528150774019,
          -1.3499250652201988,
          -1.2921313390702613,
          -1.362514587938567,
          -0.7109860995004899,
          -0.9844065298721829,
          -1.300676482439547,
          -1.27654333196382,
          -1.3589482599600922,
          -1.3943713604142383,
          -0.4791052731820692,
          -1.3388709190573407,
          -1.1037723014596856,
          -1.4667728629679224,
          -1.3280484457299084,
          -1.420444108811968,
          -1.2844601013144152,
          -1.375283107408087,
          -1.5153930755373315,
          -1.4578811410140542,
          -1.245079698783707,
          -0.4169528150774019,
          -1.4010350062245298,
          -1.1115989150788264,
          -1.4393660131498796,
          -0.6187003510881522,
          -0.7632766786285613,
          -1.3149892368881173,
          -1.3405051331881932,
          -1.3040115280717972,
          -1.1043164879073892,
          -1.4411959588811722,
          -0.8081187431753091,
          -0.9844065298721829,
          -0.7632766786285613,
          -1.170650534401905,
          -1.4667728629679224,
          -1.3294206451991768,
          -1.3126301647242824,
          -1.3294206451991768,
          -1.5119215934264991,
          -0.4791052731820692,
          -1.0871943221317715,
          -1.2070121388595085,
          -1.2111578473925635,
          -1.2676040310623946,
          -1.473992239274169,
          -1.3439481792580186,
          -1.3487333087903972,
          -1.1043164879073892
         ],
         "yaxis": "y"
        }
       ],
       "layout": {
        "legend": {
         "title": {
          "text": "Type"
         },
         "tracegroupgap": 0
        },
        "margin": {
         "t": 60
        },
        "template": {
         "data": {
          "bar": [
           {
            "error_x": {
             "color": "#2a3f5f"
            },
            "error_y": {
             "color": "#2a3f5f"
            },
            "marker": {
             "line": {
              "color": "#E5ECF6",
              "width": 0.5
             },
             "pattern": {
              "fillmode": "overlay",
              "size": 10,
              "solidity": 0.2
             }
            },
            "type": "bar"
           }
          ],
          "barpolar": [
           {
            "marker": {
             "line": {
              "color": "#E5ECF6",
              "width": 0.5
             },
             "pattern": {
              "fillmode": "overlay",
              "size": 10,
              "solidity": 0.2
             }
            },
            "type": "barpolar"
           }
          ],
          "carpet": [
           {
            "aaxis": {
             "endlinecolor": "#2a3f5f",
             "gridcolor": "white",
             "linecolor": "white",
             "minorgridcolor": "white",
             "startlinecolor": "#2a3f5f"
            },
            "baxis": {
             "endlinecolor": "#2a3f5f",
             "gridcolor": "white",
             "linecolor": "white",
             "minorgridcolor": "white",
             "startlinecolor": "#2a3f5f"
            },
            "type": "carpet"
           }
          ],
          "choropleth": [
           {
            "colorbar": {
             "outlinewidth": 0,
             "ticks": ""
            },
            "type": "choropleth"
           }
          ],
          "contour": [
           {
            "colorbar": {
             "outlinewidth": 0,
             "ticks": ""
            },
            "colorscale": [
             [
              0,
              "#0d0887"
             ],
             [
              0.1111111111111111,
              "#46039f"
             ],
             [
              0.2222222222222222,
              "#7201a8"
             ],
             [
              0.3333333333333333,
              "#9c179e"
             ],
             [
              0.4444444444444444,
              "#bd3786"
             ],
             [
              0.5555555555555556,
              "#d8576b"
             ],
             [
              0.6666666666666666,
              "#ed7953"
             ],
             [
              0.7777777777777778,
              "#fb9f3a"
             ],
             [
              0.8888888888888888,
              "#fdca26"
             ],
             [
              1,
              "#f0f921"
             ]
            ],
            "type": "contour"
           }
          ],
          "contourcarpet": [
           {
            "colorbar": {
             "outlinewidth": 0,
             "ticks": ""
            },
            "type": "contourcarpet"
           }
          ],
          "heatmap": [
           {
            "colorbar": {
             "outlinewidth": 0,
             "ticks": ""
            },
            "colorscale": [
             [
              0,
              "#0d0887"
             ],
             [
              0.1111111111111111,
              "#46039f"
             ],
             [
              0.2222222222222222,
              "#7201a8"
             ],
             [
              0.3333333333333333,
              "#9c179e"
             ],
             [
              0.4444444444444444,
              "#bd3786"
             ],
             [
              0.5555555555555556,
              "#d8576b"
             ],
             [
              0.6666666666666666,
              "#ed7953"
             ],
             [
              0.7777777777777778,
              "#fb9f3a"
             ],
             [
              0.8888888888888888,
              "#fdca26"
             ],
             [
              1,
              "#f0f921"
             ]
            ],
            "type": "heatmap"
           }
          ],
          "heatmapgl": [
           {
            "colorbar": {
             "outlinewidth": 0,
             "ticks": ""
            },
            "colorscale": [
             [
              0,
              "#0d0887"
             ],
             [
              0.1111111111111111,
              "#46039f"
             ],
             [
              0.2222222222222222,
              "#7201a8"
             ],
             [
              0.3333333333333333,
              "#9c179e"
             ],
             [
              0.4444444444444444,
              "#bd3786"
             ],
             [
              0.5555555555555556,
              "#d8576b"
             ],
             [
              0.6666666666666666,
              "#ed7953"
             ],
             [
              0.7777777777777778,
              "#fb9f3a"
             ],
             [
              0.8888888888888888,
              "#fdca26"
             ],
             [
              1,
              "#f0f921"
             ]
            ],
            "type": "heatmapgl"
           }
          ],
          "histogram": [
           {
            "marker": {
             "pattern": {
              "fillmode": "overlay",
              "size": 10,
              "solidity": 0.2
             }
            },
            "type": "histogram"
           }
          ],
          "histogram2d": [
           {
            "colorbar": {
             "outlinewidth": 0,
             "ticks": ""
            },
            "colorscale": [
             [
              0,
              "#0d0887"
             ],
             [
              0.1111111111111111,
              "#46039f"
             ],
             [
              0.2222222222222222,
              "#7201a8"
             ],
             [
              0.3333333333333333,
              "#9c179e"
             ],
             [
              0.4444444444444444,
              "#bd3786"
             ],
             [
              0.5555555555555556,
              "#d8576b"
             ],
             [
              0.6666666666666666,
              "#ed7953"
             ],
             [
              0.7777777777777778,
              "#fb9f3a"
             ],
             [
              0.8888888888888888,
              "#fdca26"
             ],
             [
              1,
              "#f0f921"
             ]
            ],
            "type": "histogram2d"
           }
          ],
          "histogram2dcontour": [
           {
            "colorbar": {
             "outlinewidth": 0,
             "ticks": ""
            },
            "colorscale": [
             [
              0,
              "#0d0887"
             ],
             [
              0.1111111111111111,
              "#46039f"
             ],
             [
              0.2222222222222222,
              "#7201a8"
             ],
             [
              0.3333333333333333,
              "#9c179e"
             ],
             [
              0.4444444444444444,
              "#bd3786"
             ],
             [
              0.5555555555555556,
              "#d8576b"
             ],
             [
              0.6666666666666666,
              "#ed7953"
             ],
             [
              0.7777777777777778,
              "#fb9f3a"
             ],
             [
              0.8888888888888888,
              "#fdca26"
             ],
             [
              1,
              "#f0f921"
             ]
            ],
            "type": "histogram2dcontour"
           }
          ],
          "mesh3d": [
           {
            "colorbar": {
             "outlinewidth": 0,
             "ticks": ""
            },
            "type": "mesh3d"
           }
          ],
          "parcoords": [
           {
            "line": {
             "colorbar": {
              "outlinewidth": 0,
              "ticks": ""
             }
            },
            "type": "parcoords"
           }
          ],
          "pie": [
           {
            "automargin": true,
            "type": "pie"
           }
          ],
          "scatter": [
           {
            "marker": {
             "colorbar": {
              "outlinewidth": 0,
              "ticks": ""
             }
            },
            "type": "scatter"
           }
          ],
          "scatter3d": [
           {
            "line": {
             "colorbar": {
              "outlinewidth": 0,
              "ticks": ""
             }
            },
            "marker": {
             "colorbar": {
              "outlinewidth": 0,
              "ticks": ""
             }
            },
            "type": "scatter3d"
           }
          ],
          "scattercarpet": [
           {
            "marker": {
             "colorbar": {
              "outlinewidth": 0,
              "ticks": ""
             }
            },
            "type": "scattercarpet"
           }
          ],
          "scattergeo": [
           {
            "marker": {
             "colorbar": {
              "outlinewidth": 0,
              "ticks": ""
             }
            },
            "type": "scattergeo"
           }
          ],
          "scattergl": [
           {
            "marker": {
             "colorbar": {
              "outlinewidth": 0,
              "ticks": ""
             }
            },
            "type": "scattergl"
           }
          ],
          "scattermapbox": [
           {
            "marker": {
             "colorbar": {
              "outlinewidth": 0,
              "ticks": ""
             }
            },
            "type": "scattermapbox"
           }
          ],
          "scatterpolar": [
           {
            "marker": {
             "colorbar": {
              "outlinewidth": 0,
              "ticks": ""
             }
            },
            "type": "scatterpolar"
           }
          ],
          "scatterpolargl": [
           {
            "marker": {
             "colorbar": {
              "outlinewidth": 0,
              "ticks": ""
             }
            },
            "type": "scatterpolargl"
           }
          ],
          "scatterternary": [
           {
            "marker": {
             "colorbar": {
              "outlinewidth": 0,
              "ticks": ""
             }
            },
            "type": "scatterternary"
           }
          ],
          "surface": [
           {
            "colorbar": {
             "outlinewidth": 0,
             "ticks": ""
            },
            "colorscale": [
             [
              0,
              "#0d0887"
             ],
             [
              0.1111111111111111,
              "#46039f"
             ],
             [
              0.2222222222222222,
              "#7201a8"
             ],
             [
              0.3333333333333333,
              "#9c179e"
             ],
             [
              0.4444444444444444,
              "#bd3786"
             ],
             [
              0.5555555555555556,
              "#d8576b"
             ],
             [
              0.6666666666666666,
              "#ed7953"
             ],
             [
              0.7777777777777778,
              "#fb9f3a"
             ],
             [
              0.8888888888888888,
              "#fdca26"
             ],
             [
              1,
              "#f0f921"
             ]
            ],
            "type": "surface"
           }
          ],
          "table": [
           {
            "cells": {
             "fill": {
              "color": "#EBF0F8"
             },
             "line": {
              "color": "white"
             }
            },
            "header": {
             "fill": {
              "color": "#C8D4E3"
             },
             "line": {
              "color": "white"
             }
            },
            "type": "table"
           }
          ]
         },
         "layout": {
          "annotationdefaults": {
           "arrowcolor": "#2a3f5f",
           "arrowhead": 0,
           "arrowwidth": 1
          },
          "autotypenumbers": "strict",
          "coloraxis": {
           "colorbar": {
            "outlinewidth": 0,
            "ticks": ""
           }
          },
          "colorscale": {
           "diverging": [
            [
             0,
             "#8e0152"
            ],
            [
             0.1,
             "#c51b7d"
            ],
            [
             0.2,
             "#de77ae"
            ],
            [
             0.3,
             "#f1b6da"
            ],
            [
             0.4,
             "#fde0ef"
            ],
            [
             0.5,
             "#f7f7f7"
            ],
            [
             0.6,
             "#e6f5d0"
            ],
            [
             0.7,
             "#b8e186"
            ],
            [
             0.8,
             "#7fbc41"
            ],
            [
             0.9,
             "#4d9221"
            ],
            [
             1,
             "#276419"
            ]
           ],
           "sequential": [
            [
             0,
             "#0d0887"
            ],
            [
             0.1111111111111111,
             "#46039f"
            ],
            [
             0.2222222222222222,
             "#7201a8"
            ],
            [
             0.3333333333333333,
             "#9c179e"
            ],
            [
             0.4444444444444444,
             "#bd3786"
            ],
            [
             0.5555555555555556,
             "#d8576b"
            ],
            [
             0.6666666666666666,
             "#ed7953"
            ],
            [
             0.7777777777777778,
             "#fb9f3a"
            ],
            [
             0.8888888888888888,
             "#fdca26"
            ],
            [
             1,
             "#f0f921"
            ]
           ],
           "sequentialminus": [
            [
             0,
             "#0d0887"
            ],
            [
             0.1111111111111111,
             "#46039f"
            ],
            [
             0.2222222222222222,
             "#7201a8"
            ],
            [
             0.3333333333333333,
             "#9c179e"
            ],
            [
             0.4444444444444444,
             "#bd3786"
            ],
            [
             0.5555555555555556,
             "#d8576b"
            ],
            [
             0.6666666666666666,
             "#ed7953"
            ],
            [
             0.7777777777777778,
             "#fb9f3a"
            ],
            [
             0.8888888888888888,
             "#fdca26"
            ],
            [
             1,
             "#f0f921"
            ]
           ]
          },
          "colorway": [
           "#636efa",
           "#EF553B",
           "#00cc96",
           "#ab63fa",
           "#FFA15A",
           "#19d3f3",
           "#FF6692",
           "#B6E880",
           "#FF97FF",
           "#FECB52"
          ],
          "font": {
           "color": "#2a3f5f"
          },
          "geo": {
           "bgcolor": "white",
           "lakecolor": "white",
           "landcolor": "#E5ECF6",
           "showlakes": true,
           "showland": true,
           "subunitcolor": "white"
          },
          "hoverlabel": {
           "align": "left"
          },
          "hovermode": "closest",
          "mapbox": {
           "style": "light"
          },
          "paper_bgcolor": "white",
          "plot_bgcolor": "#E5ECF6",
          "polar": {
           "angularaxis": {
            "gridcolor": "white",
            "linecolor": "white",
            "ticks": ""
           },
           "bgcolor": "#E5ECF6",
           "radialaxis": {
            "gridcolor": "white",
            "linecolor": "white",
            "ticks": ""
           }
          },
          "scene": {
           "xaxis": {
            "backgroundcolor": "#E5ECF6",
            "gridcolor": "white",
            "gridwidth": 2,
            "linecolor": "white",
            "showbackground": true,
            "ticks": "",
            "zerolinecolor": "white"
           },
           "yaxis": {
            "backgroundcolor": "#E5ECF6",
            "gridcolor": "white",
            "gridwidth": 2,
            "linecolor": "white",
            "showbackground": true,
            "ticks": "",
            "zerolinecolor": "white"
           },
           "zaxis": {
            "backgroundcolor": "#E5ECF6",
            "gridcolor": "white",
            "gridwidth": 2,
            "linecolor": "white",
            "showbackground": true,
            "ticks": "",
            "zerolinecolor": "white"
           }
          },
          "shapedefaults": {
           "line": {
            "color": "#2a3f5f"
           }
          },
          "ternary": {
           "aaxis": {
            "gridcolor": "white",
            "linecolor": "white",
            "ticks": ""
           },
           "baxis": {
            "gridcolor": "white",
            "linecolor": "white",
            "ticks": ""
           },
           "bgcolor": "#E5ECF6",
           "caxis": {
            "gridcolor": "white",
            "linecolor": "white",
            "ticks": ""
           }
          },
          "title": {
           "x": 0.05
          },
          "xaxis": {
           "automargin": true,
           "gridcolor": "white",
           "linecolor": "white",
           "ticks": "",
           "title": {
            "standoff": 15
           },
           "zerolinecolor": "white",
           "zerolinewidth": 2
          },
          "yaxis": {
           "automargin": true,
           "gridcolor": "white",
           "linecolor": "white",
           "ticks": "",
           "title": {
            "standoff": 15
           },
           "zerolinecolor": "white",
           "zerolinewidth": 2
          }
         }
        },
        "title": {
         "text": "Score Plot"
        },
        "xaxis": {
         "anchor": "y",
         "domain": [
          0,
          1
         ],
         "title": {
          "text": "PC1"
         }
        },
        "yaxis": {
         "anchor": "x",
         "domain": [
          0,
          1
         ],
         "title": {
          "text": "PC2"
         }
        }
       }
      }
     },
     "metadata": {},
     "output_type": "display_data"
    }
   ],
   "source": [
    "fig = px.scatter(pca2_results, x=0, y=1, color=scaled_df['Type']) # create 2D scoreplot for PC1 and PC2\n",
    "fig.update_layout(\n",
    "    title='Score Plot',\n",
    "    xaxis_title=\"PC1\",\n",
    "    yaxis_title=\"PC2\",\n",
    "    legend_title=\"Type\"\n",
    ")\n",
    "\n",
    "fig.show()"
   ]
  },
  {
   "cell_type": "markdown",
   "id": "a9c9fca2",
   "metadata": {},
   "source": [
    "### Function: Determine point on Scoreplot based on nutrient values\n",
    "This is a function to calculate PC1 and PC2 values based on the nutrient values.\n",
    "It can be used to find out the possible type of food based on nutrient values given"
   ]
  },
  {
   "cell_type": "code",
   "execution_count": 66,
   "id": "1d43e356",
   "metadata": {},
   "outputs": [],
   "source": [
    "def calc_line(protein, fat, carb, sugar, fiber, vitA): # calculate direction on biplot using nutrient values\n",
    "    variables = pd.DataFrame([[protein, fat, carb, sugar, fiber, vitA]], columns=reduced_df.columns) # create dataframe for values\n",
    "    variables_scaled = scaler.transform(variables)[0] # standardize the values (using fit from original data) and make into 1d array\n",
    "    calc_pc1 = np.dot(np.array(pca2.components_)[0], variables_scaled) # calculate pc1\n",
    "    calc_pc2 = np.dot(np.array(pca2.components_)[1], variables_scaled) # calculate pc2\n",
    "\n",
    "    return calc_pc1, calc_pc2"
   ]
  },
  {
   "cell_type": "markdown",
   "id": "0781eaac",
   "metadata": {},
   "source": [
    "### (c)(i): Biplot\n",
    "When the food item has low Fat and Protein and is high in other nutrients, the direction of line created points towards to the Breakfast Cereals cluster."
   ]
  },
  {
   "cell_type": "code",
   "execution_count": 67,
   "id": "3cedd4f7",
   "metadata": {},
   "outputs": [
    {
     "data": {
      "application/vnd.plotly.v1+json": {
       "config": {
        "plotlyServerURL": "https://plot.ly"
       },
       "data": [
        {
         "hovertemplate": "color=Poultry Products<br>0=%{x}<br>1=%{y}<extra></extra>",
         "legendgroup": "Poultry Products",
         "marker": {
          "color": "#636efa",
          "symbol": "circle"
         },
         "mode": "markers",
         "name": "Poultry Products",
         "orientation": "v",
         "showlegend": true,
         "type": "scatter",
         "x": [
          -2.1619094076809975,
          -2.3959376499305685,
          -2.512601962344579,
          -2.33377041821399,
          -2.2930405336376216,
          -2.319268988735718,
          -3.1018513203813294,
          -3.1717799558212882,
          -2.50026779638388,
          -2.409931589008039,
          -2.29446099988915,
          -2.2289960514521785,
          -2.2580053142223493,
          -2.2676515056345115,
          -2.2583615182513728,
          -2.234200645425279,
          -2.315144774677353,
          -2.2383039817096084,
          -2.248298815502143,
          -2.2019052102518377,
          -2.292544124073261,
          -2.346109876734983,
          -2.197331365117156,
          -2.434211051193121,
          -2.0238197568996426,
          -2.158234692494592,
          -2.1537720877898185,
          -2.3255240687531127,
          -2.1769965262221653,
          -2.2074959853522973,
          -2.432990342366953,
          -2.2594835487951865,
          -2.0330350169410147,
          -2.071358405819206,
          -2.2103183838610594,
          -2.3189546891686366,
          -2.0009675797589037,
          -2.3221382489354636,
          -2.457894085407029,
          -2.2395692226658466,
          -2.2380105138248676,
          -2.2568317666592295,
          -2.3163868188115595,
          -2.4475060416113164,
          -3.208165728792238,
          -2.3572553338962954,
          -2.095603006286087,
          -2.397012310007211,
          -2.1818901997303657,
          -2.019372889493587,
          -2.560589596353503,
          -2.2810765489355482,
          -2.201109920671357,
          -2.3814727358343366,
          -2.3812681681885737,
          -2.378348367933186,
          -2.3499469053717825,
          -2.2924547203145536
         ],
         "xaxis": "x",
         "y": [
          0.8533615712861073,
          1.5009166826485245,
          2.2080815460099217,
          1.3305425225788303,
          1.2280001214265521,
          1.1969516095364097,
          3.4712193540604903,
          3.7888452477881307,
          1.7906341912520083,
          1.608596436626536,
          1.0924255802190335,
          1.0952045087277102,
          1.1375802122637613,
          1.3611805537585466,
          1.0623861589030086,
          0.9768649898081332,
          1.3060331816938626,
          1.0593486325731083,
          1.2072317356683713,
          1.028753473928022,
          1.089617119492303,
          1.3869449254912838,
          0.9552304635076112,
          1.4442341293010807,
          1.3798279242455151,
          0.8652815712151669,
          0.8476248397468571,
          1.302726925165044,
          0.9257150284029316,
          1.0408379747721828,
          1.5478920432971124,
          1.1201097915657912,
          1.5701981659403776,
          0.7640037921524142,
          0.9883134707147017,
          1.2630025823190147,
          1.3259927704331937,
          1.175981554564355,
          1.7037764276972325,
          1.0751158424399272,
          1.2123064220621496,
          1.0815891294391116,
          1.663146776338371,
          1.705949597430549,
          3.8676897375358528,
          1.5118600394980175,
          1.5949428132351193,
          1.3425323423359712,
          0.9741872824258082,
          1.3378247358189506,
          1.978283756844944,
          1.340587180186782,
          0.9057264862088248,
          1.3193453749435708,
          1.3186260933650171,
          1.6362033638138829,
          1.488935513836921,
          1.0896959142089067
         ],
         "yaxis": "y"
        },
        {
         "hovertemplate": "color=Fruits and Fruit Juices<br>0=%{x}<br>1=%{y}<extra></extra>",
         "legendgroup": "Fruits and Fruit Juices",
         "marker": {
          "color": "#EF553B",
          "symbol": "circle"
         },
         "mode": "markers",
         "name": "Fruits and Fruit Juices",
         "orientation": "v",
         "showlegend": true,
         "type": "scatter",
         "x": [
          -0.16619495521322297,
          1.3620756804905967,
          -0.18092880081237084,
          0.34631426326832626,
          -0.19532652692476238,
          -0.2517172783573961,
          -0.3606607747872097,
          0.21841911629525712,
          0.2199775115316974,
          -0.13959338571808802,
          -0.1535638673026991,
          0.5788855074815177,
          -0.263900596622188,
          0.03365514717627905,
          -0.32303127601040255,
          0.2739106135018363,
          0.15319211946637326,
          0.0848699384746853,
          0.10702072055261613,
          0.25701735549128335,
          0.21262761301143998,
          0.33015742359124217,
          -0.01077815201084621,
          0.4404500035336577,
          -0.16619277460654436,
          -0.03601070065315812,
          -0.08053410326929482,
          0.15622813902197527,
          -0.3540649065342703,
          -0.19739145413823952,
          -0.20517911942615677,
          -0.2261473928156787,
          0.09992027331438212,
          0.11708023737242833,
          -0.3152424727023888,
          0.3546487440813024,
          0.5619909823700172,
          -0.2421596060516285,
          -0.2378742291947466,
          1.1034032268870386,
          0.613592125752421,
          -0.1735071656354051,
          -0.2542566739612496,
          0.07975098167258575,
          0.22573290920296318,
          2.968572762189406,
          -0.23366148804695644
         ],
         "xaxis": "x",
         "y": [
          -1.3527398111243112,
          -0.8913217755885864,
          -1.3558033948121484,
          -1.126726281570391,
          -1.3662024847303493,
          -1.3927145706075146,
          -1.4092068790546395,
          -1.1614510354527003,
          -1.236336272322581,
          -1.3519212291319114,
          -1.3294684674651285,
          -1.1059341996951604,
          -1.3335043619277132,
          -1.208155318809385,
          -1.3669934029042152,
          -1.224604207829179,
          -1.1790780455977505,
          -1.2324588287500664,
          -1.2248965866530734,
          -1.0622739844303022,
          -1.1418923538921708,
          -1.0950536853072668,
          -1.2491202597405948,
          -1.0513865756054577,
          -1.2959821185502507,
          -1.2255153640815477,
          -1.3419177358906647,
          -1.174443938391033,
          -1.3626831135780184,
          -1.370680062053317,
          -1.3708311926743282,
          -1.3584169069424037,
          -1.2824249593775867,
          -1.1947610279235257,
          -1.3571462485263253,
          -1.1676659766271924,
          -1.0957848607326628,
          -1.3773101720066778,
          -1.380930536694139,
          -0.9183983927600424,
          -1.0625307762514422,
          -1.3576075311729612,
          -1.3864604550777255,
          -1.2363524348059145,
          -1.174493635171945,
          -0.3487434401706064,
          -1.3634866973447588
         ],
         "yaxis": "y"
        },
        {
         "hovertemplate": "color=Breakfast Cereals<br>0=%{x}<br>1=%{y}<extra></extra>",
         "legendgroup": "Breakfast Cereals",
         "marker": {
          "color": "#00cc96",
          "symbol": "circle"
         },
         "mode": "markers",
         "name": "Breakfast Cereals",
         "orientation": "v",
         "showlegend": true,
         "type": "scatter",
         "x": [
          2.2136581744565764,
          1.9020987204502031,
          2.8014685248920954,
          2.945492267572037,
          2.8892362542898953,
          5.95131958344314,
          2.6154136077559276,
          3.018686079335096,
          2.626957744970454,
          1.7667621177212263,
          2.217832014725487,
          2.369891736802922,
          3.0689054244502274,
          1.6971889826702986,
          1.653848370476277,
          3.496749572232596,
          3.5555958699444337,
          1.9591133183609686,
          2.4892202820382825,
          2.0743146221020092,
          2.495542756344805,
          2.5401724884148327,
          2.63541931951706,
          1.6980647014433419,
          2.979196840946466,
          3.015149734601563,
          3.0835336422865103,
          2.9964161922254937,
          2.7537289234957463,
          2.1105247421675872,
          2.493987193843076,
          2.094932103494607,
          3.5274425576031354,
          1.7525707173820004,
          2.6032404035124634,
          3.5721215032851403,
          2.1094876397565523,
          2.3641088813746447,
          3.4547251037305795,
          2.637620899710566,
          1.9117474367834866,
          2.6853925884505254,
          2.6193958472021537,
          2.6230226569198702,
          2.782612948228615,
          2.553141043069775,
          2.6195046548223924,
          2.043919078182935,
          2.1794116884861006,
          2.8761356480619042,
          2.390833185453168,
          3.3289285585728634,
          3.1126669648588634,
          2.45917388125433,
          2.398472352904253,
          2.402644496079948,
          2.2724306526007294,
          2.3262398581045005,
          2.4094264993248107,
          1.5983493181492465
         ],
         "xaxis": "x",
         "y": [
          0.8460736714386442,
          0.8408821983471136,
          1.211169086469258,
          1.1202034003099983,
          1.610761162372633,
          1.686970497624281,
          0.6284230397646305,
          0.9146748223305501,
          1.015231217446342,
          0.40166020255384355,
          1.0241259431562024,
          0.7463741832645799,
          1.4751931395439501,
          0.629783155815448,
          0.8865827821957034,
          1.3669872360067916,
          1.2920241981707101,
          0.600994204389749,
          1.045207109663143,
          1.0246003607230225,
          0.810534152414175,
          0.9758956162692506,
          1.2368350757727353,
          0.8921689120559407,
          1.378392742993035,
          0.7565789466476588,
          1.0298223937235038,
          1.4523677882114314,
          0.6947182244171851,
          0.9326150175606466,
          0.9313137091962018,
          0.5901189096733118,
          0.8093792514380644,
          1.008799922487943,
          0.7542061696347806,
          0.8650937070150803,
          0.8934669412782773,
          1.0160851890925926,
          0.9038971927065412,
          0.8109141128371803,
          0.9680829005225653,
          0.9275373402801571,
          0.8116908289088315,
          0.9186921953797423,
          1.141203091619465,
          0.8488227686081371,
          1.2160020081273555,
          1.258009943859505,
          0.9496035088341979,
          1.3751532709268293,
          1.2652166443052617,
          0.864990523000378,
          1.2554274627284419,
          1.1176844212771326,
          1.0102814912699567,
          0.9241765074908689,
          0.8698248777762037,
          1.131956198669988,
          1.019311807986519,
          0.44401694401627967
         ],
         "yaxis": "y"
        },
        {
         "hovertemplate": "color=Vegetables and Vegetable Products<br>0=%{x}<br>1=%{y}<extra></extra>",
         "legendgroup": "Vegetables and Vegetable Products",
         "marker": {
          "color": "#ab63fa",
          "symbol": "circle"
         },
         "mode": "markers",
         "name": "Vegetables and Vegetable Products",
         "orientation": "v",
         "showlegend": true,
         "type": "scatter",
         "x": [
          -0.6105646281910385,
          -0.635503015720522,
          -0.6292327284542786,
          -0.5110541855459355,
          -0.6725655761901758,
          -0.5233898527683839,
          -0.4479963148669378,
          -0.5036604776874255,
          -0.5525170071086248,
          -0.5036604776874255,
          -0.6097385697733401,
          -0.6744946493245797,
          -0.5603698838471031,
          -0.5542692881992823,
          -0.04230016976162199,
          -0.37226321948258406,
          -0.583501153513138,
          -0.5110541855459355,
          -0.5805222215332047,
          0.7926377384165972,
          -0.4736467737009946,
          -0.6191374339656702,
          -0.5525170071086248,
          0.3060756182479737,
          -0.06531278896898594,
          -0.6566655028808759,
          -0.5805222215332047,
          -0.5693551667302882,
          -0.6857524846498517,
          0.6443280160352939,
          -0.5982975793975676,
          -0.29523591684413736,
          -0.6778704975677459,
          -0.4160228829905262,
          -0.6292327284542786,
          -0.4517242710786086,
          -0.6019879855818829,
          -0.7489239759108797,
          -0.7498636515195476,
          -0.5233898527683839,
          0.7926377384165972,
          -0.6386988233234896,
          -0.201129093689262,
          -0.5708589686942979,
          0.28972392538853586,
          0.32945020717671913,
          -0.5633470262058935,
          -0.6522424137220155,
          -0.669938483988701,
          -0.16402451528517537,
          -0.6012537783357049,
          0.19092690491253092,
          -0.06531278896898594,
          0.32945020717671913,
          -0.46586380235624464,
          -0.6778704975677459,
          -0.6149992341349451,
          -0.6659390014675377,
          -0.6149992341349451,
          -0.5171789768037305,
          0.6443280160352939,
          -0.18743365925414823,
          -0.5049474592758771,
          -0.5142583091312107,
          -0.4553040224816551,
          -0.6620021357483813,
          -0.6599751534323773,
          -0.7178657477195606,
          -0.16402451528517537
         ],
         "xaxis": "x",
         "y": [
          -1.4453416674142274,
          -1.3668182152366308,
          -1.420444108811968,
          -1.227922753295945,
          -1.3736065069109475,
          -1.245079698783707,
          -1.1533961110411848,
          -1.2683719726630498,
          -1.362514587938567,
          -1.2683719726630498,
          -1.3152473457708038,
          -1.3897325470756539,
          -1.2211867584705447,
          -1.2535467843911634,
          -0.9256705160726506,
          -1.2160971389818558,
          -1.3450049183998731,
          -1.227922753295945,
          -1.27654333196382,
          -0.4169528150774019,
          -1.3499250652201988,
          -1.2921313390702613,
          -1.362514587938567,
          -0.7109860995004899,
          -0.9844065298721829,
          -1.300676482439547,
          -1.27654333196382,
          -1.3589482599600922,
          -1.3943713604142383,
          -0.4791052731820692,
          -1.3388709190573407,
          -1.1037723014596856,
          -1.4667728629679224,
          -1.3280484457299084,
          -1.420444108811968,
          -1.2844601013144152,
          -1.375283107408087,
          -1.5153930755373315,
          -1.4578811410140542,
          -1.245079698783707,
          -0.4169528150774019,
          -1.4010350062245298,
          -1.1115989150788264,
          -1.4393660131498796,
          -0.6187003510881522,
          -0.7632766786285613,
          -1.3149892368881173,
          -1.3405051331881932,
          -1.3040115280717972,
          -1.1043164879073892,
          -1.4411959588811722,
          -0.8081187431753091,
          -0.9844065298721829,
          -0.7632766786285613,
          -1.170650534401905,
          -1.4667728629679224,
          -1.3294206451991768,
          -1.3126301647242824,
          -1.3294206451991768,
          -1.5119215934264991,
          -0.4791052731820692,
          -1.0871943221317715,
          -1.2070121388595085,
          -1.2111578473925635,
          -1.2676040310623946,
          -1.473992239274169,
          -1.3439481792580186,
          -1.3487333087903972,
          -1.1043164879073892
         ],
         "yaxis": "y"
        }
       ],
       "layout": {
        "annotations": [
         {
          "ax": 0,
          "ay": 0,
          "text": "Direction based on nutrient values",
          "x": 8.19633420831326,
          "xanchor": "center",
          "y": 1.8152300539041248,
          "yanchor": "bottom"
         },
         {
          "ax": 0,
          "ay": 0,
          "text": "Protein_g",
          "x": -0.5286513065037274,
          "xanchor": "center",
          "y": 0.7987084531165874,
          "yanchor": "bottom"
         },
         {
          "ax": 0,
          "ay": 0,
          "text": "Fat_g",
          "x": -0.4755388991306344,
          "xanchor": "center",
          "y": 0.832300797699514,
          "yanchor": "bottom"
         },
         {
          "ax": 0,
          "ay": 0,
          "text": "Carb_g",
          "x": 0.9262514093648436,
          "xanchor": "center",
          "y": 0.28599086179847666,
          "yanchor": "bottom"
         },
         {
          "ax": 0,
          "ay": 0,
          "text": "Sugar_g",
          "x": 0.8720035623181593,
          "xanchor": "center",
          "y": 0.15193764688003478,
          "yanchor": "bottom"
         },
         {
          "ax": 0,
          "ay": 0,
          "text": "Fiber_g",
          "x": 0.8188199670816958,
          "xanchor": "center",
          "y": 0.14723318142028574,
          "yanchor": "bottom"
         },
         {
          "ax": 0,
          "ay": 0,
          "text": "VitA_mcg",
          "x": 0.752671959992508,
          "xanchor": "center",
          "y": 0.3986897498378863,
          "yanchor": "bottom"
         }
        ],
        "legend": {
         "title": {
          "text": "Type"
         },
         "tracegroupgap": 0
        },
        "margin": {
         "t": 60
        },
        "shapes": [
         {
          "type": "line",
          "x0": 0,
          "x1": 8.19633420831326,
          "y0": 0,
          "y1": 1.8152300539041248
         },
         {
          "type": "line",
          "x0": 0,
          "x1": -0.5286513065037274,
          "y0": 0,
          "y1": 0.7987084531165874
         },
         {
          "type": "line",
          "x0": 0,
          "x1": -0.4755388991306344,
          "y0": 0,
          "y1": 0.832300797699514
         },
         {
          "type": "line",
          "x0": 0,
          "x1": 0.9262514093648436,
          "y0": 0,
          "y1": 0.28599086179847666
         },
         {
          "type": "line",
          "x0": 0,
          "x1": 0.8720035623181593,
          "y0": 0,
          "y1": 0.15193764688003478
         },
         {
          "type": "line",
          "x0": 0,
          "x1": 0.8188199670816958,
          "y0": 0,
          "y1": 0.14723318142028574
         },
         {
          "type": "line",
          "x0": 0,
          "x1": 0.752671959992508,
          "y0": 0,
          "y1": 0.3986897498378863
         }
        ],
        "template": {
         "data": {
          "bar": [
           {
            "error_x": {
             "color": "#2a3f5f"
            },
            "error_y": {
             "color": "#2a3f5f"
            },
            "marker": {
             "line": {
              "color": "#E5ECF6",
              "width": 0.5
             },
             "pattern": {
              "fillmode": "overlay",
              "size": 10,
              "solidity": 0.2
             }
            },
            "type": "bar"
           }
          ],
          "barpolar": [
           {
            "marker": {
             "line": {
              "color": "#E5ECF6",
              "width": 0.5
             },
             "pattern": {
              "fillmode": "overlay",
              "size": 10,
              "solidity": 0.2
             }
            },
            "type": "barpolar"
           }
          ],
          "carpet": [
           {
            "aaxis": {
             "endlinecolor": "#2a3f5f",
             "gridcolor": "white",
             "linecolor": "white",
             "minorgridcolor": "white",
             "startlinecolor": "#2a3f5f"
            },
            "baxis": {
             "endlinecolor": "#2a3f5f",
             "gridcolor": "white",
             "linecolor": "white",
             "minorgridcolor": "white",
             "startlinecolor": "#2a3f5f"
            },
            "type": "carpet"
           }
          ],
          "choropleth": [
           {
            "colorbar": {
             "outlinewidth": 0,
             "ticks": ""
            },
            "type": "choropleth"
           }
          ],
          "contour": [
           {
            "colorbar": {
             "outlinewidth": 0,
             "ticks": ""
            },
            "colorscale": [
             [
              0,
              "#0d0887"
             ],
             [
              0.1111111111111111,
              "#46039f"
             ],
             [
              0.2222222222222222,
              "#7201a8"
             ],
             [
              0.3333333333333333,
              "#9c179e"
             ],
             [
              0.4444444444444444,
              "#bd3786"
             ],
             [
              0.5555555555555556,
              "#d8576b"
             ],
             [
              0.6666666666666666,
              "#ed7953"
             ],
             [
              0.7777777777777778,
              "#fb9f3a"
             ],
             [
              0.8888888888888888,
              "#fdca26"
             ],
             [
              1,
              "#f0f921"
             ]
            ],
            "type": "contour"
           }
          ],
          "contourcarpet": [
           {
            "colorbar": {
             "outlinewidth": 0,
             "ticks": ""
            },
            "type": "contourcarpet"
           }
          ],
          "heatmap": [
           {
            "colorbar": {
             "outlinewidth": 0,
             "ticks": ""
            },
            "colorscale": [
             [
              0,
              "#0d0887"
             ],
             [
              0.1111111111111111,
              "#46039f"
             ],
             [
              0.2222222222222222,
              "#7201a8"
             ],
             [
              0.3333333333333333,
              "#9c179e"
             ],
             [
              0.4444444444444444,
              "#bd3786"
             ],
             [
              0.5555555555555556,
              "#d8576b"
             ],
             [
              0.6666666666666666,
              "#ed7953"
             ],
             [
              0.7777777777777778,
              "#fb9f3a"
             ],
             [
              0.8888888888888888,
              "#fdca26"
             ],
             [
              1,
              "#f0f921"
             ]
            ],
            "type": "heatmap"
           }
          ],
          "heatmapgl": [
           {
            "colorbar": {
             "outlinewidth": 0,
             "ticks": ""
            },
            "colorscale": [
             [
              0,
              "#0d0887"
             ],
             [
              0.1111111111111111,
              "#46039f"
             ],
             [
              0.2222222222222222,
              "#7201a8"
             ],
             [
              0.3333333333333333,
              "#9c179e"
             ],
             [
              0.4444444444444444,
              "#bd3786"
             ],
             [
              0.5555555555555556,
              "#d8576b"
             ],
             [
              0.6666666666666666,
              "#ed7953"
             ],
             [
              0.7777777777777778,
              "#fb9f3a"
             ],
             [
              0.8888888888888888,
              "#fdca26"
             ],
             [
              1,
              "#f0f921"
             ]
            ],
            "type": "heatmapgl"
           }
          ],
          "histogram": [
           {
            "marker": {
             "pattern": {
              "fillmode": "overlay",
              "size": 10,
              "solidity": 0.2
             }
            },
            "type": "histogram"
           }
          ],
          "histogram2d": [
           {
            "colorbar": {
             "outlinewidth": 0,
             "ticks": ""
            },
            "colorscale": [
             [
              0,
              "#0d0887"
             ],
             [
              0.1111111111111111,
              "#46039f"
             ],
             [
              0.2222222222222222,
              "#7201a8"
             ],
             [
              0.3333333333333333,
              "#9c179e"
             ],
             [
              0.4444444444444444,
              "#bd3786"
             ],
             [
              0.5555555555555556,
              "#d8576b"
             ],
             [
              0.6666666666666666,
              "#ed7953"
             ],
             [
              0.7777777777777778,
              "#fb9f3a"
             ],
             [
              0.8888888888888888,
              "#fdca26"
             ],
             [
              1,
              "#f0f921"
             ]
            ],
            "type": "histogram2d"
           }
          ],
          "histogram2dcontour": [
           {
            "colorbar": {
             "outlinewidth": 0,
             "ticks": ""
            },
            "colorscale": [
             [
              0,
              "#0d0887"
             ],
             [
              0.1111111111111111,
              "#46039f"
             ],
             [
              0.2222222222222222,
              "#7201a8"
             ],
             [
              0.3333333333333333,
              "#9c179e"
             ],
             [
              0.4444444444444444,
              "#bd3786"
             ],
             [
              0.5555555555555556,
              "#d8576b"
             ],
             [
              0.6666666666666666,
              "#ed7953"
             ],
             [
              0.7777777777777778,
              "#fb9f3a"
             ],
             [
              0.8888888888888888,
              "#fdca26"
             ],
             [
              1,
              "#f0f921"
             ]
            ],
            "type": "histogram2dcontour"
           }
          ],
          "mesh3d": [
           {
            "colorbar": {
             "outlinewidth": 0,
             "ticks": ""
            },
            "type": "mesh3d"
           }
          ],
          "parcoords": [
           {
            "line": {
             "colorbar": {
              "outlinewidth": 0,
              "ticks": ""
             }
            },
            "type": "parcoords"
           }
          ],
          "pie": [
           {
            "automargin": true,
            "type": "pie"
           }
          ],
          "scatter": [
           {
            "marker": {
             "colorbar": {
              "outlinewidth": 0,
              "ticks": ""
             }
            },
            "type": "scatter"
           }
          ],
          "scatter3d": [
           {
            "line": {
             "colorbar": {
              "outlinewidth": 0,
              "ticks": ""
             }
            },
            "marker": {
             "colorbar": {
              "outlinewidth": 0,
              "ticks": ""
             }
            },
            "type": "scatter3d"
           }
          ],
          "scattercarpet": [
           {
            "marker": {
             "colorbar": {
              "outlinewidth": 0,
              "ticks": ""
             }
            },
            "type": "scattercarpet"
           }
          ],
          "scattergeo": [
           {
            "marker": {
             "colorbar": {
              "outlinewidth": 0,
              "ticks": ""
             }
            },
            "type": "scattergeo"
           }
          ],
          "scattergl": [
           {
            "marker": {
             "colorbar": {
              "outlinewidth": 0,
              "ticks": ""
             }
            },
            "type": "scattergl"
           }
          ],
          "scattermapbox": [
           {
            "marker": {
             "colorbar": {
              "outlinewidth": 0,
              "ticks": ""
             }
            },
            "type": "scattermapbox"
           }
          ],
          "scatterpolar": [
           {
            "marker": {
             "colorbar": {
              "outlinewidth": 0,
              "ticks": ""
             }
            },
            "type": "scatterpolar"
           }
          ],
          "scatterpolargl": [
           {
            "marker": {
             "colorbar": {
              "outlinewidth": 0,
              "ticks": ""
             }
            },
            "type": "scatterpolargl"
           }
          ],
          "scatterternary": [
           {
            "marker": {
             "colorbar": {
              "outlinewidth": 0,
              "ticks": ""
             }
            },
            "type": "scatterternary"
           }
          ],
          "surface": [
           {
            "colorbar": {
             "outlinewidth": 0,
             "ticks": ""
            },
            "colorscale": [
             [
              0,
              "#0d0887"
             ],
             [
              0.1111111111111111,
              "#46039f"
             ],
             [
              0.2222222222222222,
              "#7201a8"
             ],
             [
              0.3333333333333333,
              "#9c179e"
             ],
             [
              0.4444444444444444,
              "#bd3786"
             ],
             [
              0.5555555555555556,
              "#d8576b"
             ],
             [
              0.6666666666666666,
              "#ed7953"
             ],
             [
              0.7777777777777778,
              "#fb9f3a"
             ],
             [
              0.8888888888888888,
              "#fdca26"
             ],
             [
              1,
              "#f0f921"
             ]
            ],
            "type": "surface"
           }
          ],
          "table": [
           {
            "cells": {
             "fill": {
              "color": "#EBF0F8"
             },
             "line": {
              "color": "white"
             }
            },
            "header": {
             "fill": {
              "color": "#C8D4E3"
             },
             "line": {
              "color": "white"
             }
            },
            "type": "table"
           }
          ]
         },
         "layout": {
          "annotationdefaults": {
           "arrowcolor": "#2a3f5f",
           "arrowhead": 0,
           "arrowwidth": 1
          },
          "autotypenumbers": "strict",
          "coloraxis": {
           "colorbar": {
            "outlinewidth": 0,
            "ticks": ""
           }
          },
          "colorscale": {
           "diverging": [
            [
             0,
             "#8e0152"
            ],
            [
             0.1,
             "#c51b7d"
            ],
            [
             0.2,
             "#de77ae"
            ],
            [
             0.3,
             "#f1b6da"
            ],
            [
             0.4,
             "#fde0ef"
            ],
            [
             0.5,
             "#f7f7f7"
            ],
            [
             0.6,
             "#e6f5d0"
            ],
            [
             0.7,
             "#b8e186"
            ],
            [
             0.8,
             "#7fbc41"
            ],
            [
             0.9,
             "#4d9221"
            ],
            [
             1,
             "#276419"
            ]
           ],
           "sequential": [
            [
             0,
             "#0d0887"
            ],
            [
             0.1111111111111111,
             "#46039f"
            ],
            [
             0.2222222222222222,
             "#7201a8"
            ],
            [
             0.3333333333333333,
             "#9c179e"
            ],
            [
             0.4444444444444444,
             "#bd3786"
            ],
            [
             0.5555555555555556,
             "#d8576b"
            ],
            [
             0.6666666666666666,
             "#ed7953"
            ],
            [
             0.7777777777777778,
             "#fb9f3a"
            ],
            [
             0.8888888888888888,
             "#fdca26"
            ],
            [
             1,
             "#f0f921"
            ]
           ],
           "sequentialminus": [
            [
             0,
             "#0d0887"
            ],
            [
             0.1111111111111111,
             "#46039f"
            ],
            [
             0.2222222222222222,
             "#7201a8"
            ],
            [
             0.3333333333333333,
             "#9c179e"
            ],
            [
             0.4444444444444444,
             "#bd3786"
            ],
            [
             0.5555555555555556,
             "#d8576b"
            ],
            [
             0.6666666666666666,
             "#ed7953"
            ],
            [
             0.7777777777777778,
             "#fb9f3a"
            ],
            [
             0.8888888888888888,
             "#fdca26"
            ],
            [
             1,
             "#f0f921"
            ]
           ]
          },
          "colorway": [
           "#636efa",
           "#EF553B",
           "#00cc96",
           "#ab63fa",
           "#FFA15A",
           "#19d3f3",
           "#FF6692",
           "#B6E880",
           "#FF97FF",
           "#FECB52"
          ],
          "font": {
           "color": "#2a3f5f"
          },
          "geo": {
           "bgcolor": "white",
           "lakecolor": "white",
           "landcolor": "#E5ECF6",
           "showlakes": true,
           "showland": true,
           "subunitcolor": "white"
          },
          "hoverlabel": {
           "align": "left"
          },
          "hovermode": "closest",
          "mapbox": {
           "style": "light"
          },
          "paper_bgcolor": "white",
          "plot_bgcolor": "#E5ECF6",
          "polar": {
           "angularaxis": {
            "gridcolor": "white",
            "linecolor": "white",
            "ticks": ""
           },
           "bgcolor": "#E5ECF6",
           "radialaxis": {
            "gridcolor": "white",
            "linecolor": "white",
            "ticks": ""
           }
          },
          "scene": {
           "xaxis": {
            "backgroundcolor": "#E5ECF6",
            "gridcolor": "white",
            "gridwidth": 2,
            "linecolor": "white",
            "showbackground": true,
            "ticks": "",
            "zerolinecolor": "white"
           },
           "yaxis": {
            "backgroundcolor": "#E5ECF6",
            "gridcolor": "white",
            "gridwidth": 2,
            "linecolor": "white",
            "showbackground": true,
            "ticks": "",
            "zerolinecolor": "white"
           },
           "zaxis": {
            "backgroundcolor": "#E5ECF6",
            "gridcolor": "white",
            "gridwidth": 2,
            "linecolor": "white",
            "showbackground": true,
            "ticks": "",
            "zerolinecolor": "white"
           }
          },
          "shapedefaults": {
           "line": {
            "color": "#2a3f5f"
           }
          },
          "ternary": {
           "aaxis": {
            "gridcolor": "white",
            "linecolor": "white",
            "ticks": ""
           },
           "baxis": {
            "gridcolor": "white",
            "linecolor": "white",
            "ticks": ""
           },
           "bgcolor": "#E5ECF6",
           "caxis": {
            "gridcolor": "white",
            "linecolor": "white",
            "ticks": ""
           }
          },
          "title": {
           "x": 0.05
          },
          "xaxis": {
           "automargin": true,
           "gridcolor": "white",
           "linecolor": "white",
           "ticks": "",
           "title": {
            "standoff": 15
           },
           "zerolinecolor": "white",
           "zerolinewidth": 2
          },
          "yaxis": {
           "automargin": true,
           "gridcolor": "white",
           "linecolor": "white",
           "ticks": "",
           "title": {
            "standoff": 15
           },
           "zerolinecolor": "white",
           "zerolinewidth": 2
          }
         }
        },
        "title": {
         "text": "Biplot: Low in Fat and Protein, high in other nutrients"
        },
        "xaxis": {
         "anchor": "y",
         "domain": [
          0,
          1
         ],
         "title": {
          "text": "PC1"
         }
        },
        "yaxis": {
         "anchor": "x",
         "domain": [
          0,
          1
         ],
         "title": {
          "text": "PC2"
         }
        }
       }
      }
     },
     "metadata": {},
     "output_type": "display_data"
    }
   ],
   "source": [
    "fig = px.scatter(pca2_results, x=0, y=1, color=scaled_df['Type']) # create 2D scoreplot for PC1 and PC2\n",
    "fig.update_layout(\n",
    "    title='Biplot: Low in Fat and Protein, high in other nutrients',\n",
    "    xaxis_title=\"PC1\",\n",
    "    yaxis_title=\"PC2\",\n",
    "    legend_title=\"Type\"\n",
    ")\n",
    "\n",
    "loadings = pca2.components_.T * np.sqrt(pca2.explained_variance_) # calculate loadings for the PCA\n",
    "\n",
    "# find the direction of the line when low protein and fat but high in other nutrients\n",
    "# nutrient values entered are based on food_df.describe\n",
    "# Protein and Fat: Value at lower quartile\n",
    "# Other nutrients: Maximum possible value\n",
    "pc1_point_qn_ci, pc2_point_qn_ci = calc_line(1, 0.2, 89, 57, 42, 943) # enter nutrient values into the function\n",
    "\n",
    "fig.add_shape( # add line to biplot\n",
    "    type='line',\n",
    "    x0=0, y0=0,\n",
    "    x1=pc1_point_qn_ci,\n",
    "    y1=pc2_point_qn_ci\n",
    ")\n",
    "fig.add_annotation( # annotate the line\n",
    "    x=pc1_point_qn_ci,\n",
    "    y=pc2_point_qn_ci,\n",
    "    ax=0, ay=0,\n",
    "    xanchor=\"center\",\n",
    "    yanchor=\"bottom\",\n",
    "    text='Direction based on nutrient values',\n",
    ")\n",
    "\n",
    "# add loadings to the plot\n",
    "features = list(scaled_data.columns) \n",
    "for i, feature in enumerate(features):\n",
    "    fig.add_shape(\n",
    "        type='line',\n",
    "        x0=0, y0=0,\n",
    "        x1=loadings[i, 0],\n",
    "        y1=loadings[i, 1]\n",
    "    )\n",
    "    fig.add_annotation(\n",
    "        x=loadings[i, 0],\n",
    "        y=loadings[i, 1],\n",
    "        ax=0, ay=0,\n",
    "        xanchor=\"center\",\n",
    "        yanchor=\"bottom\",\n",
    "        text=feature,\n",
    "    )\n",
    "\n",
    "fig.show()"
   ]
  },
  {
   "cell_type": "markdown",
   "id": "899684f5",
   "metadata": {},
   "source": [
    "### (c)(ii): Biplot"
   ]
  },
  {
   "cell_type": "code",
   "execution_count": 69,
   "id": "8bdb4c99",
   "metadata": {},
   "outputs": [
    {
     "data": {
      "application/vnd.plotly.v1+json": {
       "config": {
        "plotlyServerURL": "https://plot.ly"
       },
       "data": [
        {
         "hovertemplate": "color=Poultry Products<br>0=%{x}<br>1=%{y}<extra></extra>",
         "legendgroup": "Poultry Products",
         "marker": {
          "color": "#636efa",
          "symbol": "circle"
         },
         "mode": "markers",
         "name": "Poultry Products",
         "orientation": "v",
         "showlegend": true,
         "type": "scatter",
         "x": [
          -2.1619094076809975,
          -2.3959376499305685,
          -2.512601962344579,
          -2.33377041821399,
          -2.2930405336376216,
          -2.319268988735718,
          -3.1018513203813294,
          -3.1717799558212882,
          -2.50026779638388,
          -2.409931589008039,
          -2.29446099988915,
          -2.2289960514521785,
          -2.2580053142223493,
          -2.2676515056345115,
          -2.2583615182513728,
          -2.234200645425279,
          -2.315144774677353,
          -2.2383039817096084,
          -2.248298815502143,
          -2.2019052102518377,
          -2.292544124073261,
          -2.346109876734983,
          -2.197331365117156,
          -2.434211051193121,
          -2.0238197568996426,
          -2.158234692494592,
          -2.1537720877898185,
          -2.3255240687531127,
          -2.1769965262221653,
          -2.2074959853522973,
          -2.432990342366953,
          -2.2594835487951865,
          -2.0330350169410147,
          -2.071358405819206,
          -2.2103183838610594,
          -2.3189546891686366,
          -2.0009675797589037,
          -2.3221382489354636,
          -2.457894085407029,
          -2.2395692226658466,
          -2.2380105138248676,
          -2.2568317666592295,
          -2.3163868188115595,
          -2.4475060416113164,
          -3.208165728792238,
          -2.3572553338962954,
          -2.095603006286087,
          -2.397012310007211,
          -2.1818901997303657,
          -2.019372889493587,
          -2.560589596353503,
          -2.2810765489355482,
          -2.201109920671357,
          -2.3814727358343366,
          -2.3812681681885737,
          -2.378348367933186,
          -2.3499469053717825,
          -2.2924547203145536
         ],
         "xaxis": "x",
         "y": [
          0.8533615712861073,
          1.5009166826485245,
          2.2080815460099217,
          1.3305425225788303,
          1.2280001214265521,
          1.1969516095364097,
          3.4712193540604903,
          3.7888452477881307,
          1.7906341912520083,
          1.608596436626536,
          1.0924255802190335,
          1.0952045087277102,
          1.1375802122637613,
          1.3611805537585466,
          1.0623861589030086,
          0.9768649898081332,
          1.3060331816938626,
          1.0593486325731083,
          1.2072317356683713,
          1.028753473928022,
          1.089617119492303,
          1.3869449254912838,
          0.9552304635076112,
          1.4442341293010807,
          1.3798279242455151,
          0.8652815712151669,
          0.8476248397468571,
          1.302726925165044,
          0.9257150284029316,
          1.0408379747721828,
          1.5478920432971124,
          1.1201097915657912,
          1.5701981659403776,
          0.7640037921524142,
          0.9883134707147017,
          1.2630025823190147,
          1.3259927704331937,
          1.175981554564355,
          1.7037764276972325,
          1.0751158424399272,
          1.2123064220621496,
          1.0815891294391116,
          1.663146776338371,
          1.705949597430549,
          3.8676897375358528,
          1.5118600394980175,
          1.5949428132351193,
          1.3425323423359712,
          0.9741872824258082,
          1.3378247358189506,
          1.978283756844944,
          1.340587180186782,
          0.9057264862088248,
          1.3193453749435708,
          1.3186260933650171,
          1.6362033638138829,
          1.488935513836921,
          1.0896959142089067
         ],
         "yaxis": "y"
        },
        {
         "hovertemplate": "color=Fruits and Fruit Juices<br>0=%{x}<br>1=%{y}<extra></extra>",
         "legendgroup": "Fruits and Fruit Juices",
         "marker": {
          "color": "#EF553B",
          "symbol": "circle"
         },
         "mode": "markers",
         "name": "Fruits and Fruit Juices",
         "orientation": "v",
         "showlegend": true,
         "type": "scatter",
         "x": [
          -0.16619495521322297,
          1.3620756804905967,
          -0.18092880081237084,
          0.34631426326832626,
          -0.19532652692476238,
          -0.2517172783573961,
          -0.3606607747872097,
          0.21841911629525712,
          0.2199775115316974,
          -0.13959338571808802,
          -0.1535638673026991,
          0.5788855074815177,
          -0.263900596622188,
          0.03365514717627905,
          -0.32303127601040255,
          0.2739106135018363,
          0.15319211946637326,
          0.0848699384746853,
          0.10702072055261613,
          0.25701735549128335,
          0.21262761301143998,
          0.33015742359124217,
          -0.01077815201084621,
          0.4404500035336577,
          -0.16619277460654436,
          -0.03601070065315812,
          -0.08053410326929482,
          0.15622813902197527,
          -0.3540649065342703,
          -0.19739145413823952,
          -0.20517911942615677,
          -0.2261473928156787,
          0.09992027331438212,
          0.11708023737242833,
          -0.3152424727023888,
          0.3546487440813024,
          0.5619909823700172,
          -0.2421596060516285,
          -0.2378742291947466,
          1.1034032268870386,
          0.613592125752421,
          -0.1735071656354051,
          -0.2542566739612496,
          0.07975098167258575,
          0.22573290920296318,
          2.968572762189406,
          -0.23366148804695644
         ],
         "xaxis": "x",
         "y": [
          -1.3527398111243112,
          -0.8913217755885864,
          -1.3558033948121484,
          -1.126726281570391,
          -1.3662024847303493,
          -1.3927145706075146,
          -1.4092068790546395,
          -1.1614510354527003,
          -1.236336272322581,
          -1.3519212291319114,
          -1.3294684674651285,
          -1.1059341996951604,
          -1.3335043619277132,
          -1.208155318809385,
          -1.3669934029042152,
          -1.224604207829179,
          -1.1790780455977505,
          -1.2324588287500664,
          -1.2248965866530734,
          -1.0622739844303022,
          -1.1418923538921708,
          -1.0950536853072668,
          -1.2491202597405948,
          -1.0513865756054577,
          -1.2959821185502507,
          -1.2255153640815477,
          -1.3419177358906647,
          -1.174443938391033,
          -1.3626831135780184,
          -1.370680062053317,
          -1.3708311926743282,
          -1.3584169069424037,
          -1.2824249593775867,
          -1.1947610279235257,
          -1.3571462485263253,
          -1.1676659766271924,
          -1.0957848607326628,
          -1.3773101720066778,
          -1.380930536694139,
          -0.9183983927600424,
          -1.0625307762514422,
          -1.3576075311729612,
          -1.3864604550777255,
          -1.2363524348059145,
          -1.174493635171945,
          -0.3487434401706064,
          -1.3634866973447588
         ],
         "yaxis": "y"
        },
        {
         "hovertemplate": "color=Breakfast Cereals<br>0=%{x}<br>1=%{y}<extra></extra>",
         "legendgroup": "Breakfast Cereals",
         "marker": {
          "color": "#00cc96",
          "symbol": "circle"
         },
         "mode": "markers",
         "name": "Breakfast Cereals",
         "orientation": "v",
         "showlegend": true,
         "type": "scatter",
         "x": [
          2.2136581744565764,
          1.9020987204502031,
          2.8014685248920954,
          2.945492267572037,
          2.8892362542898953,
          5.95131958344314,
          2.6154136077559276,
          3.018686079335096,
          2.626957744970454,
          1.7667621177212263,
          2.217832014725487,
          2.369891736802922,
          3.0689054244502274,
          1.6971889826702986,
          1.653848370476277,
          3.496749572232596,
          3.5555958699444337,
          1.9591133183609686,
          2.4892202820382825,
          2.0743146221020092,
          2.495542756344805,
          2.5401724884148327,
          2.63541931951706,
          1.6980647014433419,
          2.979196840946466,
          3.015149734601563,
          3.0835336422865103,
          2.9964161922254937,
          2.7537289234957463,
          2.1105247421675872,
          2.493987193843076,
          2.094932103494607,
          3.5274425576031354,
          1.7525707173820004,
          2.6032404035124634,
          3.5721215032851403,
          2.1094876397565523,
          2.3641088813746447,
          3.4547251037305795,
          2.637620899710566,
          1.9117474367834866,
          2.6853925884505254,
          2.6193958472021537,
          2.6230226569198702,
          2.782612948228615,
          2.553141043069775,
          2.6195046548223924,
          2.043919078182935,
          2.1794116884861006,
          2.8761356480619042,
          2.390833185453168,
          3.3289285585728634,
          3.1126669648588634,
          2.45917388125433,
          2.398472352904253,
          2.402644496079948,
          2.2724306526007294,
          2.3262398581045005,
          2.4094264993248107,
          1.5983493181492465
         ],
         "xaxis": "x",
         "y": [
          0.8460736714386442,
          0.8408821983471136,
          1.211169086469258,
          1.1202034003099983,
          1.610761162372633,
          1.686970497624281,
          0.6284230397646305,
          0.9146748223305501,
          1.015231217446342,
          0.40166020255384355,
          1.0241259431562024,
          0.7463741832645799,
          1.4751931395439501,
          0.629783155815448,
          0.8865827821957034,
          1.3669872360067916,
          1.2920241981707101,
          0.600994204389749,
          1.045207109663143,
          1.0246003607230225,
          0.810534152414175,
          0.9758956162692506,
          1.2368350757727353,
          0.8921689120559407,
          1.378392742993035,
          0.7565789466476588,
          1.0298223937235038,
          1.4523677882114314,
          0.6947182244171851,
          0.9326150175606466,
          0.9313137091962018,
          0.5901189096733118,
          0.8093792514380644,
          1.008799922487943,
          0.7542061696347806,
          0.8650937070150803,
          0.8934669412782773,
          1.0160851890925926,
          0.9038971927065412,
          0.8109141128371803,
          0.9680829005225653,
          0.9275373402801571,
          0.8116908289088315,
          0.9186921953797423,
          1.141203091619465,
          0.8488227686081371,
          1.2160020081273555,
          1.258009943859505,
          0.9496035088341979,
          1.3751532709268293,
          1.2652166443052617,
          0.864990523000378,
          1.2554274627284419,
          1.1176844212771326,
          1.0102814912699567,
          0.9241765074908689,
          0.8698248777762037,
          1.131956198669988,
          1.019311807986519,
          0.44401694401627967
         ],
         "yaxis": "y"
        },
        {
         "hovertemplate": "color=Vegetables and Vegetable Products<br>0=%{x}<br>1=%{y}<extra></extra>",
         "legendgroup": "Vegetables and Vegetable Products",
         "marker": {
          "color": "#ab63fa",
          "symbol": "circle"
         },
         "mode": "markers",
         "name": "Vegetables and Vegetable Products",
         "orientation": "v",
         "showlegend": true,
         "type": "scatter",
         "x": [
          -0.6105646281910385,
          -0.635503015720522,
          -0.6292327284542786,
          -0.5110541855459355,
          -0.6725655761901758,
          -0.5233898527683839,
          -0.4479963148669378,
          -0.5036604776874255,
          -0.5525170071086248,
          -0.5036604776874255,
          -0.6097385697733401,
          -0.6744946493245797,
          -0.5603698838471031,
          -0.5542692881992823,
          -0.04230016976162199,
          -0.37226321948258406,
          -0.583501153513138,
          -0.5110541855459355,
          -0.5805222215332047,
          0.7926377384165972,
          -0.4736467737009946,
          -0.6191374339656702,
          -0.5525170071086248,
          0.3060756182479737,
          -0.06531278896898594,
          -0.6566655028808759,
          -0.5805222215332047,
          -0.5693551667302882,
          -0.6857524846498517,
          0.6443280160352939,
          -0.5982975793975676,
          -0.29523591684413736,
          -0.6778704975677459,
          -0.4160228829905262,
          -0.6292327284542786,
          -0.4517242710786086,
          -0.6019879855818829,
          -0.7489239759108797,
          -0.7498636515195476,
          -0.5233898527683839,
          0.7926377384165972,
          -0.6386988233234896,
          -0.201129093689262,
          -0.5708589686942979,
          0.28972392538853586,
          0.32945020717671913,
          -0.5633470262058935,
          -0.6522424137220155,
          -0.669938483988701,
          -0.16402451528517537,
          -0.6012537783357049,
          0.19092690491253092,
          -0.06531278896898594,
          0.32945020717671913,
          -0.46586380235624464,
          -0.6778704975677459,
          -0.6149992341349451,
          -0.6659390014675377,
          -0.6149992341349451,
          -0.5171789768037305,
          0.6443280160352939,
          -0.18743365925414823,
          -0.5049474592758771,
          -0.5142583091312107,
          -0.4553040224816551,
          -0.6620021357483813,
          -0.6599751534323773,
          -0.7178657477195606,
          -0.16402451528517537
         ],
         "xaxis": "x",
         "y": [
          -1.4453416674142274,
          -1.3668182152366308,
          -1.420444108811968,
          -1.227922753295945,
          -1.3736065069109475,
          -1.245079698783707,
          -1.1533961110411848,
          -1.2683719726630498,
          -1.362514587938567,
          -1.2683719726630498,
          -1.3152473457708038,
          -1.3897325470756539,
          -1.2211867584705447,
          -1.2535467843911634,
          -0.9256705160726506,
          -1.2160971389818558,
          -1.3450049183998731,
          -1.227922753295945,
          -1.27654333196382,
          -0.4169528150774019,
          -1.3499250652201988,
          -1.2921313390702613,
          -1.362514587938567,
          -0.7109860995004899,
          -0.9844065298721829,
          -1.300676482439547,
          -1.27654333196382,
          -1.3589482599600922,
          -1.3943713604142383,
          -0.4791052731820692,
          -1.3388709190573407,
          -1.1037723014596856,
          -1.4667728629679224,
          -1.3280484457299084,
          -1.420444108811968,
          -1.2844601013144152,
          -1.375283107408087,
          -1.5153930755373315,
          -1.4578811410140542,
          -1.245079698783707,
          -0.4169528150774019,
          -1.4010350062245298,
          -1.1115989150788264,
          -1.4393660131498796,
          -0.6187003510881522,
          -0.7632766786285613,
          -1.3149892368881173,
          -1.3405051331881932,
          -1.3040115280717972,
          -1.1043164879073892,
          -1.4411959588811722,
          -0.8081187431753091,
          -0.9844065298721829,
          -0.7632766786285613,
          -1.170650534401905,
          -1.4667728629679224,
          -1.3294206451991768,
          -1.3126301647242824,
          -1.3294206451991768,
          -1.5119215934264991,
          -0.4791052731820692,
          -1.0871943221317715,
          -1.2070121388595085,
          -1.2111578473925635,
          -1.2676040310623946,
          -1.473992239274169,
          -1.3439481792580186,
          -1.3487333087903972,
          -1.1043164879073892
         ],
         "yaxis": "y"
        }
       ],
       "layout": {
        "annotations": [
         {
          "ax": 0,
          "ay": 0,
          "text": "Direction based on nutrient values",
          "x": -3.313602489540075,
          "xanchor": "center",
          "y": 4.324944890403517,
          "yanchor": "bottom"
         },
         {
          "ax": 0,
          "ay": 0,
          "text": "Protein_g",
          "x": -0.5286513065037274,
          "xanchor": "center",
          "y": 0.7987084531165874,
          "yanchor": "bottom"
         },
         {
          "ax": 0,
          "ay": 0,
          "text": "Fat_g",
          "x": -0.4755388991306344,
          "xanchor": "center",
          "y": 0.832300797699514,
          "yanchor": "bottom"
         },
         {
          "ax": 0,
          "ay": 0,
          "text": "Carb_g",
          "x": 0.9262514093648436,
          "xanchor": "center",
          "y": 0.28599086179847666,
          "yanchor": "bottom"
         },
         {
          "ax": 0,
          "ay": 0,
          "text": "Sugar_g",
          "x": 0.8720035623181593,
          "xanchor": "center",
          "y": 0.15193764688003478,
          "yanchor": "bottom"
         },
         {
          "ax": 0,
          "ay": 0,
          "text": "Fiber_g",
          "x": 0.8188199670816958,
          "xanchor": "center",
          "y": 0.14723318142028574,
          "yanchor": "bottom"
         },
         {
          "ax": 0,
          "ay": 0,
          "text": "VitA_mcg",
          "x": 0.752671959992508,
          "xanchor": "center",
          "y": 0.3986897498378863,
          "yanchor": "bottom"
         }
        ],
        "legend": {
         "title": {
          "text": "Type"
         },
         "tracegroupgap": 0
        },
        "margin": {
         "t": 60
        },
        "shapes": [
         {
          "type": "line",
          "x0": 0,
          "x1": -3.313602489540075,
          "y0": 0,
          "y1": 4.324944890403517
         },
         {
          "type": "line",
          "x0": 0,
          "x1": -0.5286513065037274,
          "y0": 0,
          "y1": 0.7987084531165874
         },
         {
          "type": "line",
          "x0": 0,
          "x1": -0.4755388991306344,
          "y0": 0,
          "y1": 0.832300797699514
         },
         {
          "type": "line",
          "x0": 0,
          "x1": 0.9262514093648436,
          "y0": 0,
          "y1": 0.28599086179847666
         },
         {
          "type": "line",
          "x0": 0,
          "x1": 0.8720035623181593,
          "y0": 0,
          "y1": 0.15193764688003478
         },
         {
          "type": "line",
          "x0": 0,
          "x1": 0.8188199670816958,
          "y0": 0,
          "y1": 0.14723318142028574
         },
         {
          "type": "line",
          "x0": 0,
          "x1": 0.752671959992508,
          "y0": 0,
          "y1": 0.3986897498378863
         }
        ],
        "template": {
         "data": {
          "bar": [
           {
            "error_x": {
             "color": "#2a3f5f"
            },
            "error_y": {
             "color": "#2a3f5f"
            },
            "marker": {
             "line": {
              "color": "#E5ECF6",
              "width": 0.5
             },
             "pattern": {
              "fillmode": "overlay",
              "size": 10,
              "solidity": 0.2
             }
            },
            "type": "bar"
           }
          ],
          "barpolar": [
           {
            "marker": {
             "line": {
              "color": "#E5ECF6",
              "width": 0.5
             },
             "pattern": {
              "fillmode": "overlay",
              "size": 10,
              "solidity": 0.2
             }
            },
            "type": "barpolar"
           }
          ],
          "carpet": [
           {
            "aaxis": {
             "endlinecolor": "#2a3f5f",
             "gridcolor": "white",
             "linecolor": "white",
             "minorgridcolor": "white",
             "startlinecolor": "#2a3f5f"
            },
            "baxis": {
             "endlinecolor": "#2a3f5f",
             "gridcolor": "white",
             "linecolor": "white",
             "minorgridcolor": "white",
             "startlinecolor": "#2a3f5f"
            },
            "type": "carpet"
           }
          ],
          "choropleth": [
           {
            "colorbar": {
             "outlinewidth": 0,
             "ticks": ""
            },
            "type": "choropleth"
           }
          ],
          "contour": [
           {
            "colorbar": {
             "outlinewidth": 0,
             "ticks": ""
            },
            "colorscale": [
             [
              0,
              "#0d0887"
             ],
             [
              0.1111111111111111,
              "#46039f"
             ],
             [
              0.2222222222222222,
              "#7201a8"
             ],
             [
              0.3333333333333333,
              "#9c179e"
             ],
             [
              0.4444444444444444,
              "#bd3786"
             ],
             [
              0.5555555555555556,
              "#d8576b"
             ],
             [
              0.6666666666666666,
              "#ed7953"
             ],
             [
              0.7777777777777778,
              "#fb9f3a"
             ],
             [
              0.8888888888888888,
              "#fdca26"
             ],
             [
              1,
              "#f0f921"
             ]
            ],
            "type": "contour"
           }
          ],
          "contourcarpet": [
           {
            "colorbar": {
             "outlinewidth": 0,
             "ticks": ""
            },
            "type": "contourcarpet"
           }
          ],
          "heatmap": [
           {
            "colorbar": {
             "outlinewidth": 0,
             "ticks": ""
            },
            "colorscale": [
             [
              0,
              "#0d0887"
             ],
             [
              0.1111111111111111,
              "#46039f"
             ],
             [
              0.2222222222222222,
              "#7201a8"
             ],
             [
              0.3333333333333333,
              "#9c179e"
             ],
             [
              0.4444444444444444,
              "#bd3786"
             ],
             [
              0.5555555555555556,
              "#d8576b"
             ],
             [
              0.6666666666666666,
              "#ed7953"
             ],
             [
              0.7777777777777778,
              "#fb9f3a"
             ],
             [
              0.8888888888888888,
              "#fdca26"
             ],
             [
              1,
              "#f0f921"
             ]
            ],
            "type": "heatmap"
           }
          ],
          "heatmapgl": [
           {
            "colorbar": {
             "outlinewidth": 0,
             "ticks": ""
            },
            "colorscale": [
             [
              0,
              "#0d0887"
             ],
             [
              0.1111111111111111,
              "#46039f"
             ],
             [
              0.2222222222222222,
              "#7201a8"
             ],
             [
              0.3333333333333333,
              "#9c179e"
             ],
             [
              0.4444444444444444,
              "#bd3786"
             ],
             [
              0.5555555555555556,
              "#d8576b"
             ],
             [
              0.6666666666666666,
              "#ed7953"
             ],
             [
              0.7777777777777778,
              "#fb9f3a"
             ],
             [
              0.8888888888888888,
              "#fdca26"
             ],
             [
              1,
              "#f0f921"
             ]
            ],
            "type": "heatmapgl"
           }
          ],
          "histogram": [
           {
            "marker": {
             "pattern": {
              "fillmode": "overlay",
              "size": 10,
              "solidity": 0.2
             }
            },
            "type": "histogram"
           }
          ],
          "histogram2d": [
           {
            "colorbar": {
             "outlinewidth": 0,
             "ticks": ""
            },
            "colorscale": [
             [
              0,
              "#0d0887"
             ],
             [
              0.1111111111111111,
              "#46039f"
             ],
             [
              0.2222222222222222,
              "#7201a8"
             ],
             [
              0.3333333333333333,
              "#9c179e"
             ],
             [
              0.4444444444444444,
              "#bd3786"
             ],
             [
              0.5555555555555556,
              "#d8576b"
             ],
             [
              0.6666666666666666,
              "#ed7953"
             ],
             [
              0.7777777777777778,
              "#fb9f3a"
             ],
             [
              0.8888888888888888,
              "#fdca26"
             ],
             [
              1,
              "#f0f921"
             ]
            ],
            "type": "histogram2d"
           }
          ],
          "histogram2dcontour": [
           {
            "colorbar": {
             "outlinewidth": 0,
             "ticks": ""
            },
            "colorscale": [
             [
              0,
              "#0d0887"
             ],
             [
              0.1111111111111111,
              "#46039f"
             ],
             [
              0.2222222222222222,
              "#7201a8"
             ],
             [
              0.3333333333333333,
              "#9c179e"
             ],
             [
              0.4444444444444444,
              "#bd3786"
             ],
             [
              0.5555555555555556,
              "#d8576b"
             ],
             [
              0.6666666666666666,
              "#ed7953"
             ],
             [
              0.7777777777777778,
              "#fb9f3a"
             ],
             [
              0.8888888888888888,
              "#fdca26"
             ],
             [
              1,
              "#f0f921"
             ]
            ],
            "type": "histogram2dcontour"
           }
          ],
          "mesh3d": [
           {
            "colorbar": {
             "outlinewidth": 0,
             "ticks": ""
            },
            "type": "mesh3d"
           }
          ],
          "parcoords": [
           {
            "line": {
             "colorbar": {
              "outlinewidth": 0,
              "ticks": ""
             }
            },
            "type": "parcoords"
           }
          ],
          "pie": [
           {
            "automargin": true,
            "type": "pie"
           }
          ],
          "scatter": [
           {
            "marker": {
             "colorbar": {
              "outlinewidth": 0,
              "ticks": ""
             }
            },
            "type": "scatter"
           }
          ],
          "scatter3d": [
           {
            "line": {
             "colorbar": {
              "outlinewidth": 0,
              "ticks": ""
             }
            },
            "marker": {
             "colorbar": {
              "outlinewidth": 0,
              "ticks": ""
             }
            },
            "type": "scatter3d"
           }
          ],
          "scattercarpet": [
           {
            "marker": {
             "colorbar": {
              "outlinewidth": 0,
              "ticks": ""
             }
            },
            "type": "scattercarpet"
           }
          ],
          "scattergeo": [
           {
            "marker": {
             "colorbar": {
              "outlinewidth": 0,
              "ticks": ""
             }
            },
            "type": "scattergeo"
           }
          ],
          "scattergl": [
           {
            "marker": {
             "colorbar": {
              "outlinewidth": 0,
              "ticks": ""
             }
            },
            "type": "scattergl"
           }
          ],
          "scattermapbox": [
           {
            "marker": {
             "colorbar": {
              "outlinewidth": 0,
              "ticks": ""
             }
            },
            "type": "scattermapbox"
           }
          ],
          "scatterpolar": [
           {
            "marker": {
             "colorbar": {
              "outlinewidth": 0,
              "ticks": ""
             }
            },
            "type": "scatterpolar"
           }
          ],
          "scatterpolargl": [
           {
            "marker": {
             "colorbar": {
              "outlinewidth": 0,
              "ticks": ""
             }
            },
            "type": "scatterpolargl"
           }
          ],
          "scatterternary": [
           {
            "marker": {
             "colorbar": {
              "outlinewidth": 0,
              "ticks": ""
             }
            },
            "type": "scatterternary"
           }
          ],
          "surface": [
           {
            "colorbar": {
             "outlinewidth": 0,
             "ticks": ""
            },
            "colorscale": [
             [
              0,
              "#0d0887"
             ],
             [
              0.1111111111111111,
              "#46039f"
             ],
             [
              0.2222222222222222,
              "#7201a8"
             ],
             [
              0.3333333333333333,
              "#9c179e"
             ],
             [
              0.4444444444444444,
              "#bd3786"
             ],
             [
              0.5555555555555556,
              "#d8576b"
             ],
             [
              0.6666666666666666,
              "#ed7953"
             ],
             [
              0.7777777777777778,
              "#fb9f3a"
             ],
             [
              0.8888888888888888,
              "#fdca26"
             ],
             [
              1,
              "#f0f921"
             ]
            ],
            "type": "surface"
           }
          ],
          "table": [
           {
            "cells": {
             "fill": {
              "color": "#EBF0F8"
             },
             "line": {
              "color": "white"
             }
            },
            "header": {
             "fill": {
              "color": "#C8D4E3"
             },
             "line": {
              "color": "white"
             }
            },
            "type": "table"
           }
          ]
         },
         "layout": {
          "annotationdefaults": {
           "arrowcolor": "#2a3f5f",
           "arrowhead": 0,
           "arrowwidth": 1
          },
          "autotypenumbers": "strict",
          "coloraxis": {
           "colorbar": {
            "outlinewidth": 0,
            "ticks": ""
           }
          },
          "colorscale": {
           "diverging": [
            [
             0,
             "#8e0152"
            ],
            [
             0.1,
             "#c51b7d"
            ],
            [
             0.2,
             "#de77ae"
            ],
            [
             0.3,
             "#f1b6da"
            ],
            [
             0.4,
             "#fde0ef"
            ],
            [
             0.5,
             "#f7f7f7"
            ],
            [
             0.6,
             "#e6f5d0"
            ],
            [
             0.7,
             "#b8e186"
            ],
            [
             0.8,
             "#7fbc41"
            ],
            [
             0.9,
             "#4d9221"
            ],
            [
             1,
             "#276419"
            ]
           ],
           "sequential": [
            [
             0,
             "#0d0887"
            ],
            [
             0.1111111111111111,
             "#46039f"
            ],
            [
             0.2222222222222222,
             "#7201a8"
            ],
            [
             0.3333333333333333,
             "#9c179e"
            ],
            [
             0.4444444444444444,
             "#bd3786"
            ],
            [
             0.5555555555555556,
             "#d8576b"
            ],
            [
             0.6666666666666666,
             "#ed7953"
            ],
            [
             0.7777777777777778,
             "#fb9f3a"
            ],
            [
             0.8888888888888888,
             "#fdca26"
            ],
            [
             1,
             "#f0f921"
            ]
           ],
           "sequentialminus": [
            [
             0,
             "#0d0887"
            ],
            [
             0.1111111111111111,
             "#46039f"
            ],
            [
             0.2222222222222222,
             "#7201a8"
            ],
            [
             0.3333333333333333,
             "#9c179e"
            ],
            [
             0.4444444444444444,
             "#bd3786"
            ],
            [
             0.5555555555555556,
             "#d8576b"
            ],
            [
             0.6666666666666666,
             "#ed7953"
            ],
            [
             0.7777777777777778,
             "#fb9f3a"
            ],
            [
             0.8888888888888888,
             "#fdca26"
            ],
            [
             1,
             "#f0f921"
            ]
           ]
          },
          "colorway": [
           "#636efa",
           "#EF553B",
           "#00cc96",
           "#ab63fa",
           "#FFA15A",
           "#19d3f3",
           "#FF6692",
           "#B6E880",
           "#FF97FF",
           "#FECB52"
          ],
          "font": {
           "color": "#2a3f5f"
          },
          "geo": {
           "bgcolor": "white",
           "lakecolor": "white",
           "landcolor": "#E5ECF6",
           "showlakes": true,
           "showland": true,
           "subunitcolor": "white"
          },
          "hoverlabel": {
           "align": "left"
          },
          "hovermode": "closest",
          "mapbox": {
           "style": "light"
          },
          "paper_bgcolor": "white",
          "plot_bgcolor": "#E5ECF6",
          "polar": {
           "angularaxis": {
            "gridcolor": "white",
            "linecolor": "white",
            "ticks": ""
           },
           "bgcolor": "#E5ECF6",
           "radialaxis": {
            "gridcolor": "white",
            "linecolor": "white",
            "ticks": ""
           }
          },
          "scene": {
           "xaxis": {
            "backgroundcolor": "#E5ECF6",
            "gridcolor": "white",
            "gridwidth": 2,
            "linecolor": "white",
            "showbackground": true,
            "ticks": "",
            "zerolinecolor": "white"
           },
           "yaxis": {
            "backgroundcolor": "#E5ECF6",
            "gridcolor": "white",
            "gridwidth": 2,
            "linecolor": "white",
            "showbackground": true,
            "ticks": "",
            "zerolinecolor": "white"
           },
           "zaxis": {
            "backgroundcolor": "#E5ECF6",
            "gridcolor": "white",
            "gridwidth": 2,
            "linecolor": "white",
            "showbackground": true,
            "ticks": "",
            "zerolinecolor": "white"
           }
          },
          "shapedefaults": {
           "line": {
            "color": "#2a3f5f"
           }
          },
          "ternary": {
           "aaxis": {
            "gridcolor": "white",
            "linecolor": "white",
            "ticks": ""
           },
           "baxis": {
            "gridcolor": "white",
            "linecolor": "white",
            "ticks": ""
           },
           "bgcolor": "#E5ECF6",
           "caxis": {
            "gridcolor": "white",
            "linecolor": "white",
            "ticks": ""
           }
          },
          "title": {
           "x": 0.05
          },
          "xaxis": {
           "automargin": true,
           "gridcolor": "white",
           "linecolor": "white",
           "ticks": "",
           "title": {
            "standoff": 15
           },
           "zerolinecolor": "white",
           "zerolinewidth": 2
          },
          "yaxis": {
           "automargin": true,
           "gridcolor": "white",
           "linecolor": "white",
           "ticks": "",
           "title": {
            "standoff": 15
           },
           "zerolinecolor": "white",
           "zerolinewidth": 2
          }
         }
        },
        "title": {
         "text": "Biplot: High in Fat and Protein, low in other nutrients"
        },
        "xaxis": {
         "anchor": "y",
         "domain": [
          0,
          1
         ],
         "title": {
          "text": "PC1"
         }
        },
        "yaxis": {
         "anchor": "x",
         "domain": [
          0,
          1
         ],
         "title": {
          "text": "PC2"
         }
        }
       }
      }
     },
     "metadata": {},
     "output_type": "display_data"
    }
   ],
   "source": [
    "fig = px.scatter(pca2_results, x=0, y=1, color=scaled_df['Type']) # create 2D scoreplot for PC1 and PC2\n",
    "fig.update_layout(\n",
    "    title='Biplot: High in Fat and Protein, low in other nutrients',\n",
    "    xaxis_title=\"PC1\",\n",
    "    yaxis_title=\"PC2\",\n",
    "    legend_title=\"Type\"\n",
    ")\n",
    "\n",
    "loadings = pca2.components_.T * np.sqrt(pca2.explained_variance_) # calculate loadings for the PCA\n",
    "\n",
    "# find the direction of the line when low protein and fat but high in other nutrients\n",
    "# nutrient values entered are based on food_df.describe\n",
    "# Protein and Fat: Maximum possible value\n",
    "# Other nutrients: Value at lower quartile\n",
    "pc1_point_qn_cii, pc2_point_qn_cii = calc_line(30, 40, 6, 1, 1, 2) # enter nutrient values into the function\n",
    "\n",
    "fig.add_shape( # add line to biplot\n",
    "    type='line',\n",
    "    x0=0, y0=0,\n",
    "    x1=pc1_point_qn_cii,\n",
    "    y1=pc2_point_qn_cii\n",
    ")\n",
    "fig.add_annotation( # annotate the line\n",
    "    x=pc1_point_qn_cii,\n",
    "    y=pc2_point_qn_cii,\n",
    "    ax=0, ay=0,\n",
    "    xanchor=\"center\",\n",
    "    yanchor=\"bottom\",\n",
    "    text='Direction based on nutrient values',\n",
    ")\n",
    "\n",
    "# add loadings to the plot\n",
    "features = list(scaled_data.columns) \n",
    "for i, feature in enumerate(features):\n",
    "    fig.add_shape(\n",
    "        type='line',\n",
    "        x0=0, y0=0,\n",
    "        x1=loadings[i, 0],\n",
    "        y1=loadings[i, 1]\n",
    "    )\n",
    "    fig.add_annotation(\n",
    "        x=loadings[i, 0],\n",
    "        y=loadings[i, 1],\n",
    "        ax=0, ay=0,\n",
    "        xanchor=\"center\",\n",
    "        yanchor=\"bottom\",\n",
    "        text=feature,\n",
    "    )\n",
    "\n",
    "fig.show()"
   ]
  },
  {
   "cell_type": "markdown",
   "id": "21c0c9fd",
   "metadata": {},
   "source": [
    "### (d): Calculate PC1 and PC2"
   ]
  },
  {
   "cell_type": "code",
   "execution_count": 71,
   "id": "25efae57",
   "metadata": {},
   "outputs": [
    {
     "data": {
      "text/plain": [
       "array([[ 0.14362031, -1.27258756]])"
      ]
     },
     "execution_count": 71,
     "metadata": {},
     "output_type": "execute_result"
    }
   ],
   "source": [
    "# code working for question (d)\n",
    "values = np.array([[0.3, 0.1, 19.6, 16.7, 2.9, 2]]) # put values in numpy array\n",
    "scaled_values = scaler.transform(pd.DataFrame(values, columns=scaled_data.columns)) # standardize values\n",
    "pc_equations = np.array(pca2.components_).T # transpose linear equations for PC1 and PC2\n",
    "\n",
    "score = np.dot(scaled_values, pc_equations) # matrix multiplication to get vector from nutrient values given\n",
    "\n",
    "score"
   ]
  },
  {
   "cell_type": "markdown",
   "id": "3766ceb6",
   "metadata": {},
   "source": [
    "### (d): Plot point on scoreplot"
   ]
  },
  {
   "cell_type": "code",
   "execution_count": 72,
   "id": "8aa17c53",
   "metadata": {},
   "outputs": [
    {
     "data": {
      "application/vnd.plotly.v1+json": {
       "config": {
        "plotlyServerURL": "https://plot.ly"
       },
       "data": [
        {
         "hovertemplate": "color=Poultry Products<br>0=%{x}<br>1=%{y}<extra></extra>",
         "legendgroup": "Poultry Products",
         "marker": {
          "color": "#636efa",
          "symbol": "circle"
         },
         "mode": "markers",
         "name": "Poultry Products",
         "orientation": "v",
         "showlegend": true,
         "type": "scatter",
         "x": [
          -2.1619094076809975,
          -2.3959376499305685,
          -2.512601962344579,
          -2.33377041821399,
          -2.2930405336376216,
          -2.319268988735718,
          -3.1018513203813294,
          -3.1717799558212882,
          -2.50026779638388,
          -2.409931589008039,
          -2.29446099988915,
          -2.2289960514521785,
          -2.2580053142223493,
          -2.2676515056345115,
          -2.2583615182513728,
          -2.234200645425279,
          -2.315144774677353,
          -2.2383039817096084,
          -2.248298815502143,
          -2.2019052102518377,
          -2.292544124073261,
          -2.346109876734983,
          -2.197331365117156,
          -2.434211051193121,
          -2.0238197568996426,
          -2.158234692494592,
          -2.1537720877898185,
          -2.3255240687531127,
          -2.1769965262221653,
          -2.2074959853522973,
          -2.432990342366953,
          -2.2594835487951865,
          -2.0330350169410147,
          -2.071358405819206,
          -2.2103183838610594,
          -2.3189546891686366,
          -2.0009675797589037,
          -2.3221382489354636,
          -2.457894085407029,
          -2.2395692226658466,
          -2.2380105138248676,
          -2.2568317666592295,
          -2.3163868188115595,
          -2.4475060416113164,
          -3.208165728792238,
          -2.3572553338962954,
          -2.095603006286087,
          -2.397012310007211,
          -2.1818901997303657,
          -2.019372889493587,
          -2.560589596353503,
          -2.2810765489355482,
          -2.201109920671357,
          -2.3814727358343366,
          -2.3812681681885737,
          -2.378348367933186,
          -2.3499469053717825,
          -2.2924547203145536
         ],
         "xaxis": "x",
         "y": [
          0.8533615712861073,
          1.5009166826485245,
          2.2080815460099217,
          1.3305425225788303,
          1.2280001214265521,
          1.1969516095364097,
          3.4712193540604903,
          3.7888452477881307,
          1.7906341912520083,
          1.608596436626536,
          1.0924255802190335,
          1.0952045087277102,
          1.1375802122637613,
          1.3611805537585466,
          1.0623861589030086,
          0.9768649898081332,
          1.3060331816938626,
          1.0593486325731083,
          1.2072317356683713,
          1.028753473928022,
          1.089617119492303,
          1.3869449254912838,
          0.9552304635076112,
          1.4442341293010807,
          1.3798279242455151,
          0.8652815712151669,
          0.8476248397468571,
          1.302726925165044,
          0.9257150284029316,
          1.0408379747721828,
          1.5478920432971124,
          1.1201097915657912,
          1.5701981659403776,
          0.7640037921524142,
          0.9883134707147017,
          1.2630025823190147,
          1.3259927704331937,
          1.175981554564355,
          1.7037764276972325,
          1.0751158424399272,
          1.2123064220621496,
          1.0815891294391116,
          1.663146776338371,
          1.705949597430549,
          3.8676897375358528,
          1.5118600394980175,
          1.5949428132351193,
          1.3425323423359712,
          0.9741872824258082,
          1.3378247358189506,
          1.978283756844944,
          1.340587180186782,
          0.9057264862088248,
          1.3193453749435708,
          1.3186260933650171,
          1.6362033638138829,
          1.488935513836921,
          1.0896959142089067
         ],
         "yaxis": "y"
        },
        {
         "hovertemplate": "color=Fruits and Fruit Juices<br>0=%{x}<br>1=%{y}<extra></extra>",
         "legendgroup": "Fruits and Fruit Juices",
         "marker": {
          "color": "#EF553B",
          "symbol": "circle"
         },
         "mode": "markers",
         "name": "Fruits and Fruit Juices",
         "orientation": "v",
         "showlegend": true,
         "type": "scatter",
         "x": [
          -0.16619495521322297,
          1.3620756804905967,
          -0.18092880081237084,
          0.34631426326832626,
          -0.19532652692476238,
          -0.2517172783573961,
          -0.3606607747872097,
          0.21841911629525712,
          0.2199775115316974,
          -0.13959338571808802,
          -0.1535638673026991,
          0.5788855074815177,
          -0.263900596622188,
          0.03365514717627905,
          -0.32303127601040255,
          0.2739106135018363,
          0.15319211946637326,
          0.0848699384746853,
          0.10702072055261613,
          0.25701735549128335,
          0.21262761301143998,
          0.33015742359124217,
          -0.01077815201084621,
          0.4404500035336577,
          -0.16619277460654436,
          -0.03601070065315812,
          -0.08053410326929482,
          0.15622813902197527,
          -0.3540649065342703,
          -0.19739145413823952,
          -0.20517911942615677,
          -0.2261473928156787,
          0.09992027331438212,
          0.11708023737242833,
          -0.3152424727023888,
          0.3546487440813024,
          0.5619909823700172,
          -0.2421596060516285,
          -0.2378742291947466,
          1.1034032268870386,
          0.613592125752421,
          -0.1735071656354051,
          -0.2542566739612496,
          0.07975098167258575,
          0.22573290920296318,
          2.968572762189406,
          -0.23366148804695644
         ],
         "xaxis": "x",
         "y": [
          -1.3527398111243112,
          -0.8913217755885864,
          -1.3558033948121484,
          -1.126726281570391,
          -1.3662024847303493,
          -1.3927145706075146,
          -1.4092068790546395,
          -1.1614510354527003,
          -1.236336272322581,
          -1.3519212291319114,
          -1.3294684674651285,
          -1.1059341996951604,
          -1.3335043619277132,
          -1.208155318809385,
          -1.3669934029042152,
          -1.224604207829179,
          -1.1790780455977505,
          -1.2324588287500664,
          -1.2248965866530734,
          -1.0622739844303022,
          -1.1418923538921708,
          -1.0950536853072668,
          -1.2491202597405948,
          -1.0513865756054577,
          -1.2959821185502507,
          -1.2255153640815477,
          -1.3419177358906647,
          -1.174443938391033,
          -1.3626831135780184,
          -1.370680062053317,
          -1.3708311926743282,
          -1.3584169069424037,
          -1.2824249593775867,
          -1.1947610279235257,
          -1.3571462485263253,
          -1.1676659766271924,
          -1.0957848607326628,
          -1.3773101720066778,
          -1.380930536694139,
          -0.9183983927600424,
          -1.0625307762514422,
          -1.3576075311729612,
          -1.3864604550777255,
          -1.2363524348059145,
          -1.174493635171945,
          -0.3487434401706064,
          -1.3634866973447588
         ],
         "yaxis": "y"
        },
        {
         "hovertemplate": "color=Breakfast Cereals<br>0=%{x}<br>1=%{y}<extra></extra>",
         "legendgroup": "Breakfast Cereals",
         "marker": {
          "color": "#00cc96",
          "symbol": "circle"
         },
         "mode": "markers",
         "name": "Breakfast Cereals",
         "orientation": "v",
         "showlegend": true,
         "type": "scatter",
         "x": [
          2.2136581744565764,
          1.9020987204502031,
          2.8014685248920954,
          2.945492267572037,
          2.8892362542898953,
          5.95131958344314,
          2.6154136077559276,
          3.018686079335096,
          2.626957744970454,
          1.7667621177212263,
          2.217832014725487,
          2.369891736802922,
          3.0689054244502274,
          1.6971889826702986,
          1.653848370476277,
          3.496749572232596,
          3.5555958699444337,
          1.9591133183609686,
          2.4892202820382825,
          2.0743146221020092,
          2.495542756344805,
          2.5401724884148327,
          2.63541931951706,
          1.6980647014433419,
          2.979196840946466,
          3.015149734601563,
          3.0835336422865103,
          2.9964161922254937,
          2.7537289234957463,
          2.1105247421675872,
          2.493987193843076,
          2.094932103494607,
          3.5274425576031354,
          1.7525707173820004,
          2.6032404035124634,
          3.5721215032851403,
          2.1094876397565523,
          2.3641088813746447,
          3.4547251037305795,
          2.637620899710566,
          1.9117474367834866,
          2.6853925884505254,
          2.6193958472021537,
          2.6230226569198702,
          2.782612948228615,
          2.553141043069775,
          2.6195046548223924,
          2.043919078182935,
          2.1794116884861006,
          2.8761356480619042,
          2.390833185453168,
          3.3289285585728634,
          3.1126669648588634,
          2.45917388125433,
          2.398472352904253,
          2.402644496079948,
          2.2724306526007294,
          2.3262398581045005,
          2.4094264993248107,
          1.5983493181492465
         ],
         "xaxis": "x",
         "y": [
          0.8460736714386442,
          0.8408821983471136,
          1.211169086469258,
          1.1202034003099983,
          1.610761162372633,
          1.686970497624281,
          0.6284230397646305,
          0.9146748223305501,
          1.015231217446342,
          0.40166020255384355,
          1.0241259431562024,
          0.7463741832645799,
          1.4751931395439501,
          0.629783155815448,
          0.8865827821957034,
          1.3669872360067916,
          1.2920241981707101,
          0.600994204389749,
          1.045207109663143,
          1.0246003607230225,
          0.810534152414175,
          0.9758956162692506,
          1.2368350757727353,
          0.8921689120559407,
          1.378392742993035,
          0.7565789466476588,
          1.0298223937235038,
          1.4523677882114314,
          0.6947182244171851,
          0.9326150175606466,
          0.9313137091962018,
          0.5901189096733118,
          0.8093792514380644,
          1.008799922487943,
          0.7542061696347806,
          0.8650937070150803,
          0.8934669412782773,
          1.0160851890925926,
          0.9038971927065412,
          0.8109141128371803,
          0.9680829005225653,
          0.9275373402801571,
          0.8116908289088315,
          0.9186921953797423,
          1.141203091619465,
          0.8488227686081371,
          1.2160020081273555,
          1.258009943859505,
          0.9496035088341979,
          1.3751532709268293,
          1.2652166443052617,
          0.864990523000378,
          1.2554274627284419,
          1.1176844212771326,
          1.0102814912699567,
          0.9241765074908689,
          0.8698248777762037,
          1.131956198669988,
          1.019311807986519,
          0.44401694401627967
         ],
         "yaxis": "y"
        },
        {
         "hovertemplate": "color=Vegetables and Vegetable Products<br>0=%{x}<br>1=%{y}<extra></extra>",
         "legendgroup": "Vegetables and Vegetable Products",
         "marker": {
          "color": "#ab63fa",
          "symbol": "circle"
         },
         "mode": "markers",
         "name": "Vegetables and Vegetable Products",
         "orientation": "v",
         "showlegend": true,
         "type": "scatter",
         "x": [
          -0.6105646281910385,
          -0.635503015720522,
          -0.6292327284542786,
          -0.5110541855459355,
          -0.6725655761901758,
          -0.5233898527683839,
          -0.4479963148669378,
          -0.5036604776874255,
          -0.5525170071086248,
          -0.5036604776874255,
          -0.6097385697733401,
          -0.6744946493245797,
          -0.5603698838471031,
          -0.5542692881992823,
          -0.04230016976162199,
          -0.37226321948258406,
          -0.583501153513138,
          -0.5110541855459355,
          -0.5805222215332047,
          0.7926377384165972,
          -0.4736467737009946,
          -0.6191374339656702,
          -0.5525170071086248,
          0.3060756182479737,
          -0.06531278896898594,
          -0.6566655028808759,
          -0.5805222215332047,
          -0.5693551667302882,
          -0.6857524846498517,
          0.6443280160352939,
          -0.5982975793975676,
          -0.29523591684413736,
          -0.6778704975677459,
          -0.4160228829905262,
          -0.6292327284542786,
          -0.4517242710786086,
          -0.6019879855818829,
          -0.7489239759108797,
          -0.7498636515195476,
          -0.5233898527683839,
          0.7926377384165972,
          -0.6386988233234896,
          -0.201129093689262,
          -0.5708589686942979,
          0.28972392538853586,
          0.32945020717671913,
          -0.5633470262058935,
          -0.6522424137220155,
          -0.669938483988701,
          -0.16402451528517537,
          -0.6012537783357049,
          0.19092690491253092,
          -0.06531278896898594,
          0.32945020717671913,
          -0.46586380235624464,
          -0.6778704975677459,
          -0.6149992341349451,
          -0.6659390014675377,
          -0.6149992341349451,
          -0.5171789768037305,
          0.6443280160352939,
          -0.18743365925414823,
          -0.5049474592758771,
          -0.5142583091312107,
          -0.4553040224816551,
          -0.6620021357483813,
          -0.6599751534323773,
          -0.7178657477195606,
          -0.16402451528517537
         ],
         "xaxis": "x",
         "y": [
          -1.4453416674142274,
          -1.3668182152366308,
          -1.420444108811968,
          -1.227922753295945,
          -1.3736065069109475,
          -1.245079698783707,
          -1.1533961110411848,
          -1.2683719726630498,
          -1.362514587938567,
          -1.2683719726630498,
          -1.3152473457708038,
          -1.3897325470756539,
          -1.2211867584705447,
          -1.2535467843911634,
          -0.9256705160726506,
          -1.2160971389818558,
          -1.3450049183998731,
          -1.227922753295945,
          -1.27654333196382,
          -0.4169528150774019,
          -1.3499250652201988,
          -1.2921313390702613,
          -1.362514587938567,
          -0.7109860995004899,
          -0.9844065298721829,
          -1.300676482439547,
          -1.27654333196382,
          -1.3589482599600922,
          -1.3943713604142383,
          -0.4791052731820692,
          -1.3388709190573407,
          -1.1037723014596856,
          -1.4667728629679224,
          -1.3280484457299084,
          -1.420444108811968,
          -1.2844601013144152,
          -1.375283107408087,
          -1.5153930755373315,
          -1.4578811410140542,
          -1.245079698783707,
          -0.4169528150774019,
          -1.4010350062245298,
          -1.1115989150788264,
          -1.4393660131498796,
          -0.6187003510881522,
          -0.7632766786285613,
          -1.3149892368881173,
          -1.3405051331881932,
          -1.3040115280717972,
          -1.1043164879073892,
          -1.4411959588811722,
          -0.8081187431753091,
          -0.9844065298721829,
          -0.7632766786285613,
          -1.170650534401905,
          -1.4667728629679224,
          -1.3294206451991768,
          -1.3126301647242824,
          -1.3294206451991768,
          -1.5119215934264991,
          -0.4791052731820692,
          -1.0871943221317715,
          -1.2070121388595085,
          -1.2111578473925635,
          -1.2676040310623946,
          -1.473992239274169,
          -1.3439481792580186,
          -1.3487333087903972,
          -1.1043164879073892
         ],
         "yaxis": "y"
        },
        {
         "marker": {
          "color": "darkslateblue",
          "size": 14
         },
         "mode": "markers",
         "name": "Point Calculated",
         "showlegend": true,
         "type": "scatter",
         "x": [
          0.14362030921625432
         ],
         "y": [
          -1.272587560095321
         ]
        }
       ],
       "layout": {
        "legend": {
         "title": {
          "text": "Type"
         },
         "tracegroupgap": 0
        },
        "margin": {
         "t": 60
        },
        "template": {
         "data": {
          "bar": [
           {
            "error_x": {
             "color": "#2a3f5f"
            },
            "error_y": {
             "color": "#2a3f5f"
            },
            "marker": {
             "line": {
              "color": "#E5ECF6",
              "width": 0.5
             },
             "pattern": {
              "fillmode": "overlay",
              "size": 10,
              "solidity": 0.2
             }
            },
            "type": "bar"
           }
          ],
          "barpolar": [
           {
            "marker": {
             "line": {
              "color": "#E5ECF6",
              "width": 0.5
             },
             "pattern": {
              "fillmode": "overlay",
              "size": 10,
              "solidity": 0.2
             }
            },
            "type": "barpolar"
           }
          ],
          "carpet": [
           {
            "aaxis": {
             "endlinecolor": "#2a3f5f",
             "gridcolor": "white",
             "linecolor": "white",
             "minorgridcolor": "white",
             "startlinecolor": "#2a3f5f"
            },
            "baxis": {
             "endlinecolor": "#2a3f5f",
             "gridcolor": "white",
             "linecolor": "white",
             "minorgridcolor": "white",
             "startlinecolor": "#2a3f5f"
            },
            "type": "carpet"
           }
          ],
          "choropleth": [
           {
            "colorbar": {
             "outlinewidth": 0,
             "ticks": ""
            },
            "type": "choropleth"
           }
          ],
          "contour": [
           {
            "colorbar": {
             "outlinewidth": 0,
             "ticks": ""
            },
            "colorscale": [
             [
              0,
              "#0d0887"
             ],
             [
              0.1111111111111111,
              "#46039f"
             ],
             [
              0.2222222222222222,
              "#7201a8"
             ],
             [
              0.3333333333333333,
              "#9c179e"
             ],
             [
              0.4444444444444444,
              "#bd3786"
             ],
             [
              0.5555555555555556,
              "#d8576b"
             ],
             [
              0.6666666666666666,
              "#ed7953"
             ],
             [
              0.7777777777777778,
              "#fb9f3a"
             ],
             [
              0.8888888888888888,
              "#fdca26"
             ],
             [
              1,
              "#f0f921"
             ]
            ],
            "type": "contour"
           }
          ],
          "contourcarpet": [
           {
            "colorbar": {
             "outlinewidth": 0,
             "ticks": ""
            },
            "type": "contourcarpet"
           }
          ],
          "heatmap": [
           {
            "colorbar": {
             "outlinewidth": 0,
             "ticks": ""
            },
            "colorscale": [
             [
              0,
              "#0d0887"
             ],
             [
              0.1111111111111111,
              "#46039f"
             ],
             [
              0.2222222222222222,
              "#7201a8"
             ],
             [
              0.3333333333333333,
              "#9c179e"
             ],
             [
              0.4444444444444444,
              "#bd3786"
             ],
             [
              0.5555555555555556,
              "#d8576b"
             ],
             [
              0.6666666666666666,
              "#ed7953"
             ],
             [
              0.7777777777777778,
              "#fb9f3a"
             ],
             [
              0.8888888888888888,
              "#fdca26"
             ],
             [
              1,
              "#f0f921"
             ]
            ],
            "type": "heatmap"
           }
          ],
          "heatmapgl": [
           {
            "colorbar": {
             "outlinewidth": 0,
             "ticks": ""
            },
            "colorscale": [
             [
              0,
              "#0d0887"
             ],
             [
              0.1111111111111111,
              "#46039f"
             ],
             [
              0.2222222222222222,
              "#7201a8"
             ],
             [
              0.3333333333333333,
              "#9c179e"
             ],
             [
              0.4444444444444444,
              "#bd3786"
             ],
             [
              0.5555555555555556,
              "#d8576b"
             ],
             [
              0.6666666666666666,
              "#ed7953"
             ],
             [
              0.7777777777777778,
              "#fb9f3a"
             ],
             [
              0.8888888888888888,
              "#fdca26"
             ],
             [
              1,
              "#f0f921"
             ]
            ],
            "type": "heatmapgl"
           }
          ],
          "histogram": [
           {
            "marker": {
             "pattern": {
              "fillmode": "overlay",
              "size": 10,
              "solidity": 0.2
             }
            },
            "type": "histogram"
           }
          ],
          "histogram2d": [
           {
            "colorbar": {
             "outlinewidth": 0,
             "ticks": ""
            },
            "colorscale": [
             [
              0,
              "#0d0887"
             ],
             [
              0.1111111111111111,
              "#46039f"
             ],
             [
              0.2222222222222222,
              "#7201a8"
             ],
             [
              0.3333333333333333,
              "#9c179e"
             ],
             [
              0.4444444444444444,
              "#bd3786"
             ],
             [
              0.5555555555555556,
              "#d8576b"
             ],
             [
              0.6666666666666666,
              "#ed7953"
             ],
             [
              0.7777777777777778,
              "#fb9f3a"
             ],
             [
              0.8888888888888888,
              "#fdca26"
             ],
             [
              1,
              "#f0f921"
             ]
            ],
            "type": "histogram2d"
           }
          ],
          "histogram2dcontour": [
           {
            "colorbar": {
             "outlinewidth": 0,
             "ticks": ""
            },
            "colorscale": [
             [
              0,
              "#0d0887"
             ],
             [
              0.1111111111111111,
              "#46039f"
             ],
             [
              0.2222222222222222,
              "#7201a8"
             ],
             [
              0.3333333333333333,
              "#9c179e"
             ],
             [
              0.4444444444444444,
              "#bd3786"
             ],
             [
              0.5555555555555556,
              "#d8576b"
             ],
             [
              0.6666666666666666,
              "#ed7953"
             ],
             [
              0.7777777777777778,
              "#fb9f3a"
             ],
             [
              0.8888888888888888,
              "#fdca26"
             ],
             [
              1,
              "#f0f921"
             ]
            ],
            "type": "histogram2dcontour"
           }
          ],
          "mesh3d": [
           {
            "colorbar": {
             "outlinewidth": 0,
             "ticks": ""
            },
            "type": "mesh3d"
           }
          ],
          "parcoords": [
           {
            "line": {
             "colorbar": {
              "outlinewidth": 0,
              "ticks": ""
             }
            },
            "type": "parcoords"
           }
          ],
          "pie": [
           {
            "automargin": true,
            "type": "pie"
           }
          ],
          "scatter": [
           {
            "marker": {
             "colorbar": {
              "outlinewidth": 0,
              "ticks": ""
             }
            },
            "type": "scatter"
           }
          ],
          "scatter3d": [
           {
            "line": {
             "colorbar": {
              "outlinewidth": 0,
              "ticks": ""
             }
            },
            "marker": {
             "colorbar": {
              "outlinewidth": 0,
              "ticks": ""
             }
            },
            "type": "scatter3d"
           }
          ],
          "scattercarpet": [
           {
            "marker": {
             "colorbar": {
              "outlinewidth": 0,
              "ticks": ""
             }
            },
            "type": "scattercarpet"
           }
          ],
          "scattergeo": [
           {
            "marker": {
             "colorbar": {
              "outlinewidth": 0,
              "ticks": ""
             }
            },
            "type": "scattergeo"
           }
          ],
          "scattergl": [
           {
            "marker": {
             "colorbar": {
              "outlinewidth": 0,
              "ticks": ""
             }
            },
            "type": "scattergl"
           }
          ],
          "scattermapbox": [
           {
            "marker": {
             "colorbar": {
              "outlinewidth": 0,
              "ticks": ""
             }
            },
            "type": "scattermapbox"
           }
          ],
          "scatterpolar": [
           {
            "marker": {
             "colorbar": {
              "outlinewidth": 0,
              "ticks": ""
             }
            },
            "type": "scatterpolar"
           }
          ],
          "scatterpolargl": [
           {
            "marker": {
             "colorbar": {
              "outlinewidth": 0,
              "ticks": ""
             }
            },
            "type": "scatterpolargl"
           }
          ],
          "scatterternary": [
           {
            "marker": {
             "colorbar": {
              "outlinewidth": 0,
              "ticks": ""
             }
            },
            "type": "scatterternary"
           }
          ],
          "surface": [
           {
            "colorbar": {
             "outlinewidth": 0,
             "ticks": ""
            },
            "colorscale": [
             [
              0,
              "#0d0887"
             ],
             [
              0.1111111111111111,
              "#46039f"
             ],
             [
              0.2222222222222222,
              "#7201a8"
             ],
             [
              0.3333333333333333,
              "#9c179e"
             ],
             [
              0.4444444444444444,
              "#bd3786"
             ],
             [
              0.5555555555555556,
              "#d8576b"
             ],
             [
              0.6666666666666666,
              "#ed7953"
             ],
             [
              0.7777777777777778,
              "#fb9f3a"
             ],
             [
              0.8888888888888888,
              "#fdca26"
             ],
             [
              1,
              "#f0f921"
             ]
            ],
            "type": "surface"
           }
          ],
          "table": [
           {
            "cells": {
             "fill": {
              "color": "#EBF0F8"
             },
             "line": {
              "color": "white"
             }
            },
            "header": {
             "fill": {
              "color": "#C8D4E3"
             },
             "line": {
              "color": "white"
             }
            },
            "type": "table"
           }
          ]
         },
         "layout": {
          "annotationdefaults": {
           "arrowcolor": "#2a3f5f",
           "arrowhead": 0,
           "arrowwidth": 1
          },
          "autotypenumbers": "strict",
          "coloraxis": {
           "colorbar": {
            "outlinewidth": 0,
            "ticks": ""
           }
          },
          "colorscale": {
           "diverging": [
            [
             0,
             "#8e0152"
            ],
            [
             0.1,
             "#c51b7d"
            ],
            [
             0.2,
             "#de77ae"
            ],
            [
             0.3,
             "#f1b6da"
            ],
            [
             0.4,
             "#fde0ef"
            ],
            [
             0.5,
             "#f7f7f7"
            ],
            [
             0.6,
             "#e6f5d0"
            ],
            [
             0.7,
             "#b8e186"
            ],
            [
             0.8,
             "#7fbc41"
            ],
            [
             0.9,
             "#4d9221"
            ],
            [
             1,
             "#276419"
            ]
           ],
           "sequential": [
            [
             0,
             "#0d0887"
            ],
            [
             0.1111111111111111,
             "#46039f"
            ],
            [
             0.2222222222222222,
             "#7201a8"
            ],
            [
             0.3333333333333333,
             "#9c179e"
            ],
            [
             0.4444444444444444,
             "#bd3786"
            ],
            [
             0.5555555555555556,
             "#d8576b"
            ],
            [
             0.6666666666666666,
             "#ed7953"
            ],
            [
             0.7777777777777778,
             "#fb9f3a"
            ],
            [
             0.8888888888888888,
             "#fdca26"
            ],
            [
             1,
             "#f0f921"
            ]
           ],
           "sequentialminus": [
            [
             0,
             "#0d0887"
            ],
            [
             0.1111111111111111,
             "#46039f"
            ],
            [
             0.2222222222222222,
             "#7201a8"
            ],
            [
             0.3333333333333333,
             "#9c179e"
            ],
            [
             0.4444444444444444,
             "#bd3786"
            ],
            [
             0.5555555555555556,
             "#d8576b"
            ],
            [
             0.6666666666666666,
             "#ed7953"
            ],
            [
             0.7777777777777778,
             "#fb9f3a"
            ],
            [
             0.8888888888888888,
             "#fdca26"
            ],
            [
             1,
             "#f0f921"
            ]
           ]
          },
          "colorway": [
           "#636efa",
           "#EF553B",
           "#00cc96",
           "#ab63fa",
           "#FFA15A",
           "#19d3f3",
           "#FF6692",
           "#B6E880",
           "#FF97FF",
           "#FECB52"
          ],
          "font": {
           "color": "#2a3f5f"
          },
          "geo": {
           "bgcolor": "white",
           "lakecolor": "white",
           "landcolor": "#E5ECF6",
           "showlakes": true,
           "showland": true,
           "subunitcolor": "white"
          },
          "hoverlabel": {
           "align": "left"
          },
          "hovermode": "closest",
          "mapbox": {
           "style": "light"
          },
          "paper_bgcolor": "white",
          "plot_bgcolor": "#E5ECF6",
          "polar": {
           "angularaxis": {
            "gridcolor": "white",
            "linecolor": "white",
            "ticks": ""
           },
           "bgcolor": "#E5ECF6",
           "radialaxis": {
            "gridcolor": "white",
            "linecolor": "white",
            "ticks": ""
           }
          },
          "scene": {
           "xaxis": {
            "backgroundcolor": "#E5ECF6",
            "gridcolor": "white",
            "gridwidth": 2,
            "linecolor": "white",
            "showbackground": true,
            "ticks": "",
            "zerolinecolor": "white"
           },
           "yaxis": {
            "backgroundcolor": "#E5ECF6",
            "gridcolor": "white",
            "gridwidth": 2,
            "linecolor": "white",
            "showbackground": true,
            "ticks": "",
            "zerolinecolor": "white"
           },
           "zaxis": {
            "backgroundcolor": "#E5ECF6",
            "gridcolor": "white",
            "gridwidth": 2,
            "linecolor": "white",
            "showbackground": true,
            "ticks": "",
            "zerolinecolor": "white"
           }
          },
          "shapedefaults": {
           "line": {
            "color": "#2a3f5f"
           }
          },
          "ternary": {
           "aaxis": {
            "gridcolor": "white",
            "linecolor": "white",
            "ticks": ""
           },
           "baxis": {
            "gridcolor": "white",
            "linecolor": "white",
            "ticks": ""
           },
           "bgcolor": "#E5ECF6",
           "caxis": {
            "gridcolor": "white",
            "linecolor": "white",
            "ticks": ""
           }
          },
          "title": {
           "x": 0.05
          },
          "xaxis": {
           "automargin": true,
           "gridcolor": "white",
           "linecolor": "white",
           "ticks": "",
           "title": {
            "standoff": 15
           },
           "zerolinecolor": "white",
           "zerolinewidth": 2
          },
          "yaxis": {
           "automargin": true,
           "gridcolor": "white",
           "linecolor": "white",
           "ticks": "",
           "title": {
            "standoff": 15
           },
           "zerolinecolor": "white",
           "zerolinewidth": 2
          }
         }
        },
        "title": {
         "text": "Score Plot with Point Calculated"
        },
        "xaxis": {
         "anchor": "y",
         "domain": [
          0,
          1
         ],
         "title": {
          "text": "PC1"
         }
        },
        "yaxis": {
         "anchor": "x",
         "domain": [
          0,
          1
         ],
         "title": {
          "text": "PC2"
         }
        }
       }
      }
     },
     "metadata": {},
     "output_type": "display_data"
    }
   ],
   "source": [
    "fig = px.scatter(pca2_results, x=0, y=1, color=scaled_df['Type']) # create 2D scoreplot for PC1 and PC2\n",
    "fig.update_layout(\n",
    "    title='Score Plot with Point Calculated',\n",
    "    xaxis_title=\"PC1\",\n",
    "    yaxis_title=\"PC2\",\n",
    "    legend_title=\"Type\"\n",
    ")\n",
    "\n",
    "fig.add_trace( # plot the calculated score on the score plot\n",
    "    go.Scatter(\n",
    "        mode='markers',\n",
    "        x=[score[0, 0]],\n",
    "        y=[score[0, 1]],\n",
    "        marker=dict(\n",
    "            color='darkslateblue',\n",
    "            size=14,\n",
    "        ),\n",
    "        showlegend=True,\n",
    "        name='Point Calculated'\n",
    "    )\n",
    ")\n",
    "\n",
    "fig.show()"
   ]
  }
 ],
 "metadata": {
  "kernelspec": {
   "display_name": "Python 3.9.12 ('base')",
   "language": "python",
   "name": "python3"
  },
  "language_info": {
   "codemirror_mode": {
    "name": "ipython",
    "version": 3
   },
   "file_extension": ".py",
   "mimetype": "text/x-python",
   "name": "python",
   "nbconvert_exporter": "python",
   "pygments_lexer": "ipython3",
   "version": "3.9.12"
  },
  "vscode": {
   "interpreter": {
    "hash": "ad1e90dd35242546347ae0be74715b4ea8f8a6c3090d0f2f088b2f51b4fc6fdd"
   }
  }
 },
 "nbformat": 4,
 "nbformat_minor": 5
}
