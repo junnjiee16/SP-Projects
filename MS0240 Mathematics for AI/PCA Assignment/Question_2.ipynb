{
 "cells": [
  {
   "cell_type": "markdown",
   "metadata": {},
   "source": [
    "# MS0240 MAI Assignment 1 PCA: Question 2\n",
    "Carry out PCA on a wine dataset.\n",
    "\n",
    "This dataset is contains quantities of seven constituents found in each wine and the cultivator of the wine. The quantities are recorded in their respective units of measurement. The wines are grown in the same region in Italy but by three different cultivators."
   ]
  },
  {
   "cell_type": "code",
   "execution_count": 188,
   "metadata": {},
   "outputs": [],
   "source": [
    "# load necessary libraries for this task\n",
    "import numpy as np\n",
    "import pandas as pd\n",
    "import matplotlib.pyplot as plt\n",
    "import seaborn as sns\n",
    "from sklearn.preprocessing import StandardScaler\n",
    "from sklearn.decomposition import PCA\n",
    "import plotly.express as px\n",
    "import plotly.graph_objects as go"
   ]
  },
  {
   "cell_type": "markdown",
   "metadata": {},
   "source": [
    "## Information about the dataset\n",
    "This dataset has 7 continuous variables and 1 categorical variable which is `cultivator`\n",
    "\n",
    "From the numerical summary, it can be seen that variables have different units of measurement. Variables also have differing magnitudes as the mean of each variable are have large ranges from each other\n",
    "\n",
    "From the boxplot, it can be seen that `proline (mg/L)` has the largest box out of all the boxplots, implying that the magnitude is very large compared to all other variables.\n",
    "\n"
   ]
  },
  {
   "cell_type": "code",
   "execution_count": 189,
   "metadata": {},
   "outputs": [
    {
     "data": {
      "text/html": [
       "<div>\n",
       "<style scoped>\n",
       "    .dataframe tbody tr th:only-of-type {\n",
       "        vertical-align: middle;\n",
       "    }\n",
       "\n",
       "    .dataframe tbody tr th {\n",
       "        vertical-align: top;\n",
       "    }\n",
       "\n",
       "    .dataframe thead th {\n",
       "        text-align: right;\n",
       "    }\n",
       "</style>\n",
       "<table border=\"1\" class=\"dataframe\">\n",
       "  <thead>\n",
       "    <tr style=\"text-align: right;\">\n",
       "      <th></th>\n",
       "      <th>alcohol (%v/v at 20°C)</th>\n",
       "      <th>malic_acid (g/L)</th>\n",
       "      <th>magnesium (mg/L)</th>\n",
       "      <th>flavanoids (mg/L)</th>\n",
       "      <th>nonflavanoid_phenols (mg/L)</th>\n",
       "      <th>color_intensity (units)</th>\n",
       "      <th>proline (mg/L)</th>\n",
       "      <th>cultivator</th>\n",
       "    </tr>\n",
       "  </thead>\n",
       "  <tbody>\n",
       "    <tr>\n",
       "      <th>0</th>\n",
       "      <td>14.23</td>\n",
       "      <td>1.71</td>\n",
       "      <td>127</td>\n",
       "      <td>3.06</td>\n",
       "      <td>0.28</td>\n",
       "      <td>5.64</td>\n",
       "      <td>1065</td>\n",
       "      <td>0</td>\n",
       "    </tr>\n",
       "    <tr>\n",
       "      <th>1</th>\n",
       "      <td>13.20</td>\n",
       "      <td>1.78</td>\n",
       "      <td>100</td>\n",
       "      <td>2.76</td>\n",
       "      <td>0.26</td>\n",
       "      <td>4.38</td>\n",
       "      <td>1050</td>\n",
       "      <td>0</td>\n",
       "    </tr>\n",
       "    <tr>\n",
       "      <th>2</th>\n",
       "      <td>13.16</td>\n",
       "      <td>2.36</td>\n",
       "      <td>101</td>\n",
       "      <td>3.24</td>\n",
       "      <td>0.30</td>\n",
       "      <td>5.68</td>\n",
       "      <td>1185</td>\n",
       "      <td>0</td>\n",
       "    </tr>\n",
       "    <tr>\n",
       "      <th>3</th>\n",
       "      <td>14.37</td>\n",
       "      <td>1.95</td>\n",
       "      <td>113</td>\n",
       "      <td>3.49</td>\n",
       "      <td>0.24</td>\n",
       "      <td>7.80</td>\n",
       "      <td>1480</td>\n",
       "      <td>0</td>\n",
       "    </tr>\n",
       "    <tr>\n",
       "      <th>4</th>\n",
       "      <td>13.24</td>\n",
       "      <td>2.59</td>\n",
       "      <td>118</td>\n",
       "      <td>2.69</td>\n",
       "      <td>0.39</td>\n",
       "      <td>4.32</td>\n",
       "      <td>735</td>\n",
       "      <td>0</td>\n",
       "    </tr>\n",
       "  </tbody>\n",
       "</table>\n",
       "</div>"
      ],
      "text/plain": [
       "   alcohol (%v/v at 20°C)  malic_acid (g/L)  magnesium (mg/L)  \\\n",
       "0                   14.23              1.71               127   \n",
       "1                   13.20              1.78               100   \n",
       "2                   13.16              2.36               101   \n",
       "3                   14.37              1.95               113   \n",
       "4                   13.24              2.59               118   \n",
       "\n",
       "   flavanoids (mg/L)  nonflavanoid_phenols (mg/L)  color_intensity (units)  \\\n",
       "0               3.06                         0.28                     5.64   \n",
       "1               2.76                         0.26                     4.38   \n",
       "2               3.24                         0.30                     5.68   \n",
       "3               3.49                         0.24                     7.80   \n",
       "4               2.69                         0.39                     4.32   \n",
       "\n",
       "   proline (mg/L)  cultivator  \n",
       "0            1065           0  \n",
       "1            1050           0  \n",
       "2            1185           0  \n",
       "3            1480           0  \n",
       "4             735           0  "
      ]
     },
     "execution_count": 189,
     "metadata": {},
     "output_type": "execute_result"
    }
   ],
   "source": [
    "wine_df = pd.read_csv('data/wine.csv', encoding= 'unicode_escape') # import data into pandas dataframe\n",
    "wine_df.head() # making sure dataset loaded properly"
   ]
  },
  {
   "cell_type": "code",
   "execution_count": 190,
   "metadata": {},
   "outputs": [],
   "source": [
    "wine_df['cultivator'] = wine_df['cultivator'].astype('object') # change cultivator to object as it is categorical"
   ]
  },
  {
   "cell_type": "code",
   "execution_count": 191,
   "metadata": {},
   "outputs": [
    {
     "name": "stdout",
     "output_type": "stream",
     "text": [
      "<class 'pandas.core.frame.DataFrame'>\n",
      "RangeIndex: 131 entries, 0 to 130\n",
      "Data columns (total 8 columns):\n",
      " #   Column                       Non-Null Count  Dtype  \n",
      "---  ------                       --------------  -----  \n",
      " 0   alcohol (%v/v at 20°C)       131 non-null    float64\n",
      " 1   malic_acid (g/L)             131 non-null    float64\n",
      " 2   magnesium (mg/L)             131 non-null    int64  \n",
      " 3   flavanoids (mg/L)            131 non-null    float64\n",
      " 4   nonflavanoid_phenols (mg/L)  131 non-null    float64\n",
      " 5   color_intensity (units)      131 non-null    float64\n",
      " 6   proline (mg/L)               131 non-null    int64  \n",
      " 7   cultivator                   131 non-null    object \n",
      "dtypes: float64(5), int64(2), object(1)\n",
      "memory usage: 8.3+ KB\n"
     ]
    }
   ],
   "source": [
    "wine_df.info()"
   ]
  },
  {
   "cell_type": "markdown",
   "metadata": {},
   "source": [
    "### Descriptive Summary"
   ]
  },
  {
   "cell_type": "code",
   "execution_count": 192,
   "metadata": {},
   "outputs": [
    {
     "data": {
      "text/html": [
       "<div>\n",
       "<style scoped>\n",
       "    .dataframe tbody tr th:only-of-type {\n",
       "        vertical-align: middle;\n",
       "    }\n",
       "\n",
       "    .dataframe tbody tr th {\n",
       "        vertical-align: top;\n",
       "    }\n",
       "\n",
       "    .dataframe thead th {\n",
       "        text-align: right;\n",
       "    }\n",
       "</style>\n",
       "<table border=\"1\" class=\"dataframe\">\n",
       "  <thead>\n",
       "    <tr style=\"text-align: right;\">\n",
       "      <th></th>\n",
       "      <th>alcohol (%v/v at 20°C)</th>\n",
       "      <th>malic_acid (g/L)</th>\n",
       "      <th>magnesium (mg/L)</th>\n",
       "      <th>flavanoids (mg/L)</th>\n",
       "      <th>nonflavanoid_phenols (mg/L)</th>\n",
       "      <th>color_intensity (units)</th>\n",
       "      <th>proline (mg/L)</th>\n",
       "    </tr>\n",
       "  </thead>\n",
       "  <tbody>\n",
       "    <tr>\n",
       "      <th>count</th>\n",
       "      <td>131.000000</td>\n",
       "      <td>131.000000</td>\n",
       "      <td>131.000000</td>\n",
       "      <td>131.000000</td>\n",
       "      <td>131.000000</td>\n",
       "      <td>131.000000</td>\n",
       "      <td>131.000000</td>\n",
       "    </tr>\n",
       "    <tr>\n",
       "      <th>mean</th>\n",
       "      <td>12.987786</td>\n",
       "      <td>2.324733</td>\n",
       "      <td>97.679389</td>\n",
       "      <td>1.984580</td>\n",
       "      <td>0.369008</td>\n",
       "      <td>5.079771</td>\n",
       "      <td>749.885496</td>\n",
       "    </tr>\n",
       "    <tr>\n",
       "      <th>std</th>\n",
       "      <td>0.797958</td>\n",
       "      <td>1.043741</td>\n",
       "      <td>11.576679</td>\n",
       "      <td>1.001207</td>\n",
       "      <td>0.118204</td>\n",
       "      <td>2.201531</td>\n",
       "      <td>322.561852</td>\n",
       "    </tr>\n",
       "    <tr>\n",
       "      <th>min</th>\n",
       "      <td>11.410000</td>\n",
       "      <td>0.740000</td>\n",
       "      <td>70.000000</td>\n",
       "      <td>0.340000</td>\n",
       "      <td>0.170000</td>\n",
       "      <td>1.280000</td>\n",
       "      <td>278.000000</td>\n",
       "    </tr>\n",
       "    <tr>\n",
       "      <th>25%</th>\n",
       "      <td>12.315000</td>\n",
       "      <td>1.645000</td>\n",
       "      <td>88.000000</td>\n",
       "      <td>0.880000</td>\n",
       "      <td>0.280000</td>\n",
       "      <td>3.250000</td>\n",
       "      <td>505.000000</td>\n",
       "    </tr>\n",
       "    <tr>\n",
       "      <th>50%</th>\n",
       "      <td>13.050000</td>\n",
       "      <td>1.880000</td>\n",
       "      <td>97.000000</td>\n",
       "      <td>2.110000</td>\n",
       "      <td>0.370000</td>\n",
       "      <td>4.900000</td>\n",
       "      <td>672.000000</td>\n",
       "    </tr>\n",
       "    <tr>\n",
       "      <th>75%</th>\n",
       "      <td>13.685000</td>\n",
       "      <td>2.975000</td>\n",
       "      <td>105.500000</td>\n",
       "      <td>2.890000</td>\n",
       "      <td>0.435000</td>\n",
       "      <td>6.275000</td>\n",
       "      <td>1005.000000</td>\n",
       "    </tr>\n",
       "    <tr>\n",
       "      <th>max</th>\n",
       "      <td>14.390000</td>\n",
       "      <td>5.510000</td>\n",
       "      <td>127.000000</td>\n",
       "      <td>3.740000</td>\n",
       "      <td>0.630000</td>\n",
       "      <td>10.680000</td>\n",
       "      <td>1547.000000</td>\n",
       "    </tr>\n",
       "  </tbody>\n",
       "</table>\n",
       "</div>"
      ],
      "text/plain": [
       "       alcohol (%v/v at 20°C)  malic_acid (g/L)  magnesium (mg/L)  \\\n",
       "count              131.000000        131.000000        131.000000   \n",
       "mean                12.987786          2.324733         97.679389   \n",
       "std                  0.797958          1.043741         11.576679   \n",
       "min                 11.410000          0.740000         70.000000   \n",
       "25%                 12.315000          1.645000         88.000000   \n",
       "50%                 13.050000          1.880000         97.000000   \n",
       "75%                 13.685000          2.975000        105.500000   \n",
       "max                 14.390000          5.510000        127.000000   \n",
       "\n",
       "       flavanoids (mg/L)  nonflavanoid_phenols (mg/L)  \\\n",
       "count         131.000000                   131.000000   \n",
       "mean            1.984580                     0.369008   \n",
       "std             1.001207                     0.118204   \n",
       "min             0.340000                     0.170000   \n",
       "25%             0.880000                     0.280000   \n",
       "50%             2.110000                     0.370000   \n",
       "75%             2.890000                     0.435000   \n",
       "max             3.740000                     0.630000   \n",
       "\n",
       "       color_intensity (units)  proline (mg/L)  \n",
       "count               131.000000      131.000000  \n",
       "mean                  5.079771      749.885496  \n",
       "std                   2.201531      322.561852  \n",
       "min                   1.280000      278.000000  \n",
       "25%                   3.250000      505.000000  \n",
       "50%                   4.900000      672.000000  \n",
       "75%                   6.275000     1005.000000  \n",
       "max                  10.680000     1547.000000  "
      ]
     },
     "execution_count": 192,
     "metadata": {},
     "output_type": "execute_result"
    }
   ],
   "source": [
    "wine_df.describe()"
   ]
  },
  {
   "cell_type": "markdown",
   "metadata": {},
   "source": [
    "### Boxplot of all Constituents in wine"
   ]
  },
  {
   "cell_type": "code",
   "execution_count": 193,
   "metadata": {},
   "outputs": [
    {
     "data": {
      "image/png": "[encoded data removed]",
      "text/plain": [
       "<Figure size 1080x288 with 1 Axes>"
      ]
     },
     "metadata": {
      "needs_background": "light"
     },
     "output_type": "display_data"
    }
   ],
   "source": [
    "boxplot_df = wine_df.melt(id_vars=[\"cultivator\"], \n",
    "                var_name=\"Constituent\", \n",
    "                value_name=\"Value\").drop(columns=[\"cultivator\"])\n",
    "\n",
    "plt.figure(figsize=(15,4))\n",
    "sns.boxplot(x='Value', y='Constituent', data=boxplot_df)\n",
    "plt.show()"
   ]
  },
  {
   "cell_type": "markdown",
   "metadata": {},
   "source": [
    "## PCA on the dataset"
   ]
  },
  {
   "cell_type": "markdown",
   "metadata": {},
   "source": [
    "### Data Preprocessing and PCA"
   ]
  },
  {
   "cell_type": "code",
   "execution_count": 194,
   "metadata": {},
   "outputs": [
    {
     "data": {
      "text/html": [
       "<div>\n",
       "<style scoped>\n",
       "    .dataframe tbody tr th:only-of-type {\n",
       "        vertical-align: middle;\n",
       "    }\n",
       "\n",
       "    .dataframe tbody tr th {\n",
       "        vertical-align: top;\n",
       "    }\n",
       "\n",
       "    .dataframe thead th {\n",
       "        text-align: right;\n",
       "    }\n",
       "</style>\n",
       "<table border=\"1\" class=\"dataframe\">\n",
       "  <thead>\n",
       "    <tr style=\"text-align: right;\">\n",
       "      <th></th>\n",
       "      <th>alcohol (%v/v at 20°C)</th>\n",
       "      <th>malic_acid (g/L)</th>\n",
       "      <th>magnesium (mg/L)</th>\n",
       "      <th>flavanoids (mg/L)</th>\n",
       "      <th>nonflavanoid_phenols (mg/L)</th>\n",
       "      <th>color_intensity (units)</th>\n",
       "      <th>proline (mg/L)</th>\n",
       "    </tr>\n",
       "  </thead>\n",
       "  <tbody>\n",
       "    <tr>\n",
       "      <th>0</th>\n",
       "      <td>14.23</td>\n",
       "      <td>1.71</td>\n",
       "      <td>127</td>\n",
       "      <td>3.06</td>\n",
       "      <td>0.28</td>\n",
       "      <td>5.64</td>\n",
       "      <td>1065</td>\n",
       "    </tr>\n",
       "    <tr>\n",
       "      <th>1</th>\n",
       "      <td>13.20</td>\n",
       "      <td>1.78</td>\n",
       "      <td>100</td>\n",
       "      <td>2.76</td>\n",
       "      <td>0.26</td>\n",
       "      <td>4.38</td>\n",
       "      <td>1050</td>\n",
       "    </tr>\n",
       "    <tr>\n",
       "      <th>2</th>\n",
       "      <td>13.16</td>\n",
       "      <td>2.36</td>\n",
       "      <td>101</td>\n",
       "      <td>3.24</td>\n",
       "      <td>0.30</td>\n",
       "      <td>5.68</td>\n",
       "      <td>1185</td>\n",
       "    </tr>\n",
       "    <tr>\n",
       "      <th>3</th>\n",
       "      <td>14.37</td>\n",
       "      <td>1.95</td>\n",
       "      <td>113</td>\n",
       "      <td>3.49</td>\n",
       "      <td>0.24</td>\n",
       "      <td>7.80</td>\n",
       "      <td>1480</td>\n",
       "    </tr>\n",
       "    <tr>\n",
       "      <th>4</th>\n",
       "      <td>13.24</td>\n",
       "      <td>2.59</td>\n",
       "      <td>118</td>\n",
       "      <td>2.69</td>\n",
       "      <td>0.39</td>\n",
       "      <td>4.32</td>\n",
       "      <td>735</td>\n",
       "    </tr>\n",
       "  </tbody>\n",
       "</table>\n",
       "</div>"
      ],
      "text/plain": [
       "   alcohol (%v/v at 20°C)  malic_acid (g/L)  magnesium (mg/L)  \\\n",
       "0                   14.23              1.71               127   \n",
       "1                   13.20              1.78               100   \n",
       "2                   13.16              2.36               101   \n",
       "3                   14.37              1.95               113   \n",
       "4                   13.24              2.59               118   \n",
       "\n",
       "   flavanoids (mg/L)  nonflavanoid_phenols (mg/L)  color_intensity (units)  \\\n",
       "0               3.06                         0.28                     5.64   \n",
       "1               2.76                         0.26                     4.38   \n",
       "2               3.24                         0.30                     5.68   \n",
       "3               3.49                         0.24                     7.80   \n",
       "4               2.69                         0.39                     4.32   \n",
       "\n",
       "   proline (mg/L)  \n",
       "0            1065  \n",
       "1            1050  \n",
       "2            1185  \n",
       "3            1480  \n",
       "4             735  "
      ]
     },
     "execution_count": 194,
     "metadata": {},
     "output_type": "execute_result"
    }
   ],
   "source": [
    "reduced_df = wine_df.drop(columns=['cultivator']) # drop categorical column\n",
    "reduced_df.head()"
   ]
  },
  {
   "cell_type": "code",
   "execution_count": 195,
   "metadata": {},
   "outputs": [
    {
     "data": {
      "text/plain": [
       "StandardScaler()"
      ]
     },
     "execution_count": 195,
     "metadata": {},
     "output_type": "execute_result"
    }
   ],
   "source": [
    "scaler = StandardScaler() # instantiate StandardScaler object\n",
    "scaler.fit(reduced_df) # fit StandardScaler on the original data"
   ]
  },
  {
   "cell_type": "code",
   "execution_count": 196,
   "metadata": {},
   "outputs": [
    {
     "data": {
      "text/html": [
       "<div>\n",
       "<style scoped>\n",
       "    .dataframe tbody tr th:only-of-type {\n",
       "        vertical-align: middle;\n",
       "    }\n",
       "\n",
       "    .dataframe tbody tr th {\n",
       "        vertical-align: top;\n",
       "    }\n",
       "\n",
       "    .dataframe thead th {\n",
       "        text-align: right;\n",
       "    }\n",
       "</style>\n",
       "<table border=\"1\" class=\"dataframe\">\n",
       "  <thead>\n",
       "    <tr style=\"text-align: right;\">\n",
       "      <th></th>\n",
       "      <th>alcohol (%v/v at 20°C)</th>\n",
       "      <th>malic_acid (g/L)</th>\n",
       "      <th>magnesium (mg/L)</th>\n",
       "      <th>flavanoids (mg/L)</th>\n",
       "      <th>nonflavanoid_phenols (mg/L)</th>\n",
       "      <th>color_intensity (units)</th>\n",
       "      <th>proline (mg/L)</th>\n",
       "    </tr>\n",
       "  </thead>\n",
       "  <tbody>\n",
       "    <tr>\n",
       "      <th>0</th>\n",
       "      <td>1.562716</td>\n",
       "      <td>-0.591231</td>\n",
       "      <td>2.542453</td>\n",
       "      <td>1.078247</td>\n",
       "      <td>-0.755894</td>\n",
       "      <td>0.255449</td>\n",
       "      <td>0.980662</td>\n",
       "    </tr>\n",
       "    <tr>\n",
       "      <th>1</th>\n",
       "      <td>0.266967</td>\n",
       "      <td>-0.523908</td>\n",
       "      <td>0.201225</td>\n",
       "      <td>0.777458</td>\n",
       "      <td>-0.925743</td>\n",
       "      <td>-0.319077</td>\n",
       "      <td>0.933981</td>\n",
       "    </tr>\n",
       "    <tr>\n",
       "      <th>2</th>\n",
       "      <td>0.216646</td>\n",
       "      <td>0.033919</td>\n",
       "      <td>0.287937</td>\n",
       "      <td>1.258720</td>\n",
       "      <td>-0.586044</td>\n",
       "      <td>0.273688</td>\n",
       "      <td>1.354112</td>\n",
       "    </tr>\n",
       "    <tr>\n",
       "      <th>3</th>\n",
       "      <td>1.738838</td>\n",
       "      <td>-0.360407</td>\n",
       "      <td>1.328483</td>\n",
       "      <td>1.509377</td>\n",
       "      <td>-1.095592</td>\n",
       "      <td>1.240351</td>\n",
       "      <td>2.272176</td>\n",
       "    </tr>\n",
       "    <tr>\n",
       "      <th>4</th>\n",
       "      <td>0.317287</td>\n",
       "      <td>0.255126</td>\n",
       "      <td>1.762044</td>\n",
       "      <td>0.707274</td>\n",
       "      <td>0.178277</td>\n",
       "      <td>-0.346435</td>\n",
       "      <td>-0.046325</td>\n",
       "    </tr>\n",
       "  </tbody>\n",
       "</table>\n",
       "</div>"
      ],
      "text/plain": [
       "   alcohol (%v/v at 20°C)  malic_acid (g/L)  magnesium (mg/L)  \\\n",
       "0                1.562716         -0.591231          2.542453   \n",
       "1                0.266967         -0.523908          0.201225   \n",
       "2                0.216646          0.033919          0.287937   \n",
       "3                1.738838         -0.360407          1.328483   \n",
       "4                0.317287          0.255126          1.762044   \n",
       "\n",
       "   flavanoids (mg/L)  nonflavanoid_phenols (mg/L)  color_intensity (units)  \\\n",
       "0           1.078247                    -0.755894                 0.255449   \n",
       "1           0.777458                    -0.925743                -0.319077   \n",
       "2           1.258720                    -0.586044                 0.273688   \n",
       "3           1.509377                    -1.095592                 1.240351   \n",
       "4           0.707274                     0.178277                -0.346435   \n",
       "\n",
       "   proline (mg/L)  \n",
       "0        0.980662  \n",
       "1        0.933981  \n",
       "2        1.354112  \n",
       "3        2.272176  \n",
       "4       -0.046325  "
      ]
     },
     "execution_count": 196,
     "metadata": {},
     "output_type": "execute_result"
    }
   ],
   "source": [
    "scaled_data = pd.DataFrame(scaler.transform(reduced_df), columns=reduced_df.columns) # Standardize dataset\n",
    "scaled_data.head()"
   ]
  },
  {
   "cell_type": "code",
   "execution_count": 197,
   "metadata": {},
   "outputs": [
    {
     "data": {
      "text/html": [
       "<div>\n",
       "<style scoped>\n",
       "    .dataframe tbody tr th:only-of-type {\n",
       "        vertical-align: middle;\n",
       "    }\n",
       "\n",
       "    .dataframe tbody tr th {\n",
       "        vertical-align: top;\n",
       "    }\n",
       "\n",
       "    .dataframe thead th {\n",
       "        text-align: right;\n",
       "    }\n",
       "</style>\n",
       "<table border=\"1\" class=\"dataframe\">\n",
       "  <thead>\n",
       "    <tr style=\"text-align: right;\">\n",
       "      <th></th>\n",
       "      <th>alcohol (%v/v at 20°C)</th>\n",
       "      <th>malic_acid (g/L)</th>\n",
       "      <th>magnesium (mg/L)</th>\n",
       "      <th>flavanoids (mg/L)</th>\n",
       "      <th>nonflavanoid_phenols (mg/L)</th>\n",
       "      <th>color_intensity (units)</th>\n",
       "      <th>proline (mg/L)</th>\n",
       "      <th>cultivator</th>\n",
       "    </tr>\n",
       "  </thead>\n",
       "  <tbody>\n",
       "    <tr>\n",
       "      <th>0</th>\n",
       "      <td>1.562716</td>\n",
       "      <td>-0.591231</td>\n",
       "      <td>2.542453</td>\n",
       "      <td>1.078247</td>\n",
       "      <td>-0.755894</td>\n",
       "      <td>0.255449</td>\n",
       "      <td>0.980662</td>\n",
       "      <td>0</td>\n",
       "    </tr>\n",
       "    <tr>\n",
       "      <th>1</th>\n",
       "      <td>0.266967</td>\n",
       "      <td>-0.523908</td>\n",
       "      <td>0.201225</td>\n",
       "      <td>0.777458</td>\n",
       "      <td>-0.925743</td>\n",
       "      <td>-0.319077</td>\n",
       "      <td>0.933981</td>\n",
       "      <td>0</td>\n",
       "    </tr>\n",
       "    <tr>\n",
       "      <th>2</th>\n",
       "      <td>0.216646</td>\n",
       "      <td>0.033919</td>\n",
       "      <td>0.287937</td>\n",
       "      <td>1.258720</td>\n",
       "      <td>-0.586044</td>\n",
       "      <td>0.273688</td>\n",
       "      <td>1.354112</td>\n",
       "      <td>0</td>\n",
       "    </tr>\n",
       "    <tr>\n",
       "      <th>3</th>\n",
       "      <td>1.738838</td>\n",
       "      <td>-0.360407</td>\n",
       "      <td>1.328483</td>\n",
       "      <td>1.509377</td>\n",
       "      <td>-1.095592</td>\n",
       "      <td>1.240351</td>\n",
       "      <td>2.272176</td>\n",
       "      <td>0</td>\n",
       "    </tr>\n",
       "    <tr>\n",
       "      <th>4</th>\n",
       "      <td>0.317287</td>\n",
       "      <td>0.255126</td>\n",
       "      <td>1.762044</td>\n",
       "      <td>0.707274</td>\n",
       "      <td>0.178277</td>\n",
       "      <td>-0.346435</td>\n",
       "      <td>-0.046325</td>\n",
       "      <td>0</td>\n",
       "    </tr>\n",
       "  </tbody>\n",
       "</table>\n",
       "</div>"
      ],
      "text/plain": [
       "   alcohol (%v/v at 20°C)  malic_acid (g/L)  magnesium (mg/L)  \\\n",
       "0                1.562716         -0.591231          2.542453   \n",
       "1                0.266967         -0.523908          0.201225   \n",
       "2                0.216646          0.033919          0.287937   \n",
       "3                1.738838         -0.360407          1.328483   \n",
       "4                0.317287          0.255126          1.762044   \n",
       "\n",
       "   flavanoids (mg/L)  nonflavanoid_phenols (mg/L)  color_intensity (units)  \\\n",
       "0           1.078247                    -0.755894                 0.255449   \n",
       "1           0.777458                    -0.925743                -0.319077   \n",
       "2           1.258720                    -0.586044                 0.273688   \n",
       "3           1.509377                    -1.095592                 1.240351   \n",
       "4           0.707274                     0.178277                -0.346435   \n",
       "\n",
       "   proline (mg/L) cultivator  \n",
       "0        0.980662          0  \n",
       "1        0.933981          0  \n",
       "2        1.354112          0  \n",
       "3        2.272176          0  \n",
       "4       -0.046325          0  "
      ]
     },
     "execution_count": 197,
     "metadata": {},
     "output_type": "execute_result"
    }
   ],
   "source": [
    "scaled_df = pd.concat([scaled_data, wine_df['cultivator']], axis=1) # Concatenate back the categorical variable\n",
    "scaled_df.head()"
   ]
  },
  {
   "cell_type": "code",
   "execution_count": 198,
   "metadata": {},
   "outputs": [],
   "source": [
    "pca = PCA(n_components=7).fit(scaled_data) # fit PCA object, use all 7 variables\n",
    "pca_all_result = pca.transform(scaled_data) # transform dataset"
   ]
  },
  {
   "cell_type": "markdown",
   "metadata": {},
   "source": [
    "### PCA Results Table"
   ]
  },
  {
   "cell_type": "code",
   "execution_count": 199,
   "metadata": {},
   "outputs": [
    {
     "data": {
      "text/html": [
       "<div>\n",
       "<style scoped>\n",
       "    .dataframe tbody tr th:only-of-type {\n",
       "        vertical-align: middle;\n",
       "    }\n",
       "\n",
       "    .dataframe tbody tr th {\n",
       "        vertical-align: top;\n",
       "    }\n",
       "\n",
       "    .dataframe thead th {\n",
       "        text-align: right;\n",
       "    }\n",
       "</style>\n",
       "<table border=\"1\" class=\"dataframe\">\n",
       "  <thead>\n",
       "    <tr style=\"text-align: right;\">\n",
       "      <th></th>\n",
       "      <th>Eigenvalue</th>\n",
       "      <th>Explained Variance</th>\n",
       "      <th>Cumulative Explained Variance</th>\n",
       "      <th>alcohol (%v/v at 20°C)</th>\n",
       "      <th>malic_acid (g/L)</th>\n",
       "      <th>magnesium (mg/L)</th>\n",
       "      <th>flavanoids (mg/L)</th>\n",
       "      <th>nonflavanoid_phenols (mg/L)</th>\n",
       "      <th>color_intensity (units)</th>\n",
       "      <th>proline (mg/L)</th>\n",
       "    </tr>\n",
       "  </thead>\n",
       "  <tbody>\n",
       "    <tr>\n",
       "      <th>PC 1</th>\n",
       "      <td>3.0084</td>\n",
       "      <td>0.4265</td>\n",
       "      <td>0.4265</td>\n",
       "      <td>0.4118</td>\n",
       "      <td>-0.2166</td>\n",
       "      <td>0.3923</td>\n",
       "      <td>0.4317</td>\n",
       "      <td>-0.3888</td>\n",
       "      <td>0.1845</td>\n",
       "      <td>0.5080</td>\n",
       "    </tr>\n",
       "    <tr>\n",
       "      <th>PC 2</th>\n",
       "      <td>2.1718</td>\n",
       "      <td>0.3079</td>\n",
       "      <td>0.7344</td>\n",
       "      <td>0.3584</td>\n",
       "      <td>0.5076</td>\n",
       "      <td>0.2185</td>\n",
       "      <td>-0.3708</td>\n",
       "      <td>0.3265</td>\n",
       "      <td>0.5544</td>\n",
       "      <td>0.1209</td>\n",
       "    </tr>\n",
       "    <tr>\n",
       "      <th>PC 3</th>\n",
       "      <td>0.5888</td>\n",
       "      <td>0.0835</td>\n",
       "      <td>0.8178</td>\n",
       "      <td>-0.3204</td>\n",
       "      <td>0.3503</td>\n",
       "      <td>0.7918</td>\n",
       "      <td>0.0457</td>\n",
       "      <td>-0.1262</td>\n",
       "      <td>-0.2683</td>\n",
       "      <td>-0.2403</td>\n",
       "    </tr>\n",
       "    <tr>\n",
       "      <th>PC 4</th>\n",
       "      <td>0.4619</td>\n",
       "      <td>0.0655</td>\n",
       "      <td>0.8833</td>\n",
       "      <td>0.1060</td>\n",
       "      <td>0.5560</td>\n",
       "      <td>-0.3540</td>\n",
       "      <td>-0.0159</td>\n",
       "      <td>-0.7333</td>\n",
       "      <td>0.0108</td>\n",
       "      <td>-0.1272</td>\n",
       "    </tr>\n",
       "    <tr>\n",
       "      <th>PC 5</th>\n",
       "      <td>0.3959</td>\n",
       "      <td>0.0561</td>\n",
       "      <td>0.9395</td>\n",
       "      <td>-0.2835</td>\n",
       "      <td>-0.4337</td>\n",
       "      <td>0.1451</td>\n",
       "      <td>-0.2860</td>\n",
       "      <td>-0.3672</td>\n",
       "      <td>0.6202</td>\n",
       "      <td>-0.3305</td>\n",
       "    </tr>\n",
       "    <tr>\n",
       "      <th>PC 6</th>\n",
       "      <td>0.2398</td>\n",
       "      <td>0.0340</td>\n",
       "      <td>0.9734</td>\n",
       "      <td>-0.7041</td>\n",
       "      <td>0.2488</td>\n",
       "      <td>-0.1422</td>\n",
       "      <td>0.2676</td>\n",
       "      <td>0.0680</td>\n",
       "      <td>0.3140</td>\n",
       "      <td>0.4973</td>\n",
       "    </tr>\n",
       "    <tr>\n",
       "      <th>PC 7</th>\n",
       "      <td>0.1873</td>\n",
       "      <td>0.0266</td>\n",
       "      <td>1.0000</td>\n",
       "      <td>0.1093</td>\n",
       "      <td>0.1165</td>\n",
       "      <td>-0.0701</td>\n",
       "      <td>0.7214</td>\n",
       "      <td>0.2215</td>\n",
       "      <td>0.3212</td>\n",
       "      <td>-0.5449</td>\n",
       "    </tr>\n",
       "  </tbody>\n",
       "</table>\n",
       "</div>"
      ],
      "text/plain": [
       "      Eigenvalue  Explained Variance  Cumulative Explained Variance  \\\n",
       "PC 1      3.0084              0.4265                         0.4265   \n",
       "PC 2      2.1718              0.3079                         0.7344   \n",
       "PC 3      0.5888              0.0835                         0.8178   \n",
       "PC 4      0.4619              0.0655                         0.8833   \n",
       "PC 5      0.3959              0.0561                         0.9395   \n",
       "PC 6      0.2398              0.0340                         0.9734   \n",
       "PC 7      0.1873              0.0266                         1.0000   \n",
       "\n",
       "      alcohol (%v/v at 20°C)  malic_acid (g/L)  magnesium (mg/L)  \\\n",
       "PC 1                  0.4118           -0.2166            0.3923   \n",
       "PC 2                  0.3584            0.5076            0.2185   \n",
       "PC 3                 -0.3204            0.3503            0.7918   \n",
       "PC 4                  0.1060            0.5560           -0.3540   \n",
       "PC 5                 -0.2835           -0.4337            0.1451   \n",
       "PC 6                 -0.7041            0.2488           -0.1422   \n",
       "PC 7                  0.1093            0.1165           -0.0701   \n",
       "\n",
       "      flavanoids (mg/L)  nonflavanoid_phenols (mg/L)  color_intensity (units)  \\\n",
       "PC 1             0.4317                      -0.3888                   0.1845   \n",
       "PC 2            -0.3708                       0.3265                   0.5544   \n",
       "PC 3             0.0457                      -0.1262                  -0.2683   \n",
       "PC 4            -0.0159                      -0.7333                   0.0108   \n",
       "PC 5            -0.2860                      -0.3672                   0.6202   \n",
       "PC 6             0.2676                       0.0680                   0.3140   \n",
       "PC 7             0.7214                       0.2215                   0.3212   \n",
       "\n",
       "      proline (mg/L)  \n",
       "PC 1          0.5080  \n",
       "PC 2          0.1209  \n",
       "PC 3         -0.2403  \n",
       "PC 4         -0.1272  \n",
       "PC 5         -0.3305  \n",
       "PC 6          0.4973  \n",
       "PC 7         -0.5449  "
      ]
     },
     "execution_count": 199,
     "metadata": {},
     "output_type": "execute_result"
    }
   ],
   "source": [
    "def pca_results(data, pca):\n",
    "    # Dimension indexing\n",
    "    dimensions = ['PC {}'.format(i) for i in range(1,len(pca.components_)+1)]\n",
    "    \n",
    "    # PCA components\n",
    "    components = pd.DataFrame(np.round(pca.components_, 4), columns = data.keys()) \n",
    "    components.index = dimensions\n",
    "\n",
    "    #PCA eigenvalues\n",
    "    ev = pca.explained_variance_.reshape(len(pca.components_), 1)\n",
    "    eigenvalues = pd.DataFrame(np.round(ev, 4), columns = ['Eigenvalue']) \n",
    "    eigenvalues.index = dimensions\n",
    "    \n",
    "    # PCA explained variance\n",
    "    ratios = pca.explained_variance_ratio_.reshape(len(pca.components_), 1) \n",
    "    variance_ratios = pd.DataFrame(np.round(ratios, 4), columns = ['Explained Variance']) \n",
    "    variance_ratios.index = dimensions\n",
    "\n",
    "    #PCA cumulative variance explained\n",
    "    cum_ratios = pca.explained_variance_ratio_.cumsum().reshape(len(pca.components_), 1)\n",
    "    cum_variance_ratios = pd.DataFrame(np.round(cum_ratios, 4), columns = ['Cumulative Explained Variance'])\n",
    "    cum_variance_ratios.index = dimensions\n",
    "    \n",
    "    # Return a concatenated DataFrame\n",
    "    return pd.concat([eigenvalues, variance_ratios, cum_variance_ratios, components], axis = 1)\n",
    "\n",
    "pca_results = pca_results(scaled_data, pca) # use function created to show table\n",
    "pca_results"
   ]
  },
  {
   "cell_type": "markdown",
   "metadata": {},
   "source": [
    "## PCA: Cumulative Explained Variance >= 80%\n",
    "Extract PCs with cumulative percentage of at least 80%, thus extract first 3 PCs"
   ]
  },
  {
   "cell_type": "code",
   "execution_count": 201,
   "metadata": {},
   "outputs": [],
   "source": [
    "pca3 = PCA(n_components=3).fit(scaled_data) # fit a PCA object to extract first 2 PCs\n",
    "pca3_results = pca3.transform(scaled_data)"
   ]
  },
  {
   "cell_type": "code",
   "execution_count": 202,
   "metadata": {},
   "outputs": [
    {
     "data": {
      "text/html": [
       "<div>\n",
       "<style scoped>\n",
       "    .dataframe tbody tr th:only-of-type {\n",
       "        vertical-align: middle;\n",
       "    }\n",
       "\n",
       "    .dataframe tbody tr th {\n",
       "        vertical-align: top;\n",
       "    }\n",
       "\n",
       "    .dataframe thead th {\n",
       "        text-align: right;\n",
       "    }\n",
       "</style>\n",
       "<table border=\"1\" class=\"dataframe\">\n",
       "  <thead>\n",
       "    <tr style=\"text-align: right;\">\n",
       "      <th></th>\n",
       "      <th>alcohol (%v/v at 20°C)</th>\n",
       "      <th>malic_acid (g/L)</th>\n",
       "      <th>magnesium (mg/L)</th>\n",
       "      <th>flavanoids (mg/L)</th>\n",
       "      <th>nonflavanoid_phenols (mg/L)</th>\n",
       "      <th>color_intensity (units)</th>\n",
       "      <th>proline (mg/L)</th>\n",
       "    </tr>\n",
       "  </thead>\n",
       "  <tbody>\n",
       "    <tr>\n",
       "      <th>PC1</th>\n",
       "      <td>0.411787</td>\n",
       "      <td>-0.216623</td>\n",
       "      <td>0.392271</td>\n",
       "      <td>0.431704</td>\n",
       "      <td>-0.388771</td>\n",
       "      <td>0.184531</td>\n",
       "      <td>0.508003</td>\n",
       "    </tr>\n",
       "    <tr>\n",
       "      <th>PC2</th>\n",
       "      <td>0.358439</td>\n",
       "      <td>0.507626</td>\n",
       "      <td>0.218459</td>\n",
       "      <td>-0.370840</td>\n",
       "      <td>0.326525</td>\n",
       "      <td>0.554404</td>\n",
       "      <td>0.120866</td>\n",
       "    </tr>\n",
       "    <tr>\n",
       "      <th>PC3</th>\n",
       "      <td>-0.320359</td>\n",
       "      <td>0.350294</td>\n",
       "      <td>0.791780</td>\n",
       "      <td>0.045703</td>\n",
       "      <td>-0.126181</td>\n",
       "      <td>-0.268342</td>\n",
       "      <td>-0.240274</td>\n",
       "    </tr>\n",
       "  </tbody>\n",
       "</table>\n",
       "</div>"
      ],
      "text/plain": [
       "     alcohol (%v/v at 20°C)  malic_acid (g/L)  magnesium (mg/L)  \\\n",
       "PC1                0.411787         -0.216623          0.392271   \n",
       "PC2                0.358439          0.507626          0.218459   \n",
       "PC3               -0.320359          0.350294          0.791780   \n",
       "\n",
       "     flavanoids (mg/L)  nonflavanoid_phenols (mg/L)  color_intensity (units)  \\\n",
       "PC1           0.431704                    -0.388771                 0.184531   \n",
       "PC2          -0.370840                     0.326525                 0.554404   \n",
       "PC3           0.045703                    -0.126181                -0.268342   \n",
       "\n",
       "     proline (mg/L)  \n",
       "PC1        0.508003  \n",
       "PC2        0.120866  \n",
       "PC3       -0.240274  "
      ]
     },
     "execution_count": 202,
     "metadata": {},
     "output_type": "execute_result"
    }
   ],
   "source": [
    "pca3_components_df = pd.DataFrame(pca3.components_, columns=scaled_data.columns) # Linear system for PC1, PC2, PC3\n",
    "pca3_components_df = pca3_components_df.rename(index={0:'PC1', 1:'PC2', 2:'PC3'})\n",
    "pca3_components_df"
   ]
  },
  {
   "cell_type": "markdown",
   "metadata": {},
   "source": [
    "### 3D Score Plots"
   ]
  },
  {
   "cell_type": "code",
   "execution_count": 207,
   "metadata": {},
   "outputs": [
    {
     "data": {
      "application/vnd.plotly.v1+json": {
       "config": {
        "plotlyServerURL": "https://plot.ly"
       },
       "data": [
        {
         "hovertemplate": "color=0<br>PC1=%{x}<br>PC2=%{y}<br>PC3=%{z}<extra></extra>",
         "legendgroup": "0",
         "marker": {
          "color": "#636efa",
          "symbol": "circle"
         },
         "mode": "markers",
         "name": "0",
         "scene": "scene",
         "showlegend": true,
         "type": "scatter3d",
         "x": [
          3.0735813371398586,
          1.413477466914405,
          1.7044416815093781,
          3.7759209477322635,
          0.9151506860523814,
          3.1842033926399047,
          2.0918092044544565,
          2.666622293914793,
          2.308863321463175,
          3.187572399261976,
          2.055443771554897,
          1.7651092521019816,
          3.4041328806994775,
          2.6277557991058433,
          3.084557545299921,
          2.4218678658074904,
          2.061135513930227,
          2.698117399729981,
          1.6414293249313592,
          0.899164473347571,
          1.3542418091532584,
          1.498047423341054,
          1.540129047815343,
          2.37601521984669,
          3.1047793026723096,
          1.0889233509217706,
          1.767442966382205,
          1.502559058392702,
          1.2752280765064932,
          1.1289561275317197,
          1.113822255563425,
          1.9021826589759414,
          2.579743350691404,
          1.4084847504565534,
          2.310678706432271,
          1.971851026764377,
          1.9873381762174307,
          2.237006754000601,
          2.787142346059254,
          2.4531075433189704,
          2.6935715509424094,
          2.6293848022248536,
          2.7164888452174494,
          2.0110145571329645,
          3.2280309643134304
         ],
         "y": [
          0.4289095414208892,
          -0.7809004506575452,
          -0.18496713285133884,
          0.7753415180259998,
          0.22643273710491627,
          0.6247448179686861,
          0.23422122266382095,
          0.6784650851121723,
          -0.2709901009114779,
          0.10538210398815569,
          -0.24129211120715424,
          -0.2725224825522763,
          0.564661465037488,
          0.5460589952695485,
          0.7617389304416191,
          0.42634883728945944,
          0.11998390739755851,
          0.03775994188194266,
          -0.6620810608296194,
          -0.8900296617405203,
          -0.5170816935130522,
          -0.08109242439949685,
          -0.3006088448251345,
          -0.33659010169229486,
          -0.013333909093759262,
          -0.15364608476867295,
          -0.30178987265656465,
          -0.5886833380159814,
          -0.38049229756091785,
          -0.756179276283655,
          -1.0972134393543895,
          0.04053599158216161,
          -0.6662906459052838,
          -0.6498151595820598,
          -0.4576743081374642,
          0.36966332115049416,
          -0.7131977104182544,
          -0.4811067685251681,
          0.22201571031621387,
          0.7758004605762201,
          -0.06547061514664973,
          -0.014655233144495006,
          0.36721315692785467,
          -0.1534961164001568,
          -0.39806322817117756
         ],
         "z": [
          1.1458121338339962,
          -0.0961665330169624,
          -0.09686427001672081,
          -0.30299009207998234,
          1.4967973128176832,
          -0.3279800379112652,
          -1.1598318124240856,
          0.7934769899094667,
          -0.9273573248163208,
          -0.4306416848004174,
          -1.1742606310506298,
          -1.4732113714118025,
          -1.1492967638914227,
          -0.02315956569756678,
          0.4285522465112894,
          0.1568915645723557,
          1.4437362834391687,
          1.3785052033848697,
          -0.12912856418439042,
          -0.25138082597041456,
          -0.8939993256930238,
          0.13285259012737777,
          -0.7825980438298071,
          -0.6823663728434267,
          -0.4712744930396447,
          -0.0618645344194149,
          0.4178946792585816,
          -0.17971140637251082,
          0.521801638769166,
          -0.2893148776998076,
          -0.1967165825371408,
          0.8174446908201974,
          -0.29352171240421643,
          0.47370448596509496,
          -0.4227112786217178,
          -0.45918230348077077,
          -0.9018231267079975,
          -1.0624431702628563,
          -0.051682204401670984,
          0.1285215418787977,
          0.7576239486028798,
          0.6244760599791467,
          0.5277357348261096,
          -0.3258781782830438,
          -0.2295086676275633
         ]
        },
        {
         "hovertemplate": "color=1<br>PC1=%{x}<br>PC2=%{y}<br>PC3=%{z}<extra></extra>",
         "legendgroup": "1",
         "marker": {
          "color": "#EF553B",
          "symbol": "circle"
         },
         "mode": "markers",
         "name": "1",
         "scene": "scene",
         "showlegend": true,
         "type": "scatter3d",
         "x": [
          0.06491458966322936,
          -1.1988376922827508,
          0.053845079975381474,
          -0.8281656525503583,
          -1.3185270549667258,
          -0.23914439857709524,
          -1.3137754144493399,
          -0.9794392881683645,
          -1.2323520681341178,
          0.011228031410049053,
          -1.6000201988664526,
          -2.08025276477094,
          -0.3655151201562488,
          -0.3120692064902928,
          -1.4942341629803886,
          -1.655993987593483,
          -1.9046088568561559,
          -2.0221195800533907,
          -2.294950348219557,
          -2.088286576430551,
          -2.087468321899255,
          -1.261750915520707,
          -0.6457132234790344,
          -0.8105290809355788,
          -1.4765996253023008,
          -0.21503302929068113,
          -0.8527639753410302,
          -0.8856042966808003,
          -1.8121765598424637,
          -0.7242098284926108,
          -1.3638486322736525,
          -1.5117214946286468,
          -1.3131732678347072,
          -0.2850024707913453,
          -0.5660525869693572,
          -1.040914606430577,
          -1.6056350861723192,
          -1.6414345027714907,
          -1.5702671907655081,
          -1.4290711504026696,
          -0.5469573348833606,
          -2.2025344148701302,
          -1.8712489355824615,
          -0.7104015954983719,
          -1.3707829292311897,
          -0.8104531776189948,
          -1.9829656822682291,
          -1.2992891637267538
         ],
         "y": [
          -2.258567627351272,
          -1.0511991480476521,
          -1.209716055522297,
          -1.6866944571587834,
          -1.1996052067090641,
          -1.528315934820683,
          -0.2622986656163509,
          -0.09589880055925751,
          -2.4758817350137416,
          -1.4101050478603017,
          -1.9021274495690406,
          1.1933228909959472,
          -2.3843174423728106,
          -1.6842008694201276,
          -1.3496829750262038,
          -1.5785687952046439,
          -1.1814058418104563,
          -2.0224513597859497,
          -1.1469023079397629,
          -0.9149299114164814,
          -0.6860402244144499,
          -1.593625173334862,
          -2.0432131695691917,
          -2.0842571455603363,
          -1.066621499528645,
          -1.3778280094152837,
          -1.5613035075801136,
          -1.0455635718847125,
          -1.801533542656197,
          -1.4280912372315904,
          -1.4869453454063883,
          -0.817611378109468,
          -1.6876633158590382,
          -2.374260341881153,
          -1.0222135104393701,
          -1.6896619031248095,
          -0.03300421087724698,
          -2.160905311463356,
          -1.7575306350601927,
          -2.100541658346682,
          -1.4447765486614685,
          -0.018006237110004788,
          -1.0077025214670572,
          -1.6333767063843032,
          -1.7054249428578305,
          -1.6736605594418716,
          -0.8851826413077243,
          -1.789852520984808
         ],
         "z": [
          -0.32008142619990126,
          0.9271621486496714,
          0.037317059693298855,
          -1.1560901969556867,
          0.74800620805832,
          -0.8322421870086475,
          2.024561965799827,
          1.346725934940929,
          -0.12196259512023493,
          -0.5543731889626069,
          -0.9975299786540649,
          -0.4448237588430457,
          0.31685175436580704,
          0.3628124097312031,
          -0.0009247936625015226,
          0.04754161840009572,
          -0.2864312929349665,
          -1.4403556014481445,
          -0.6002927538419568,
          -0.44699532211346804,
          -1.1727353322794634,
          0.6289331962105055,
          1.2129906682612734,
          -0.28180351016418476,
          0.45797900772660166,
          0.6096541988022248,
          -0.3217272519263347,
          0.8742715824069801,
          0.0680749333786907,
          -0.5087288757132684,
          -0.7309169395390686,
          -0.740528683032676,
          0.16955062163942783,
          0.4513459403308777,
          2.305179068505705,
          0.38386187275058953,
          0.9977864166810064,
          -0.13517534130062495,
          -0.40005741747249574,
          0.01066672701071476,
          1.4047702888615192,
          -0.3645985649006316,
          0.6243151932258324,
          0.9364969039208157,
          0.035200217955765306,
          -0.3769357217891833,
          0.27954672847673706,
          0.0056236277109211735
         ]
        },
        {
         "hovertemplate": "color=2<br>PC1=%{x}<br>PC2=%{y}<br>PC3=%{z}<extra></extra>",
         "legendgroup": "2",
         "marker": {
          "color": "#00cc96",
          "symbol": "circle"
         },
         "mode": "markers",
         "name": "2",
         "scene": "scene",
         "showlegend": true,
         "type": "scatter3d",
         "x": [
          -0.20513401356560432,
          -0.38645913430751394,
          -1.9501667349870868,
          -1.7060344175389637,
          -2.514282307694519,
          -2.796945177654903,
          -1.8969364148587022,
          -1.49300982865781,
          -1.6396087411855753,
          -0.7059020322439037,
          -1.414763940179618,
          -1.6320029744059632,
          -0.05008630334694221,
          -0.8097758364861772,
          -2.063591246301226,
          -1.826675075750035,
          -0.8860882484729408,
          -1.0228641872952848,
          -0.915850068685011,
          -1.8457545663682722,
          -1.1899638787076625,
          -2.008517073359816,
          -0.6063017329599077,
          -1.58954117602427,
          -0.7256941740205969,
          -0.47611106707457856,
          -1.7567098741443044,
          0.12828574003789334,
          -0.97629730816121,
          0.239308911581797,
          0.20827547810611152,
          -1.705282776179978,
          -1.5653034424844339,
          -0.20231141848176218,
          -0.5185269014360593,
          0.3017261651459082,
          0.1997072629098166,
          -0.9494309632253332
         ],
         "y": [
          0.32071208560733155,
          0.062148405154055446,
          0.23358857602384217,
          1.5277666660749016,
          1.3597769781331104,
          2.4468958614726946,
          1.8982244951726888,
          1.1671227847184444,
          0.9998065388540835,
          0.8158647695354789,
          1.2766348317256218,
          1.9326687120133688,
          1.757536920319405,
          1.2271694926105152,
          1.9190731204135676,
          2.220387442352772,
          1.9757928276541512,
          3.0360837633097333,
          0.9761721134821503,
          3.2679008232474254,
          2.7254416120945955,
          1.5907982386476114,
          2.018745090342546,
          1.7711258492043958,
          1.280482122651425,
          2.109884336972894,
          2.429713527687583,
          3.0921994893603326,
          2.114865734023436,
          1.9192255512709115,
          2.4939031351384098,
          0.6149329200203726,
          1.6817138319046987,
          2.3011370729491967,
          2.231147921303359,
          3.481525450036682,
          2.666727167561725,
          3.30503417531093
         ],
         "z": [
          0.9299678621881133,
          0.2198996183724767,
          -1.325923850959867,
          -0.5972814132175644,
          0.43930565366977975,
          0.9845899255340311,
          -0.6845841447095117,
          0.4047056684995269,
          0.0017087496794402426,
          -0.8219092872949969,
          0.077345486058027,
          0.3098730732112515,
          1.372381664262741,
          0.5878837633124693,
          -0.4947720256031699,
          -0.3749687924422189,
          -0.6923756897501776,
          -0.6678380943691545,
          -0.2820434282984035,
          -0.07617448728965,
          -0.7854526460527484,
          -0.2361627487376438,
          0.4207103732919262,
          0.7075882345489275,
          0.900992089434662,
          -1.2533539378190042,
          -0.5257589586173219,
          0.4332774561083224,
          -0.9240096389334764,
          -0.16315442023372412,
          1.3139255313632943,
          0.4660523690236309,
          -1.259122271848649,
          -1.5016307395463506,
          0.2709147145297941,
          1.2626421420189162,
          0.7323442290832061,
          -0.6004689372986693
         ]
        }
       ],
       "layout": {
        "legend": {
         "title": {
          "text": "color"
         },
         "tracegroupgap": 0
        },
        "scene": {
         "domain": {
          "x": [
           0,
           1
          ],
          "y": [
           0,
           1
          ]
         },
         "xaxis": {
          "title": {
           "text": "PC1"
          }
         },
         "yaxis": {
          "title": {
           "text": "PC2"
          }
         },
         "zaxis": {
          "title": {
           "text": "PC3"
          }
         }
        },
        "template": {
         "data": {
          "bar": [
           {
            "error_x": {
             "color": "#2a3f5f"
            },
            "error_y": {
             "color": "#2a3f5f"
            },
            "marker": {
             "line": {
              "color": "#E5ECF6",
              "width": 0.5
             },
             "pattern": {
              "fillmode": "overlay",
              "size": 10,
              "solidity": 0.2
             }
            },
            "type": "bar"
           }
          ],
          "barpolar": [
           {
            "marker": {
             "line": {
              "color": "#E5ECF6",
              "width": 0.5
             },
             "pattern": {
              "fillmode": "overlay",
              "size": 10,
              "solidity": 0.2
             }
            },
            "type": "barpolar"
           }
          ],
          "carpet": [
           {
            "aaxis": {
             "endlinecolor": "#2a3f5f",
             "gridcolor": "white",
             "linecolor": "white",
             "minorgridcolor": "white",
             "startlinecolor": "#2a3f5f"
            },
            "baxis": {
             "endlinecolor": "#2a3f5f",
             "gridcolor": "white",
             "linecolor": "white",
             "minorgridcolor": "white",
             "startlinecolor": "#2a3f5f"
            },
            "type": "carpet"
           }
          ],
          "choropleth": [
           {
            "colorbar": {
             "outlinewidth": 0,
             "ticks": ""
            },
            "type": "choropleth"
           }
          ],
          "contour": [
           {
            "colorbar": {
             "outlinewidth": 0,
             "ticks": ""
            },
            "colorscale": [
             [
              0,
              "#0d0887"
             ],
             [
              0.1111111111111111,
              "#46039f"
             ],
             [
              0.2222222222222222,
              "#7201a8"
             ],
             [
              0.3333333333333333,
              "#9c179e"
             ],
             [
              0.4444444444444444,
              "#bd3786"
             ],
             [
              0.5555555555555556,
              "#d8576b"
             ],
             [
              0.6666666666666666,
              "#ed7953"
             ],
             [
              0.7777777777777778,
              "#fb9f3a"
             ],
             [
              0.8888888888888888,
              "#fdca26"
             ],
             [
              1,
              "#f0f921"
             ]
            ],
            "type": "contour"
           }
          ],
          "contourcarpet": [
           {
            "colorbar": {
             "outlinewidth": 0,
             "ticks": ""
            },
            "type": "contourcarpet"
           }
          ],
          "heatmap": [
           {
            "colorbar": {
             "outlinewidth": 0,
             "ticks": ""
            },
            "colorscale": [
             [
              0,
              "#0d0887"
             ],
             [
              0.1111111111111111,
              "#46039f"
             ],
             [
              0.2222222222222222,
              "#7201a8"
             ],
             [
              0.3333333333333333,
              "#9c179e"
             ],
             [
              0.4444444444444444,
              "#bd3786"
             ],
             [
              0.5555555555555556,
              "#d8576b"
             ],
             [
              0.6666666666666666,
              "#ed7953"
             ],
             [
              0.7777777777777778,
              "#fb9f3a"
             ],
             [
              0.8888888888888888,
              "#fdca26"
             ],
             [
              1,
              "#f0f921"
             ]
            ],
            "type": "heatmap"
           }
          ],
          "heatmapgl": [
           {
            "colorbar": {
             "outlinewidth": 0,
             "ticks": ""
            },
            "colorscale": [
             [
              0,
              "#0d0887"
             ],
             [
              0.1111111111111111,
              "#46039f"
             ],
             [
              0.2222222222222222,
              "#7201a8"
             ],
             [
              0.3333333333333333,
              "#9c179e"
             ],
             [
              0.4444444444444444,
              "#bd3786"
             ],
             [
              0.5555555555555556,
              "#d8576b"
             ],
             [
              0.6666666666666666,
              "#ed7953"
             ],
             [
              0.7777777777777778,
              "#fb9f3a"
             ],
             [
              0.8888888888888888,
              "#fdca26"
             ],
             [
              1,
              "#f0f921"
             ]
            ],
            "type": "heatmapgl"
           }
          ],
          "histogram": [
           {
            "marker": {
             "pattern": {
              "fillmode": "overlay",
              "size": 10,
              "solidity": 0.2
             }
            },
            "type": "histogram"
           }
          ],
          "histogram2d": [
           {
            "colorbar": {
             "outlinewidth": 0,
             "ticks": ""
            },
            "colorscale": [
             [
              0,
              "#0d0887"
             ],
             [
              0.1111111111111111,
              "#46039f"
             ],
             [
              0.2222222222222222,
              "#7201a8"
             ],
             [
              0.3333333333333333,
              "#9c179e"
             ],
             [
              0.4444444444444444,
              "#bd3786"
             ],
             [
              0.5555555555555556,
              "#d8576b"
             ],
             [
              0.6666666666666666,
              "#ed7953"
             ],
             [
              0.7777777777777778,
              "#fb9f3a"
             ],
             [
              0.8888888888888888,
              "#fdca26"
             ],
             [
              1,
              "#f0f921"
             ]
            ],
            "type": "histogram2d"
           }
          ],
          "histogram2dcontour": [
           {
            "colorbar": {
             "outlinewidth": 0,
             "ticks": ""
            },
            "colorscale": [
             [
              0,
              "#0d0887"
             ],
             [
              0.1111111111111111,
              "#46039f"
             ],
             [
              0.2222222222222222,
              "#7201a8"
             ],
             [
              0.3333333333333333,
              "#9c179e"
             ],
             [
              0.4444444444444444,
              "#bd3786"
             ],
             [
              0.5555555555555556,
              "#d8576b"
             ],
             [
              0.6666666666666666,
              "#ed7953"
             ],
             [
              0.7777777777777778,
              "#fb9f3a"
             ],
             [
              0.8888888888888888,
              "#fdca26"
             ],
             [
              1,
              "#f0f921"
             ]
            ],
            "type": "histogram2dcontour"
           }
          ],
          "mesh3d": [
           {
            "colorbar": {
             "outlinewidth": 0,
             "ticks": ""
            },
            "type": "mesh3d"
           }
          ],
          "parcoords": [
           {
            "line": {
             "colorbar": {
              "outlinewidth": 0,
              "ticks": ""
             }
            },
            "type": "parcoords"
           }
          ],
          "pie": [
           {
            "automargin": true,
            "type": "pie"
           }
          ],
          "scatter": [
           {
            "marker": {
             "colorbar": {
              "outlinewidth": 0,
              "ticks": ""
             }
            },
            "type": "scatter"
           }
          ],
          "scatter3d": [
           {
            "line": {
             "colorbar": {
              "outlinewidth": 0,
              "ticks": ""
             }
            },
            "marker": {
             "colorbar": {
              "outlinewidth": 0,
              "ticks": ""
             }
            },
            "type": "scatter3d"
           }
          ],
          "scattercarpet": [
           {
            "marker": {
             "colorbar": {
              "outlinewidth": 0,
              "ticks": ""
             }
            },
            "type": "scattercarpet"
           }
          ],
          "scattergeo": [
           {
            "marker": {
             "colorbar": {
              "outlinewidth": 0,
              "ticks": ""
             }
            },
            "type": "scattergeo"
           }
          ],
          "scattergl": [
           {
            "marker": {
             "colorbar": {
              "outlinewidth": 0,
              "ticks": ""
             }
            },
            "type": "scattergl"
           }
          ],
          "scattermapbox": [
           {
            "marker": {
             "colorbar": {
              "outlinewidth": 0,
              "ticks": ""
             }
            },
            "type": "scattermapbox"
           }
          ],
          "scatterpolar": [
           {
            "marker": {
             "colorbar": {
              "outlinewidth": 0,
              "ticks": ""
             }
            },
            "type": "scatterpolar"
           }
          ],
          "scatterpolargl": [
           {
            "marker": {
             "colorbar": {
              "outlinewidth": 0,
              "ticks": ""
             }
            },
            "type": "scatterpolargl"
           }
          ],
          "scatterternary": [
           {
            "marker": {
             "colorbar": {
              "outlinewidth": 0,
              "ticks": ""
             }
            },
            "type": "scatterternary"
           }
          ],
          "surface": [
           {
            "colorbar": {
             "outlinewidth": 0,
             "ticks": ""
            },
            "colorscale": [
             [
              0,
              "#0d0887"
             ],
             [
              0.1111111111111111,
              "#46039f"
             ],
             [
              0.2222222222222222,
              "#7201a8"
             ],
             [
              0.3333333333333333,
              "#9c179e"
             ],
             [
              0.4444444444444444,
              "#bd3786"
             ],
             [
              0.5555555555555556,
              "#d8576b"
             ],
             [
              0.6666666666666666,
              "#ed7953"
             ],
             [
              0.7777777777777778,
              "#fb9f3a"
             ],
             [
              0.8888888888888888,
              "#fdca26"
             ],
             [
              1,
              "#f0f921"
             ]
            ],
            "type": "surface"
           }
          ],
          "table": [
           {
            "cells": {
             "fill": {
              "color": "#EBF0F8"
             },
             "line": {
              "color": "white"
             }
            },
            "header": {
             "fill": {
              "color": "#C8D4E3"
             },
             "line": {
              "color": "white"
             }
            },
            "type": "table"
           }
          ]
         },
         "layout": {
          "annotationdefaults": {
           "arrowcolor": "#2a3f5f",
           "arrowhead": 0,
           "arrowwidth": 1
          },
          "autotypenumbers": "strict",
          "coloraxis": {
           "colorbar": {
            "outlinewidth": 0,
            "ticks": ""
           }
          },
          "colorscale": {
           "diverging": [
            [
             0,
             "#8e0152"
            ],
            [
             0.1,
             "#c51b7d"
            ],
            [
             0.2,
             "#de77ae"
            ],
            [
             0.3,
             "#f1b6da"
            ],
            [
             0.4,
             "#fde0ef"
            ],
            [
             0.5,
             "#f7f7f7"
            ],
            [
             0.6,
             "#e6f5d0"
            ],
            [
             0.7,
             "#b8e186"
            ],
            [
             0.8,
             "#7fbc41"
            ],
            [
             0.9,
             "#4d9221"
            ],
            [
             1,
             "#276419"
            ]
           ],
           "sequential": [
            [
             0,
             "#0d0887"
            ],
            [
             0.1111111111111111,
             "#46039f"
            ],
            [
             0.2222222222222222,
             "#7201a8"
            ],
            [
             0.3333333333333333,
             "#9c179e"
            ],
            [
             0.4444444444444444,
             "#bd3786"
            ],
            [
             0.5555555555555556,
             "#d8576b"
            ],
            [
             0.6666666666666666,
             "#ed7953"
            ],
            [
             0.7777777777777778,
             "#fb9f3a"
            ],
            [
             0.8888888888888888,
             "#fdca26"
            ],
            [
             1,
             "#f0f921"
            ]
           ],
           "sequentialminus": [
            [
             0,
             "#0d0887"
            ],
            [
             0.1111111111111111,
             "#46039f"
            ],
            [
             0.2222222222222222,
             "#7201a8"
            ],
            [
             0.3333333333333333,
             "#9c179e"
            ],
            [
             0.4444444444444444,
             "#bd3786"
            ],
            [
             0.5555555555555556,
             "#d8576b"
            ],
            [
             0.6666666666666666,
             "#ed7953"
            ],
            [
             0.7777777777777778,
             "#fb9f3a"
            ],
            [
             0.8888888888888888,
             "#fdca26"
            ],
            [
             1,
             "#f0f921"
            ]
           ]
          },
          "colorway": [
           "#636efa",
           "#EF553B",
           "#00cc96",
           "#ab63fa",
           "#FFA15A",
           "#19d3f3",
           "#FF6692",
           "#B6E880",
           "#FF97FF",
           "#FECB52"
          ],
          "font": {
           "color": "#2a3f5f"
          },
          "geo": {
           "bgcolor": "white",
           "lakecolor": "white",
           "landcolor": "#E5ECF6",
           "showlakes": true,
           "showland": true,
           "subunitcolor": "white"
          },
          "hoverlabel": {
           "align": "left"
          },
          "hovermode": "closest",
          "mapbox": {
           "style": "light"
          },
          "paper_bgcolor": "white",
          "plot_bgcolor": "#E5ECF6",
          "polar": {
           "angularaxis": {
            "gridcolor": "white",
            "linecolor": "white",
            "ticks": ""
           },
           "bgcolor": "#E5ECF6",
           "radialaxis": {
            "gridcolor": "white",
            "linecolor": "white",
            "ticks": ""
           }
          },
          "scene": {
           "xaxis": {
            "backgroundcolor": "#E5ECF6",
            "gridcolor": "white",
            "gridwidth": 2,
            "linecolor": "white",
            "showbackground": true,
            "ticks": "",
            "zerolinecolor": "white"
           },
           "yaxis": {
            "backgroundcolor": "#E5ECF6",
            "gridcolor": "white",
            "gridwidth": 2,
            "linecolor": "white",
            "showbackground": true,
            "ticks": "",
            "zerolinecolor": "white"
           },
           "zaxis": {
            "backgroundcolor": "#E5ECF6",
            "gridcolor": "white",
            "gridwidth": 2,
            "linecolor": "white",
            "showbackground": true,
            "ticks": "",
            "zerolinecolor": "white"
           }
          },
          "shapedefaults": {
           "line": {
            "color": "#2a3f5f"
           }
          },
          "ternary": {
           "aaxis": {
            "gridcolor": "white",
            "linecolor": "white",
            "ticks": ""
           },
           "baxis": {
            "gridcolor": "white",
            "linecolor": "white",
            "ticks": ""
           },
           "bgcolor": "#E5ECF6",
           "caxis": {
            "gridcolor": "white",
            "linecolor": "white",
            "ticks": ""
           }
          },
          "title": {
           "x": 0.05
          },
          "xaxis": {
           "automargin": true,
           "gridcolor": "white",
           "linecolor": "white",
           "ticks": "",
           "title": {
            "standoff": 15
           },
           "zerolinecolor": "white",
           "zerolinewidth": 2
          },
          "yaxis": {
           "automargin": true,
           "gridcolor": "white",
           "linecolor": "white",
           "ticks": "",
           "title": {
            "standoff": 15
           },
           "zerolinecolor": "white",
           "zerolinewidth": 2
          }
         }
        },
        "title": {
         "text": "3D Scoreplot: Total Explained Variance: 81.78%"
        }
       }
      }
     },
     "metadata": {},
     "output_type": "display_data"
    }
   ],
   "source": [
    "total_var = pca3.explained_variance_ratio_.sum() * 100\n",
    "\n",
    "fig = px.scatter_3d(\n",
    "    pca3_results, x=0, y=1, z=2, color=scaled_df['cultivator'],\n",
    "    title=f'3D Scoreplot: Total Explained Variance: {total_var:.2f}%',\n",
    "    labels={'0': 'PC1', '1': 'PC2', '2': 'PC3'}\n",
    ")\n",
    "\n",
    "fig.show()"
   ]
  },
  {
   "cell_type": "markdown",
   "metadata": {},
   "source": [
    "### Scoreplot Matrix"
   ]
  },
  {
   "cell_type": "code",
   "execution_count": 208,
   "metadata": {},
   "outputs": [
    {
     "data": {
      "application/vnd.plotly.v1+json": {
       "config": {
        "plotlyServerURL": "https://plot.ly"
       },
       "data": [
        {
         "diagonal": {
          "visible": false
         },
         "dimensions": [
          {
           "axis": {
            "matches": true
           },
           "label": "PC 1 (42.6%)",
           "values": [
            3.0735813371398586,
            1.413477466914405,
            1.7044416815093781,
            3.7759209477322635,
            0.9151506860523814,
            3.1842033926399047,
            2.0918092044544565,
            2.666622293914793,
            2.308863321463175,
            3.187572399261976,
            2.055443771554897,
            1.7651092521019816,
            3.4041328806994775,
            2.6277557991058433,
            3.084557545299921,
            2.4218678658074904,
            2.061135513930227,
            2.698117399729981,
            1.6414293249313592,
            0.899164473347571,
            1.3542418091532584,
            1.498047423341054,
            1.540129047815343,
            2.37601521984669,
            3.1047793026723096,
            1.0889233509217706,
            1.767442966382205,
            1.502559058392702,
            1.2752280765064932,
            1.1289561275317197,
            1.113822255563425,
            1.9021826589759414,
            2.579743350691404,
            1.4084847504565534,
            2.310678706432271,
            1.971851026764377,
            1.9873381762174307,
            2.237006754000601,
            2.787142346059254,
            2.4531075433189704,
            2.6935715509424094,
            2.6293848022248536,
            2.7164888452174494,
            2.0110145571329645,
            3.2280309643134304
           ]
          },
          {
           "axis": {
            "matches": true
           },
           "label": "PC 2 (30.8%)",
           "values": [
            0.4289095414208892,
            -0.7809004506575452,
            -0.18496713285133884,
            0.7753415180259998,
            0.22643273710491627,
            0.6247448179686861,
            0.23422122266382095,
            0.6784650851121723,
            -0.2709901009114779,
            0.10538210398815569,
            -0.24129211120715424,
            -0.2725224825522763,
            0.564661465037488,
            0.5460589952695485,
            0.7617389304416191,
            0.42634883728945944,
            0.11998390739755851,
            0.03775994188194266,
            -0.6620810608296194,
            -0.8900296617405203,
            -0.5170816935130522,
            -0.08109242439949685,
            -0.3006088448251345,
            -0.33659010169229486,
            -0.013333909093759262,
            -0.15364608476867295,
            -0.30178987265656465,
            -0.5886833380159814,
            -0.38049229756091785,
            -0.756179276283655,
            -1.0972134393543895,
            0.04053599158216161,
            -0.6662906459052838,
            -0.6498151595820598,
            -0.4576743081374642,
            0.36966332115049416,
            -0.7131977104182544,
            -0.4811067685251681,
            0.22201571031621387,
            0.7758004605762201,
            -0.06547061514664973,
            -0.014655233144495006,
            0.36721315692785467,
            -0.1534961164001568,
            -0.39806322817117756
           ]
          },
          {
           "axis": {
            "matches": true
           },
           "label": "PC 3 (8.3%)",
           "values": [
            1.1458121338339962,
            -0.0961665330169624,
            -0.09686427001672081,
            -0.30299009207998234,
            1.4967973128176832,
            -0.3279800379112652,
            -1.1598318124240856,
            0.7934769899094667,
            -0.9273573248163208,
            -0.4306416848004174,
            -1.1742606310506298,
            -1.4732113714118025,
            -1.1492967638914227,
            -0.02315956569756678,
            0.4285522465112894,
            0.1568915645723557,
            1.4437362834391687,
            1.3785052033848697,
            -0.12912856418439042,
            -0.25138082597041456,
            -0.8939993256930238,
            0.13285259012737777,
            -0.7825980438298071,
            -0.6823663728434267,
            -0.4712744930396447,
            -0.0618645344194149,
            0.4178946792585816,
            -0.17971140637251082,
            0.521801638769166,
            -0.2893148776998076,
            -0.1967165825371408,
            0.8174446908201974,
            -0.29352171240421643,
            0.47370448596509496,
            -0.4227112786217178,
            -0.45918230348077077,
            -0.9018231267079975,
            -1.0624431702628563,
            -0.051682204401670984,
            0.1285215418787977,
            0.7576239486028798,
            0.6244760599791467,
            0.5277357348261096,
            -0.3258781782830438,
            -0.2295086676275633
           ]
          }
         ],
         "hovertemplate": "color=0<br>%{xaxis.title.text}=%{x}<br>%{yaxis.title.text}=%{y}<extra></extra>",
         "legendgroup": "0",
         "marker": {
          "color": "#636efa",
          "symbol": "circle"
         },
         "name": "0",
         "showlegend": true,
         "type": "splom"
        },
        {
         "diagonal": {
          "visible": false
         },
         "dimensions": [
          {
           "axis": {
            "matches": true
           },
           "label": "PC 1 (42.6%)",
           "values": [
            0.06491458966322936,
            -1.1988376922827508,
            0.053845079975381474,
            -0.8281656525503583,
            -1.3185270549667258,
            -0.23914439857709524,
            -1.3137754144493399,
            -0.9794392881683645,
            -1.2323520681341178,
            0.011228031410049053,
            -1.6000201988664526,
            -2.08025276477094,
            -0.3655151201562488,
            -0.3120692064902928,
            -1.4942341629803886,
            -1.655993987593483,
            -1.9046088568561559,
            -2.0221195800533907,
            -2.294950348219557,
            -2.088286576430551,
            -2.087468321899255,
            -1.261750915520707,
            -0.6457132234790344,
            -0.8105290809355788,
            -1.4765996253023008,
            -0.21503302929068113,
            -0.8527639753410302,
            -0.8856042966808003,
            -1.8121765598424637,
            -0.7242098284926108,
            -1.3638486322736525,
            -1.5117214946286468,
            -1.3131732678347072,
            -0.2850024707913453,
            -0.5660525869693572,
            -1.040914606430577,
            -1.6056350861723192,
            -1.6414345027714907,
            -1.5702671907655081,
            -1.4290711504026696,
            -0.5469573348833606,
            -2.2025344148701302,
            -1.8712489355824615,
            -0.7104015954983719,
            -1.3707829292311897,
            -0.8104531776189948,
            -1.9829656822682291,
            -1.2992891637267538
           ]
          },
          {
           "axis": {
            "matches": true
           },
           "label": "PC 2 (30.8%)",
           "values": [
            -2.258567627351272,
            -1.0511991480476521,
            -1.209716055522297,
            -1.6866944571587834,
            -1.1996052067090641,
            -1.528315934820683,
            -0.2622986656163509,
            -0.09589880055925751,
            -2.4758817350137416,
            -1.4101050478603017,
            -1.9021274495690406,
            1.1933228909959472,
            -2.3843174423728106,
            -1.6842008694201276,
            -1.3496829750262038,
            -1.5785687952046439,
            -1.1814058418104563,
            -2.0224513597859497,
            -1.1469023079397629,
            -0.9149299114164814,
            -0.6860402244144499,
            -1.593625173334862,
            -2.0432131695691917,
            -2.0842571455603363,
            -1.066621499528645,
            -1.3778280094152837,
            -1.5613035075801136,
            -1.0455635718847125,
            -1.801533542656197,
            -1.4280912372315904,
            -1.4869453454063883,
            -0.817611378109468,
            -1.6876633158590382,
            -2.374260341881153,
            -1.0222135104393701,
            -1.6896619031248095,
            -0.03300421087724698,
            -2.160905311463356,
            -1.7575306350601927,
            -2.100541658346682,
            -1.4447765486614685,
            -0.018006237110004788,
            -1.0077025214670572,
            -1.6333767063843032,
            -1.7054249428578305,
            -1.6736605594418716,
            -0.8851826413077243,
            -1.789852520984808
           ]
          },
          {
           "axis": {
            "matches": true
           },
           "label": "PC 3 (8.3%)",
           "values": [
            -0.32008142619990126,
            0.9271621486496714,
            0.037317059693298855,
            -1.1560901969556867,
            0.74800620805832,
            -0.8322421870086475,
            2.024561965799827,
            1.346725934940929,
            -0.12196259512023493,
            -0.5543731889626069,
            -0.9975299786540649,
            -0.4448237588430457,
            0.31685175436580704,
            0.3628124097312031,
            -0.0009247936625015226,
            0.04754161840009572,
            -0.2864312929349665,
            -1.4403556014481445,
            -0.6002927538419568,
            -0.44699532211346804,
            -1.1727353322794634,
            0.6289331962105055,
            1.2129906682612734,
            -0.28180351016418476,
            0.45797900772660166,
            0.6096541988022248,
            -0.3217272519263347,
            0.8742715824069801,
            0.0680749333786907,
            -0.5087288757132684,
            -0.7309169395390686,
            -0.740528683032676,
            0.16955062163942783,
            0.4513459403308777,
            2.305179068505705,
            0.38386187275058953,
            0.9977864166810064,
            -0.13517534130062495,
            -0.40005741747249574,
            0.01066672701071476,
            1.4047702888615192,
            -0.3645985649006316,
            0.6243151932258324,
            0.9364969039208157,
            0.035200217955765306,
            -0.3769357217891833,
            0.27954672847673706,
            0.0056236277109211735
           ]
          }
         ],
         "hovertemplate": "color=1<br>%{xaxis.title.text}=%{x}<br>%{yaxis.title.text}=%{y}<extra></extra>",
         "legendgroup": "1",
         "marker": {
          "color": "#EF553B",
          "symbol": "circle"
         },
         "name": "1",
         "showlegend": true,
         "type": "splom"
        },
        {
         "diagonal": {
          "visible": false
         },
         "dimensions": [
          {
           "axis": {
            "matches": true
           },
           "label": "PC 1 (42.6%)",
           "values": [
            -0.20513401356560432,
            -0.38645913430751394,
            -1.9501667349870868,
            -1.7060344175389637,
            -2.514282307694519,
            -2.796945177654903,
            -1.8969364148587022,
            -1.49300982865781,
            -1.6396087411855753,
            -0.7059020322439037,
            -1.414763940179618,
            -1.6320029744059632,
            -0.05008630334694221,
            -0.8097758364861772,
            -2.063591246301226,
            -1.826675075750035,
            -0.8860882484729408,
            -1.0228641872952848,
            -0.915850068685011,
            -1.8457545663682722,
            -1.1899638787076625,
            -2.008517073359816,
            -0.6063017329599077,
            -1.58954117602427,
            -0.7256941740205969,
            -0.47611106707457856,
            -1.7567098741443044,
            0.12828574003789334,
            -0.97629730816121,
            0.239308911581797,
            0.20827547810611152,
            -1.705282776179978,
            -1.5653034424844339,
            -0.20231141848176218,
            -0.5185269014360593,
            0.3017261651459082,
            0.1997072629098166,
            -0.9494309632253332
           ]
          },
          {
           "axis": {
            "matches": true
           },
           "label": "PC 2 (30.8%)",
           "values": [
            0.32071208560733155,
            0.062148405154055446,
            0.23358857602384217,
            1.5277666660749016,
            1.3597769781331104,
            2.4468958614726946,
            1.8982244951726888,
            1.1671227847184444,
            0.9998065388540835,
            0.8158647695354789,
            1.2766348317256218,
            1.9326687120133688,
            1.757536920319405,
            1.2271694926105152,
            1.9190731204135676,
            2.220387442352772,
            1.9757928276541512,
            3.0360837633097333,
            0.9761721134821503,
            3.2679008232474254,
            2.7254416120945955,
            1.5907982386476114,
            2.018745090342546,
            1.7711258492043958,
            1.280482122651425,
            2.109884336972894,
            2.429713527687583,
            3.0921994893603326,
            2.114865734023436,
            1.9192255512709115,
            2.4939031351384098,
            0.6149329200203726,
            1.6817138319046987,
            2.3011370729491967,
            2.231147921303359,
            3.481525450036682,
            2.666727167561725,
            3.30503417531093
           ]
          },
          {
           "axis": {
            "matches": true
           },
           "label": "PC 3 (8.3%)",
           "values": [
            0.9299678621881133,
            0.2198996183724767,
            -1.325923850959867,
            -0.5972814132175644,
            0.43930565366977975,
            0.9845899255340311,
            -0.6845841447095117,
            0.4047056684995269,
            0.0017087496794402426,
            -0.8219092872949969,
            0.077345486058027,
            0.3098730732112515,
            1.372381664262741,
            0.5878837633124693,
            -0.4947720256031699,
            -0.3749687924422189,
            -0.6923756897501776,
            -0.6678380943691545,
            -0.2820434282984035,
            -0.07617448728965,
            -0.7854526460527484,
            -0.2361627487376438,
            0.4207103732919262,
            0.7075882345489275,
            0.900992089434662,
            -1.2533539378190042,
            -0.5257589586173219,
            0.4332774561083224,
            -0.9240096389334764,
            -0.16315442023372412,
            1.3139255313632943,
            0.4660523690236309,
            -1.259122271848649,
            -1.5016307395463506,
            0.2709147145297941,
            1.2626421420189162,
            0.7323442290832061,
            -0.6004689372986693
           ]
          }
         ],
         "hovertemplate": "color=2<br>%{xaxis.title.text}=%{x}<br>%{yaxis.title.text}=%{y}<extra></extra>",
         "legendgroup": "2",
         "marker": {
          "color": "#00cc96",
          "symbol": "circle"
         },
         "name": "2",
         "showlegend": true,
         "type": "splom"
        }
       ],
       "layout": {
        "dragmode": "select",
        "legend": {
         "title": {
          "text": "color"
         },
         "tracegroupgap": 0
        },
        "margin": {
         "t": 60
        },
        "template": {
         "data": {
          "bar": [
           {
            "error_x": {
             "color": "#2a3f5f"
            },
            "error_y": {
             "color": "#2a3f5f"
            },
            "marker": {
             "line": {
              "color": "#E5ECF6",
              "width": 0.5
             },
             "pattern": {
              "fillmode": "overlay",
              "size": 10,
              "solidity": 0.2
             }
            },
            "type": "bar"
           }
          ],
          "barpolar": [
           {
            "marker": {
             "line": {
              "color": "#E5ECF6",
              "width": 0.5
             },
             "pattern": {
              "fillmode": "overlay",
              "size": 10,
              "solidity": 0.2
             }
            },
            "type": "barpolar"
           }
          ],
          "carpet": [
           {
            "aaxis": {
             "endlinecolor": "#2a3f5f",
             "gridcolor": "white",
             "linecolor": "white",
             "minorgridcolor": "white",
             "startlinecolor": "#2a3f5f"
            },
            "baxis": {
             "endlinecolor": "#2a3f5f",
             "gridcolor": "white",
             "linecolor": "white",
             "minorgridcolor": "white",
             "startlinecolor": "#2a3f5f"
            },
            "type": "carpet"
           }
          ],
          "choropleth": [
           {
            "colorbar": {
             "outlinewidth": 0,
             "ticks": ""
            },
            "type": "choropleth"
           }
          ],
          "contour": [
           {
            "colorbar": {
             "outlinewidth": 0,
             "ticks": ""
            },
            "colorscale": [
             [
              0,
              "#0d0887"
             ],
             [
              0.1111111111111111,
              "#46039f"
             ],
             [
              0.2222222222222222,
              "#7201a8"
             ],
             [
              0.3333333333333333,
              "#9c179e"
             ],
             [
              0.4444444444444444,
              "#bd3786"
             ],
             [
              0.5555555555555556,
              "#d8576b"
             ],
             [
              0.6666666666666666,
              "#ed7953"
             ],
             [
              0.7777777777777778,
              "#fb9f3a"
             ],
             [
              0.8888888888888888,
              "#fdca26"
             ],
             [
              1,
              "#f0f921"
             ]
            ],
            "type": "contour"
           }
          ],
          "contourcarpet": [
           {
            "colorbar": {
             "outlinewidth": 0,
             "ticks": ""
            },
            "type": "contourcarpet"
           }
          ],
          "heatmap": [
           {
            "colorbar": {
             "outlinewidth": 0,
             "ticks": ""
            },
            "colorscale": [
             [
              0,
              "#0d0887"
             ],
             [
              0.1111111111111111,
              "#46039f"
             ],
             [
              0.2222222222222222,
              "#7201a8"
             ],
             [
              0.3333333333333333,
              "#9c179e"
             ],
             [
              0.4444444444444444,
              "#bd3786"
             ],
             [
              0.5555555555555556,
              "#d8576b"
             ],
             [
              0.6666666666666666,
              "#ed7953"
             ],
             [
              0.7777777777777778,
              "#fb9f3a"
             ],
             [
              0.8888888888888888,
              "#fdca26"
             ],
             [
              1,
              "#f0f921"
             ]
            ],
            "type": "heatmap"
           }
          ],
          "heatmapgl": [
           {
            "colorbar": {
             "outlinewidth": 0,
             "ticks": ""
            },
            "colorscale": [
             [
              0,
              "#0d0887"
             ],
             [
              0.1111111111111111,
              "#46039f"
             ],
             [
              0.2222222222222222,
              "#7201a8"
             ],
             [
              0.3333333333333333,
              "#9c179e"
             ],
             [
              0.4444444444444444,
              "#bd3786"
             ],
             [
              0.5555555555555556,
              "#d8576b"
             ],
             [
              0.6666666666666666,
              "#ed7953"
             ],
             [
              0.7777777777777778,
              "#fb9f3a"
             ],
             [
              0.8888888888888888,
              "#fdca26"
             ],
             [
              1,
              "#f0f921"
             ]
            ],
            "type": "heatmapgl"
           }
          ],
          "histogram": [
           {
            "marker": {
             "pattern": {
              "fillmode": "overlay",
              "size": 10,
              "solidity": 0.2
             }
            },
            "type": "histogram"
           }
          ],
          "histogram2d": [
           {
            "colorbar": {
             "outlinewidth": 0,
             "ticks": ""
            },
            "colorscale": [
             [
              0,
              "#0d0887"
             ],
             [
              0.1111111111111111,
              "#46039f"
             ],
             [
              0.2222222222222222,
              "#7201a8"
             ],
             [
              0.3333333333333333,
              "#9c179e"
             ],
             [
              0.4444444444444444,
              "#bd3786"
             ],
             [
              0.5555555555555556,
              "#d8576b"
             ],
             [
              0.6666666666666666,
              "#ed7953"
             ],
             [
              0.7777777777777778,
              "#fb9f3a"
             ],
             [
              0.8888888888888888,
              "#fdca26"
             ],
             [
              1,
              "#f0f921"
             ]
            ],
            "type": "histogram2d"
           }
          ],
          "histogram2dcontour": [
           {
            "colorbar": {
             "outlinewidth": 0,
             "ticks": ""
            },
            "colorscale": [
             [
              0,
              "#0d0887"
             ],
             [
              0.1111111111111111,
              "#46039f"
             ],
             [
              0.2222222222222222,
              "#7201a8"
             ],
             [
              0.3333333333333333,
              "#9c179e"
             ],
             [
              0.4444444444444444,
              "#bd3786"
             ],
             [
              0.5555555555555556,
              "#d8576b"
             ],
             [
              0.6666666666666666,
              "#ed7953"
             ],
             [
              0.7777777777777778,
              "#fb9f3a"
             ],
             [
              0.8888888888888888,
              "#fdca26"
             ],
             [
              1,
              "#f0f921"
             ]
            ],
            "type": "histogram2dcontour"
           }
          ],
          "mesh3d": [
           {
            "colorbar": {
             "outlinewidth": 0,
             "ticks": ""
            },
            "type": "mesh3d"
           }
          ],
          "parcoords": [
           {
            "line": {
             "colorbar": {
              "outlinewidth": 0,
              "ticks": ""
             }
            },
            "type": "parcoords"
           }
          ],
          "pie": [
           {
            "automargin": true,
            "type": "pie"
           }
          ],
          "scatter": [
           {
            "marker": {
             "colorbar": {
              "outlinewidth": 0,
              "ticks": ""
             }
            },
            "type": "scatter"
           }
          ],
          "scatter3d": [
           {
            "line": {
             "colorbar": {
              "outlinewidth": 0,
              "ticks": ""
             }
            },
            "marker": {
             "colorbar": {
              "outlinewidth": 0,
              "ticks": ""
             }
            },
            "type": "scatter3d"
           }
          ],
          "scattercarpet": [
           {
            "marker": {
             "colorbar": {
              "outlinewidth": 0,
              "ticks": ""
             }
            },
            "type": "scattercarpet"
           }
          ],
          "scattergeo": [
           {
            "marker": {
             "colorbar": {
              "outlinewidth": 0,
              "ticks": ""
             }
            },
            "type": "scattergeo"
           }
          ],
          "scattergl": [
           {
            "marker": {
             "colorbar": {
              "outlinewidth": 0,
              "ticks": ""
             }
            },
            "type": "scattergl"
           }
          ],
          "scattermapbox": [
           {
            "marker": {
             "colorbar": {
              "outlinewidth": 0,
              "ticks": ""
             }
            },
            "type": "scattermapbox"
           }
          ],
          "scatterpolar": [
           {
            "marker": {
             "colorbar": {
              "outlinewidth": 0,
              "ticks": ""
             }
            },
            "type": "scatterpolar"
           }
          ],
          "scatterpolargl": [
           {
            "marker": {
             "colorbar": {
              "outlinewidth": 0,
              "ticks": ""
             }
            },
            "type": "scatterpolargl"
           }
          ],
          "scatterternary": [
           {
            "marker": {
             "colorbar": {
              "outlinewidth": 0,
              "ticks": ""
             }
            },
            "type": "scatterternary"
           }
          ],
          "surface": [
           {
            "colorbar": {
             "outlinewidth": 0,
             "ticks": ""
            },
            "colorscale": [
             [
              0,
              "#0d0887"
             ],
             [
              0.1111111111111111,
              "#46039f"
             ],
             [
              0.2222222222222222,
              "#7201a8"
             ],
             [
              0.3333333333333333,
              "#9c179e"
             ],
             [
              0.4444444444444444,
              "#bd3786"
             ],
             [
              0.5555555555555556,
              "#d8576b"
             ],
             [
              0.6666666666666666,
              "#ed7953"
             ],
             [
              0.7777777777777778,
              "#fb9f3a"
             ],
             [
              0.8888888888888888,
              "#fdca26"
             ],
             [
              1,
              "#f0f921"
             ]
            ],
            "type": "surface"
           }
          ],
          "table": [
           {
            "cells": {
             "fill": {
              "color": "#EBF0F8"
             },
             "line": {
              "color": "white"
             }
            },
            "header": {
             "fill": {
              "color": "#C8D4E3"
             },
             "line": {
              "color": "white"
             }
            },
            "type": "table"
           }
          ]
         },
         "layout": {
          "annotationdefaults": {
           "arrowcolor": "#2a3f5f",
           "arrowhead": 0,
           "arrowwidth": 1
          },
          "autotypenumbers": "strict",
          "coloraxis": {
           "colorbar": {
            "outlinewidth": 0,
            "ticks": ""
           }
          },
          "colorscale": {
           "diverging": [
            [
             0,
             "#8e0152"
            ],
            [
             0.1,
             "#c51b7d"
            ],
            [
             0.2,
             "#de77ae"
            ],
            [
             0.3,
             "#f1b6da"
            ],
            [
             0.4,
             "#fde0ef"
            ],
            [
             0.5,
             "#f7f7f7"
            ],
            [
             0.6,
             "#e6f5d0"
            ],
            [
             0.7,
             "#b8e186"
            ],
            [
             0.8,
             "#7fbc41"
            ],
            [
             0.9,
             "#4d9221"
            ],
            [
             1,
             "#276419"
            ]
           ],
           "sequential": [
            [
             0,
             "#0d0887"
            ],
            [
             0.1111111111111111,
             "#46039f"
            ],
            [
             0.2222222222222222,
             "#7201a8"
            ],
            [
             0.3333333333333333,
             "#9c179e"
            ],
            [
             0.4444444444444444,
             "#bd3786"
            ],
            [
             0.5555555555555556,
             "#d8576b"
            ],
            [
             0.6666666666666666,
             "#ed7953"
            ],
            [
             0.7777777777777778,
             "#fb9f3a"
            ],
            [
             0.8888888888888888,
             "#fdca26"
            ],
            [
             1,
             "#f0f921"
            ]
           ],
           "sequentialminus": [
            [
             0,
             "#0d0887"
            ],
            [
             0.1111111111111111,
             "#46039f"
            ],
            [
             0.2222222222222222,
             "#7201a8"
            ],
            [
             0.3333333333333333,
             "#9c179e"
            ],
            [
             0.4444444444444444,
             "#bd3786"
            ],
            [
             0.5555555555555556,
             "#d8576b"
            ],
            [
             0.6666666666666666,
             "#ed7953"
            ],
            [
             0.7777777777777778,
             "#fb9f3a"
            ],
            [
             0.8888888888888888,
             "#fdca26"
            ],
            [
             1,
             "#f0f921"
            ]
           ]
          },
          "colorway": [
           "#636efa",
           "#EF553B",
           "#00cc96",
           "#ab63fa",
           "#FFA15A",
           "#19d3f3",
           "#FF6692",
           "#B6E880",
           "#FF97FF",
           "#FECB52"
          ],
          "font": {
           "color": "#2a3f5f"
          },
          "geo": {
           "bgcolor": "white",
           "lakecolor": "white",
           "landcolor": "#E5ECF6",
           "showlakes": true,
           "showland": true,
           "subunitcolor": "white"
          },
          "hoverlabel": {
           "align": "left"
          },
          "hovermode": "closest",
          "mapbox": {
           "style": "light"
          },
          "paper_bgcolor": "white",
          "plot_bgcolor": "#E5ECF6",
          "polar": {
           "angularaxis": {
            "gridcolor": "white",
            "linecolor": "white",
            "ticks": ""
           },
           "bgcolor": "#E5ECF6",
           "radialaxis": {
            "gridcolor": "white",
            "linecolor": "white",
            "ticks": ""
           }
          },
          "scene": {
           "xaxis": {
            "backgroundcolor": "#E5ECF6",
            "gridcolor": "white",
            "gridwidth": 2,
            "linecolor": "white",
            "showbackground": true,
            "ticks": "",
            "zerolinecolor": "white"
           },
           "yaxis": {
            "backgroundcolor": "#E5ECF6",
            "gridcolor": "white",
            "gridwidth": 2,
            "linecolor": "white",
            "showbackground": true,
            "ticks": "",
            "zerolinecolor": "white"
           },
           "zaxis": {
            "backgroundcolor": "#E5ECF6",
            "gridcolor": "white",
            "gridwidth": 2,
            "linecolor": "white",
            "showbackground": true,
            "ticks": "",
            "zerolinecolor": "white"
           }
          },
          "shapedefaults": {
           "line": {
            "color": "#2a3f5f"
           }
          },
          "ternary": {
           "aaxis": {
            "gridcolor": "white",
            "linecolor": "white",
            "ticks": ""
           },
           "baxis": {
            "gridcolor": "white",
            "linecolor": "white",
            "ticks": ""
           },
           "bgcolor": "#E5ECF6",
           "caxis": {
            "gridcolor": "white",
            "linecolor": "white",
            "ticks": ""
           }
          },
          "title": {
           "x": 0.05
          },
          "xaxis": {
           "automargin": true,
           "gridcolor": "white",
           "linecolor": "white",
           "ticks": "",
           "title": {
            "standoff": 15
           },
           "zerolinecolor": "white",
           "zerolinewidth": 2
          },
          "yaxis": {
           "automargin": true,
           "gridcolor": "white",
           "linecolor": "white",
           "ticks": "",
           "title": {
            "standoff": 15
           },
           "zerolinecolor": "white",
           "zerolinewidth": 2
          }
         }
        }
       }
      }
     },
     "metadata": {},
     "output_type": "display_data"
    }
   ],
   "source": [
    "labels = {\n",
    "    str(i): f\"PC {i+1} ({var:.1f}%)\"\n",
    "    for i, var in enumerate(pca3.explained_variance_ratio_ * 100)\n",
    "}\n",
    "\n",
    "fig = px.scatter_matrix(\n",
    "    pca3_results,\n",
    "    labels=labels,\n",
    "    dimensions=range(3),\n",
    "    color=scaled_df['cultivator']\n",
    ")\n",
    "fig.update_traces(diagonal_visible=False)\n",
    "\n",
    "fig.show()"
   ]
  },
  {
   "cell_type": "markdown",
   "metadata": {},
   "source": [
    "### Working for part (c)"
   ]
  },
  {
   "cell_type": "markdown",
   "metadata": {},
   "source": [
    "#### Function to calculate PC1, PC2, PC3 using variable values"
   ]
  },
  {
   "cell_type": "code",
   "execution_count": null,
   "metadata": {},
   "outputs": [],
   "source": [
    "def calc_point(alc, malic, mag, flav, nonflav, color, prol): # calculate direction on biplot using wine constituent values\n",
    "    variables = pd.DataFrame([[alc, malic, mag, flav, nonflav, color, prol]], columns=reduced_df.columns) # create dataframe for values\n",
    "    variables_scaled = scaler.transform(variables)[0] # standardize the values (using fit from original data) and make into 1d array\n",
    "    calc_pc1 = np.dot(np.array(pca3.components_)[0], variables_scaled) # calculate pc1\n",
    "    calc_pc2 = np.dot(np.array(pca3.components_)[1], variables_scaled) # calculate pc2\n",
    "    calc_pc3 = np.dot(np.array(pca3.components_)[2], variables_scaled) # calculate pc3\n",
    "\n",
    "    return calc_pc1, calc_pc2, calc_pc3"
   ]
  },
  {
   "cell_type": "code",
   "execution_count": 209,
   "metadata": {},
   "outputs": [],
   "source": [
    "score_pc1, score_pc2, score_pc3 = calc_point(12.75, 3.11, 96, 0.61, 0.52, 4.56, 632)"
   ]
  },
  {
   "cell_type": "markdown",
   "metadata": {},
   "source": [
    "#### PC1 and PC2 Score plot"
   ]
  },
  {
   "cell_type": "code",
   "execution_count": 213,
   "metadata": {},
   "outputs": [
    {
     "data": {
      "application/vnd.plotly.v1+json": {
       "config": {
        "plotlyServerURL": "https://plot.ly"
       },
       "data": [
        {
         "hovertemplate": "color=0<br>0=%{x}<br>1=%{y}<extra></extra>",
         "legendgroup": "0",
         "marker": {
          "color": "#636efa",
          "symbol": "circle"
         },
         "mode": "markers",
         "name": "0",
         "orientation": "v",
         "showlegend": true,
         "type": "scatter",
         "x": [
          3.0735813371398586,
          1.413477466914405,
          1.7044416815093781,
          3.7759209477322635,
          0.9151506860523814,
          3.1842033926399047,
          2.0918092044544565,
          2.666622293914793,
          2.308863321463175,
          3.187572399261976,
          2.055443771554897,
          1.7651092521019816,
          3.4041328806994775,
          2.6277557991058433,
          3.084557545299921,
          2.4218678658074904,
          2.061135513930227,
          2.698117399729981,
          1.6414293249313592,
          0.899164473347571,
          1.3542418091532584,
          1.498047423341054,
          1.540129047815343,
          2.37601521984669,
          3.1047793026723096,
          1.0889233509217706,
          1.767442966382205,
          1.502559058392702,
          1.2752280765064932,
          1.1289561275317197,
          1.113822255563425,
          1.9021826589759414,
          2.579743350691404,
          1.4084847504565534,
          2.310678706432271,
          1.971851026764377,
          1.9873381762174307,
          2.237006754000601,
          2.787142346059254,
          2.4531075433189704,
          2.6935715509424094,
          2.6293848022248536,
          2.7164888452174494,
          2.0110145571329645,
          3.2280309643134304
         ],
         "xaxis": "x",
         "y": [
          0.4289095414208892,
          -0.7809004506575452,
          -0.18496713285133884,
          0.7753415180259998,
          0.22643273710491627,
          0.6247448179686861,
          0.23422122266382095,
          0.6784650851121723,
          -0.2709901009114779,
          0.10538210398815569,
          -0.24129211120715424,
          -0.2725224825522763,
          0.564661465037488,
          0.5460589952695485,
          0.7617389304416191,
          0.42634883728945944,
          0.11998390739755851,
          0.03775994188194266,
          -0.6620810608296194,
          -0.8900296617405203,
          -0.5170816935130522,
          -0.08109242439949685,
          -0.3006088448251345,
          -0.33659010169229486,
          -0.013333909093759262,
          -0.15364608476867295,
          -0.30178987265656465,
          -0.5886833380159814,
          -0.38049229756091785,
          -0.756179276283655,
          -1.0972134393543895,
          0.04053599158216161,
          -0.6662906459052838,
          -0.6498151595820598,
          -0.4576743081374642,
          0.36966332115049416,
          -0.7131977104182544,
          -0.4811067685251681,
          0.22201571031621387,
          0.7758004605762201,
          -0.06547061514664973,
          -0.014655233144495006,
          0.36721315692785467,
          -0.1534961164001568,
          -0.39806322817117756
         ],
         "yaxis": "y"
        },
        {
         "hovertemplate": "color=1<br>0=%{x}<br>1=%{y}<extra></extra>",
         "legendgroup": "1",
         "marker": {
          "color": "#EF553B",
          "symbol": "circle"
         },
         "mode": "markers",
         "name": "1",
         "orientation": "v",
         "showlegend": true,
         "type": "scatter",
         "x": [
          0.06491458966322936,
          -1.1988376922827508,
          0.053845079975381474,
          -0.8281656525503583,
          -1.3185270549667258,
          -0.23914439857709524,
          -1.3137754144493399,
          -0.9794392881683645,
          -1.2323520681341178,
          0.011228031410049053,
          -1.6000201988664526,
          -2.08025276477094,
          -0.3655151201562488,
          -0.3120692064902928,
          -1.4942341629803886,
          -1.655993987593483,
          -1.9046088568561559,
          -2.0221195800533907,
          -2.294950348219557,
          -2.088286576430551,
          -2.087468321899255,
          -1.261750915520707,
          -0.6457132234790344,
          -0.8105290809355788,
          -1.4765996253023008,
          -0.21503302929068113,
          -0.8527639753410302,
          -0.8856042966808003,
          -1.8121765598424637,
          -0.7242098284926108,
          -1.3638486322736525,
          -1.5117214946286468,
          -1.3131732678347072,
          -0.2850024707913453,
          -0.5660525869693572,
          -1.040914606430577,
          -1.6056350861723192,
          -1.6414345027714907,
          -1.5702671907655081,
          -1.4290711504026696,
          -0.5469573348833606,
          -2.2025344148701302,
          -1.8712489355824615,
          -0.7104015954983719,
          -1.3707829292311897,
          -0.8104531776189948,
          -1.9829656822682291,
          -1.2992891637267538
         ],
         "xaxis": "x",
         "y": [
          -2.258567627351272,
          -1.0511991480476521,
          -1.209716055522297,
          -1.6866944571587834,
          -1.1996052067090641,
          -1.528315934820683,
          -0.2622986656163509,
          -0.09589880055925751,
          -2.4758817350137416,
          -1.4101050478603017,
          -1.9021274495690406,
          1.1933228909959472,
          -2.3843174423728106,
          -1.6842008694201276,
          -1.3496829750262038,
          -1.5785687952046439,
          -1.1814058418104563,
          -2.0224513597859497,
          -1.1469023079397629,
          -0.9149299114164814,
          -0.6860402244144499,
          -1.593625173334862,
          -2.0432131695691917,
          -2.0842571455603363,
          -1.066621499528645,
          -1.3778280094152837,
          -1.5613035075801136,
          -1.0455635718847125,
          -1.801533542656197,
          -1.4280912372315904,
          -1.4869453454063883,
          -0.817611378109468,
          -1.6876633158590382,
          -2.374260341881153,
          -1.0222135104393701,
          -1.6896619031248095,
          -0.03300421087724698,
          -2.160905311463356,
          -1.7575306350601927,
          -2.100541658346682,
          -1.4447765486614685,
          -0.018006237110004788,
          -1.0077025214670572,
          -1.6333767063843032,
          -1.7054249428578305,
          -1.6736605594418716,
          -0.8851826413077243,
          -1.789852520984808
         ],
         "yaxis": "y"
        },
        {
         "hovertemplate": "color=2<br>0=%{x}<br>1=%{y}<extra></extra>",
         "legendgroup": "2",
         "marker": {
          "color": "#00cc96",
          "symbol": "circle"
         },
         "mode": "markers",
         "name": "2",
         "orientation": "v",
         "showlegend": true,
         "type": "scatter",
         "x": [
          -0.20513401356560432,
          -0.38645913430751394,
          -1.9501667349870868,
          -1.7060344175389637,
          -2.514282307694519,
          -2.796945177654903,
          -1.8969364148587022,
          -1.49300982865781,
          -1.6396087411855753,
          -0.7059020322439037,
          -1.414763940179618,
          -1.6320029744059632,
          -0.05008630334694221,
          -0.8097758364861772,
          -2.063591246301226,
          -1.826675075750035,
          -0.8860882484729408,
          -1.0228641872952848,
          -0.915850068685011,
          -1.8457545663682722,
          -1.1899638787076625,
          -2.008517073359816,
          -0.6063017329599077,
          -1.58954117602427,
          -0.7256941740205969,
          -0.47611106707457856,
          -1.7567098741443044,
          0.12828574003789334,
          -0.97629730816121,
          0.239308911581797,
          0.20827547810611152,
          -1.705282776179978,
          -1.5653034424844339,
          -0.20231141848176218,
          -0.5185269014360593,
          0.3017261651459082,
          0.1997072629098166,
          -0.9494309632253332
         ],
         "xaxis": "x",
         "y": [
          0.32071208560733155,
          0.062148405154055446,
          0.23358857602384217,
          1.5277666660749016,
          1.3597769781331104,
          2.4468958614726946,
          1.8982244951726888,
          1.1671227847184444,
          0.9998065388540835,
          0.8158647695354789,
          1.2766348317256218,
          1.9326687120133688,
          1.757536920319405,
          1.2271694926105152,
          1.9190731204135676,
          2.220387442352772,
          1.9757928276541512,
          3.0360837633097333,
          0.9761721134821503,
          3.2679008232474254,
          2.7254416120945955,
          1.5907982386476114,
          2.018745090342546,
          1.7711258492043958,
          1.280482122651425,
          2.109884336972894,
          2.429713527687583,
          3.0921994893603326,
          2.114865734023436,
          1.9192255512709115,
          2.4939031351384098,
          0.6149329200203726,
          1.6817138319046987,
          2.3011370729491967,
          2.231147921303359,
          3.481525450036682,
          2.666727167561725,
          3.30503417531093
         ],
         "yaxis": "y"
        },
        {
         "marker": {
          "color": "darkslateblue",
          "size": 14
         },
         "mode": "markers",
         "name": "Point Calculated",
         "showlegend": true,
         "type": "scatter",
         "x": [
          -1.667503731874722
         ],
         "y": [
          0.9984022902929763
         ]
        }
       ],
       "layout": {
        "legend": {
         "title": {
          "text": "Cultivator"
         },
         "tracegroupgap": 0
        },
        "margin": {
         "t": 60
        },
        "template": {
         "data": {
          "bar": [
           {
            "error_x": {
             "color": "#2a3f5f"
            },
            "error_y": {
             "color": "#2a3f5f"
            },
            "marker": {
             "line": {
              "color": "#E5ECF6",
              "width": 0.5
             },
             "pattern": {
              "fillmode": "overlay",
              "size": 10,
              "solidity": 0.2
             }
            },
            "type": "bar"
           }
          ],
          "barpolar": [
           {
            "marker": {
             "line": {
              "color": "#E5ECF6",
              "width": 0.5
             },
             "pattern": {
              "fillmode": "overlay",
              "size": 10,
              "solidity": 0.2
             }
            },
            "type": "barpolar"
           }
          ],
          "carpet": [
           {
            "aaxis": {
             "endlinecolor": "#2a3f5f",
             "gridcolor": "white",
             "linecolor": "white",
             "minorgridcolor": "white",
             "startlinecolor": "#2a3f5f"
            },
            "baxis": {
             "endlinecolor": "#2a3f5f",
             "gridcolor": "white",
             "linecolor": "white",
             "minorgridcolor": "white",
             "startlinecolor": "#2a3f5f"
            },
            "type": "carpet"
           }
          ],
          "choropleth": [
           {
            "colorbar": {
             "outlinewidth": 0,
             "ticks": ""
            },
            "type": "choropleth"
           }
          ],
          "contour": [
           {
            "colorbar": {
             "outlinewidth": 0,
             "ticks": ""
            },
            "colorscale": [
             [
              0,
              "#0d0887"
             ],
             [
              0.1111111111111111,
              "#46039f"
             ],
             [
              0.2222222222222222,
              "#7201a8"
             ],
             [
              0.3333333333333333,
              "#9c179e"
             ],
             [
              0.4444444444444444,
              "#bd3786"
             ],
             [
              0.5555555555555556,
              "#d8576b"
             ],
             [
              0.6666666666666666,
              "#ed7953"
             ],
             [
              0.7777777777777778,
              "#fb9f3a"
             ],
             [
              0.8888888888888888,
              "#fdca26"
             ],
             [
              1,
              "#f0f921"
             ]
            ],
            "type": "contour"
           }
          ],
          "contourcarpet": [
           {
            "colorbar": {
             "outlinewidth": 0,
             "ticks": ""
            },
            "type": "contourcarpet"
           }
          ],
          "heatmap": [
           {
            "colorbar": {
             "outlinewidth": 0,
             "ticks": ""
            },
            "colorscale": [
             [
              0,
              "#0d0887"
             ],
             [
              0.1111111111111111,
              "#46039f"
             ],
             [
              0.2222222222222222,
              "#7201a8"
             ],
             [
              0.3333333333333333,
              "#9c179e"
             ],
             [
              0.4444444444444444,
              "#bd3786"
             ],
             [
              0.5555555555555556,
              "#d8576b"
             ],
             [
              0.6666666666666666,
              "#ed7953"
             ],
             [
              0.7777777777777778,
              "#fb9f3a"
             ],
             [
              0.8888888888888888,
              "#fdca26"
             ],
             [
              1,
              "#f0f921"
             ]
            ],
            "type": "heatmap"
           }
          ],
          "heatmapgl": [
           {
            "colorbar": {
             "outlinewidth": 0,
             "ticks": ""
            },
            "colorscale": [
             [
              0,
              "#0d0887"
             ],
             [
              0.1111111111111111,
              "#46039f"
             ],
             [
              0.2222222222222222,
              "#7201a8"
             ],
             [
              0.3333333333333333,
              "#9c179e"
             ],
             [
              0.4444444444444444,
              "#bd3786"
             ],
             [
              0.5555555555555556,
              "#d8576b"
             ],
             [
              0.6666666666666666,
              "#ed7953"
             ],
             [
              0.7777777777777778,
              "#fb9f3a"
             ],
             [
              0.8888888888888888,
              "#fdca26"
             ],
             [
              1,
              "#f0f921"
             ]
            ],
            "type": "heatmapgl"
           }
          ],
          "histogram": [
           {
            "marker": {
             "pattern": {
              "fillmode": "overlay",
              "size": 10,
              "solidity": 0.2
             }
            },
            "type": "histogram"
           }
          ],
          "histogram2d": [
           {
            "colorbar": {
             "outlinewidth": 0,
             "ticks": ""
            },
            "colorscale": [
             [
              0,
              "#0d0887"
             ],
             [
              0.1111111111111111,
              "#46039f"
             ],
             [
              0.2222222222222222,
              "#7201a8"
             ],
             [
              0.3333333333333333,
              "#9c179e"
             ],
             [
              0.4444444444444444,
              "#bd3786"
             ],
             [
              0.5555555555555556,
              "#d8576b"
             ],
             [
              0.6666666666666666,
              "#ed7953"
             ],
             [
              0.7777777777777778,
              "#fb9f3a"
             ],
             [
              0.8888888888888888,
              "#fdca26"
             ],
             [
              1,
              "#f0f921"
             ]
            ],
            "type": "histogram2d"
           }
          ],
          "histogram2dcontour": [
           {
            "colorbar": {
             "outlinewidth": 0,
             "ticks": ""
            },
            "colorscale": [
             [
              0,
              "#0d0887"
             ],
             [
              0.1111111111111111,
              "#46039f"
             ],
             [
              0.2222222222222222,
              "#7201a8"
             ],
             [
              0.3333333333333333,
              "#9c179e"
             ],
             [
              0.4444444444444444,
              "#bd3786"
             ],
             [
              0.5555555555555556,
              "#d8576b"
             ],
             [
              0.6666666666666666,
              "#ed7953"
             ],
             [
              0.7777777777777778,
              "#fb9f3a"
             ],
             [
              0.8888888888888888,
              "#fdca26"
             ],
             [
              1,
              "#f0f921"
             ]
            ],
            "type": "histogram2dcontour"
           }
          ],
          "mesh3d": [
           {
            "colorbar": {
             "outlinewidth": 0,
             "ticks": ""
            },
            "type": "mesh3d"
           }
          ],
          "parcoords": [
           {
            "line": {
             "colorbar": {
              "outlinewidth": 0,
              "ticks": ""
             }
            },
            "type": "parcoords"
           }
          ],
          "pie": [
           {
            "automargin": true,
            "type": "pie"
           }
          ],
          "scatter": [
           {
            "marker": {
             "colorbar": {
              "outlinewidth": 0,
              "ticks": ""
             }
            },
            "type": "scatter"
           }
          ],
          "scatter3d": [
           {
            "line": {
             "colorbar": {
              "outlinewidth": 0,
              "ticks": ""
             }
            },
            "marker": {
             "colorbar": {
              "outlinewidth": 0,
              "ticks": ""
             }
            },
            "type": "scatter3d"
           }
          ],
          "scattercarpet": [
           {
            "marker": {
             "colorbar": {
              "outlinewidth": 0,
              "ticks": ""
             }
            },
            "type": "scattercarpet"
           }
          ],
          "scattergeo": [
           {
            "marker": {
             "colorbar": {
              "outlinewidth": 0,
              "ticks": ""
             }
            },
            "type": "scattergeo"
           }
          ],
          "scattergl": [
           {
            "marker": {
             "colorbar": {
              "outlinewidth": 0,
              "ticks": ""
             }
            },
            "type": "scattergl"
           }
          ],
          "scattermapbox": [
           {
            "marker": {
             "colorbar": {
              "outlinewidth": 0,
              "ticks": ""
             }
            },
            "type": "scattermapbox"
           }
          ],
          "scatterpolar": [
           {
            "marker": {
             "colorbar": {
              "outlinewidth": 0,
              "ticks": ""
             }
            },
            "type": "scatterpolar"
           }
          ],
          "scatterpolargl": [
           {
            "marker": {
             "colorbar": {
              "outlinewidth": 0,
              "ticks": ""
             }
            },
            "type": "scatterpolargl"
           }
          ],
          "scatterternary": [
           {
            "marker": {
             "colorbar": {
              "outlinewidth": 0,
              "ticks": ""
             }
            },
            "type": "scatterternary"
           }
          ],
          "surface": [
           {
            "colorbar": {
             "outlinewidth": 0,
             "ticks": ""
            },
            "colorscale": [
             [
              0,
              "#0d0887"
             ],
             [
              0.1111111111111111,
              "#46039f"
             ],
             [
              0.2222222222222222,
              "#7201a8"
             ],
             [
              0.3333333333333333,
              "#9c179e"
             ],
             [
              0.4444444444444444,
              "#bd3786"
             ],
             [
              0.5555555555555556,
              "#d8576b"
             ],
             [
              0.6666666666666666,
              "#ed7953"
             ],
             [
              0.7777777777777778,
              "#fb9f3a"
             ],
             [
              0.8888888888888888,
              "#fdca26"
             ],
             [
              1,
              "#f0f921"
             ]
            ],
            "type": "surface"
           }
          ],
          "table": [
           {
            "cells": {
             "fill": {
              "color": "#EBF0F8"
             },
             "line": {
              "color": "white"
             }
            },
            "header": {
             "fill": {
              "color": "#C8D4E3"
             },
             "line": {
              "color": "white"
             }
            },
            "type": "table"
           }
          ]
         },
         "layout": {
          "annotationdefaults": {
           "arrowcolor": "#2a3f5f",
           "arrowhead": 0,
           "arrowwidth": 1
          },
          "autotypenumbers": "strict",
          "coloraxis": {
           "colorbar": {
            "outlinewidth": 0,
            "ticks": ""
           }
          },
          "colorscale": {
           "diverging": [
            [
             0,
             "#8e0152"
            ],
            [
             0.1,
             "#c51b7d"
            ],
            [
             0.2,
             "#de77ae"
            ],
            [
             0.3,
             "#f1b6da"
            ],
            [
             0.4,
             "#fde0ef"
            ],
            [
             0.5,
             "#f7f7f7"
            ],
            [
             0.6,
             "#e6f5d0"
            ],
            [
             0.7,
             "#b8e186"
            ],
            [
             0.8,
             "#7fbc41"
            ],
            [
             0.9,
             "#4d9221"
            ],
            [
             1,
             "#276419"
            ]
           ],
           "sequential": [
            [
             0,
             "#0d0887"
            ],
            [
             0.1111111111111111,
             "#46039f"
            ],
            [
             0.2222222222222222,
             "#7201a8"
            ],
            [
             0.3333333333333333,
             "#9c179e"
            ],
            [
             0.4444444444444444,
             "#bd3786"
            ],
            [
             0.5555555555555556,
             "#d8576b"
            ],
            [
             0.6666666666666666,
             "#ed7953"
            ],
            [
             0.7777777777777778,
             "#fb9f3a"
            ],
            [
             0.8888888888888888,
             "#fdca26"
            ],
            [
             1,
             "#f0f921"
            ]
           ],
           "sequentialminus": [
            [
             0,
             "#0d0887"
            ],
            [
             0.1111111111111111,
             "#46039f"
            ],
            [
             0.2222222222222222,
             "#7201a8"
            ],
            [
             0.3333333333333333,
             "#9c179e"
            ],
            [
             0.4444444444444444,
             "#bd3786"
            ],
            [
             0.5555555555555556,
             "#d8576b"
            ],
            [
             0.6666666666666666,
             "#ed7953"
            ],
            [
             0.7777777777777778,
             "#fb9f3a"
            ],
            [
             0.8888888888888888,
             "#fdca26"
            ],
            [
             1,
             "#f0f921"
            ]
           ]
          },
          "colorway": [
           "#636efa",
           "#EF553B",
           "#00cc96",
           "#ab63fa",
           "#FFA15A",
           "#19d3f3",
           "#FF6692",
           "#B6E880",
           "#FF97FF",
           "#FECB52"
          ],
          "font": {
           "color": "#2a3f5f"
          },
          "geo": {
           "bgcolor": "white",
           "lakecolor": "white",
           "landcolor": "#E5ECF6",
           "showlakes": true,
           "showland": true,
           "subunitcolor": "white"
          },
          "hoverlabel": {
           "align": "left"
          },
          "hovermode": "closest",
          "mapbox": {
           "style": "light"
          },
          "paper_bgcolor": "white",
          "plot_bgcolor": "#E5ECF6",
          "polar": {
           "angularaxis": {
            "gridcolor": "white",
            "linecolor": "white",
            "ticks": ""
           },
           "bgcolor": "#E5ECF6",
           "radialaxis": {
            "gridcolor": "white",
            "linecolor": "white",
            "ticks": ""
           }
          },
          "scene": {
           "xaxis": {
            "backgroundcolor": "#E5ECF6",
            "gridcolor": "white",
            "gridwidth": 2,
            "linecolor": "white",
            "showbackground": true,
            "ticks": "",
            "zerolinecolor": "white"
           },
           "yaxis": {
            "backgroundcolor": "#E5ECF6",
            "gridcolor": "white",
            "gridwidth": 2,
            "linecolor": "white",
            "showbackground": true,
            "ticks": "",
            "zerolinecolor": "white"
           },
           "zaxis": {
            "backgroundcolor": "#E5ECF6",
            "gridcolor": "white",
            "gridwidth": 2,
            "linecolor": "white",
            "showbackground": true,
            "ticks": "",
            "zerolinecolor": "white"
           }
          },
          "shapedefaults": {
           "line": {
            "color": "#2a3f5f"
           }
          },
          "ternary": {
           "aaxis": {
            "gridcolor": "white",
            "linecolor": "white",
            "ticks": ""
           },
           "baxis": {
            "gridcolor": "white",
            "linecolor": "white",
            "ticks": ""
           },
           "bgcolor": "#E5ECF6",
           "caxis": {
            "gridcolor": "white",
            "linecolor": "white",
            "ticks": ""
           }
          },
          "title": {
           "x": 0.05
          },
          "xaxis": {
           "automargin": true,
           "gridcolor": "white",
           "linecolor": "white",
           "ticks": "",
           "title": {
            "standoff": 15
           },
           "zerolinecolor": "white",
           "zerolinewidth": 2
          },
          "yaxis": {
           "automargin": true,
           "gridcolor": "white",
           "linecolor": "white",
           "ticks": "",
           "title": {
            "standoff": 15
           },
           "zerolinecolor": "white",
           "zerolinewidth": 2
          }
         }
        },
        "title": {
         "text": "Score Plot with Point Calculated (PC1 and PC2)"
        },
        "xaxis": {
         "anchor": "y",
         "domain": [
          0,
          1
         ],
         "title": {
          "text": "PC1"
         }
        },
        "yaxis": {
         "anchor": "x",
         "domain": [
          0,
          1
         ],
         "title": {
          "text": "PC2"
         }
        }
       }
      }
     },
     "metadata": {},
     "output_type": "display_data"
    }
   ],
   "source": [
    "fig = px.scatter(pca3_results, x=0, y=1, color=scaled_df['cultivator']) # create 2D scoreplot for PC1 and PC2\n",
    "fig.update_layout(\n",
    "    title='Score Plot with Point Calculated (PC1 and PC2)',\n",
    "    xaxis_title=\"PC1\",\n",
    "    yaxis_title=\"PC2\",\n",
    "    legend_title=\"Cultivator\"\n",
    ")\n",
    "\n",
    "fig.add_trace( # plot the calculated score on the score plot\n",
    "    go.Scatter(\n",
    "        mode='markers',\n",
    "        x=[score_pc1],\n",
    "        y=[score_pc2],\n",
    "        marker=dict(\n",
    "            color='darkslateblue',\n",
    "            size=14,\n",
    "        ),\n",
    "        showlegend=True,\n",
    "        name='Point Calculated'\n",
    "    )\n",
    ")\n",
    "\n",
    "fig.show()"
   ]
  },
  {
   "cell_type": "markdown",
   "metadata": {},
   "source": [
    "#### PC1 and PC3 Score plot"
   ]
  },
  {
   "cell_type": "code",
   "execution_count": 214,
   "metadata": {},
   "outputs": [
    {
     "data": {
      "application/vnd.plotly.v1+json": {
       "config": {
        "plotlyServerURL": "https://plot.ly"
       },
       "data": [
        {
         "hovertemplate": "color=0<br>0=%{x}<br>2=%{y}<extra></extra>",
         "legendgroup": "0",
         "marker": {
          "color": "#636efa",
          "symbol": "circle"
         },
         "mode": "markers",
         "name": "0",
         "orientation": "v",
         "showlegend": true,
         "type": "scatter",
         "x": [
          3.0735813371398586,
          1.413477466914405,
          1.7044416815093781,
          3.7759209477322635,
          0.9151506860523814,
          3.1842033926399047,
          2.0918092044544565,
          2.666622293914793,
          2.308863321463175,
          3.187572399261976,
          2.055443771554897,
          1.7651092521019816,
          3.4041328806994775,
          2.6277557991058433,
          3.084557545299921,
          2.4218678658074904,
          2.061135513930227,
          2.698117399729981,
          1.6414293249313592,
          0.899164473347571,
          1.3542418091532584,
          1.498047423341054,
          1.540129047815343,
          2.37601521984669,
          3.1047793026723096,
          1.0889233509217706,
          1.767442966382205,
          1.502559058392702,
          1.2752280765064932,
          1.1289561275317197,
          1.113822255563425,
          1.9021826589759414,
          2.579743350691404,
          1.4084847504565534,
          2.310678706432271,
          1.971851026764377,
          1.9873381762174307,
          2.237006754000601,
          2.787142346059254,
          2.4531075433189704,
          2.6935715509424094,
          2.6293848022248536,
          2.7164888452174494,
          2.0110145571329645,
          3.2280309643134304
         ],
         "xaxis": "x",
         "y": [
          1.1458121338339962,
          -0.0961665330169624,
          -0.09686427001672081,
          -0.30299009207998234,
          1.4967973128176832,
          -0.3279800379112652,
          -1.1598318124240856,
          0.7934769899094667,
          -0.9273573248163208,
          -0.4306416848004174,
          -1.1742606310506298,
          -1.4732113714118025,
          -1.1492967638914227,
          -0.02315956569756678,
          0.4285522465112894,
          0.1568915645723557,
          1.4437362834391687,
          1.3785052033848697,
          -0.12912856418439042,
          -0.25138082597041456,
          -0.8939993256930238,
          0.13285259012737777,
          -0.7825980438298071,
          -0.6823663728434267,
          -0.4712744930396447,
          -0.0618645344194149,
          0.4178946792585816,
          -0.17971140637251082,
          0.521801638769166,
          -0.2893148776998076,
          -0.1967165825371408,
          0.8174446908201974,
          -0.29352171240421643,
          0.47370448596509496,
          -0.4227112786217178,
          -0.45918230348077077,
          -0.9018231267079975,
          -1.0624431702628563,
          -0.051682204401670984,
          0.1285215418787977,
          0.7576239486028798,
          0.6244760599791467,
          0.5277357348261096,
          -0.3258781782830438,
          -0.2295086676275633
         ],
         "yaxis": "y"
        },
        {
         "hovertemplate": "color=1<br>0=%{x}<br>2=%{y}<extra></extra>",
         "legendgroup": "1",
         "marker": {
          "color": "#EF553B",
          "symbol": "circle"
         },
         "mode": "markers",
         "name": "1",
         "orientation": "v",
         "showlegend": true,
         "type": "scatter",
         "x": [
          0.06491458966322936,
          -1.1988376922827508,
          0.053845079975381474,
          -0.8281656525503583,
          -1.3185270549667258,
          -0.23914439857709524,
          -1.3137754144493399,
          -0.9794392881683645,
          -1.2323520681341178,
          0.011228031410049053,
          -1.6000201988664526,
          -2.08025276477094,
          -0.3655151201562488,
          -0.3120692064902928,
          -1.4942341629803886,
          -1.655993987593483,
          -1.9046088568561559,
          -2.0221195800533907,
          -2.294950348219557,
          -2.088286576430551,
          -2.087468321899255,
          -1.261750915520707,
          -0.6457132234790344,
          -0.8105290809355788,
          -1.4765996253023008,
          -0.21503302929068113,
          -0.8527639753410302,
          -0.8856042966808003,
          -1.8121765598424637,
          -0.7242098284926108,
          -1.3638486322736525,
          -1.5117214946286468,
          -1.3131732678347072,
          -0.2850024707913453,
          -0.5660525869693572,
          -1.040914606430577,
          -1.6056350861723192,
          -1.6414345027714907,
          -1.5702671907655081,
          -1.4290711504026696,
          -0.5469573348833606,
          -2.2025344148701302,
          -1.8712489355824615,
          -0.7104015954983719,
          -1.3707829292311897,
          -0.8104531776189948,
          -1.9829656822682291,
          -1.2992891637267538
         ],
         "xaxis": "x",
         "y": [
          -0.32008142619990126,
          0.9271621486496714,
          0.037317059693298855,
          -1.1560901969556867,
          0.74800620805832,
          -0.8322421870086475,
          2.024561965799827,
          1.346725934940929,
          -0.12196259512023493,
          -0.5543731889626069,
          -0.9975299786540649,
          -0.4448237588430457,
          0.31685175436580704,
          0.3628124097312031,
          -0.0009247936625015226,
          0.04754161840009572,
          -0.2864312929349665,
          -1.4403556014481445,
          -0.6002927538419568,
          -0.44699532211346804,
          -1.1727353322794634,
          0.6289331962105055,
          1.2129906682612734,
          -0.28180351016418476,
          0.45797900772660166,
          0.6096541988022248,
          -0.3217272519263347,
          0.8742715824069801,
          0.0680749333786907,
          -0.5087288757132684,
          -0.7309169395390686,
          -0.740528683032676,
          0.16955062163942783,
          0.4513459403308777,
          2.305179068505705,
          0.38386187275058953,
          0.9977864166810064,
          -0.13517534130062495,
          -0.40005741747249574,
          0.01066672701071476,
          1.4047702888615192,
          -0.3645985649006316,
          0.6243151932258324,
          0.9364969039208157,
          0.035200217955765306,
          -0.3769357217891833,
          0.27954672847673706,
          0.0056236277109211735
         ],
         "yaxis": "y"
        },
        {
         "hovertemplate": "color=2<br>0=%{x}<br>2=%{y}<extra></extra>",
         "legendgroup": "2",
         "marker": {
          "color": "#00cc96",
          "symbol": "circle"
         },
         "mode": "markers",
         "name": "2",
         "orientation": "v",
         "showlegend": true,
         "type": "scatter",
         "x": [
          -0.20513401356560432,
          -0.38645913430751394,
          -1.9501667349870868,
          -1.7060344175389637,
          -2.514282307694519,
          -2.796945177654903,
          -1.8969364148587022,
          -1.49300982865781,
          -1.6396087411855753,
          -0.7059020322439037,
          -1.414763940179618,
          -1.6320029744059632,
          -0.05008630334694221,
          -0.8097758364861772,
          -2.063591246301226,
          -1.826675075750035,
          -0.8860882484729408,
          -1.0228641872952848,
          -0.915850068685011,
          -1.8457545663682722,
          -1.1899638787076625,
          -2.008517073359816,
          -0.6063017329599077,
          -1.58954117602427,
          -0.7256941740205969,
          -0.47611106707457856,
          -1.7567098741443044,
          0.12828574003789334,
          -0.97629730816121,
          0.239308911581797,
          0.20827547810611152,
          -1.705282776179978,
          -1.5653034424844339,
          -0.20231141848176218,
          -0.5185269014360593,
          0.3017261651459082,
          0.1997072629098166,
          -0.9494309632253332
         ],
         "xaxis": "x",
         "y": [
          0.9299678621881133,
          0.2198996183724767,
          -1.325923850959867,
          -0.5972814132175644,
          0.43930565366977975,
          0.9845899255340311,
          -0.6845841447095117,
          0.4047056684995269,
          0.0017087496794402426,
          -0.8219092872949969,
          0.077345486058027,
          0.3098730732112515,
          1.372381664262741,
          0.5878837633124693,
          -0.4947720256031699,
          -0.3749687924422189,
          -0.6923756897501776,
          -0.6678380943691545,
          -0.2820434282984035,
          -0.07617448728965,
          -0.7854526460527484,
          -0.2361627487376438,
          0.4207103732919262,
          0.7075882345489275,
          0.900992089434662,
          -1.2533539378190042,
          -0.5257589586173219,
          0.4332774561083224,
          -0.9240096389334764,
          -0.16315442023372412,
          1.3139255313632943,
          0.4660523690236309,
          -1.259122271848649,
          -1.5016307395463506,
          0.2709147145297941,
          1.2626421420189162,
          0.7323442290832061,
          -0.6004689372986693
         ],
         "yaxis": "y"
        },
        {
         "marker": {
          "color": "darkslateblue",
          "size": 14
         },
         "mode": "markers",
         "name": "Point Calculated",
         "showlegend": true,
         "type": "scatter",
         "x": [
          -1.667503731874722
         ],
         "y": [
          0.17204462137755616
         ]
        }
       ],
       "layout": {
        "legend": {
         "title": {
          "text": "Cultivator"
         },
         "tracegroupgap": 0
        },
        "margin": {
         "t": 60
        },
        "template": {
         "data": {
          "bar": [
           {
            "error_x": {
             "color": "#2a3f5f"
            },
            "error_y": {
             "color": "#2a3f5f"
            },
            "marker": {
             "line": {
              "color": "#E5ECF6",
              "width": 0.5
             },
             "pattern": {
              "fillmode": "overlay",
              "size": 10,
              "solidity": 0.2
             }
            },
            "type": "bar"
           }
          ],
          "barpolar": [
           {
            "marker": {
             "line": {
              "color": "#E5ECF6",
              "width": 0.5
             },
             "pattern": {
              "fillmode": "overlay",
              "size": 10,
              "solidity": 0.2
             }
            },
            "type": "barpolar"
           }
          ],
          "carpet": [
           {
            "aaxis": {
             "endlinecolor": "#2a3f5f",
             "gridcolor": "white",
             "linecolor": "white",
             "minorgridcolor": "white",
             "startlinecolor": "#2a3f5f"
            },
            "baxis": {
             "endlinecolor": "#2a3f5f",
             "gridcolor": "white",
             "linecolor": "white",
             "minorgridcolor": "white",
             "startlinecolor": "#2a3f5f"
            },
            "type": "carpet"
           }
          ],
          "choropleth": [
           {
            "colorbar": {
             "outlinewidth": 0,
             "ticks": ""
            },
            "type": "choropleth"
           }
          ],
          "contour": [
           {
            "colorbar": {
             "outlinewidth": 0,
             "ticks": ""
            },
            "colorscale": [
             [
              0,
              "#0d0887"
             ],
             [
              0.1111111111111111,
              "#46039f"
             ],
             [
              0.2222222222222222,
              "#7201a8"
             ],
             [
              0.3333333333333333,
              "#9c179e"
             ],
             [
              0.4444444444444444,
              "#bd3786"
             ],
             [
              0.5555555555555556,
              "#d8576b"
             ],
             [
              0.6666666666666666,
              "#ed7953"
             ],
             [
              0.7777777777777778,
              "#fb9f3a"
             ],
             [
              0.8888888888888888,
              "#fdca26"
             ],
             [
              1,
              "#f0f921"
             ]
            ],
            "type": "contour"
           }
          ],
          "contourcarpet": [
           {
            "colorbar": {
             "outlinewidth": 0,
             "ticks": ""
            },
            "type": "contourcarpet"
           }
          ],
          "heatmap": [
           {
            "colorbar": {
             "outlinewidth": 0,
             "ticks": ""
            },
            "colorscale": [
             [
              0,
              "#0d0887"
             ],
             [
              0.1111111111111111,
              "#46039f"
             ],
             [
              0.2222222222222222,
              "#7201a8"
             ],
             [
              0.3333333333333333,
              "#9c179e"
             ],
             [
              0.4444444444444444,
              "#bd3786"
             ],
             [
              0.5555555555555556,
              "#d8576b"
             ],
             [
              0.6666666666666666,
              "#ed7953"
             ],
             [
              0.7777777777777778,
              "#fb9f3a"
             ],
             [
              0.8888888888888888,
              "#fdca26"
             ],
             [
              1,
              "#f0f921"
             ]
            ],
            "type": "heatmap"
           }
          ],
          "heatmapgl": [
           {
            "colorbar": {
             "outlinewidth": 0,
             "ticks": ""
            },
            "colorscale": [
             [
              0,
              "#0d0887"
             ],
             [
              0.1111111111111111,
              "#46039f"
             ],
             [
              0.2222222222222222,
              "#7201a8"
             ],
             [
              0.3333333333333333,
              "#9c179e"
             ],
             [
              0.4444444444444444,
              "#bd3786"
             ],
             [
              0.5555555555555556,
              "#d8576b"
             ],
             [
              0.6666666666666666,
              "#ed7953"
             ],
             [
              0.7777777777777778,
              "#fb9f3a"
             ],
             [
              0.8888888888888888,
              "#fdca26"
             ],
             [
              1,
              "#f0f921"
             ]
            ],
            "type": "heatmapgl"
           }
          ],
          "histogram": [
           {
            "marker": {
             "pattern": {
              "fillmode": "overlay",
              "size": 10,
              "solidity": 0.2
             }
            },
            "type": "histogram"
           }
          ],
          "histogram2d": [
           {
            "colorbar": {
             "outlinewidth": 0,
             "ticks": ""
            },
            "colorscale": [
             [
              0,
              "#0d0887"
             ],
             [
              0.1111111111111111,
              "#46039f"
             ],
             [
              0.2222222222222222,
              "#7201a8"
             ],
             [
              0.3333333333333333,
              "#9c179e"
             ],
             [
              0.4444444444444444,
              "#bd3786"
             ],
             [
              0.5555555555555556,
              "#d8576b"
             ],
             [
              0.6666666666666666,
              "#ed7953"
             ],
             [
              0.7777777777777778,
              "#fb9f3a"
             ],
             [
              0.8888888888888888,
              "#fdca26"
             ],
             [
              1,
              "#f0f921"
             ]
            ],
            "type": "histogram2d"
           }
          ],
          "histogram2dcontour": [
           {
            "colorbar": {
             "outlinewidth": 0,
             "ticks": ""
            },
            "colorscale": [
             [
              0,
              "#0d0887"
             ],
             [
              0.1111111111111111,
              "#46039f"
             ],
             [
              0.2222222222222222,
              "#7201a8"
             ],
             [
              0.3333333333333333,
              "#9c179e"
             ],
             [
              0.4444444444444444,
              "#bd3786"
             ],
             [
              0.5555555555555556,
              "#d8576b"
             ],
             [
              0.6666666666666666,
              "#ed7953"
             ],
             [
              0.7777777777777778,
              "#fb9f3a"
             ],
             [
              0.8888888888888888,
              "#fdca26"
             ],
             [
              1,
              "#f0f921"
             ]
            ],
            "type": "histogram2dcontour"
           }
          ],
          "mesh3d": [
           {
            "colorbar": {
             "outlinewidth": 0,
             "ticks": ""
            },
            "type": "mesh3d"
           }
          ],
          "parcoords": [
           {
            "line": {
             "colorbar": {
              "outlinewidth": 0,
              "ticks": ""
             }
            },
            "type": "parcoords"
           }
          ],
          "pie": [
           {
            "automargin": true,
            "type": "pie"
           }
          ],
          "scatter": [
           {
            "marker": {
             "colorbar": {
              "outlinewidth": 0,
              "ticks": ""
             }
            },
            "type": "scatter"
           }
          ],
          "scatter3d": [
           {
            "line": {
             "colorbar": {
              "outlinewidth": 0,
              "ticks": ""
             }
            },
            "marker": {
             "colorbar": {
              "outlinewidth": 0,
              "ticks": ""
             }
            },
            "type": "scatter3d"
           }
          ],
          "scattercarpet": [
           {
            "marker": {
             "colorbar": {
              "outlinewidth": 0,
              "ticks": ""
             }
            },
            "type": "scattercarpet"
           }
          ],
          "scattergeo": [
           {
            "marker": {
             "colorbar": {
              "outlinewidth": 0,
              "ticks": ""
             }
            },
            "type": "scattergeo"
           }
          ],
          "scattergl": [
           {
            "marker": {
             "colorbar": {
              "outlinewidth": 0,
              "ticks": ""
             }
            },
            "type": "scattergl"
           }
          ],
          "scattermapbox": [
           {
            "marker": {
             "colorbar": {
              "outlinewidth": 0,
              "ticks": ""
             }
            },
            "type": "scattermapbox"
           }
          ],
          "scatterpolar": [
           {
            "marker": {
             "colorbar": {
              "outlinewidth": 0,
              "ticks": ""
             }
            },
            "type": "scatterpolar"
           }
          ],
          "scatterpolargl": [
           {
            "marker": {
             "colorbar": {
              "outlinewidth": 0,
              "ticks": ""
             }
            },
            "type": "scatterpolargl"
           }
          ],
          "scatterternary": [
           {
            "marker": {
             "colorbar": {
              "outlinewidth": 0,
              "ticks": ""
             }
            },
            "type": "scatterternary"
           }
          ],
          "surface": [
           {
            "colorbar": {
             "outlinewidth": 0,
             "ticks": ""
            },
            "colorscale": [
             [
              0,
              "#0d0887"
             ],
             [
              0.1111111111111111,
              "#46039f"
             ],
             [
              0.2222222222222222,
              "#7201a8"
             ],
             [
              0.3333333333333333,
              "#9c179e"
             ],
             [
              0.4444444444444444,
              "#bd3786"
             ],
             [
              0.5555555555555556,
              "#d8576b"
             ],
             [
              0.6666666666666666,
              "#ed7953"
             ],
             [
              0.7777777777777778,
              "#fb9f3a"
             ],
             [
              0.8888888888888888,
              "#fdca26"
             ],
             [
              1,
              "#f0f921"
             ]
            ],
            "type": "surface"
           }
          ],
          "table": [
           {
            "cells": {
             "fill": {
              "color": "#EBF0F8"
             },
             "line": {
              "color": "white"
             }
            },
            "header": {
             "fill": {
              "color": "#C8D4E3"
             },
             "line": {
              "color": "white"
             }
            },
            "type": "table"
           }
          ]
         },
         "layout": {
          "annotationdefaults": {
           "arrowcolor": "#2a3f5f",
           "arrowhead": 0,
           "arrowwidth": 1
          },
          "autotypenumbers": "strict",
          "coloraxis": {
           "colorbar": {
            "outlinewidth": 0,
            "ticks": ""
           }
          },
          "colorscale": {
           "diverging": [
            [
             0,
             "#8e0152"
            ],
            [
             0.1,
             "#c51b7d"
            ],
            [
             0.2,
             "#de77ae"
            ],
            [
             0.3,
             "#f1b6da"
            ],
            [
             0.4,
             "#fde0ef"
            ],
            [
             0.5,
             "#f7f7f7"
            ],
            [
             0.6,
             "#e6f5d0"
            ],
            [
             0.7,
             "#b8e186"
            ],
            [
             0.8,
             "#7fbc41"
            ],
            [
             0.9,
             "#4d9221"
            ],
            [
             1,
             "#276419"
            ]
           ],
           "sequential": [
            [
             0,
             "#0d0887"
            ],
            [
             0.1111111111111111,
             "#46039f"
            ],
            [
             0.2222222222222222,
             "#7201a8"
            ],
            [
             0.3333333333333333,
             "#9c179e"
            ],
            [
             0.4444444444444444,
             "#bd3786"
            ],
            [
             0.5555555555555556,
             "#d8576b"
            ],
            [
             0.6666666666666666,
             "#ed7953"
            ],
            [
             0.7777777777777778,
             "#fb9f3a"
            ],
            [
             0.8888888888888888,
             "#fdca26"
            ],
            [
             1,
             "#f0f921"
            ]
           ],
           "sequentialminus": [
            [
             0,
             "#0d0887"
            ],
            [
             0.1111111111111111,
             "#46039f"
            ],
            [
             0.2222222222222222,
             "#7201a8"
            ],
            [
             0.3333333333333333,
             "#9c179e"
            ],
            [
             0.4444444444444444,
             "#bd3786"
            ],
            [
             0.5555555555555556,
             "#d8576b"
            ],
            [
             0.6666666666666666,
             "#ed7953"
            ],
            [
             0.7777777777777778,
             "#fb9f3a"
            ],
            [
             0.8888888888888888,
             "#fdca26"
            ],
            [
             1,
             "#f0f921"
            ]
           ]
          },
          "colorway": [
           "#636efa",
           "#EF553B",
           "#00cc96",
           "#ab63fa",
           "#FFA15A",
           "#19d3f3",
           "#FF6692",
           "#B6E880",
           "#FF97FF",
           "#FECB52"
          ],
          "font": {
           "color": "#2a3f5f"
          },
          "geo": {
           "bgcolor": "white",
           "lakecolor": "white",
           "landcolor": "#E5ECF6",
           "showlakes": true,
           "showland": true,
           "subunitcolor": "white"
          },
          "hoverlabel": {
           "align": "left"
          },
          "hovermode": "closest",
          "mapbox": {
           "style": "light"
          },
          "paper_bgcolor": "white",
          "plot_bgcolor": "#E5ECF6",
          "polar": {
           "angularaxis": {
            "gridcolor": "white",
            "linecolor": "white",
            "ticks": ""
           },
           "bgcolor": "#E5ECF6",
           "radialaxis": {
            "gridcolor": "white",
            "linecolor": "white",
            "ticks": ""
           }
          },
          "scene": {
           "xaxis": {
            "backgroundcolor": "#E5ECF6",
            "gridcolor": "white",
            "gridwidth": 2,
            "linecolor": "white",
            "showbackground": true,
            "ticks": "",
            "zerolinecolor": "white"
           },
           "yaxis": {
            "backgroundcolor": "#E5ECF6",
            "gridcolor": "white",
            "gridwidth": 2,
            "linecolor": "white",
            "showbackground": true,
            "ticks": "",
            "zerolinecolor": "white"
           },
           "zaxis": {
            "backgroundcolor": "#E5ECF6",
            "gridcolor": "white",
            "gridwidth": 2,
            "linecolor": "white",
            "showbackground": true,
            "ticks": "",
            "zerolinecolor": "white"
           }
          },
          "shapedefaults": {
           "line": {
            "color": "#2a3f5f"
           }
          },
          "ternary": {
           "aaxis": {
            "gridcolor": "white",
            "linecolor": "white",
            "ticks": ""
           },
           "baxis": {
            "gridcolor": "white",
            "linecolor": "white",
            "ticks": ""
           },
           "bgcolor": "#E5ECF6",
           "caxis": {
            "gridcolor": "white",
            "linecolor": "white",
            "ticks": ""
           }
          },
          "title": {
           "x": 0.05
          },
          "xaxis": {
           "automargin": true,
           "gridcolor": "white",
           "linecolor": "white",
           "ticks": "",
           "title": {
            "standoff": 15
           },
           "zerolinecolor": "white",
           "zerolinewidth": 2
          },
          "yaxis": {
           "automargin": true,
           "gridcolor": "white",
           "linecolor": "white",
           "ticks": "",
           "title": {
            "standoff": 15
           },
           "zerolinecolor": "white",
           "zerolinewidth": 2
          }
         }
        },
        "title": {
         "text": "Score Plot with Point Calculated (PC1 and PC3)"
        },
        "xaxis": {
         "anchor": "y",
         "domain": [
          0,
          1
         ],
         "title": {
          "text": "PC1"
         }
        },
        "yaxis": {
         "anchor": "x",
         "domain": [
          0,
          1
         ],
         "title": {
          "text": "PC3"
         }
        }
       }
      }
     },
     "metadata": {},
     "output_type": "display_data"
    }
   ],
   "source": [
    "fig = px.scatter(pca3_results, x=0, y=2, color=scaled_df['cultivator']) # create 2D scoreplot for PC1 and PC2\n",
    "fig.update_layout(\n",
    "    title='Score Plot with Point Calculated (PC1 and PC3)',\n",
    "    xaxis_title=\"PC1\",\n",
    "    yaxis_title=\"PC3\",\n",
    "    legend_title=\"Cultivator\"\n",
    ")\n",
    "\n",
    "fig.add_trace( # plot the calculated score on the score plot\n",
    "    go.Scatter(\n",
    "        mode='markers',\n",
    "        x=[score_pc1],\n",
    "        y=[score_pc3],\n",
    "        marker=dict(\n",
    "            color='darkslateblue',\n",
    "            size=14,\n",
    "        ),\n",
    "        showlegend=True,\n",
    "        name='Point Calculated'\n",
    "    )\n",
    ")\n",
    "\n",
    "fig.show()"
   ]
  },
  {
   "cell_type": "markdown",
   "metadata": {},
   "source": [
    "#### PC2 and PC3 Score plot"
   ]
  },
  {
   "cell_type": "code",
   "execution_count": 215,
   "metadata": {},
   "outputs": [
    {
     "data": {
      "application/vnd.plotly.v1+json": {
       "config": {
        "plotlyServerURL": "https://plot.ly"
       },
       "data": [
        {
         "hovertemplate": "color=0<br>1=%{x}<br>2=%{y}<extra></extra>",
         "legendgroup": "0",
         "marker": {
          "color": "#636efa",
          "symbol": "circle"
         },
         "mode": "markers",
         "name": "0",
         "orientation": "v",
         "showlegend": true,
         "type": "scatter",
         "x": [
          0.4289095414208892,
          -0.7809004506575452,
          -0.18496713285133884,
          0.7753415180259998,
          0.22643273710491627,
          0.6247448179686861,
          0.23422122266382095,
          0.6784650851121723,
          -0.2709901009114779,
          0.10538210398815569,
          -0.24129211120715424,
          -0.2725224825522763,
          0.564661465037488,
          0.5460589952695485,
          0.7617389304416191,
          0.42634883728945944,
          0.11998390739755851,
          0.03775994188194266,
          -0.6620810608296194,
          -0.8900296617405203,
          -0.5170816935130522,
          -0.08109242439949685,
          -0.3006088448251345,
          -0.33659010169229486,
          -0.013333909093759262,
          -0.15364608476867295,
          -0.30178987265656465,
          -0.5886833380159814,
          -0.38049229756091785,
          -0.756179276283655,
          -1.0972134393543895,
          0.04053599158216161,
          -0.6662906459052838,
          -0.6498151595820598,
          -0.4576743081374642,
          0.36966332115049416,
          -0.7131977104182544,
          -0.4811067685251681,
          0.22201571031621387,
          0.7758004605762201,
          -0.06547061514664973,
          -0.014655233144495006,
          0.36721315692785467,
          -0.1534961164001568,
          -0.39806322817117756
         ],
         "xaxis": "x",
         "y": [
          1.1458121338339962,
          -0.0961665330169624,
          -0.09686427001672081,
          -0.30299009207998234,
          1.4967973128176832,
          -0.3279800379112652,
          -1.1598318124240856,
          0.7934769899094667,
          -0.9273573248163208,
          -0.4306416848004174,
          -1.1742606310506298,
          -1.4732113714118025,
          -1.1492967638914227,
          -0.02315956569756678,
          0.4285522465112894,
          0.1568915645723557,
          1.4437362834391687,
          1.3785052033848697,
          -0.12912856418439042,
          -0.25138082597041456,
          -0.8939993256930238,
          0.13285259012737777,
          -0.7825980438298071,
          -0.6823663728434267,
          -0.4712744930396447,
          -0.0618645344194149,
          0.4178946792585816,
          -0.17971140637251082,
          0.521801638769166,
          -0.2893148776998076,
          -0.1967165825371408,
          0.8174446908201974,
          -0.29352171240421643,
          0.47370448596509496,
          -0.4227112786217178,
          -0.45918230348077077,
          -0.9018231267079975,
          -1.0624431702628563,
          -0.051682204401670984,
          0.1285215418787977,
          0.7576239486028798,
          0.6244760599791467,
          0.5277357348261096,
          -0.3258781782830438,
          -0.2295086676275633
         ],
         "yaxis": "y"
        },
        {
         "hovertemplate": "color=1<br>1=%{x}<br>2=%{y}<extra></extra>",
         "legendgroup": "1",
         "marker": {
          "color": "#EF553B",
          "symbol": "circle"
         },
         "mode": "markers",
         "name": "1",
         "orientation": "v",
         "showlegend": true,
         "type": "scatter",
         "x": [
          -2.258567627351272,
          -1.0511991480476521,
          -1.209716055522297,
          -1.6866944571587834,
          -1.1996052067090641,
          -1.528315934820683,
          -0.2622986656163509,
          -0.09589880055925751,
          -2.4758817350137416,
          -1.4101050478603017,
          -1.9021274495690406,
          1.1933228909959472,
          -2.3843174423728106,
          -1.6842008694201276,
          -1.3496829750262038,
          -1.5785687952046439,
          -1.1814058418104563,
          -2.0224513597859497,
          -1.1469023079397629,
          -0.9149299114164814,
          -0.6860402244144499,
          -1.593625173334862,
          -2.0432131695691917,
          -2.0842571455603363,
          -1.066621499528645,
          -1.3778280094152837,
          -1.5613035075801136,
          -1.0455635718847125,
          -1.801533542656197,
          -1.4280912372315904,
          -1.4869453454063883,
          -0.817611378109468,
          -1.6876633158590382,
          -2.374260341881153,
          -1.0222135104393701,
          -1.6896619031248095,
          -0.03300421087724698,
          -2.160905311463356,
          -1.7575306350601927,
          -2.100541658346682,
          -1.4447765486614685,
          -0.018006237110004788,
          -1.0077025214670572,
          -1.6333767063843032,
          -1.7054249428578305,
          -1.6736605594418716,
          -0.8851826413077243,
          -1.789852520984808
         ],
         "xaxis": "x",
         "y": [
          -0.32008142619990126,
          0.9271621486496714,
          0.037317059693298855,
          -1.1560901969556867,
          0.74800620805832,
          -0.8322421870086475,
          2.024561965799827,
          1.346725934940929,
          -0.12196259512023493,
          -0.5543731889626069,
          -0.9975299786540649,
          -0.4448237588430457,
          0.31685175436580704,
          0.3628124097312031,
          -0.0009247936625015226,
          0.04754161840009572,
          -0.2864312929349665,
          -1.4403556014481445,
          -0.6002927538419568,
          -0.44699532211346804,
          -1.1727353322794634,
          0.6289331962105055,
          1.2129906682612734,
          -0.28180351016418476,
          0.45797900772660166,
          0.6096541988022248,
          -0.3217272519263347,
          0.8742715824069801,
          0.0680749333786907,
          -0.5087288757132684,
          -0.7309169395390686,
          -0.740528683032676,
          0.16955062163942783,
          0.4513459403308777,
          2.305179068505705,
          0.38386187275058953,
          0.9977864166810064,
          -0.13517534130062495,
          -0.40005741747249574,
          0.01066672701071476,
          1.4047702888615192,
          -0.3645985649006316,
          0.6243151932258324,
          0.9364969039208157,
          0.035200217955765306,
          -0.3769357217891833,
          0.27954672847673706,
          0.0056236277109211735
         ],
         "yaxis": "y"
        },
        {
         "hovertemplate": "color=2<br>1=%{x}<br>2=%{y}<extra></extra>",
         "legendgroup": "2",
         "marker": {
          "color": "#00cc96",
          "symbol": "circle"
         },
         "mode": "markers",
         "name": "2",
         "orientation": "v",
         "showlegend": true,
         "type": "scatter",
         "x": [
          0.32071208560733155,
          0.062148405154055446,
          0.23358857602384217,
          1.5277666660749016,
          1.3597769781331104,
          2.4468958614726946,
          1.8982244951726888,
          1.1671227847184444,
          0.9998065388540835,
          0.8158647695354789,
          1.2766348317256218,
          1.9326687120133688,
          1.757536920319405,
          1.2271694926105152,
          1.9190731204135676,
          2.220387442352772,
          1.9757928276541512,
          3.0360837633097333,
          0.9761721134821503,
          3.2679008232474254,
          2.7254416120945955,
          1.5907982386476114,
          2.018745090342546,
          1.7711258492043958,
          1.280482122651425,
          2.109884336972894,
          2.429713527687583,
          3.0921994893603326,
          2.114865734023436,
          1.9192255512709115,
          2.4939031351384098,
          0.6149329200203726,
          1.6817138319046987,
          2.3011370729491967,
          2.231147921303359,
          3.481525450036682,
          2.666727167561725,
          3.30503417531093
         ],
         "xaxis": "x",
         "y": [
          0.9299678621881133,
          0.2198996183724767,
          -1.325923850959867,
          -0.5972814132175644,
          0.43930565366977975,
          0.9845899255340311,
          -0.6845841447095117,
          0.4047056684995269,
          0.0017087496794402426,
          -0.8219092872949969,
          0.077345486058027,
          0.3098730732112515,
          1.372381664262741,
          0.5878837633124693,
          -0.4947720256031699,
          -0.3749687924422189,
          -0.6923756897501776,
          -0.6678380943691545,
          -0.2820434282984035,
          -0.07617448728965,
          -0.7854526460527484,
          -0.2361627487376438,
          0.4207103732919262,
          0.7075882345489275,
          0.900992089434662,
          -1.2533539378190042,
          -0.5257589586173219,
          0.4332774561083224,
          -0.9240096389334764,
          -0.16315442023372412,
          1.3139255313632943,
          0.4660523690236309,
          -1.259122271848649,
          -1.5016307395463506,
          0.2709147145297941,
          1.2626421420189162,
          0.7323442290832061,
          -0.6004689372986693
         ],
         "yaxis": "y"
        },
        {
         "marker": {
          "color": "darkslateblue",
          "size": 14
         },
         "mode": "markers",
         "name": "Point Calculated",
         "showlegend": true,
         "type": "scatter",
         "x": [
          0.9984022902929763
         ],
         "y": [
          0.17204462137755616
         ]
        }
       ],
       "layout": {
        "legend": {
         "title": {
          "text": "Cultivator"
         },
         "tracegroupgap": 0
        },
        "margin": {
         "t": 60
        },
        "template": {
         "data": {
          "bar": [
           {
            "error_x": {
             "color": "#2a3f5f"
            },
            "error_y": {
             "color": "#2a3f5f"
            },
            "marker": {
             "line": {
              "color": "#E5ECF6",
              "width": 0.5
             },
             "pattern": {
              "fillmode": "overlay",
              "size": 10,
              "solidity": 0.2
             }
            },
            "type": "bar"
           }
          ],
          "barpolar": [
           {
            "marker": {
             "line": {
              "color": "#E5ECF6",
              "width": 0.5
             },
             "pattern": {
              "fillmode": "overlay",
              "size": 10,
              "solidity": 0.2
             }
            },
            "type": "barpolar"
           }
          ],
          "carpet": [
           {
            "aaxis": {
             "endlinecolor": "#2a3f5f",
             "gridcolor": "white",
             "linecolor": "white",
             "minorgridcolor": "white",
             "startlinecolor": "#2a3f5f"
            },
            "baxis": {
             "endlinecolor": "#2a3f5f",
             "gridcolor": "white",
             "linecolor": "white",
             "minorgridcolor": "white",
             "startlinecolor": "#2a3f5f"
            },
            "type": "carpet"
           }
          ],
          "choropleth": [
           {
            "colorbar": {
             "outlinewidth": 0,
             "ticks": ""
            },
            "type": "choropleth"
           }
          ],
          "contour": [
           {
            "colorbar": {
             "outlinewidth": 0,
             "ticks": ""
            },
            "colorscale": [
             [
              0,
              "#0d0887"
             ],
             [
              0.1111111111111111,
              "#46039f"
             ],
             [
              0.2222222222222222,
              "#7201a8"
             ],
             [
              0.3333333333333333,
              "#9c179e"
             ],
             [
              0.4444444444444444,
              "#bd3786"
             ],
             [
              0.5555555555555556,
              "#d8576b"
             ],
             [
              0.6666666666666666,
              "#ed7953"
             ],
             [
              0.7777777777777778,
              "#fb9f3a"
             ],
             [
              0.8888888888888888,
              "#fdca26"
             ],
             [
              1,
              "#f0f921"
             ]
            ],
            "type": "contour"
           }
          ],
          "contourcarpet": [
           {
            "colorbar": {
             "outlinewidth": 0,
             "ticks": ""
            },
            "type": "contourcarpet"
           }
          ],
          "heatmap": [
           {
            "colorbar": {
             "outlinewidth": 0,
             "ticks": ""
            },
            "colorscale": [
             [
              0,
              "#0d0887"
             ],
             [
              0.1111111111111111,
              "#46039f"
             ],
             [
              0.2222222222222222,
              "#7201a8"
             ],
             [
              0.3333333333333333,
              "#9c179e"
             ],
             [
              0.4444444444444444,
              "#bd3786"
             ],
             [
              0.5555555555555556,
              "#d8576b"
             ],
             [
              0.6666666666666666,
              "#ed7953"
             ],
             [
              0.7777777777777778,
              "#fb9f3a"
             ],
             [
              0.8888888888888888,
              "#fdca26"
             ],
             [
              1,
              "#f0f921"
             ]
            ],
            "type": "heatmap"
           }
          ],
          "heatmapgl": [
           {
            "colorbar": {
             "outlinewidth": 0,
             "ticks": ""
            },
            "colorscale": [
             [
              0,
              "#0d0887"
             ],
             [
              0.1111111111111111,
              "#46039f"
             ],
             [
              0.2222222222222222,
              "#7201a8"
             ],
             [
              0.3333333333333333,
              "#9c179e"
             ],
             [
              0.4444444444444444,
              "#bd3786"
             ],
             [
              0.5555555555555556,
              "#d8576b"
             ],
             [
              0.6666666666666666,
              "#ed7953"
             ],
             [
              0.7777777777777778,
              "#fb9f3a"
             ],
             [
              0.8888888888888888,
              "#fdca26"
             ],
             [
              1,
              "#f0f921"
             ]
            ],
            "type": "heatmapgl"
           }
          ],
          "histogram": [
           {
            "marker": {
             "pattern": {
              "fillmode": "overlay",
              "size": 10,
              "solidity": 0.2
             }
            },
            "type": "histogram"
           }
          ],
          "histogram2d": [
           {
            "colorbar": {
             "outlinewidth": 0,
             "ticks": ""
            },
            "colorscale": [
             [
              0,
              "#0d0887"
             ],
             [
              0.1111111111111111,
              "#46039f"
             ],
             [
              0.2222222222222222,
              "#7201a8"
             ],
             [
              0.3333333333333333,
              "#9c179e"
             ],
             [
              0.4444444444444444,
              "#bd3786"
             ],
             [
              0.5555555555555556,
              "#d8576b"
             ],
             [
              0.6666666666666666,
              "#ed7953"
             ],
             [
              0.7777777777777778,
              "#fb9f3a"
             ],
             [
              0.8888888888888888,
              "#fdca26"
             ],
             [
              1,
              "#f0f921"
             ]
            ],
            "type": "histogram2d"
           }
          ],
          "histogram2dcontour": [
           {
            "colorbar": {
             "outlinewidth": 0,
             "ticks": ""
            },
            "colorscale": [
             [
              0,
              "#0d0887"
             ],
             [
              0.1111111111111111,
              "#46039f"
             ],
             [
              0.2222222222222222,
              "#7201a8"
             ],
             [
              0.3333333333333333,
              "#9c179e"
             ],
             [
              0.4444444444444444,
              "#bd3786"
             ],
             [
              0.5555555555555556,
              "#d8576b"
             ],
             [
              0.6666666666666666,
              "#ed7953"
             ],
             [
              0.7777777777777778,
              "#fb9f3a"
             ],
             [
              0.8888888888888888,
              "#fdca26"
             ],
             [
              1,
              "#f0f921"
             ]
            ],
            "type": "histogram2dcontour"
           }
          ],
          "mesh3d": [
           {
            "colorbar": {
             "outlinewidth": 0,
             "ticks": ""
            },
            "type": "mesh3d"
           }
          ],
          "parcoords": [
           {
            "line": {
             "colorbar": {
              "outlinewidth": 0,
              "ticks": ""
             }
            },
            "type": "parcoords"
           }
          ],
          "pie": [
           {
            "automargin": true,
            "type": "pie"
           }
          ],
          "scatter": [
           {
            "marker": {
             "colorbar": {
              "outlinewidth": 0,
              "ticks": ""
             }
            },
            "type": "scatter"
           }
          ],
          "scatter3d": [
           {
            "line": {
             "colorbar": {
              "outlinewidth": 0,
              "ticks": ""
             }
            },
            "marker": {
             "colorbar": {
              "outlinewidth": 0,
              "ticks": ""
             }
            },
            "type": "scatter3d"
           }
          ],
          "scattercarpet": [
           {
            "marker": {
             "colorbar": {
              "outlinewidth": 0,
              "ticks": ""
             }
            },
            "type": "scattercarpet"
           }
          ],
          "scattergeo": [
           {
            "marker": {
             "colorbar": {
              "outlinewidth": 0,
              "ticks": ""
             }
            },
            "type": "scattergeo"
           }
          ],
          "scattergl": [
           {
            "marker": {
             "colorbar": {
              "outlinewidth": 0,
              "ticks": ""
             }
            },
            "type": "scattergl"
           }
          ],
          "scattermapbox": [
           {
            "marker": {
             "colorbar": {
              "outlinewidth": 0,
              "ticks": ""
             }
            },
            "type": "scattermapbox"
           }
          ],
          "scatterpolar": [
           {
            "marker": {
             "colorbar": {
              "outlinewidth": 0,
              "ticks": ""
             }
            },
            "type": "scatterpolar"
           }
          ],
          "scatterpolargl": [
           {
            "marker": {
             "colorbar": {
              "outlinewidth": 0,
              "ticks": ""
             }
            },
            "type": "scatterpolargl"
           }
          ],
          "scatterternary": [
           {
            "marker": {
             "colorbar": {
              "outlinewidth": 0,
              "ticks": ""
             }
            },
            "type": "scatterternary"
           }
          ],
          "surface": [
           {
            "colorbar": {
             "outlinewidth": 0,
             "ticks": ""
            },
            "colorscale": [
             [
              0,
              "#0d0887"
             ],
             [
              0.1111111111111111,
              "#46039f"
             ],
             [
              0.2222222222222222,
              "#7201a8"
             ],
             [
              0.3333333333333333,
              "#9c179e"
             ],
             [
              0.4444444444444444,
              "#bd3786"
             ],
             [
              0.5555555555555556,
              "#d8576b"
             ],
             [
              0.6666666666666666,
              "#ed7953"
             ],
             [
              0.7777777777777778,
              "#fb9f3a"
             ],
             [
              0.8888888888888888,
              "#fdca26"
             ],
             [
              1,
              "#f0f921"
             ]
            ],
            "type": "surface"
           }
          ],
          "table": [
           {
            "cells": {
             "fill": {
              "color": "#EBF0F8"
             },
             "line": {
              "color": "white"
             }
            },
            "header": {
             "fill": {
              "color": "#C8D4E3"
             },
             "line": {
              "color": "white"
             }
            },
            "type": "table"
           }
          ]
         },
         "layout": {
          "annotationdefaults": {
           "arrowcolor": "#2a3f5f",
           "arrowhead": 0,
           "arrowwidth": 1
          },
          "autotypenumbers": "strict",
          "coloraxis": {
           "colorbar": {
            "outlinewidth": 0,
            "ticks": ""
           }
          },
          "colorscale": {
           "diverging": [
            [
             0,
             "#8e0152"
            ],
            [
             0.1,
             "#c51b7d"
            ],
            [
             0.2,
             "#de77ae"
            ],
            [
             0.3,
             "#f1b6da"
            ],
            [
             0.4,
             "#fde0ef"
            ],
            [
             0.5,
             "#f7f7f7"
            ],
            [
             0.6,
             "#e6f5d0"
            ],
            [
             0.7,
             "#b8e186"
            ],
            [
             0.8,
             "#7fbc41"
            ],
            [
             0.9,
             "#4d9221"
            ],
            [
             1,
             "#276419"
            ]
           ],
           "sequential": [
            [
             0,
             "#0d0887"
            ],
            [
             0.1111111111111111,
             "#46039f"
            ],
            [
             0.2222222222222222,
             "#7201a8"
            ],
            [
             0.3333333333333333,
             "#9c179e"
            ],
            [
             0.4444444444444444,
             "#bd3786"
            ],
            [
             0.5555555555555556,
             "#d8576b"
            ],
            [
             0.6666666666666666,
             "#ed7953"
            ],
            [
             0.7777777777777778,
             "#fb9f3a"
            ],
            [
             0.8888888888888888,
             "#fdca26"
            ],
            [
             1,
             "#f0f921"
            ]
           ],
           "sequentialminus": [
            [
             0,
             "#0d0887"
            ],
            [
             0.1111111111111111,
             "#46039f"
            ],
            [
             0.2222222222222222,
             "#7201a8"
            ],
            [
             0.3333333333333333,
             "#9c179e"
            ],
            [
             0.4444444444444444,
             "#bd3786"
            ],
            [
             0.5555555555555556,
             "#d8576b"
            ],
            [
             0.6666666666666666,
             "#ed7953"
            ],
            [
             0.7777777777777778,
             "#fb9f3a"
            ],
            [
             0.8888888888888888,
             "#fdca26"
            ],
            [
             1,
             "#f0f921"
            ]
           ]
          },
          "colorway": [
           "#636efa",
           "#EF553B",
           "#00cc96",
           "#ab63fa",
           "#FFA15A",
           "#19d3f3",
           "#FF6692",
           "#B6E880",
           "#FF97FF",
           "#FECB52"
          ],
          "font": {
           "color": "#2a3f5f"
          },
          "geo": {
           "bgcolor": "white",
           "lakecolor": "white",
           "landcolor": "#E5ECF6",
           "showlakes": true,
           "showland": true,
           "subunitcolor": "white"
          },
          "hoverlabel": {
           "align": "left"
          },
          "hovermode": "closest",
          "mapbox": {
           "style": "light"
          },
          "paper_bgcolor": "white",
          "plot_bgcolor": "#E5ECF6",
          "polar": {
           "angularaxis": {
            "gridcolor": "white",
            "linecolor": "white",
            "ticks": ""
           },
           "bgcolor": "#E5ECF6",
           "radialaxis": {
            "gridcolor": "white",
            "linecolor": "white",
            "ticks": ""
           }
          },
          "scene": {
           "xaxis": {
            "backgroundcolor": "#E5ECF6",
            "gridcolor": "white",
            "gridwidth": 2,
            "linecolor": "white",
            "showbackground": true,
            "ticks": "",
            "zerolinecolor": "white"
           },
           "yaxis": {
            "backgroundcolor": "#E5ECF6",
            "gridcolor": "white",
            "gridwidth": 2,
            "linecolor": "white",
            "showbackground": true,
            "ticks": "",
            "zerolinecolor": "white"
           },
           "zaxis": {
            "backgroundcolor": "#E5ECF6",
            "gridcolor": "white",
            "gridwidth": 2,
            "linecolor": "white",
            "showbackground": true,
            "ticks": "",
            "zerolinecolor": "white"
           }
          },
          "shapedefaults": {
           "line": {
            "color": "#2a3f5f"
           }
          },
          "ternary": {
           "aaxis": {
            "gridcolor": "white",
            "linecolor": "white",
            "ticks": ""
           },
           "baxis": {
            "gridcolor": "white",
            "linecolor": "white",
            "ticks": ""
           },
           "bgcolor": "#E5ECF6",
           "caxis": {
            "gridcolor": "white",
            "linecolor": "white",
            "ticks": ""
           }
          },
          "title": {
           "x": 0.05
          },
          "xaxis": {
           "automargin": true,
           "gridcolor": "white",
           "linecolor": "white",
           "ticks": "",
           "title": {
            "standoff": 15
           },
           "zerolinecolor": "white",
           "zerolinewidth": 2
          },
          "yaxis": {
           "automargin": true,
           "gridcolor": "white",
           "linecolor": "white",
           "ticks": "",
           "title": {
            "standoff": 15
           },
           "zerolinecolor": "white",
           "zerolinewidth": 2
          }
         }
        },
        "title": {
         "text": "Score Plot with Point Calculated (PC2 and PC3)"
        },
        "xaxis": {
         "anchor": "y",
         "domain": [
          0,
          1
         ],
         "title": {
          "text": "PC2"
         }
        },
        "yaxis": {
         "anchor": "x",
         "domain": [
          0,
          1
         ],
         "title": {
          "text": "PC3"
         }
        }
       }
      }
     },
     "metadata": {},
     "output_type": "display_data"
    }
   ],
   "source": [
    "fig = px.scatter(pca3_results, x=1, y=2, color=scaled_df['cultivator']) # create 2D scoreplot for PC1 and PC2\n",
    "fig.update_layout(\n",
    "    title='Score Plot with Point Calculated (PC2 and PC3)',\n",
    "    xaxis_title=\"PC2\",\n",
    "    yaxis_title=\"PC3\",\n",
    "    legend_title=\"Cultivator\"\n",
    ")\n",
    "\n",
    "fig.add_trace( # plot the calculated score on the score plot\n",
    "    go.Scatter(\n",
    "        mode='markers',\n",
    "        x=[score_pc2],\n",
    "        y=[score_pc3],\n",
    "        marker=dict(\n",
    "            color='darkslateblue',\n",
    "            size=14,\n",
    "        ),\n",
    "        showlegend=True,\n",
    "        name='Point Calculated'\n",
    "    )\n",
    ")\n",
    "\n",
    "fig.show()"
   ]
  }
 ],
 "metadata": {
  "kernelspec": {
   "display_name": "Python 3 (ipykernel)",
   "language": "python",
   "name": "python3"
  },
  "language_info": {
   "codemirror_mode": {
    "name": "ipython",
    "version": 3
   },
   "file_extension": ".py",
   "mimetype": "text/x-python",
   "name": "python",
   "nbconvert_exporter": "python",
   "pygments_lexer": "ipython3",
   "version": "3.9.12"
  },
  "vscode": {
   "interpreter": {
    "hash": "ad1e90dd35242546347ae0be74715b4ea8f8a6c3090d0f2f088b2f51b4fc6fdd"
   }
  }
 },
 "nbformat": 4,
 "nbformat_minor": 2
}
